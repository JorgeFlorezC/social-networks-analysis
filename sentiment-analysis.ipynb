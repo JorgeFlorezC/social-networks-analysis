{
 "cells": [
  {
   "cell_type": "markdown",
   "metadata": {
    "tags": []
   },
   "source": [
    "# Training a sentiment analysis classifier based on supervised machine learning algorithms"
   ]
  },
  {
   "cell_type": "code",
   "execution_count": 1,
   "metadata": {},
   "outputs": [],
   "source": [
    "import string\n",
    "\n",
    "import pandas as pd\n",
    "\n",
    "import nltk\n",
    "from nltk.corpus import stopwords\n",
    "from nltk.tokenize import TweetTokenizer\n",
    "\n",
    "from sklearn.model_selection import train_test_split\n",
    "from sklearn.feature_extraction.text import CountVectorizer, TfidfVectorizer\n",
    "\n",
    "from sklearn.ensemble import RandomForestClassifier\n",
    "from sklearn.neighbors import KNeighborsClassifier\n",
    "\n",
    "from sklearn.metrics import ConfusionMatrixDisplay, precision_score, recall_score, f1_score"
   ]
  },
  {
   "cell_type": "code",
   "execution_count": 2,
   "metadata": {},
   "outputs": [],
   "source": [
    "pd.set_option('display.max_colwidth', None)"
   ]
  },
  {
   "cell_type": "code",
   "execution_count": 3,
   "metadata": {},
   "outputs": [],
   "source": [
    "stop_words = set(stopwords.words('spanish'))"
   ]
  },
  {
   "cell_type": "code",
   "execution_count": 4,
   "metadata": {},
   "outputs": [],
   "source": [
    "def tokenizer(text):\n",
    "    tt = TweetTokenizer()\n",
    "    return tt.tokenize(text)"
   ]
  },
  {
   "cell_type": "markdown",
   "metadata": {
    "tags": []
   },
   "source": [
    "### Loading labeled tweets"
   ]
  },
  {
   "cell_type": "code",
   "execution_count": 5,
   "metadata": {},
   "outputs": [],
   "source": [
    "# Dataset loaded from: https://docs.google.com/spreadsheets/d/11_E2ngsEOyTQwbwVVRHY5urzFF95BQCV/edit#gid=1788161364\n",
    "tweets_df = pd.read_csv('./data/tweets_id.txt', sep = '\\t')"
   ]
  },
  {
   "cell_type": "code",
   "execution_count": 6,
   "metadata": {},
   "outputs": [
    {
     "data": {
      "text/plain": [
       "(627, 4)"
      ]
     },
     "execution_count": 6,
     "metadata": {},
     "output_type": "execute_result"
    }
   ],
   "source": [
    "tweets_df.shape"
   ]
  },
  {
   "cell_type": "code",
   "execution_count": 7,
   "metadata": {},
   "outputs": [
    {
     "data": {
      "text/html": [
       "<div>\n",
       "<style scoped>\n",
       "    .dataframe tbody tr th:only-of-type {\n",
       "        vertical-align: middle;\n",
       "    }\n",
       "\n",
       "    .dataframe tbody tr th {\n",
       "        vertical-align: top;\n",
       "    }\n",
       "\n",
       "    .dataframe thead th {\n",
       "        text-align: right;\n",
       "    }\n",
       "</style>\n",
       "<table border=\"1\" class=\"dataframe\">\n",
       "  <thead>\n",
       "    <tr style=\"text-align: right;\">\n",
       "      <th></th>\n",
       "      <th>id</th>\n",
       "      <th>full_text</th>\n",
       "      <th>sentiment</th>\n",
       "      <th>emotion</th>\n",
       "    </tr>\n",
       "  </thead>\n",
       "  <tbody>\n",
       "    <tr>\n",
       "      <th>0</th>\n",
       "      <td>1</td>\n",
       "      <td>@IvanDuque Sus socios de las AGC tienen este platanal vuelto mierda, pero no haces nada, usted inservible, ha logrado la peor inflación en Colombia y solo pública maricadas sin sentido, se robó las elecciones para entregar el país, valiente idiota tenemos de presidente.</td>\n",
       "      <td>negative</td>\n",
       "      <td>anger</td>\n",
       "    </tr>\n",
       "    <tr>\n",
       "      <th>1</th>\n",
       "      <td>2</td>\n",
       "      <td>@AlvaroUribeVel Ellos también celebran por que Maduro PetroGustavo Ivan Cepeda Timo Teodora Bobolivar entre muchos más sufren  de insomnio.\\r\\nUribe Velez Alvarito no los deja dormir\\r\\nEl enemigo para las elecciones no es Fico.... Sino el Excelentísimo y más Grande Presidente que ha tenido Colombia</td>\n",
       "      <td>negative</td>\n",
       "      <td>anger</td>\n",
       "    </tr>\n",
       "    <tr>\n",
       "      <th>2</th>\n",
       "      <td>3</td>\n",
       "      <td>@PDleh @cokycafe @PGN_COL En Colombia existen miles de leyes para controlar los funcionarios públicos pero a la hora de aplicarlas \"se les olvida que existen\". ¿Que más pruebas quieren? ¿Porque avalan unas elecciones, las del 13 de marzo, donde pado de todo lo que no debía de pasar? Escuchamos  respuestas</td>\n",
       "      <td>negative</td>\n",
       "      <td>anger</td>\n",
       "    </tr>\n",
       "    <tr>\n",
       "      <th>3</th>\n",
       "      <td>4</td>\n",
       "      <td>Petro ahora es el Capitán América o mejor dicho el Capitán Colombia de ganar las elecciones. No soltara el escudo ni para dormir ?? https://t.co/k56Dv7id1J</td>\n",
       "      <td>negative</td>\n",
       "      <td>joy</td>\n",
       "    </tr>\n",
       "    <tr>\n",
       "      <th>4</th>\n",
       "      <td>5</td>\n",
       "      <td>#OtraPregunta \\r\\n\"Petro promete reanudar relaciones diplomáticas con Maduro si gana elecciones en Colombia\"...\\r\\nEsto no pinta nada bien... y si además gana Lula en Brasil...\\r\\n¿Esto como que va para largo? https://t.co/wpQsl5KoRe</td>\n",
       "      <td>negative</td>\n",
       "      <td>fear</td>\n",
       "    </tr>\n",
       "  </tbody>\n",
       "</table>\n",
       "</div>"
      ],
      "text/plain": [
       "   id  \\\n",
       "0   1   \n",
       "1   2   \n",
       "2   3   \n",
       "3   4   \n",
       "4   5   \n",
       "\n",
       "                                                                                                                                                                                                                                                                                                            full_text  \\\n",
       "0                                      @IvanDuque Sus socios de las AGC tienen este platanal vuelto mierda, pero no haces nada, usted inservible, ha logrado la peor inflación en Colombia y solo pública maricadas sin sentido, se robó las elecciones para entregar el país, valiente idiota tenemos de presidente.   \n",
       "1        @AlvaroUribeVel Ellos también celebran por que Maduro PetroGustavo Ivan Cepeda Timo Teodora Bobolivar entre muchos más sufren  de insomnio.\\r\\nUribe Velez Alvarito no los deja dormir\\r\\nEl enemigo para las elecciones no es Fico.... Sino el Excelentísimo y más Grande Presidente que ha tenido Colombia   \n",
       "2  @PDleh @cokycafe @PGN_COL En Colombia existen miles de leyes para controlar los funcionarios públicos pero a la hora de aplicarlas \"se les olvida que existen\". ¿Que más pruebas quieren? ¿Porque avalan unas elecciones, las del 13 de marzo, donde pado de todo lo que no debía de pasar? Escuchamos  respuestas   \n",
       "3                                                                                                                                                         Petro ahora es el Capitán América o mejor dicho el Capitán Colombia de ganar las elecciones. No soltara el escudo ni para dormir ?? https://t.co/k56Dv7id1J   \n",
       "4                                                                           #OtraPregunta \\r\\n\"Petro promete reanudar relaciones diplomáticas con Maduro si gana elecciones en Colombia\"...\\r\\nEsto no pinta nada bien... y si además gana Lula en Brasil...\\r\\n¿Esto como que va para largo? https://t.co/wpQsl5KoRe   \n",
       "\n",
       "  sentiment emotion  \n",
       "0  negative   anger  \n",
       "1  negative   anger  \n",
       "2  negative   anger  \n",
       "3  negative     joy  \n",
       "4  negative    fear  "
      ]
     },
     "execution_count": 7,
     "metadata": {},
     "output_type": "execute_result"
    }
   ],
   "source": [
    "tweets_df.head()"
   ]
  },
  {
   "cell_type": "code",
   "execution_count": 8,
   "metadata": {},
   "outputs": [
    {
     "data": {
      "text/plain": [
       "negative    0.668262\n",
       "neutral     0.275917\n",
       "positive    0.055821\n",
       "Name: sentiment, dtype: float64"
      ]
     },
     "execution_count": 8,
     "metadata": {},
     "output_type": "execute_result"
    }
   ],
   "source": [
    "tweets_df['sentiment'].value_counts(dropna = False, normalize = True)"
   ]
  },
  {
   "cell_type": "markdown",
   "metadata": {},
   "source": [
    "### Leaving out unlabeled texts, this data is not useful for training or validating a supervised model"
   ]
  },
  {
   "cell_type": "code",
   "execution_count": 9,
   "metadata": {},
   "outputs": [],
   "source": [
    "# Removing  unlabeled tweets\n",
    "tweets_labeled_df = tweets_df.loc[tweets_df['sentiment'].notnull()]"
   ]
  },
  {
   "cell_type": "code",
   "execution_count": 10,
   "metadata": {},
   "outputs": [
    {
     "data": {
      "text/plain": [
       "(627, 4)"
      ]
     },
     "execution_count": 10,
     "metadata": {},
     "output_type": "execute_result"
    }
   ],
   "source": [
    "tweets_labeled_df.shape"
   ]
  },
  {
   "cell_type": "code",
   "execution_count": 11,
   "metadata": {},
   "outputs": [],
   "source": [
    "tweets_unlabeled_df = tweets_df.loc[tweets_df['sentiment'].isnull()]"
   ]
  },
  {
   "cell_type": "code",
   "execution_count": 12,
   "metadata": {},
   "outputs": [
    {
     "data": {
      "text/plain": [
       "(0, 4)"
      ]
     },
     "execution_count": 12,
     "metadata": {},
     "output_type": "execute_result"
    }
   ],
   "source": [
    "tweets_unlabeled_df.shape"
   ]
  },
  {
   "cell_type": "code",
   "execution_count": 13,
   "metadata": {},
   "outputs": [],
   "source": [
    "# Scenario 1: Working with all classes\n",
    "all_classes_df = tweets_labeled_df"
   ]
  },
  {
   "cell_type": "code",
   "execution_count": 14,
   "metadata": {},
   "outputs": [],
   "source": [
    "# Scenario 2: Working only with positive and negative classes\n",
    "# Removing neutral class\n",
    "removed_neutral_df = tweets_labeled_df.loc[tweets_labeled_df['sentiment'].isin(['positive', 'negative'])]"
   ]
  },
  {
   "cell_type": "code",
   "execution_count": 15,
   "metadata": {},
   "outputs": [],
   "source": [
    "# Scenario 3: Treating neutral as positive classes\n",
    "neutral_positive_df = tweets_labeled_df\n",
    "neutral_positive_df['sentiment'] = neutral_positive_df['sentiment'].replace({'neutral': 'positive'})"
   ]
  },
  {
   "cell_type": "markdown",
   "metadata": {
    "tags": []
   },
   "source": [
    "## Scenario 1 - Tag correction 0 - Train size 100"
   ]
  },
  {
   "cell_type": "code",
   "execution_count": 16,
   "metadata": {},
   "outputs": [],
   "source": [
    "# the randomstate number ensures that split are reproducible\n",
    "X_Sc1_T0_100_train, X_Sc1_T0_100_test, y_Sc1_T0_100_train, y_Sc1_T0_100_test = train_test_split(all_classes_df['full_text'], all_classes_df['sentiment'], train_size = 100, stratify = all_classes_df['sentiment'], random_state = 1)"
   ]
  },
  {
   "cell_type": "code",
   "execution_count": 17,
   "metadata": {},
   "outputs": [
    {
     "data": {
      "text/plain": [
       "(100,)"
      ]
     },
     "execution_count": 17,
     "metadata": {},
     "output_type": "execute_result"
    }
   ],
   "source": [
    "X_Sc1_T0_100_train.shape"
   ]
  },
  {
   "cell_type": "code",
   "execution_count": 18,
   "metadata": {},
   "outputs": [
    {
     "data": {
      "text/plain": [
       "negative    0.67\n",
       "positive    0.33\n",
       "Name: sentiment, dtype: float64"
      ]
     },
     "execution_count": 18,
     "metadata": {},
     "output_type": "execute_result"
    }
   ],
   "source": [
    "pd.Series(y_Sc1_T0_100_train).value_counts(normalize = True)"
   ]
  },
  {
   "cell_type": "code",
   "execution_count": 19,
   "metadata": {},
   "outputs": [
    {
     "data": {
      "text/plain": [
       "(527,)"
      ]
     },
     "execution_count": 19,
     "metadata": {},
     "output_type": "execute_result"
    }
   ],
   "source": [
    "X_Sc1_T0_100_test.shape"
   ]
  },
  {
   "cell_type": "code",
   "execution_count": 20,
   "metadata": {},
   "outputs": [
    {
     "data": {
      "text/plain": [
       "negative    0.667932\n",
       "positive    0.332068\n",
       "Name: sentiment, dtype: float64"
      ]
     },
     "execution_count": 20,
     "metadata": {},
     "output_type": "execute_result"
    }
   ],
   "source": [
    "pd.Series(y_Sc1_T0_100_test).value_counts(normalize = True)"
   ]
  },
  {
   "cell_type": "code",
   "execution_count": 21,
   "metadata": {},
   "outputs": [],
   "source": [
    "tfidf = TfidfVectorizer(tokenizer = tokenizer, stop_words = stop_words)"
   ]
  },
  {
   "cell_type": "code",
   "execution_count": 22,
   "metadata": {},
   "outputs": [],
   "source": [
    "X_Sc1_T0_100_tfidf = tfidf.fit_transform(X_Sc1_T0_100_train)"
   ]
  },
  {
   "cell_type": "markdown",
   "metadata": {
    "tags": []
   },
   "source": [
    "### Scenario 1 - Tag correction 0 - Train size 100 - Random Forest Classifier"
   ]
  },
  {
   "cell_type": "code",
   "execution_count": 23,
   "metadata": {},
   "outputs": [],
   "source": [
    "# Scenario 1 - Tag correction 0 - Train size 100 - Random Forest Classifier\n",
    "X_Sc1_T0_100_tfidf_Ran_model = RandomForestClassifier()"
   ]
  },
  {
   "cell_type": "code",
   "execution_count": 24,
   "metadata": {},
   "outputs": [
    {
     "data": {
      "text/plain": [
       "RandomForestClassifier()"
      ]
     },
     "execution_count": 24,
     "metadata": {},
     "output_type": "execute_result"
    }
   ],
   "source": [
    "X_Sc1_T0_100_tfidf_Ran_model.fit(X_Sc1_T0_100_tfidf, y_Sc1_T0_100_train)"
   ]
  },
  {
   "cell_type": "code",
   "execution_count": 25,
   "metadata": {},
   "outputs": [],
   "source": [
    "# Scenario 1 - Tag correction 0 - Train size 100 - Random Forest Classifier - tfidf\n",
    "y_Sc1_T0_100_train_tfidf_Ran_predict = X_Sc1_T0_100_tfidf_Ran_model.predict(X_Sc1_T0_100_tfidf)\n",
    "y_Sc1_T0_100_test_tfidf_Ran_predict = X_Sc1_T0_100_tfidf_Ran_model.predict(tfidf.transform(X_Sc1_T0_100_test))"
   ]
  },
  {
   "cell_type": "code",
   "execution_count": 26,
   "metadata": {},
   "outputs": [
    {
     "data": {
      "text/plain": [
       "<sklearn.metrics._plot.confusion_matrix.ConfusionMatrixDisplay at 0x2c7e13c8>"
      ]
     },
     "execution_count": 26,
     "metadata": {},
     "output_type": "execute_result"
    },
    {
     "data": {
      "image/png": "[encoded data removed]",
      "text/plain": [
       "<Figure size 432x288 with 2 Axes>"
      ]
     },
     "metadata": {
      "needs_background": "light"
     },
     "output_type": "display_data"
    }
   ],
   "source": [
    "ConfusionMatrixDisplay.from_predictions(y_Sc1_T0_100_train, y_Sc1_T0_100_train_tfidf_Ran_predict)"
   ]
  },
  {
   "cell_type": "code",
   "execution_count": 27,
   "metadata": {},
   "outputs": [
    {
     "data": {
      "text/plain": [
       "<sklearn.metrics._plot.confusion_matrix.ConfusionMatrixDisplay at 0x2e7c96c8>"
      ]
     },
     "execution_count": 27,
     "metadata": {},
     "output_type": "execute_result"
    },
    {
     "data": {
      "image/png": "[encoded data removed]",
      "text/plain": [
       "<Figure size 432x288 with 2 Axes>"
      ]
     },
     "metadata": {
      "needs_background": "light"
     },
     "output_type": "display_data"
    }
   ],
   "source": [
    "ConfusionMatrixDisplay.from_predictions(y_Sc1_T0_100_test, y_Sc1_T0_100_test_tfidf_Ran_predict)"
   ]
  },
  {
   "cell_type": "code",
   "execution_count": 28,
   "metadata": {},
   "outputs": [
    {
     "name": "stdout",
     "output_type": "stream",
     "text": [
      "Precision: 0.6\n",
      "Recall: 0.13714285714285715\n",
      "F1: 0.22325581395348837\n"
     ]
    }
   ],
   "source": [
    "# Metrics calculation for binary classes\n",
    "print('Precision:', precision_score(y_Sc1_T0_100_test, y_Sc1_T0_100_test_tfidf_Ran_predict, pos_label = 'positive'))\n",
    "print('Recall:', recall_score(y_Sc1_T0_100_test, y_Sc1_T0_100_test_tfidf_Ran_predict, pos_label = 'positive'))\n",
    "print('F1:', f1_score(y_Sc1_T0_100_test, y_Sc1_T0_100_test_tfidf_Ran_predict, pos_label = 'positive'))"
   ]
  },
  {
   "cell_type": "code",
   "execution_count": 29,
   "metadata": {},
   "outputs": [
    {
     "name": "stdout",
     "output_type": "stream",
     "text": [
      "Precision: [0.6899384 0.6      ]\n",
      "Recall: [0.95454545 0.13714286]\n",
      "F1: [0.80095352 0.22325581]\n"
     ]
    }
   ],
   "source": [
    "# Metrics calculation for more than two classes\n",
    "print('Precision:', precision_score(y_Sc1_T0_100_test, y_Sc1_T0_100_test_tfidf_Ran_predict, average = None))\n",
    "print('Recall:', recall_score(y_Sc1_T0_100_test, y_Sc1_T0_100_test_tfidf_Ran_predict, average = None))\n",
    "print('F1:', f1_score(y_Sc1_T0_100_test, y_Sc1_T0_100_test_tfidf_Ran_predict, average = None))"
   ]
  },
  {
   "cell_type": "code",
   "execution_count": 30,
   "metadata": {},
   "outputs": [],
   "source": [
    "# Scenario 1 - Tag correction 0 - Train size 100 - Random Forest Classifier - tfidf - Analyzing Errors\n",
    "Sc1_T0_100_error_tfidf_Ran_df = pd.concat(\n",
    "    [ pd.concat([X_Sc1_T0_100_test, y_Sc1_T0_100_test], axis = 1).reset_index(),\n",
    "    pd.Series(y_Sc1_T0_100_test_tfidf_Ran_predict) ]\n",
    ", axis = 1).rename(columns = { 'sentiment': 'actual', 0: 'predicted' })\n",
    "\n",
    "Sc1_T0_100_error_tfidf_Ran_df.drop('index', inplace = True, axis = 1)"
   ]
  },
  {
   "cell_type": "code",
   "execution_count": 31,
   "metadata": {},
   "outputs": [
    {
     "data": {
      "text/plain": [
       "(167, 3)"
      ]
     },
     "execution_count": 31,
     "metadata": {},
     "output_type": "execute_result"
    }
   ],
   "source": [
    "Sc1_T0_100_error_tfidf_Ran_df.loc[Sc1_T0_100_error_tfidf_Ran_df['actual'] != Sc1_T0_100_error_tfidf_Ran_df['predicted']].shape"
   ]
  },
  {
   "cell_type": "code",
   "execution_count": 32,
   "metadata": {},
   "outputs": [],
   "source": [
    "Sc1_T0_100_error_tfidf_Ran_df.loc[Sc1_T0_100_error_tfidf_Ran_df['actual'] != Sc1_T0_100_error_tfidf_Ran_df['predicted']].to_csv('./data/Sc1_T0_100_error_tfidf_Ran_df.txt', sep ='\\t')"
   ]
  },
  {
   "cell_type": "code",
   "execution_count": 33,
   "metadata": {},
   "outputs": [
    {
     "data": {
      "text/html": [
       "<div>\n",
       "<style scoped>\n",
       "    .dataframe tbody tr th:only-of-type {\n",
       "        vertical-align: middle;\n",
       "    }\n",
       "\n",
       "    .dataframe tbody tr th {\n",
       "        vertical-align: top;\n",
       "    }\n",
       "\n",
       "    .dataframe thead th {\n",
       "        text-align: right;\n",
       "    }\n",
       "</style>\n",
       "<table border=\"1\" class=\"dataframe\">\n",
       "  <thead>\n",
       "    <tr style=\"text-align: right;\">\n",
       "      <th></th>\n",
       "      <th>full_text</th>\n",
       "      <th>actual</th>\n",
       "      <th>predicted</th>\n",
       "    </tr>\n",
       "  </thead>\n",
       "  <tbody>\n",
       "    <tr>\n",
       "      <th>2</th>\n",
       "      <td>#COLOMBIA: Si vas a cubrir las elecciones necesitas un plan de comunicación. \\r\\n\\r\\nAlerta rápidamente a los demás si algo te ha sucedido y proporciona toda la información necesaria para poner en marcha una respuesta adecuada.  @ACOSalliance \\r\\n\\r\\nEncuéntralo aquí: https://t.co/b7OZvGdeDc https://t.co/420CLbD7Ur</td>\n",
       "      <td>positive</td>\n",
       "      <td>negative</td>\n",
       "    </tr>\n",
       "    <tr>\n",
       "      <th>3</th>\n",
       "      <td>#Política #Colombia | Uno de los vehículos portaba en su parabrisas un distintivo que lo identificaba como parte de la Alcaldía de Medellín.\\r\\nhttps://t.co/LDYchqsr08</td>\n",
       "      <td>positive</td>\n",
       "      <td>negative</td>\n",
       "    </tr>\n",
       "    <tr>\n",
       "      <th>6</th>\n",
       "      <td>#ColombiaDecide | Petro sobre arremetida de Clan del Golfo: “Quien mataron en Sucre es militante del Pacto Histórico”. \\r\\n\\r\\nEl candidato habló al respecto durante acto de campaña en Valledupar https://t.co/o16oE6dF2C</td>\n",
       "      <td>negative</td>\n",
       "      <td>positive</td>\n",
       "    </tr>\n",
       "    <tr>\n",
       "      <th>10</th>\n",
       "      <td>¿Qué es la Ley de Garantías y por qué la Corte Constitucional tumbó su reforma?\\r\\nhttps://t.co/ONIELKP4wg https://t.co/0KuEhWcVlz</td>\n",
       "      <td>positive</td>\n",
       "      <td>negative</td>\n",
       "    </tr>\n",
       "    <tr>\n",
       "      <th>14</th>\n",
       "      <td>Luis Pérez se caracteriza por tener un estilo de ropa colorida y a la medida. En este capítulo de #ElHilo le contamos qué comunica con las prendas que usa el candidato.\\r\\nhttps://t.co/BQkQzsF1Mu\\r\\n\\r\\n#Elecciones2022 #ColombiaDecide https://t.co/qSKzzQgQn2</td>\n",
       "      <td>positive</td>\n",
       "      <td>negative</td>\n",
       "    </tr>\n",
       "  </tbody>\n",
       "</table>\n",
       "</div>"
      ],
      "text/plain": [
       "                                                                                                                                                                                                                                                                                                                       full_text  \\\n",
       "2   #COLOMBIA: Si vas a cubrir las elecciones necesitas un plan de comunicación. \\r\\n\\r\\nAlerta rápidamente a los demás si algo te ha sucedido y proporciona toda la información necesaria para poner en marcha una respuesta adecuada.  @ACOSalliance \\r\\n\\r\\nEncuéntralo aquí: https://t.co/b7OZvGdeDc https://t.co/420CLbD7Ur   \n",
       "3                                                                                                                                                        #Política #Colombia | Uno de los vehículos portaba en su parabrisas un distintivo que lo identificaba como parte de la Alcaldía de Medellín.\\r\\nhttps://t.co/LDYchqsr08   \n",
       "6                                                                                                    #ColombiaDecide | Petro sobre arremetida de Clan del Golfo: “Quien mataron en Sucre es militante del Pacto Histórico”. \\r\\n\\r\\nEl candidato habló al respecto durante acto de campaña en Valledupar https://t.co/o16oE6dF2C   \n",
       "10                                                                                                                                                                                            ¿Qué es la Ley de Garantías y por qué la Corte Constitucional tumbó su reforma?\\r\\nhttps://t.co/ONIELKP4wg https://t.co/0KuEhWcVlz   \n",
       "14                                                            Luis Pérez se caracteriza por tener un estilo de ropa colorida y a la medida. En este capítulo de #ElHilo le contamos qué comunica con las prendas que usa el candidato.\\r\\nhttps://t.co/BQkQzsF1Mu\\r\\n\\r\\n#Elecciones2022 #ColombiaDecide https://t.co/qSKzzQgQn2   \n",
       "\n",
       "      actual predicted  \n",
       "2   positive  negative  \n",
       "3   positive  negative  \n",
       "6   negative  positive  \n",
       "10  positive  negative  \n",
       "14  positive  negative  "
      ]
     },
     "execution_count": 33,
     "metadata": {},
     "output_type": "execute_result"
    }
   ],
   "source": [
    "Sc1_T0_100_error_tfidf_Ran_df.loc[Sc1_T0_100_error_tfidf_Ran_df['actual'] != Sc1_T0_100_error_tfidf_Ran_df['predicted']].head()"
   ]
  },
  {
   "cell_type": "markdown",
   "metadata": {
    "tags": []
   },
   "source": [
    "### Scenario 1 - Tag correction 0 - Train size 100 - KNeighbors Classifier"
   ]
  },
  {
   "cell_type": "code",
   "execution_count": 34,
   "metadata": {},
   "outputs": [],
   "source": [
    "# Scenario 1 - Tag correction 0 - Train size 100 - KNeighbors Classifier\n",
    "X_Sc1_T0_100_tfidf_Knei_model = KNeighborsClassifier(n_neighbors=3)"
   ]
  },
  {
   "cell_type": "code",
   "execution_count": 35,
   "metadata": {},
   "outputs": [
    {
     "data": {
      "text/plain": [
       "KNeighborsClassifier(n_neighbors=3)"
      ]
     },
     "execution_count": 35,
     "metadata": {},
     "output_type": "execute_result"
    }
   ],
   "source": [
    "X_Sc1_T0_100_tfidf_Knei_model.fit(X_Sc1_T0_100_tfidf, y_Sc1_T0_100_train)"
   ]
  },
  {
   "cell_type": "code",
   "execution_count": 36,
   "metadata": {},
   "outputs": [],
   "source": [
    "# Scenario 1 - Tag correction 0 - Train size 100 - KNeighbors Classifier - tfidf\n",
    "y_Sc1_T0_100_train_tfidf_Knei_predict = X_Sc1_T0_100_tfidf_Knei_model.predict(X_Sc1_T0_100_tfidf)\n",
    "y_Sc1_T0_100_test_tfidf_Knei_predict = X_Sc1_T0_100_tfidf_Knei_model.predict(tfidf.transform(X_Sc1_T0_100_test))"
   ]
  },
  {
   "cell_type": "code",
   "execution_count": 37,
   "metadata": {},
   "outputs": [
    {
     "data": {
      "text/plain": [
       "<sklearn.metrics._plot.confusion_matrix.ConfusionMatrixDisplay at 0x30a467c8>"
      ]
     },
     "execution_count": 37,
     "metadata": {},
     "output_type": "execute_result"
    },
    {
     "data": {
      "image/png": "[encoded data removed]",
      "text/plain": [
       "<Figure size 432x288 with 2 Axes>"
      ]
     },
     "metadata": {
      "needs_background": "light"
     },
     "output_type": "display_data"
    }
   ],
   "source": [
    "ConfusionMatrixDisplay.from_predictions(y_Sc1_T0_100_train, y_Sc1_T0_100_train_tfidf_Knei_predict)"
   ]
  },
  {
   "cell_type": "code",
   "execution_count": 38,
   "metadata": {},
   "outputs": [
    {
     "data": {
      "text/plain": [
       "<sklearn.metrics._plot.confusion_matrix.ConfusionMatrixDisplay at 0x30b63448>"
      ]
     },
     "execution_count": 38,
     "metadata": {},
     "output_type": "execute_result"
    },
    {
     "data": {
      "image/png": "[encoded data removed]",
      "text/plain": [
       "<Figure size 432x288 with 2 Axes>"
      ]
     },
     "metadata": {
      "needs_background": "light"
     },
     "output_type": "display_data"
    }
   ],
   "source": [
    "ConfusionMatrixDisplay.from_predictions(y_Sc1_T0_100_test, y_Sc1_T0_100_test_tfidf_Knei_predict)"
   ]
  },
  {
   "cell_type": "code",
   "execution_count": 39,
   "metadata": {},
   "outputs": [
    {
     "name": "stdout",
     "output_type": "stream",
     "text": [
      "Precision: 0.4838709677419355\n",
      "Recall: 0.5142857142857142\n",
      "F1: 0.4986149584487534\n"
     ]
    }
   ],
   "source": [
    "# Metrics calculation for binary classes\n",
    "print('Precision:', precision_score(y_Sc1_T0_100_test, y_Sc1_T0_100_test_tfidf_Knei_predict, pos_label = 'positive'))\n",
    "print('Recall:', recall_score(y_Sc1_T0_100_test, y_Sc1_T0_100_test_tfidf_Knei_predict, pos_label = 'positive'))\n",
    "print('F1:', f1_score(y_Sc1_T0_100_test, y_Sc1_T0_100_test_tfidf_Knei_predict, pos_label = 'positive'))"
   ]
  },
  {
   "cell_type": "code",
   "execution_count": 40,
   "metadata": {},
   "outputs": [
    {
     "name": "stdout",
     "output_type": "stream",
     "text": [
      "Precision: [0.75073314 0.48387097]\n",
      "Recall: [0.72727273 0.51428571]\n",
      "F1: [0.73881674 0.49861496]\n"
     ]
    }
   ],
   "source": [
    "# Metrics calculation for more than two classes\n",
    "print('Precision:', precision_score(y_Sc1_T0_100_test, y_Sc1_T0_100_test_tfidf_Knei_predict, average = None))\n",
    "print('Recall:', recall_score(y_Sc1_T0_100_test, y_Sc1_T0_100_test_tfidf_Knei_predict, average = None))\n",
    "print('F1:', f1_score(y_Sc1_T0_100_test, y_Sc1_T0_100_test_tfidf_Knei_predict, average = None))"
   ]
  },
  {
   "cell_type": "code",
   "execution_count": 41,
   "metadata": {},
   "outputs": [],
   "source": [
    "# Scenario 1 - Tag correction 0 - Train size 100 - KNeighbors Classifier - tfidf - Analyzing Errors\n",
    "Sc1_T0_100_error_tfidf_Knei_df = pd.concat(\n",
    "    [ pd.concat([X_Sc1_T0_100_test, y_Sc1_T0_100_test], axis = 1).reset_index(),\n",
    "    pd.Series(y_Sc1_T0_100_test_tfidf_Knei_predict) ]\n",
    ", axis = 1).rename(columns = { 'sentiment': 'actual', 0: 'predicted' })\n",
    "\n",
    "Sc1_T0_100_error_tfidf_Knei_df.drop('index', inplace = True, axis = 1)"
   ]
  },
  {
   "cell_type": "code",
   "execution_count": 42,
   "metadata": {},
   "outputs": [
    {
     "data": {
      "text/plain": [
       "(181, 3)"
      ]
     },
     "execution_count": 42,
     "metadata": {},
     "output_type": "execute_result"
    }
   ],
   "source": [
    "Sc1_T0_100_error_tfidf_Knei_df.loc[Sc1_T0_100_error_tfidf_Knei_df['actual'] != Sc1_T0_100_error_tfidf_Knei_df['predicted']].shape"
   ]
  },
  {
   "cell_type": "code",
   "execution_count": 43,
   "metadata": {},
   "outputs": [],
   "source": [
    "Sc1_T0_100_error_tfidf_Knei_df.loc[Sc1_T0_100_error_tfidf_Knei_df['actual'] != Sc1_T0_100_error_tfidf_Knei_df['predicted']].to_csv('./data/Sc1_T0_100_error_tfidf_Knei_df.txt', sep ='\\t')"
   ]
  },
  {
   "cell_type": "code",
   "execution_count": 44,
   "metadata": {},
   "outputs": [
    {
     "data": {
      "text/html": [
       "<div>\n",
       "<style scoped>\n",
       "    .dataframe tbody tr th:only-of-type {\n",
       "        vertical-align: middle;\n",
       "    }\n",
       "\n",
       "    .dataframe tbody tr th {\n",
       "        vertical-align: top;\n",
       "    }\n",
       "\n",
       "    .dataframe thead th {\n",
       "        text-align: right;\n",
       "    }\n",
       "</style>\n",
       "<table border=\"1\" class=\"dataframe\">\n",
       "  <thead>\n",
       "    <tr style=\"text-align: right;\">\n",
       "      <th></th>\n",
       "      <th>full_text</th>\n",
       "      <th>actual</th>\n",
       "      <th>predicted</th>\n",
       "    </tr>\n",
       "  </thead>\n",
       "  <tbody>\n",
       "    <tr>\n",
       "      <th>0</th>\n",
       "      <td>@lcvelez Las elecciones deberían estar suspendidas hasta tanto no nos den garantías con un nuevo registrador. Colombia y aparece Nicaragua o Venezuela forzados a aceptar elecciones chambonas para beneficiar a @petrogustavo</td>\n",
       "      <td>negative</td>\n",
       "      <td>positive</td>\n",
       "    </tr>\n",
       "    <tr>\n",
       "      <th>2</th>\n",
       "      <td>#COLOMBIA: Si vas a cubrir las elecciones necesitas un plan de comunicación. \\r\\n\\r\\nAlerta rápidamente a los demás si algo te ha sucedido y proporciona toda la información necesaria para poner en marcha una respuesta adecuada.  @ACOSalliance \\r\\n\\r\\nEncuéntralo aquí: https://t.co/b7OZvGdeDc https://t.co/420CLbD7Ur</td>\n",
       "      <td>positive</td>\n",
       "      <td>negative</td>\n",
       "    </tr>\n",
       "    <tr>\n",
       "      <th>5</th>\n",
       "      <td>@RevistaSemana El tema es que quién lo dice, es el mayor delincuente de la historia de Colombia, ¿Cómo le van a robar elecciones al líder de la corrupción en Colombia?</td>\n",
       "      <td>negative</td>\n",
       "      <td>positive</td>\n",
       "    </tr>\n",
       "    <tr>\n",
       "      <th>10</th>\n",
       "      <td>¿Qué es la Ley de Garantías y por qué la Corte Constitucional tumbó su reforma?\\r\\nhttps://t.co/ONIELKP4wg https://t.co/0KuEhWcVlz</td>\n",
       "      <td>positive</td>\n",
       "      <td>negative</td>\n",
       "    </tr>\n",
       "    <tr>\n",
       "      <th>11</th>\n",
       "      <td>Se han robado las elecciones del congreso !! @PGN_COL @CGR_Colombia @DELAESPRIELLAE  @FiscaliaCol y no va a pasar nada ???</td>\n",
       "      <td>negative</td>\n",
       "      <td>positive</td>\n",
       "    </tr>\n",
       "  </tbody>\n",
       "</table>\n",
       "</div>"
      ],
      "text/plain": [
       "                                                                                                                                                                                                                                                                                                                       full_text  \\\n",
       "0                                                                                                 @lcvelez Las elecciones deberían estar suspendidas hasta tanto no nos den garantías con un nuevo registrador. Colombia y aparece Nicaragua o Venezuela forzados a aceptar elecciones chambonas para beneficiar a @petrogustavo   \n",
       "2   #COLOMBIA: Si vas a cubrir las elecciones necesitas un plan de comunicación. \\r\\n\\r\\nAlerta rápidamente a los demás si algo te ha sucedido y proporciona toda la información necesaria para poner en marcha una respuesta adecuada.  @ACOSalliance \\r\\n\\r\\nEncuéntralo aquí: https://t.co/b7OZvGdeDc https://t.co/420CLbD7Ur   \n",
       "5                                                                                                                                                        @RevistaSemana El tema es que quién lo dice, es el mayor delincuente de la historia de Colombia, ¿Cómo le van a robar elecciones al líder de la corrupción en Colombia?   \n",
       "10                                                                                                                                                                                            ¿Qué es la Ley de Garantías y por qué la Corte Constitucional tumbó su reforma?\\r\\nhttps://t.co/ONIELKP4wg https://t.co/0KuEhWcVlz   \n",
       "11                                                                                                                                                                                                    Se han robado las elecciones del congreso !! @PGN_COL @CGR_Colombia @DELAESPRIELLAE  @FiscaliaCol y no va a pasar nada ???   \n",
       "\n",
       "      actual predicted  \n",
       "0   negative  positive  \n",
       "2   positive  negative  \n",
       "5   negative  positive  \n",
       "10  positive  negative  \n",
       "11  negative  positive  "
      ]
     },
     "execution_count": 44,
     "metadata": {},
     "output_type": "execute_result"
    }
   ],
   "source": [
    "Sc1_T0_100_error_tfidf_Knei_df.loc[Sc1_T0_100_error_tfidf_Knei_df['actual'] != Sc1_T0_100_error_tfidf_Knei_df['predicted']].head()"
   ]
  },
  {
   "cell_type": "markdown",
   "metadata": {
    "tags": []
   },
   "source": [
    "## Scenario 1 - Tag correction 1 - Train size 100"
   ]
  },
  {
   "cell_type": "markdown",
   "metadata": {
    "tags": []
   },
   "source": [
    "### Scenario 1 - Tag correction 1 - Train size 100 - Random Forest Classifier"
   ]
  },
  {
   "cell_type": "code",
   "execution_count": 45,
   "metadata": {},
   "outputs": [],
   "source": [
    "Sc1_T1_100_tfidf_Ran_df = pd.read_csv('./data/Sc1_T1_100_tfidf_Ran_df.txt', sep = '\\t')"
   ]
  },
  {
   "cell_type": "code",
   "execution_count": 46,
   "metadata": {},
   "outputs": [
    {
     "data": {
      "text/plain": [
       "negative    0.717703\n",
       "positive    0.157895\n",
       "neutral     0.124402\n",
       "Name: sentiment, dtype: float64"
      ]
     },
     "execution_count": 46,
     "metadata": {},
     "output_type": "execute_result"
    }
   ],
   "source": [
    "Sc1_T1_100_tfidf_Ran_df['sentiment'].value_counts(dropna = False, normalize = True)"
   ]
  },
  {
   "cell_type": "code",
   "execution_count": 47,
   "metadata": {},
   "outputs": [
    {
     "data": {
      "text/html": [
       "<div>\n",
       "<style scoped>\n",
       "    .dataframe tbody tr th:only-of-type {\n",
       "        vertical-align: middle;\n",
       "    }\n",
       "\n",
       "    .dataframe tbody tr th {\n",
       "        vertical-align: top;\n",
       "    }\n",
       "\n",
       "    .dataframe thead th {\n",
       "        text-align: right;\n",
       "    }\n",
       "</style>\n",
       "<table border=\"1\" class=\"dataframe\">\n",
       "  <thead>\n",
       "    <tr style=\"text-align: right;\">\n",
       "      <th></th>\n",
       "      <th>id</th>\n",
       "      <th>full_text</th>\n",
       "      <th>sentiment</th>\n",
       "      <th>emotion</th>\n",
       "    </tr>\n",
       "  </thead>\n",
       "  <tbody>\n",
       "    <tr>\n",
       "      <th>0</th>\n",
       "      <td>1</td>\n",
       "      <td>@IvanDuque Sus socios de las AGC tienen este platanal vuelto mierda, pero no haces nada, usted inservible, ha logrado la peor inflación en Colombia y solo pública maricadas sin sentido, se robó las elecciones para entregar el país, valiente idiota tenemos de presidente.</td>\n",
       "      <td>negative</td>\n",
       "      <td>anger</td>\n",
       "    </tr>\n",
       "    <tr>\n",
       "      <th>1</th>\n",
       "      <td>2</td>\n",
       "      <td>@AlvaroUribeVel Ellos también celebran por que Maduro PetroGustavo Ivan Cepeda Timo Teodora Bobolivar entre muchos más sufren  de insomnio.\\r\\nUribe Velez Alvarito no los deja dormir\\r\\nEl enemigo para las elecciones no es Fico.... Sino el Excelentísimo y más Grande Presidente que ha tenido Colombia</td>\n",
       "      <td>negative</td>\n",
       "      <td>anger</td>\n",
       "    </tr>\n",
       "    <tr>\n",
       "      <th>2</th>\n",
       "      <td>3</td>\n",
       "      <td>@PDleh @cokycafe @PGN_COL En Colombia existen miles de leyes para controlar los funcionarios públicos pero a la hora de aplicarlas \"se les olvida que existen\". ¿Que más pruebas quieren? ¿Porque avalan unas elecciones, las del 13 de marzo, donde pado de todo lo que no debía de pasar? Escuchamos  respuestas</td>\n",
       "      <td>negative</td>\n",
       "      <td>anger</td>\n",
       "    </tr>\n",
       "    <tr>\n",
       "      <th>3</th>\n",
       "      <td>4</td>\n",
       "      <td>Petro ahora es el Capitán América o mejor dicho el Capitán Colombia de ganar las elecciones. No soltara el escudo ni para dormir ?? https://t.co/k56Dv7id1J</td>\n",
       "      <td>negative</td>\n",
       "      <td>joy</td>\n",
       "    </tr>\n",
       "    <tr>\n",
       "      <th>4</th>\n",
       "      <td>5</td>\n",
       "      <td>#OtraPregunta \\r\\n\"Petro promete reanudar relaciones diplomáticas con Maduro si gana elecciones en Colombia\"...\\r\\nEsto no pinta nada bien... y si además gana Lula en Brasil...\\r\\n¿Esto como que va para largo? https://t.co/wpQsl5KoRe</td>\n",
       "      <td>negative</td>\n",
       "      <td>fear</td>\n",
       "    </tr>\n",
       "  </tbody>\n",
       "</table>\n",
       "</div>"
      ],
      "text/plain": [
       "   id  \\\n",
       "0   1   \n",
       "1   2   \n",
       "2   3   \n",
       "3   4   \n",
       "4   5   \n",
       "\n",
       "                                                                                                                                                                                                                                                                                                            full_text  \\\n",
       "0                                      @IvanDuque Sus socios de las AGC tienen este platanal vuelto mierda, pero no haces nada, usted inservible, ha logrado la peor inflación en Colombia y solo pública maricadas sin sentido, se robó las elecciones para entregar el país, valiente idiota tenemos de presidente.   \n",
       "1        @AlvaroUribeVel Ellos también celebran por que Maduro PetroGustavo Ivan Cepeda Timo Teodora Bobolivar entre muchos más sufren  de insomnio.\\r\\nUribe Velez Alvarito no los deja dormir\\r\\nEl enemigo para las elecciones no es Fico.... Sino el Excelentísimo y más Grande Presidente que ha tenido Colombia   \n",
       "2  @PDleh @cokycafe @PGN_COL En Colombia existen miles de leyes para controlar los funcionarios públicos pero a la hora de aplicarlas \"se les olvida que existen\". ¿Que más pruebas quieren? ¿Porque avalan unas elecciones, las del 13 de marzo, donde pado de todo lo que no debía de pasar? Escuchamos  respuestas   \n",
       "3                                                                                                                                                         Petro ahora es el Capitán América o mejor dicho el Capitán Colombia de ganar las elecciones. No soltara el escudo ni para dormir ?? https://t.co/k56Dv7id1J   \n",
       "4                                                                           #OtraPregunta \\r\\n\"Petro promete reanudar relaciones diplomáticas con Maduro si gana elecciones en Colombia\"...\\r\\nEsto no pinta nada bien... y si además gana Lula en Brasil...\\r\\n¿Esto como que va para largo? https://t.co/wpQsl5KoRe   \n",
       "\n",
       "  sentiment emotion  \n",
       "0  negative   anger  \n",
       "1  negative   anger  \n",
       "2  negative   anger  \n",
       "3  negative     joy  \n",
       "4  negative    fear  "
      ]
     },
     "execution_count": 47,
     "metadata": {},
     "output_type": "execute_result"
    }
   ],
   "source": [
    "Sc1_T1_100_tfidf_Ran_df.head()"
   ]
  },
  {
   "cell_type": "code",
   "execution_count": 48,
   "metadata": {},
   "outputs": [],
   "source": [
    "# the randomstate number ensures that split are reproducible\n",
    "X_Sc1_T1_100_train, X_Sc1_T1_100_test, y_Sc1_T1_100_train, y_Sc1_T1_100_test = train_test_split(Sc1_T1_100_tfidf_Ran_df['full_text'], Sc1_T1_100_tfidf_Ran_df['sentiment'], train_size = 100, stratify = Sc1_T1_100_tfidf_Ran_df['sentiment'], random_state = 1)"
   ]
  },
  {
   "cell_type": "code",
   "execution_count": 49,
   "metadata": {},
   "outputs": [
    {
     "data": {
      "text/plain": [
       "(100,)"
      ]
     },
     "execution_count": 49,
     "metadata": {},
     "output_type": "execute_result"
    }
   ],
   "source": [
    "X_Sc1_T1_100_train.shape"
   ]
  },
  {
   "cell_type": "code",
   "execution_count": 50,
   "metadata": {},
   "outputs": [
    {
     "data": {
      "text/plain": [
       "negative    0.72\n",
       "positive    0.16\n",
       "neutral     0.12\n",
       "Name: sentiment, dtype: float64"
      ]
     },
     "execution_count": 50,
     "metadata": {},
     "output_type": "execute_result"
    }
   ],
   "source": [
    "pd.Series(y_Sc1_T1_100_train).value_counts(normalize = True)"
   ]
  },
  {
   "cell_type": "code",
   "execution_count": 51,
   "metadata": {},
   "outputs": [
    {
     "data": {
      "text/plain": [
       "(527,)"
      ]
     },
     "execution_count": 51,
     "metadata": {},
     "output_type": "execute_result"
    }
   ],
   "source": [
    "X_Sc1_T1_100_test.shape"
   ]
  },
  {
   "cell_type": "code",
   "execution_count": 52,
   "metadata": {},
   "outputs": [
    {
     "data": {
      "text/plain": [
       "negative    0.717268\n",
       "positive    0.157495\n",
       "neutral     0.125237\n",
       "Name: sentiment, dtype: float64"
      ]
     },
     "execution_count": 52,
     "metadata": {},
     "output_type": "execute_result"
    }
   ],
   "source": [
    "pd.Series(y_Sc1_T1_100_test).value_counts(normalize = True)"
   ]
  },
  {
   "cell_type": "code",
   "execution_count": 53,
   "metadata": {},
   "outputs": [],
   "source": [
    "X_Sc1_T1_100_tfidf = tfidf.fit_transform(X_Sc1_T1_100_train)"
   ]
  },
  {
   "cell_type": "code",
   "execution_count": 54,
   "metadata": {},
   "outputs": [],
   "source": [
    "# Scenario 1 - Tag correction 1 - Train size 100 - Random Forest Classifier\n",
    "X_Sc1_T1_100_tfidf_Ran_model = RandomForestClassifier()"
   ]
  },
  {
   "cell_type": "code",
   "execution_count": 55,
   "metadata": {},
   "outputs": [
    {
     "data": {
      "text/plain": [
       "RandomForestClassifier()"
      ]
     },
     "execution_count": 55,
     "metadata": {},
     "output_type": "execute_result"
    }
   ],
   "source": [
    "X_Sc1_T1_100_tfidf_Ran_model.fit(X_Sc1_T1_100_tfidf, y_Sc1_T1_100_train)"
   ]
  },
  {
   "cell_type": "code",
   "execution_count": 56,
   "metadata": {},
   "outputs": [],
   "source": [
    "# Scenario 1 - Tag correction 0 - Train size 100 - Random Forest Classifier - TF-IDF\n",
    "y_Sc1_T1_100_train_tfidf_Ran_predict = X_Sc1_T1_100_tfidf_Ran_model.predict(X_Sc1_T1_100_tfidf)\n",
    "y_Sc1_T1_100_test_tfidf_Ran_predict = X_Sc1_T1_100_tfidf_Ran_model.predict(tfidf.transform(X_Sc1_T1_100_test))"
   ]
  },
  {
   "cell_type": "code",
   "execution_count": 57,
   "metadata": {},
   "outputs": [
    {
     "data": {
      "text/plain": [
       "<sklearn.metrics._plot.confusion_matrix.ConfusionMatrixDisplay at 0x30c795c8>"
      ]
     },
     "execution_count": 57,
     "metadata": {},
     "output_type": "execute_result"
    },
    {
     "data": {
      "image/png": "[encoded data removed]",
      "text/plain": [
       "<Figure size 432x288 with 2 Axes>"
      ]
     },
     "metadata": {
      "needs_background": "light"
     },
     "output_type": "display_data"
    }
   ],
   "source": [
    "ConfusionMatrixDisplay.from_predictions(y_Sc1_T1_100_train, y_Sc1_T1_100_train_tfidf_Ran_predict)"
   ]
  },
  {
   "cell_type": "code",
   "execution_count": 58,
   "metadata": {},
   "outputs": [
    {
     "data": {
      "text/plain": [
       "<sklearn.metrics._plot.confusion_matrix.ConfusionMatrixDisplay at 0x30d5bbc8>"
      ]
     },
     "execution_count": 58,
     "metadata": {},
     "output_type": "execute_result"
    },
    {
     "data": {
      "image/png": "[encoded data removed]",
      "text/plain": [
       "<Figure size 432x288 with 2 Axes>"
      ]
     },
     "metadata": {
      "needs_background": "light"
     },
     "output_type": "display_data"
    }
   ],
   "source": [
    "ConfusionMatrixDisplay.from_predictions(y_Sc1_T1_100_test, y_Sc1_T1_100_test_tfidf_Ran_predict)"
   ]
  },
  {
   "cell_type": "code",
   "execution_count": 59,
   "metadata": {},
   "outputs": [],
   "source": [
    "# Metrics calculation for binary classes\n",
    "# print('Precision:', precision_score(y_Sc1_T1_100_test, y_Sc1_T1_100_test_tfidf_Ran_predict, pos_label = 'positive'))\n",
    "# print('Recall:', recall_score(y_Sc1_T1_100_test, y_Sc1_T1_100_test_tfidf_Ran_predict, pos_label = 'positive'))\n",
    "# print('F1:', f1_score(y_Sc1_T1_100_test, y_Sc1_T1_100_test_tfidf_Ran_predict, pos_label = 'positive'))"
   ]
  },
  {
   "cell_type": "code",
   "execution_count": 60,
   "metadata": {},
   "outputs": [
    {
     "name": "stdout",
     "output_type": "stream",
     "text": [
      "Precision: [0.7248062  0.57142857 0.5       ]\n",
      "Recall: [0.98941799 0.06060606 0.02409639]\n",
      "F1: [0.83668904 0.10958904 0.04597701]\n"
     ]
    }
   ],
   "source": [
    "# Metrics calculation for more than two classes\n",
    "print('Precision:', precision_score(y_Sc1_T1_100_test, y_Sc1_T1_100_test_tfidf_Ran_predict, average = None))\n",
    "print('Recall:', recall_score(y_Sc1_T1_100_test, y_Sc1_T1_100_test_tfidf_Ran_predict, average = None))\n",
    "print('F1:', f1_score(y_Sc1_T1_100_test, y_Sc1_T1_100_test_tfidf_Ran_predict, average = None))"
   ]
  },
  {
   "cell_type": "code",
   "execution_count": 61,
   "metadata": {},
   "outputs": [],
   "source": [
    "# Scenario 1 - Tag correction 0 - Train size 100 - Random Forest Classifier - TF-IDF - Analyzing Errors\n",
    "Sc1_T1_100_error_tfidf_Ran_df = pd.concat(\n",
    "    [ pd.concat([X_Sc1_T1_100_test, y_Sc1_T1_100_test], axis = 1).reset_index(),\n",
    "    pd.Series(y_Sc1_T1_100_test_tfidf_Ran_predict) ]\n",
    ", axis = 1).rename(columns = { 'sentiment': 'actual', 0: 'predicted' })\n",
    "\n",
    "Sc1_T1_100_error_tfidf_Ran_df.drop('index', inplace = True, axis = 1)"
   ]
  },
  {
   "cell_type": "code",
   "execution_count": 62,
   "metadata": {},
   "outputs": [
    {
     "data": {
      "text/plain": [
       "(147, 3)"
      ]
     },
     "execution_count": 62,
     "metadata": {},
     "output_type": "execute_result"
    }
   ],
   "source": [
    "Sc1_T1_100_error_tfidf_Ran_df.loc[Sc1_T1_100_error_tfidf_Ran_df['actual'] != Sc1_T1_100_error_tfidf_Ran_df['predicted']].shape"
   ]
  },
  {
   "cell_type": "code",
   "execution_count": 63,
   "metadata": {},
   "outputs": [],
   "source": [
    "Sc1_T1_100_error_tfidf_Ran_df.loc[Sc1_T1_100_error_tfidf_Ran_df['actual'] != Sc1_T1_100_error_tfidf_Ran_df['predicted']].to_csv('./data/Sc1_T1_100_error_tfidf_Ran_df.txt', sep ='\\t')"
   ]
  },
  {
   "cell_type": "code",
   "execution_count": 64,
   "metadata": {},
   "outputs": [
    {
     "data": {
      "text/html": [
       "<div>\n",
       "<style scoped>\n",
       "    .dataframe tbody tr th:only-of-type {\n",
       "        vertical-align: middle;\n",
       "    }\n",
       "\n",
       "    .dataframe tbody tr th {\n",
       "        vertical-align: top;\n",
       "    }\n",
       "\n",
       "    .dataframe thead th {\n",
       "        text-align: right;\n",
       "    }\n",
       "</style>\n",
       "<table border=\"1\" class=\"dataframe\">\n",
       "  <thead>\n",
       "    <tr style=\"text-align: right;\">\n",
       "      <th></th>\n",
       "      <th>full_text</th>\n",
       "      <th>actual</th>\n",
       "      <th>predicted</th>\n",
       "    </tr>\n",
       "  </thead>\n",
       "  <tbody>\n",
       "    <tr>\n",
       "      <th>13</th>\n",
       "      <td>@jojojorge_ Aquí lo podés encontrar. \\r\\n\\r\\nhttps://t.co/GZQIklXmNZ</td>\n",
       "      <td>positive</td>\n",
       "      <td>negative</td>\n",
       "    </tr>\n",
       "    <tr>\n",
       "      <th>21</th>\n",
       "      <td>En los consulados de Colombia en el exterior se adelantan las pruebas de funcionalidad para las elecciones de presidente y vicepresidente de la república. En el país, la Registraduría Nacional alista los simulacros para los comicios del 29 de mayo.\\r\\n\\r\\n#GarantesDeLaDemocracia https://t.co/7NOQaPod0z</td>\n",
       "      <td>positive</td>\n",
       "      <td>negative</td>\n",
       "    </tr>\n",
       "    <tr>\n",
       "      <th>22</th>\n",
       "      <td>Se iniciaron los simulacros de las elecciones de presidente 2022 https://t.co/07SWb8GAT1  / @Registraduria</td>\n",
       "      <td>positive</td>\n",
       "      <td>negative</td>\n",
       "    </tr>\n",
       "    <tr>\n",
       "      <th>30</th>\n",
       "      <td>??ESTE ES EL NÚMERO UNO EN LA @Registraduria CUMPLIENDO\\r\\nCON LA “MISIÓN” y “VISIÓN”DE\\r\\nNEGOCIAR RESULTADOS EN LAS\\r\\nELECCIONES DE COLOMBIA?? https://t.co/dpErXAOzS1 https://t.co/OvRAyhSRG8</td>\n",
       "      <td>neutral</td>\n",
       "      <td>negative</td>\n",
       "    </tr>\n",
       "    <tr>\n",
       "      <th>31</th>\n",
       "      <td>Ese Petro me salió como muy tirado al centro para mi gusto. ????????????????????????\\r\\nhagan su match presidencial Aquí!!!!\\r\\n\\r\\nhttps://t.co/ZMNhI0Lvl3 https://t.co/5XSAZbZs92 https://t.co/CRRkJy51fu</td>\n",
       "      <td>positive</td>\n",
       "      <td>negative</td>\n",
       "    </tr>\n",
       "  </tbody>\n",
       "</table>\n",
       "</div>"
      ],
      "text/plain": [
       "                                                                                                                                                                                                                                                                                                          full_text  \\\n",
       "13                                                                                                                                                                                                                                             @jojojorge_ Aquí lo podés encontrar. \\r\\n\\r\\nhttps://t.co/GZQIklXmNZ   \n",
       "21  En los consulados de Colombia en el exterior se adelantan las pruebas de funcionalidad para las elecciones de presidente y vicepresidente de la república. En el país, la Registraduría Nacional alista los simulacros para los comicios del 29 de mayo.\\r\\n\\r\\n#GarantesDeLaDemocracia https://t.co/7NOQaPod0z   \n",
       "22                                                                                                                                                                                                       Se iniciaron los simulacros de las elecciones de presidente 2022 https://t.co/07SWb8GAT1  / @Registraduria   \n",
       "30                                                                                                                ??ESTE ES EL NÚMERO UNO EN LA @Registraduria CUMPLIENDO\\r\\nCON LA “MISIÓN” y “VISIÓN”DE\\r\\nNEGOCIAR RESULTADOS EN LAS\\r\\nELECCIONES DE COLOMBIA?? https://t.co/dpErXAOzS1 https://t.co/OvRAyhSRG8   \n",
       "31                                                                                                      Ese Petro me salió como muy tirado al centro para mi gusto. ????????????????????????\\r\\nhagan su match presidencial Aquí!!!!\\r\\n\\r\\nhttps://t.co/ZMNhI0Lvl3 https://t.co/5XSAZbZs92 https://t.co/CRRkJy51fu   \n",
       "\n",
       "      actual predicted  \n",
       "13  positive  negative  \n",
       "21  positive  negative  \n",
       "22  positive  negative  \n",
       "30   neutral  negative  \n",
       "31  positive  negative  "
      ]
     },
     "execution_count": 64,
     "metadata": {},
     "output_type": "execute_result"
    }
   ],
   "source": [
    "Sc1_T1_100_error_tfidf_Ran_df.loc[Sc1_T1_100_error_tfidf_Ran_df['actual'] != Sc1_T1_100_error_tfidf_Ran_df['predicted']].head()"
   ]
  },
  {
   "cell_type": "markdown",
   "metadata": {
    "tags": []
   },
   "source": [
    "### Scenario 1 - Tag correction 1 - Train size 100 - KNeighbors Classifier"
   ]
  },
  {
   "cell_type": "code",
   "execution_count": 65,
   "metadata": {},
   "outputs": [],
   "source": [
    "Sc1_T1_100_tfidf_Knei_df = pd.read_csv('./data/Sc1_T1_100_tfidf_Knei_df.txt', sep = '\\t')"
   ]
  },
  {
   "cell_type": "code",
   "execution_count": 66,
   "metadata": {},
   "outputs": [
    {
     "data": {
      "text/plain": [
       "negative    0.717703\n",
       "positive    0.157895\n",
       "neutral     0.124402\n",
       "Name: sentiment, dtype: float64"
      ]
     },
     "execution_count": 66,
     "metadata": {},
     "output_type": "execute_result"
    }
   ],
   "source": [
    "Sc1_T1_100_tfidf_Knei_df['sentiment'].value_counts(dropna = False, normalize = True)"
   ]
  },
  {
   "cell_type": "code",
   "execution_count": 67,
   "metadata": {},
   "outputs": [
    {
     "data": {
      "text/html": [
       "<div>\n",
       "<style scoped>\n",
       "    .dataframe tbody tr th:only-of-type {\n",
       "        vertical-align: middle;\n",
       "    }\n",
       "\n",
       "    .dataframe tbody tr th {\n",
       "        vertical-align: top;\n",
       "    }\n",
       "\n",
       "    .dataframe thead th {\n",
       "        text-align: right;\n",
       "    }\n",
       "</style>\n",
       "<table border=\"1\" class=\"dataframe\">\n",
       "  <thead>\n",
       "    <tr style=\"text-align: right;\">\n",
       "      <th></th>\n",
       "      <th>id</th>\n",
       "      <th>full_text</th>\n",
       "      <th>sentiment</th>\n",
       "      <th>emotion</th>\n",
       "    </tr>\n",
       "  </thead>\n",
       "  <tbody>\n",
       "    <tr>\n",
       "      <th>0</th>\n",
       "      <td>1</td>\n",
       "      <td>@IvanDuque Sus socios de las AGC tienen este platanal vuelto mierda, pero no haces nada, usted inservible, ha logrado la peor inflación en Colombia y solo pública maricadas sin sentido, se robó las elecciones para entregar el país, valiente idiota tenemos de presidente.</td>\n",
       "      <td>negative</td>\n",
       "      <td>anger</td>\n",
       "    </tr>\n",
       "    <tr>\n",
       "      <th>1</th>\n",
       "      <td>2</td>\n",
       "      <td>@AlvaroUribeVel Ellos también celebran por que Maduro PetroGustavo Ivan Cepeda Timo Teodora Bobolivar entre muchos más sufren  de insomnio.\\r\\nUribe Velez Alvarito no los deja dormir\\r\\nEl enemigo para las elecciones no es Fico.... Sino el Excelentísimo y más Grande Presidente que ha tenido Colombia</td>\n",
       "      <td>negative</td>\n",
       "      <td>anger</td>\n",
       "    </tr>\n",
       "    <tr>\n",
       "      <th>2</th>\n",
       "      <td>3</td>\n",
       "      <td>@PDleh @cokycafe @PGN_COL En Colombia existen miles de leyes para controlar los funcionarios públicos pero a la hora de aplicarlas \"se les olvida que existen\". ¿Que más pruebas quieren? ¿Porque avalan unas elecciones, las del 13 de marzo, donde pado de todo lo que no debía de pasar? Escuchamos  respuestas</td>\n",
       "      <td>negative</td>\n",
       "      <td>anger</td>\n",
       "    </tr>\n",
       "    <tr>\n",
       "      <th>3</th>\n",
       "      <td>4</td>\n",
       "      <td>Petro ahora es el Capitán América o mejor dicho el Capitán Colombia de ganar las elecciones. No soltara el escudo ni para dormir ?? https://t.co/k56Dv7id1J</td>\n",
       "      <td>negative</td>\n",
       "      <td>joy</td>\n",
       "    </tr>\n",
       "    <tr>\n",
       "      <th>4</th>\n",
       "      <td>5</td>\n",
       "      <td>#OtraPregunta \\r\\n\"Petro promete reanudar relaciones diplomáticas con Maduro si gana elecciones en Colombia\"...\\r\\nEsto no pinta nada bien... y si además gana Lula en Brasil...\\r\\n¿Esto como que va para largo? https://t.co/wpQsl5KoRe</td>\n",
       "      <td>negative</td>\n",
       "      <td>fear</td>\n",
       "    </tr>\n",
       "  </tbody>\n",
       "</table>\n",
       "</div>"
      ],
      "text/plain": [
       "   id  \\\n",
       "0   1   \n",
       "1   2   \n",
       "2   3   \n",
       "3   4   \n",
       "4   5   \n",
       "\n",
       "                                                                                                                                                                                                                                                                                                            full_text  \\\n",
       "0                                      @IvanDuque Sus socios de las AGC tienen este platanal vuelto mierda, pero no haces nada, usted inservible, ha logrado la peor inflación en Colombia y solo pública maricadas sin sentido, se robó las elecciones para entregar el país, valiente idiota tenemos de presidente.   \n",
       "1        @AlvaroUribeVel Ellos también celebran por que Maduro PetroGustavo Ivan Cepeda Timo Teodora Bobolivar entre muchos más sufren  de insomnio.\\r\\nUribe Velez Alvarito no los deja dormir\\r\\nEl enemigo para las elecciones no es Fico.... Sino el Excelentísimo y más Grande Presidente que ha tenido Colombia   \n",
       "2  @PDleh @cokycafe @PGN_COL En Colombia existen miles de leyes para controlar los funcionarios públicos pero a la hora de aplicarlas \"se les olvida que existen\". ¿Que más pruebas quieren? ¿Porque avalan unas elecciones, las del 13 de marzo, donde pado de todo lo que no debía de pasar? Escuchamos  respuestas   \n",
       "3                                                                                                                                                         Petro ahora es el Capitán América o mejor dicho el Capitán Colombia de ganar las elecciones. No soltara el escudo ni para dormir ?? https://t.co/k56Dv7id1J   \n",
       "4                                                                           #OtraPregunta \\r\\n\"Petro promete reanudar relaciones diplomáticas con Maduro si gana elecciones en Colombia\"...\\r\\nEsto no pinta nada bien... y si además gana Lula en Brasil...\\r\\n¿Esto como que va para largo? https://t.co/wpQsl5KoRe   \n",
       "\n",
       "  sentiment emotion  \n",
       "0  negative   anger  \n",
       "1  negative   anger  \n",
       "2  negative   anger  \n",
       "3  negative     joy  \n",
       "4  negative    fear  "
      ]
     },
     "execution_count": 67,
     "metadata": {},
     "output_type": "execute_result"
    }
   ],
   "source": [
    "Sc1_T1_100_tfidf_Knei_df.head()"
   ]
  },
  {
   "cell_type": "code",
   "execution_count": 68,
   "metadata": {},
   "outputs": [],
   "source": [
    "# the randomstate number ensures that split are reproducible\n",
    "X_Sc1_T1_100_train, X_Sc1_T1_100_test, y_Sc1_T1_100_train, y_Sc1_T1_100_test = train_test_split(Sc1_T1_100_tfidf_Knei_df['full_text'], Sc1_T1_100_tfidf_Knei_df['sentiment'], train_size = 100, stratify = Sc1_T1_100_tfidf_Knei_df['sentiment'], random_state = 1)"
   ]
  },
  {
   "cell_type": "code",
   "execution_count": 69,
   "metadata": {},
   "outputs": [
    {
     "data": {
      "text/plain": [
       "(100,)"
      ]
     },
     "execution_count": 69,
     "metadata": {},
     "output_type": "execute_result"
    }
   ],
   "source": [
    "X_Sc1_T1_100_train.shape"
   ]
  },
  {
   "cell_type": "code",
   "execution_count": 70,
   "metadata": {},
   "outputs": [
    {
     "data": {
      "text/plain": [
       "negative    0.72\n",
       "positive    0.16\n",
       "neutral     0.12\n",
       "Name: sentiment, dtype: float64"
      ]
     },
     "execution_count": 70,
     "metadata": {},
     "output_type": "execute_result"
    }
   ],
   "source": [
    "pd.Series(y_Sc1_T1_100_train).value_counts(normalize = True)"
   ]
  },
  {
   "cell_type": "code",
   "execution_count": 71,
   "metadata": {},
   "outputs": [
    {
     "data": {
      "text/plain": [
       "(527,)"
      ]
     },
     "execution_count": 71,
     "metadata": {},
     "output_type": "execute_result"
    }
   ],
   "source": [
    "X_Sc1_T1_100_test.shape"
   ]
  },
  {
   "cell_type": "code",
   "execution_count": 72,
   "metadata": {},
   "outputs": [
    {
     "data": {
      "text/plain": [
       "negative    0.717268\n",
       "positive    0.157495\n",
       "neutral     0.125237\n",
       "Name: sentiment, dtype: float64"
      ]
     },
     "execution_count": 72,
     "metadata": {},
     "output_type": "execute_result"
    }
   ],
   "source": [
    "pd.Series(y_Sc1_T1_100_test).value_counts(normalize = True)"
   ]
  },
  {
   "cell_type": "code",
   "execution_count": 73,
   "metadata": {},
   "outputs": [],
   "source": [
    "X_Sc1_T1_100_tfidf = tfidf.fit_transform(X_Sc1_T1_100_train)"
   ]
  },
  {
   "cell_type": "code",
   "execution_count": 74,
   "metadata": {},
   "outputs": [],
   "source": [
    "# Scenario 1 - Tag correction 1 - Train size 100 - KNeighbors Classifier\n",
    "X_Sc1_T1_100_tfidf_Knei_model = KNeighborsClassifier(n_neighbors=3)"
   ]
  },
  {
   "cell_type": "code",
   "execution_count": 75,
   "metadata": {},
   "outputs": [
    {
     "data": {
      "text/plain": [
       "KNeighborsClassifier(n_neighbors=3)"
      ]
     },
     "execution_count": 75,
     "metadata": {},
     "output_type": "execute_result"
    }
   ],
   "source": [
    "X_Sc1_T1_100_tfidf_Knei_model.fit(X_Sc1_T1_100_tfidf, y_Sc1_T1_100_train)"
   ]
  },
  {
   "cell_type": "code",
   "execution_count": 76,
   "metadata": {},
   "outputs": [],
   "source": [
    "# Scenario 1 - Tag correction 1 - Train size 100 - KNeighbors Classifier - TF-IDF\n",
    "y_Sc1_T1_100_train_tfidf_Knei_predict = X_Sc1_T1_100_tfidf_Knei_model.predict(X_Sc1_T1_100_tfidf)\n",
    "y_Sc1_T1_100_test_tfidf_Knei_predict = X_Sc1_T1_100_tfidf_Knei_model.predict(tfidf.transform(X_Sc1_T1_100_test))"
   ]
  },
  {
   "cell_type": "code",
   "execution_count": 77,
   "metadata": {},
   "outputs": [
    {
     "data": {
      "text/plain": [
       "<sklearn.metrics._plot.confusion_matrix.ConfusionMatrixDisplay at 0x30c73c88>"
      ]
     },
     "execution_count": 77,
     "metadata": {},
     "output_type": "execute_result"
    },
    {
     "data": {
      "image/png": "[encoded data removed]",
      "text/plain": [
       "<Figure size 432x288 with 2 Axes>"
      ]
     },
     "metadata": {
      "needs_background": "light"
     },
     "output_type": "display_data"
    }
   ],
   "source": [
    "ConfusionMatrixDisplay.from_predictions(y_Sc1_T1_100_train, y_Sc1_T1_100_train_tfidf_Knei_predict)"
   ]
  },
  {
   "cell_type": "code",
   "execution_count": 78,
   "metadata": {},
   "outputs": [
    {
     "data": {
      "text/plain": [
       "<sklearn.metrics._plot.confusion_matrix.ConfusionMatrixDisplay at 0x30f5c188>"
      ]
     },
     "execution_count": 78,
     "metadata": {},
     "output_type": "execute_result"
    },
    {
     "data": {
      "image/png": "[encoded data removed]",
      "text/plain": [
       "<Figure size 432x288 with 2 Axes>"
      ]
     },
     "metadata": {
      "needs_background": "light"
     },
     "output_type": "display_data"
    }
   ],
   "source": [
    "ConfusionMatrixDisplay.from_predictions(y_Sc1_T1_100_test, y_Sc1_T1_100_test_tfidf_Knei_predict)"
   ]
  },
  {
   "cell_type": "code",
   "execution_count": 79,
   "metadata": {},
   "outputs": [],
   "source": [
    "# Metrics calculation for binary classes\n",
    "# print('Precision:', precision_score(y_Sc1_T1_100_test, y_Sc1_T1_100_test_tfidf_Knei_predict, pos_label = 'positive'))\n",
    "# print('Recall:', recall_score(y_Sc1_T1_100_test, y_Sc1_T1_100_test_tfidf_Knei_predict, pos_label = 'positive'))\n",
    "# print('F1:', f1_score(y_Sc1_T1_100_test, y_Sc1_T1_100_test_tfidf_Knei_predict, pos_label = 'positive'))"
   ]
  },
  {
   "cell_type": "code",
   "execution_count": 80,
   "metadata": {},
   "outputs": [
    {
     "name": "stdout",
     "output_type": "stream",
     "text": [
      "Precision: [0.79551122 0.30487805 0.45454545]\n",
      "Recall: [0.84391534 0.37878788 0.24096386]\n",
      "F1: [0.81899872 0.33783784 0.31496063]\n"
     ]
    }
   ],
   "source": [
    "# Metrics calculation for more than two classes\n",
    "print('Precision:', precision_score(y_Sc1_T1_100_test, y_Sc1_T1_100_test_tfidf_Knei_predict, average = None))\n",
    "print('Recall:', recall_score(y_Sc1_T1_100_test, y_Sc1_T1_100_test_tfidf_Knei_predict, average = None))\n",
    "print('F1:', f1_score(y_Sc1_T1_100_test, y_Sc1_T1_100_test_tfidf_Knei_predict, average = None))"
   ]
  },
  {
   "cell_type": "code",
   "execution_count": 81,
   "metadata": {},
   "outputs": [],
   "source": [
    "# Scenario 1 - Tag correction 1 - Train size 100 - KNeighbors Classifier - TF-IDF - Analyzing Errors\n",
    "Sc1_T1_100_error_tfidf_Knei_df = pd.concat(\n",
    "    [ pd.concat([X_Sc1_T1_100_test, y_Sc1_T1_100_test], axis = 1).reset_index(),\n",
    "    pd.Series(y_Sc1_T1_100_test_tfidf_Knei_predict) ]\n",
    ", axis = 1).rename(columns = { 'sentiment': 'actual', 0: 'predicted' })\n",
    "\n",
    "Sc1_T1_100_error_tfidf_Knei_df.drop('index', inplace = True, axis = 1)"
   ]
  },
  {
   "cell_type": "code",
   "execution_count": 82,
   "metadata": {},
   "outputs": [
    {
     "data": {
      "text/plain": [
       "(163, 3)"
      ]
     },
     "execution_count": 82,
     "metadata": {},
     "output_type": "execute_result"
    }
   ],
   "source": [
    "Sc1_T1_100_error_tfidf_Knei_df.loc[Sc1_T1_100_error_tfidf_Knei_df['actual'] != Sc1_T1_100_error_tfidf_Knei_df['predicted']].shape"
   ]
  },
  {
   "cell_type": "code",
   "execution_count": 83,
   "metadata": {},
   "outputs": [],
   "source": [
    "Sc1_T1_100_error_tfidf_Knei_df.loc[Sc1_T1_100_error_tfidf_Knei_df['actual'] != Sc1_T1_100_error_tfidf_Knei_df['predicted']].to_csv('./data/Sc1_T1_100_error_tfidf_Knei_df.txt', sep ='\\t')"
   ]
  },
  {
   "cell_type": "code",
   "execution_count": 84,
   "metadata": {},
   "outputs": [
    {
     "data": {
      "text/html": [
       "<div>\n",
       "<style scoped>\n",
       "    .dataframe tbody tr th:only-of-type {\n",
       "        vertical-align: middle;\n",
       "    }\n",
       "\n",
       "    .dataframe tbody tr th {\n",
       "        vertical-align: top;\n",
       "    }\n",
       "\n",
       "    .dataframe thead th {\n",
       "        text-align: right;\n",
       "    }\n",
       "</style>\n",
       "<table border=\"1\" class=\"dataframe\">\n",
       "  <thead>\n",
       "    <tr style=\"text-align: right;\">\n",
       "      <th></th>\n",
       "      <th>full_text</th>\n",
       "      <th>actual</th>\n",
       "      <th>predicted</th>\n",
       "    </tr>\n",
       "  </thead>\n",
       "  <tbody>\n",
       "    <tr>\n",
       "      <th>1</th>\n",
       "      <td>ESTO ES LO QUE LE ESPERA A COLOMBIA ???? SI PETRO GANA LAS ELECCIONES SU PROPIEDAD Y LA DE TODOS LOS COLOMBIANOS SERÁN QUEMADOS SUS PROPIEDADES  EXPROPIADAS OJO COLOMBIA ????  https://t.co/FwhicXJj3D</td>\n",
       "      <td>negative</td>\n",
       "      <td>neutral</td>\n",
       "    </tr>\n",
       "    <tr>\n",
       "      <th>2</th>\n",
       "      <td>Así reaccionaron algunos candidatos al alza de la #inflación Variación anual del IPC llegó a 9,23% en abril, informó el @DANE_Colombia . Esto dijeron los aspirantes a la Presidencia sobre el dato, el más alto en 21 años. https://t.co/KkxlGRIPCi via @Portafolioco</td>\n",
       "      <td>negative</td>\n",
       "      <td>positive</td>\n",
       "    </tr>\n",
       "    <tr>\n",
       "      <th>3</th>\n",
       "      <td>#ColombiaDecide | Federico Gutiérrez desde Riohacha: Hay quienes “negocian con corruptos en las cárceles”\\r\\n\\r\\nhttps://t.co/IM628eMlaR</td>\n",
       "      <td>negative</td>\n",
       "      <td>positive</td>\n",
       "    </tr>\n",
       "    <tr>\n",
       "      <th>5</th>\n",
       "      <td>@tinagus2000 Evidentemente la persecución judicial, la aceleración de cosas, las trabas del @cnegobec para la inscripción , el viaje de la fiscal a Colombia y el papel de otras instituciones influyeron en la victoria de Lasso. Al otro candidato lo desgastaron, mucha antes de las elecciones.</td>\n",
       "      <td>negative</td>\n",
       "      <td>positive</td>\n",
       "    </tr>\n",
       "    <tr>\n",
       "      <th>10</th>\n",
       "      <td>@bpmacias @PaulaBayarte @InesAmarelo @JavierCBugarin @carlasamon ???? Un posible atentado contra el candidato Gustavo Petro preocupa a Colombia a tres semanas de las elecciones. ??\\r\\n\\r\\nhttps://t.co/u7OwKlgtiA https://t.co/4vI8OFEnwS</td>\n",
       "      <td>negative</td>\n",
       "      <td>neutral</td>\n",
       "    </tr>\n",
       "  </tbody>\n",
       "</table>\n",
       "</div>"
      ],
      "text/plain": [
       "                                                                                                                                                                                                                                                                                              full_text  \\\n",
       "1                                                                                               ESTO ES LO QUE LE ESPERA A COLOMBIA ???? SI PETRO GANA LAS ELECCIONES SU PROPIEDAD Y LA DE TODOS LOS COLOMBIANOS SERÁN QUEMADOS SUS PROPIEDADES  EXPROPIADAS OJO COLOMBIA ????  https://t.co/FwhicXJj3D   \n",
       "2                                Así reaccionaron algunos candidatos al alza de la #inflación Variación anual del IPC llegó a 9,23% en abril, informó el @DANE_Colombia . Esto dijeron los aspirantes a la Presidencia sobre el dato, el más alto en 21 años. https://t.co/KkxlGRIPCi via @Portafolioco   \n",
       "3                                                                                                                                                              #ColombiaDecide | Federico Gutiérrez desde Riohacha: Hay quienes “negocian con corruptos en las cárceles”\\r\\n\\r\\nhttps://t.co/IM628eMlaR   \n",
       "5   @tinagus2000 Evidentemente la persecución judicial, la aceleración de cosas, las trabas del @cnegobec para la inscripción , el viaje de la fiscal a Colombia y el papel de otras instituciones influyeron en la victoria de Lasso. Al otro candidato lo desgastaron, mucha antes de las elecciones.   \n",
       "10                                                          @bpmacias @PaulaBayarte @InesAmarelo @JavierCBugarin @carlasamon ???? Un posible atentado contra el candidato Gustavo Petro preocupa a Colombia a tres semanas de las elecciones. ??\\r\\n\\r\\nhttps://t.co/u7OwKlgtiA https://t.co/4vI8OFEnwS   \n",
       "\n",
       "      actual predicted  \n",
       "1   negative   neutral  \n",
       "2   negative  positive  \n",
       "3   negative  positive  \n",
       "5   negative  positive  \n",
       "10  negative   neutral  "
      ]
     },
     "execution_count": 84,
     "metadata": {},
     "output_type": "execute_result"
    }
   ],
   "source": [
    "Sc1_T1_100_error_tfidf_Knei_df.loc[Sc1_T1_100_error_tfidf_Knei_df['actual'] != Sc1_T1_100_error_tfidf_Knei_df['predicted']].head()"
   ]
  },
  {
   "cell_type": "markdown",
   "metadata": {
    "tags": []
   },
   "source": [
    "## Scenario 1 - Tag correction 0 - Train size 300"
   ]
  },
  {
   "cell_type": "code",
   "execution_count": 85,
   "metadata": {},
   "outputs": [],
   "source": [
    "# the randomstate number ensures that split are reproducible\n",
    "X_Sc1_T0_300_train, X_Sc1_T0_300_test, y_Sc1_T0_300_train, y_Sc1_T0_300_test = train_test_split(all_classes_df['full_text'], all_classes_df['sentiment'], train_size = 300, stratify = all_classes_df['sentiment'], random_state = 1)"
   ]
  },
  {
   "cell_type": "code",
   "execution_count": 86,
   "metadata": {},
   "outputs": [
    {
     "data": {
      "text/plain": [
       "(300,)"
      ]
     },
     "execution_count": 86,
     "metadata": {},
     "output_type": "execute_result"
    }
   ],
   "source": [
    "X_Sc1_T0_300_train.shape"
   ]
  },
  {
   "cell_type": "code",
   "execution_count": 87,
   "metadata": {},
   "outputs": [
    {
     "data": {
      "text/plain": [
       "negative    0.666667\n",
       "positive    0.333333\n",
       "Name: sentiment, dtype: float64"
      ]
     },
     "execution_count": 87,
     "metadata": {},
     "output_type": "execute_result"
    }
   ],
   "source": [
    "pd.Series(y_Sc1_T0_300_train).value_counts(normalize = True)"
   ]
  },
  {
   "cell_type": "code",
   "execution_count": 88,
   "metadata": {},
   "outputs": [
    {
     "data": {
      "text/plain": [
       "(327,)"
      ]
     },
     "execution_count": 88,
     "metadata": {},
     "output_type": "execute_result"
    }
   ],
   "source": [
    "X_Sc1_T0_300_test.shape"
   ]
  },
  {
   "cell_type": "code",
   "execution_count": 89,
   "metadata": {},
   "outputs": [
    {
     "data": {
      "text/plain": [
       "negative    0.669725\n",
       "positive    0.330275\n",
       "Name: sentiment, dtype: float64"
      ]
     },
     "execution_count": 89,
     "metadata": {},
     "output_type": "execute_result"
    }
   ],
   "source": [
    "pd.Series(y_Sc1_T0_300_test).value_counts(normalize = True)"
   ]
  },
  {
   "cell_type": "code",
   "execution_count": 90,
   "metadata": {},
   "outputs": [],
   "source": [
    "tfidf = TfidfVectorizer(tokenizer = tokenizer, stop_words = stop_words)"
   ]
  },
  {
   "cell_type": "code",
   "execution_count": 91,
   "metadata": {},
   "outputs": [],
   "source": [
    "X_Sc1_T0_300_tfidf = tfidf.fit_transform(X_Sc1_T0_300_train)"
   ]
  },
  {
   "cell_type": "markdown",
   "metadata": {
    "tags": []
   },
   "source": [
    "### Scenario 1 - Tag correction 0 - Train size 300 - Random Forest Classifier"
   ]
  },
  {
   "cell_type": "code",
   "execution_count": 92,
   "metadata": {},
   "outputs": [],
   "source": [
    "# Scenario 1 - Tag correction 0 - Train size 300 - Random Forest Classifier\n",
    "X_Sc1_T0_300_tfidf_Ran_model = RandomForestClassifier()"
   ]
  },
  {
   "cell_type": "code",
   "execution_count": 93,
   "metadata": {},
   "outputs": [
    {
     "data": {
      "text/plain": [
       "RandomForestClassifier()"
      ]
     },
     "execution_count": 93,
     "metadata": {},
     "output_type": "execute_result"
    }
   ],
   "source": [
    "X_Sc1_T0_300_tfidf_Ran_model.fit(X_Sc1_T0_300_tfidf, y_Sc1_T0_300_train)"
   ]
  },
  {
   "cell_type": "code",
   "execution_count": 94,
   "metadata": {},
   "outputs": [],
   "source": [
    "# Scenario 1 - Tag correction 0 - Train size 300 - Random Forest Classifier - tfidf\n",
    "y_Sc1_T0_300_train_tfidf_Ran_predict = X_Sc1_T0_300_tfidf_Ran_model.predict(X_Sc1_T0_300_tfidf)\n",
    "y_Sc1_T0_300_test_tfidf_Ran_predict = X_Sc1_T0_300_tfidf_Ran_model.predict(tfidf.transform(X_Sc1_T0_300_test))"
   ]
  },
  {
   "cell_type": "code",
   "execution_count": 95,
   "metadata": {},
   "outputs": [
    {
     "data": {
      "text/plain": [
       "<sklearn.metrics._plot.confusion_matrix.ConfusionMatrixDisplay at 0x31002ac8>"
      ]
     },
     "execution_count": 95,
     "metadata": {},
     "output_type": "execute_result"
    },
    {
     "data": {
      "image/png": "[encoded data removed]",
      "text/plain": [
       "<Figure size 432x288 with 2 Axes>"
      ]
     },
     "metadata": {
      "needs_background": "light"
     },
     "output_type": "display_data"
    }
   ],
   "source": [
    "ConfusionMatrixDisplay.from_predictions(y_Sc1_T0_300_train, y_Sc1_T0_300_train_tfidf_Ran_predict)"
   ]
  },
  {
   "cell_type": "code",
   "execution_count": 96,
   "metadata": {},
   "outputs": [
    {
     "data": {
      "text/plain": [
       "<sklearn.metrics._plot.confusion_matrix.ConfusionMatrixDisplay at 0x30e38408>"
      ]
     },
     "execution_count": 96,
     "metadata": {},
     "output_type": "execute_result"
    },
    {
     "data": {
      "image/png": "[encoded data removed]",
      "text/plain": [
       "<Figure size 432x288 with 2 Axes>"
      ]
     },
     "metadata": {
      "needs_background": "light"
     },
     "output_type": "display_data"
    }
   ],
   "source": [
    "ConfusionMatrixDisplay.from_predictions(y_Sc1_T0_300_test, y_Sc1_T0_300_test_tfidf_Ran_predict)"
   ]
  },
  {
   "cell_type": "code",
   "execution_count": 97,
   "metadata": {},
   "outputs": [
    {
     "name": "stdout",
     "output_type": "stream",
     "text": [
      "Precision: 0.7407407407407407\n",
      "Recall: 0.37037037037037035\n",
      "F1: 0.4938271604938271\n"
     ]
    }
   ],
   "source": [
    "# Metrics calculation for binary classes\n",
    "print('Precision:', precision_score(y_Sc1_T0_300_test, y_Sc1_T0_300_test_tfidf_Ran_predict, pos_label = 'positive'))\n",
    "print('Recall:', recall_score(y_Sc1_T0_300_test, y_Sc1_T0_300_test_tfidf_Ran_predict, pos_label = 'positive'))\n",
    "print('F1:', f1_score(y_Sc1_T0_300_test, y_Sc1_T0_300_test_tfidf_Ran_predict, pos_label = 'positive'))"
   ]
  },
  {
   "cell_type": "code",
   "execution_count": 98,
   "metadata": {},
   "outputs": [
    {
     "name": "stdout",
     "output_type": "stream",
     "text": [
      "Precision: [0.75091575 0.74074074]\n",
      "Recall: [0.93607306 0.37037037]\n",
      "F1: [0.83333333 0.49382716]\n"
     ]
    }
   ],
   "source": [
    "# Metrics calculation for more than two classes\n",
    "print('Precision:', precision_score(y_Sc1_T0_300_test, y_Sc1_T0_300_test_tfidf_Ran_predict, average = None))\n",
    "print('Recall:', recall_score(y_Sc1_T0_300_test, y_Sc1_T0_300_test_tfidf_Ran_predict, average = None))\n",
    "print('F1:', f1_score(y_Sc1_T0_300_test, y_Sc1_T0_300_test_tfidf_Ran_predict, average = None))"
   ]
  },
  {
   "cell_type": "code",
   "execution_count": 99,
   "metadata": {},
   "outputs": [],
   "source": [
    "# Scenario 1 - Tag correction 0 - Train size 300 - Random Forest Classifier - tfidf - Analyzing Errors\n",
    "Sc1_T0_300_error_tfidf_Ran_df = pd.concat(\n",
    "    [ pd.concat([X_Sc1_T0_300_test, y_Sc1_T0_300_test], axis = 1).reset_index(),\n",
    "    pd.Series(y_Sc1_T0_300_test_tfidf_Ran_predict) ]\n",
    ", axis = 1).rename(columns = { 'sentiment': 'actual', 0: 'predicted' })\n",
    "\n",
    "Sc1_T0_300_error_tfidf_Ran_df.drop('index', inplace = True, axis = 1)"
   ]
  },
  {
   "cell_type": "code",
   "execution_count": 100,
   "metadata": {},
   "outputs": [
    {
     "data": {
      "text/plain": [
       "(82, 3)"
      ]
     },
     "execution_count": 100,
     "metadata": {},
     "output_type": "execute_result"
    }
   ],
   "source": [
    "Sc1_T0_300_error_tfidf_Ran_df.loc[Sc1_T0_300_error_tfidf_Ran_df['actual'] != Sc1_T0_300_error_tfidf_Ran_df['predicted']].shape"
   ]
  },
  {
   "cell_type": "code",
   "execution_count": 101,
   "metadata": {},
   "outputs": [],
   "source": [
    "Sc1_T0_300_error_tfidf_Ran_df.loc[Sc1_T0_300_error_tfidf_Ran_df['actual'] != Sc1_T0_300_error_tfidf_Ran_df['predicted']].to_csv('./data/Sc1_T0_300_error_tfidf_Ran_df.txt', sep ='\\t')"
   ]
  },
  {
   "cell_type": "code",
   "execution_count": 102,
   "metadata": {},
   "outputs": [
    {
     "data": {
      "text/html": [
       "<div>\n",
       "<style scoped>\n",
       "    .dataframe tbody tr th:only-of-type {\n",
       "        vertical-align: middle;\n",
       "    }\n",
       "\n",
       "    .dataframe tbody tr th {\n",
       "        vertical-align: top;\n",
       "    }\n",
       "\n",
       "    .dataframe thead th {\n",
       "        text-align: right;\n",
       "    }\n",
       "</style>\n",
       "<table border=\"1\" class=\"dataframe\">\n",
       "  <thead>\n",
       "    <tr style=\"text-align: right;\">\n",
       "      <th></th>\n",
       "      <th>full_text</th>\n",
       "      <th>actual</th>\n",
       "      <th>predicted</th>\n",
       "    </tr>\n",
       "  </thead>\n",
       "  <tbody>\n",
       "    <tr>\n",
       "      <th>2</th>\n",
       "      <td>@ozuismysenpai Pillá https://t.co/fnZFeKA3fz</td>\n",
       "      <td>positive</td>\n",
       "      <td>negative</td>\n",
       "    </tr>\n",
       "    <tr>\n",
       "      <th>4</th>\n",
       "      <td>¿Por qué cree usted que debe ser suspendido Alexander Vega, Registrador Nacional del Estado Civil a 23 días de las elecciones presidenciales en Colombia? Responde el abogado constitucionalista ?? @Germancalderon1 en diálogo con @JeffersonNTN24 Directora @CGurisattiNTN24 ?? https://t.co/HpbMJ16s1T</td>\n",
       "      <td>positive</td>\n",
       "      <td>negative</td>\n",
       "    </tr>\n",
       "    <tr>\n",
       "      <th>8</th>\n",
       "      <td>Con esta ley, que se intentó modificar varias veces en anteriores contiendas, la intención principal era asegurar que las campañas electorales se llevaran a cabo en condiciones igualitarias y transparentes.\\r\\n\\r\\n#Elecciones2022 #ColombiaDecide \\r\\nhttps://t.co/qRNy77hLm6</td>\n",
       "      <td>positive</td>\n",
       "      <td>negative</td>\n",
       "    </tr>\n",
       "    <tr>\n",
       "      <th>10</th>\n",
       "      <td>#6May | El izquierdista Gustavo Petro, uno de los favoritos para las elecciones presidenciales de Colombia que se celebrarán a finales de mes, dijo que de resultar ganador, reanudará las relaciones con Venezuela, rotas desde el 23 de febrero de 2019. https://t.co/kwuU5ZjHa2</td>\n",
       "      <td>negative</td>\n",
       "      <td>positive</td>\n",
       "    </tr>\n",
       "    <tr>\n",
       "      <th>14</th>\n",
       "      <td>LAS FARC se van de frente con #GustavoPetro. \\r\\nY decían que Juan Manuel Santos no había negociado el país con las FARC. Ahí están, a punto de quedarse con él. Tan linda que es Colombia pero si no la defendemos en estas elecciones la perderemos para siempre. https://t.co/ijkgDmdxiD</td>\n",
       "      <td>positive</td>\n",
       "      <td>negative</td>\n",
       "    </tr>\n",
       "  </tbody>\n",
       "</table>\n",
       "</div>"
      ],
      "text/plain": [
       "                                                                                                                                                                                                                                                                                                    full_text  \\\n",
       "2                                                                                                                                                                                                                                                                @ozuismysenpai Pillá https://t.co/fnZFeKA3fz   \n",
       "4   ¿Por qué cree usted que debe ser suspendido Alexander Vega, Registrador Nacional del Estado Civil a 23 días de las elecciones presidenciales en Colombia? Responde el abogado constitucionalista ?? @Germancalderon1 en diálogo con @JeffersonNTN24 Directora @CGurisattiNTN24 ?? https://t.co/HpbMJ16s1T   \n",
       "8                           Con esta ley, que se intentó modificar varias veces en anteriores contiendas, la intención principal era asegurar que las campañas electorales se llevaran a cabo en condiciones igualitarias y transparentes.\\r\\n\\r\\n#Elecciones2022 #ColombiaDecide \\r\\nhttps://t.co/qRNy77hLm6   \n",
       "10                         #6May | El izquierdista Gustavo Petro, uno de los favoritos para las elecciones presidenciales de Colombia que se celebrarán a finales de mes, dijo que de resultar ganador, reanudará las relaciones con Venezuela, rotas desde el 23 de febrero de 2019. https://t.co/kwuU5ZjHa2   \n",
       "14                LAS FARC se van de frente con #GustavoPetro. \\r\\nY decían que Juan Manuel Santos no había negociado el país con las FARC. Ahí están, a punto de quedarse con él. Tan linda que es Colombia pero si no la defendemos en estas elecciones la perderemos para siempre. https://t.co/ijkgDmdxiD   \n",
       "\n",
       "      actual predicted  \n",
       "2   positive  negative  \n",
       "4   positive  negative  \n",
       "8   positive  negative  \n",
       "10  negative  positive  \n",
       "14  positive  negative  "
      ]
     },
     "execution_count": 102,
     "metadata": {},
     "output_type": "execute_result"
    }
   ],
   "source": [
    "Sc1_T0_300_error_tfidf_Ran_df.loc[Sc1_T0_300_error_tfidf_Ran_df['actual'] != Sc1_T0_300_error_tfidf_Ran_df['predicted']].head()"
   ]
  },
  {
   "cell_type": "markdown",
   "metadata": {
    "tags": []
   },
   "source": [
    "### Scenario 1 - Tag correction 0 - Train size 300 - KNeighbors Classifier"
   ]
  },
  {
   "cell_type": "code",
   "execution_count": 103,
   "metadata": {},
   "outputs": [],
   "source": [
    "# Scenario 1 - Tag correction 0 - Train size 300 - KNeighbors Classifier\n",
    "X_Sc1_T0_300_tfidf_Knei_model = KNeighborsClassifier(n_neighbors=3)"
   ]
  },
  {
   "cell_type": "code",
   "execution_count": 104,
   "metadata": {},
   "outputs": [
    {
     "data": {
      "text/plain": [
       "KNeighborsClassifier(n_neighbors=3)"
      ]
     },
     "execution_count": 104,
     "metadata": {},
     "output_type": "execute_result"
    }
   ],
   "source": [
    "X_Sc1_T0_300_tfidf_Knei_model.fit(X_Sc1_T0_300_tfidf, y_Sc1_T0_300_train)"
   ]
  },
  {
   "cell_type": "code",
   "execution_count": 105,
   "metadata": {},
   "outputs": [],
   "source": [
    "# Scenario 1 - Tag correction 0 - Train size 300 - KNeighbors Classifier - tfidf\n",
    "y_Sc1_T0_300_train_tfidf_Knei_predict = X_Sc1_T0_300_tfidf_Knei_model.predict(X_Sc1_T0_300_tfidf)\n",
    "y_Sc1_T0_300_test_tfidf_Knei_predict = X_Sc1_T0_300_tfidf_Knei_model.predict(tfidf.transform(X_Sc1_T0_300_test))"
   ]
  },
  {
   "cell_type": "code",
   "execution_count": 106,
   "metadata": {},
   "outputs": [
    {
     "data": {
      "text/plain": [
       "<sklearn.metrics._plot.confusion_matrix.ConfusionMatrixDisplay at 0x311d83c8>"
      ]
     },
     "execution_count": 106,
     "metadata": {},
     "output_type": "execute_result"
    },
    {
     "data": {
      "image/png": "[encoded data removed]",
      "text/plain": [
       "<Figure size 432x288 with 2 Axes>"
      ]
     },
     "metadata": {
      "needs_background": "light"
     },
     "output_type": "display_data"
    }
   ],
   "source": [
    "ConfusionMatrixDisplay.from_predictions(y_Sc1_T0_300_train, y_Sc1_T0_300_train_tfidf_Knei_predict)"
   ]
  },
  {
   "cell_type": "code",
   "execution_count": 107,
   "metadata": {},
   "outputs": [
    {
     "data": {
      "text/plain": [
       "<sklearn.metrics._plot.confusion_matrix.ConfusionMatrixDisplay at 0x312cb208>"
      ]
     },
     "execution_count": 107,
     "metadata": {},
     "output_type": "execute_result"
    },
    {
     "data": {
      "image/png": "[encoded data removed]",
      "text/plain": [
       "<Figure size 432x288 with 2 Axes>"
      ]
     },
     "metadata": {
      "needs_background": "light"
     },
     "output_type": "display_data"
    }
   ],
   "source": [
    "ConfusionMatrixDisplay.from_predictions(y_Sc1_T0_300_test, y_Sc1_T0_300_test_tfidf_Knei_predict)"
   ]
  },
  {
   "cell_type": "code",
   "execution_count": 108,
   "metadata": {},
   "outputs": [
    {
     "name": "stdout",
     "output_type": "stream",
     "text": [
      "Precision: 0.5517241379310345\n",
      "Recall: 0.5925925925925926\n",
      "F1: 0.5714285714285714\n"
     ]
    }
   ],
   "source": [
    "# Metrics calculation for binary classes\n",
    "print('Precision:', precision_score(y_Sc1_T0_300_test, y_Sc1_T0_300_test_tfidf_Knei_predict, pos_label = 'positive'))\n",
    "print('Recall:', recall_score(y_Sc1_T0_300_test, y_Sc1_T0_300_test_tfidf_Knei_predict, pos_label = 'positive'))\n",
    "print('F1:', f1_score(y_Sc1_T0_300_test, y_Sc1_T0_300_test_tfidf_Knei_predict, pos_label = 'positive'))"
   ]
  },
  {
   "cell_type": "code",
   "execution_count": 109,
   "metadata": {},
   "outputs": [
    {
     "name": "stdout",
     "output_type": "stream",
     "text": [
      "Precision: [0.79146919 0.55172414]\n",
      "Recall: [0.76255708 0.59259259]\n",
      "F1: [0.77674419 0.57142857]\n"
     ]
    }
   ],
   "source": [
    "# Metrics calculation for more than two classes\n",
    "print('Precision:', precision_score(y_Sc1_T0_300_test, y_Sc1_T0_300_test_tfidf_Knei_predict, average = None))\n",
    "print('Recall:', recall_score(y_Sc1_T0_300_test, y_Sc1_T0_300_test_tfidf_Knei_predict, average = None))\n",
    "print('F1:', f1_score(y_Sc1_T0_300_test, y_Sc1_T0_300_test_tfidf_Knei_predict, average = None))"
   ]
  },
  {
   "cell_type": "code",
   "execution_count": 110,
   "metadata": {},
   "outputs": [],
   "source": [
    "# Scenario 1 - Tag correction 0 - Train size 300 - KNeighbors Classifier - tfidf - Analyzing Errors\n",
    "Sc1_T0_300_error_tfidf_Knei_df = pd.concat(\n",
    "    [ pd.concat([X_Sc1_T0_300_test, y_Sc1_T0_300_test], axis = 1).reset_index(),\n",
    "    pd.Series(y_Sc1_T0_300_test_tfidf_Knei_predict) ]\n",
    ", axis = 1).rename(columns = { 'sentiment': 'actual', 0: 'predicted' })\n",
    "\n",
    "Sc1_T0_300_error_tfidf_Knei_df.drop('index', inplace = True, axis = 1)"
   ]
  },
  {
   "cell_type": "code",
   "execution_count": 111,
   "metadata": {},
   "outputs": [
    {
     "data": {
      "text/plain": [
       "(96, 3)"
      ]
     },
     "execution_count": 111,
     "metadata": {},
     "output_type": "execute_result"
    }
   ],
   "source": [
    "Sc1_T0_300_error_tfidf_Knei_df.loc[Sc1_T0_300_error_tfidf_Knei_df['actual'] != Sc1_T0_300_error_tfidf_Knei_df['predicted']].shape"
   ]
  },
  {
   "cell_type": "code",
   "execution_count": 112,
   "metadata": {},
   "outputs": [],
   "source": [
    "Sc1_T0_300_error_tfidf_Knei_df.loc[Sc1_T0_300_error_tfidf_Knei_df['actual'] != Sc1_T0_300_error_tfidf_Knei_df['predicted']].to_csv('./data/Sc1_T0_300_error_tfidf_Knei_df.txt', sep ='\\t')"
   ]
  },
  {
   "cell_type": "code",
   "execution_count": 113,
   "metadata": {},
   "outputs": [
    {
     "data": {
      "text/html": [
       "<div>\n",
       "<style scoped>\n",
       "    .dataframe tbody tr th:only-of-type {\n",
       "        vertical-align: middle;\n",
       "    }\n",
       "\n",
       "    .dataframe tbody tr th {\n",
       "        vertical-align: top;\n",
       "    }\n",
       "\n",
       "    .dataframe thead th {\n",
       "        text-align: right;\n",
       "    }\n",
       "</style>\n",
       "<table border=\"1\" class=\"dataframe\">\n",
       "  <thead>\n",
       "    <tr style=\"text-align: right;\">\n",
       "      <th></th>\n",
       "      <th>full_text</th>\n",
       "      <th>actual</th>\n",
       "      <th>predicted</th>\n",
       "    </tr>\n",
       "  </thead>\n",
       "  <tbody>\n",
       "    <tr>\n",
       "      <th>2</th>\n",
       "      <td>@ozuismysenpai Pillá https://t.co/fnZFeKA3fz</td>\n",
       "      <td>positive</td>\n",
       "      <td>negative</td>\n",
       "    </tr>\n",
       "    <tr>\n",
       "      <th>3</th>\n",
       "      <td>@MariaFdaCabal Fuera \"Indra\" de Colombia ???? ha participado en el desarrollo de elecciones en  Noruega, Francia, Eslovenia, Portugal, Italia, Estados Unidos, Argentina,Bolivia Angola,Argentina, Colombia entre otros, ofreciendo todo tipo de servicios electorales pero a favor de la izquierda ??</td>\n",
       "      <td>negative</td>\n",
       "      <td>positive</td>\n",
       "    </tr>\n",
       "    <tr>\n",
       "      <th>6</th>\n",
       "      <td>@NHolhuin @alezandrazam72 Modelo de Tutela que busca dar \"Tranquilidad\" Para las Elecciones Presidenciales del #29Mayo 2022 en #Colombia \\r\\nhttps://t.co/DRb5uWlUa3</td>\n",
       "      <td>positive</td>\n",
       "      <td>negative</td>\n",
       "    </tr>\n",
       "    <tr>\n",
       "      <th>7</th>\n",
       "      <td>A caso en Colombia hay Procuraduría? O si existe está sin cabeza? Las elecciones al Congreso fueron un fraude, hay que anularlas y repetirlas; hay que cerrar el CNE y sacar a todos en la Registraduría, la mayoría para una CARCEL https://t.co/wSfZAJfJcX</td>\n",
       "      <td>negative</td>\n",
       "      <td>positive</td>\n",
       "    </tr>\n",
       "    <tr>\n",
       "      <th>8</th>\n",
       "      <td>Con esta ley, que se intentó modificar varias veces en anteriores contiendas, la intención principal era asegurar que las campañas electorales se llevaran a cabo en condiciones igualitarias y transparentes.\\r\\n\\r\\n#Elecciones2022 #ColombiaDecide \\r\\nhttps://t.co/qRNy77hLm6</td>\n",
       "      <td>positive</td>\n",
       "      <td>negative</td>\n",
       "    </tr>\n",
       "  </tbody>\n",
       "</table>\n",
       "</div>"
      ],
      "text/plain": [
       "                                                                                                                                                                                                                                                                                                full_text  \\\n",
       "2                                                                                                                                                                                                                                                            @ozuismysenpai Pillá https://t.co/fnZFeKA3fz   \n",
       "3  @MariaFdaCabal Fuera \"Indra\" de Colombia ???? ha participado en el desarrollo de elecciones en  Noruega, Francia, Eslovenia, Portugal, Italia, Estados Unidos, Argentina,Bolivia Angola,Argentina, Colombia entre otros, ofreciendo todo tipo de servicios electorales pero a favor de la izquierda ??   \n",
       "6                                                                                                                                    @NHolhuin @alezandrazam72 Modelo de Tutela que busca dar \"Tranquilidad\" Para las Elecciones Presidenciales del #29Mayo 2022 en #Colombia \\r\\nhttps://t.co/DRb5uWlUa3   \n",
       "7                                            A caso en Colombia hay Procuraduría? O si existe está sin cabeza? Las elecciones al Congreso fueron un fraude, hay que anularlas y repetirlas; hay que cerrar el CNE y sacar a todos en la Registraduría, la mayoría para una CARCEL https://t.co/wSfZAJfJcX   \n",
       "8                       Con esta ley, que se intentó modificar varias veces en anteriores contiendas, la intención principal era asegurar que las campañas electorales se llevaran a cabo en condiciones igualitarias y transparentes.\\r\\n\\r\\n#Elecciones2022 #ColombiaDecide \\r\\nhttps://t.co/qRNy77hLm6   \n",
       "\n",
       "     actual predicted  \n",
       "2  positive  negative  \n",
       "3  negative  positive  \n",
       "6  positive  negative  \n",
       "7  negative  positive  \n",
       "8  positive  negative  "
      ]
     },
     "execution_count": 113,
     "metadata": {},
     "output_type": "execute_result"
    }
   ],
   "source": [
    "Sc1_T0_300_error_tfidf_Knei_df.loc[Sc1_T0_300_error_tfidf_Knei_df['actual'] != Sc1_T0_300_error_tfidf_Knei_df['predicted']].head()"
   ]
  },
  {
   "cell_type": "markdown",
   "metadata": {
    "tags": []
   },
   "source": [
    "## Scenario 1 - Tag correction 1 - Train size 300"
   ]
  },
  {
   "cell_type": "markdown",
   "metadata": {
    "tags": []
   },
   "source": [
    "### Scenario 1 - Tag correction 1 - Train size 300 - Random Forest Classifier"
   ]
  },
  {
   "cell_type": "code",
   "execution_count": 114,
   "metadata": {},
   "outputs": [],
   "source": [
    "Sc1_T1_300_tfidf_Ran_df = pd.read_csv('./data/Sc1_T1_300_tfidf_Ran_df.txt', sep = '\\t')"
   ]
  },
  {
   "cell_type": "code",
   "execution_count": 115,
   "metadata": {},
   "outputs": [
    {
     "data": {
      "text/plain": [
       "negative    0.717703\n",
       "positive    0.157895\n",
       "neutral     0.124402\n",
       "Name: sentiment, dtype: float64"
      ]
     },
     "execution_count": 115,
     "metadata": {},
     "output_type": "execute_result"
    }
   ],
   "source": [
    "Sc1_T1_300_tfidf_Ran_df['sentiment'].value_counts(dropna = False, normalize = True)"
   ]
  },
  {
   "cell_type": "code",
   "execution_count": 116,
   "metadata": {},
   "outputs": [
    {
     "data": {
      "text/html": [
       "<div>\n",
       "<style scoped>\n",
       "    .dataframe tbody tr th:only-of-type {\n",
       "        vertical-align: middle;\n",
       "    }\n",
       "\n",
       "    .dataframe tbody tr th {\n",
       "        vertical-align: top;\n",
       "    }\n",
       "\n",
       "    .dataframe thead th {\n",
       "        text-align: right;\n",
       "    }\n",
       "</style>\n",
       "<table border=\"1\" class=\"dataframe\">\n",
       "  <thead>\n",
       "    <tr style=\"text-align: right;\">\n",
       "      <th></th>\n",
       "      <th>id</th>\n",
       "      <th>full_text</th>\n",
       "      <th>sentiment</th>\n",
       "      <th>emotion</th>\n",
       "    </tr>\n",
       "  </thead>\n",
       "  <tbody>\n",
       "    <tr>\n",
       "      <th>0</th>\n",
       "      <td>1</td>\n",
       "      <td>@IvanDuque Sus socios de las AGC tienen este platanal vuelto mierda, pero no haces nada, usted inservible, ha logrado la peor inflación en Colombia y solo pública maricadas sin sentido, se robó las elecciones para entregar el país, valiente idiota tenemos de presidente.</td>\n",
       "      <td>negative</td>\n",
       "      <td>anger</td>\n",
       "    </tr>\n",
       "    <tr>\n",
       "      <th>1</th>\n",
       "      <td>2</td>\n",
       "      <td>@AlvaroUribeVel Ellos también celebran por que Maduro PetroGustavo Ivan Cepeda Timo Teodora Bobolivar entre muchos más sufren  de insomnio.\\r\\nUribe Velez Alvarito no los deja dormir\\r\\nEl enemigo para las elecciones no es Fico.... Sino el Excelentísimo y más Grande Presidente que ha tenido Colombia</td>\n",
       "      <td>negative</td>\n",
       "      <td>anger</td>\n",
       "    </tr>\n",
       "    <tr>\n",
       "      <th>2</th>\n",
       "      <td>3</td>\n",
       "      <td>@PDleh @cokycafe @PGN_COL En Colombia existen miles de leyes para controlar los funcionarios públicos pero a la hora de aplicarlas \"se les olvida que existen\". ¿Que más pruebas quieren? ¿Porque avalan unas elecciones, las del 13 de marzo, donde pado de todo lo que no debía de pasar? Escuchamos  respuestas</td>\n",
       "      <td>negative</td>\n",
       "      <td>anger</td>\n",
       "    </tr>\n",
       "    <tr>\n",
       "      <th>3</th>\n",
       "      <td>4</td>\n",
       "      <td>Petro ahora es el Capitán América o mejor dicho el Capitán Colombia de ganar las elecciones. No soltara el escudo ni para dormir ?? https://t.co/k56Dv7id1J</td>\n",
       "      <td>negative</td>\n",
       "      <td>joy</td>\n",
       "    </tr>\n",
       "    <tr>\n",
       "      <th>4</th>\n",
       "      <td>5</td>\n",
       "      <td>#OtraPregunta \\r\\n\"Petro promete reanudar relaciones diplomáticas con Maduro si gana elecciones en Colombia\"...\\r\\nEsto no pinta nada bien... y si además gana Lula en Brasil...\\r\\n¿Esto como que va para largo? https://t.co/wpQsl5KoRe</td>\n",
       "      <td>negative</td>\n",
       "      <td>fear</td>\n",
       "    </tr>\n",
       "  </tbody>\n",
       "</table>\n",
       "</div>"
      ],
      "text/plain": [
       "   id  \\\n",
       "0   1   \n",
       "1   2   \n",
       "2   3   \n",
       "3   4   \n",
       "4   5   \n",
       "\n",
       "                                                                                                                                                                                                                                                                                                            full_text  \\\n",
       "0                                      @IvanDuque Sus socios de las AGC tienen este platanal vuelto mierda, pero no haces nada, usted inservible, ha logrado la peor inflación en Colombia y solo pública maricadas sin sentido, se robó las elecciones para entregar el país, valiente idiota tenemos de presidente.   \n",
       "1        @AlvaroUribeVel Ellos también celebran por que Maduro PetroGustavo Ivan Cepeda Timo Teodora Bobolivar entre muchos más sufren  de insomnio.\\r\\nUribe Velez Alvarito no los deja dormir\\r\\nEl enemigo para las elecciones no es Fico.... Sino el Excelentísimo y más Grande Presidente que ha tenido Colombia   \n",
       "2  @PDleh @cokycafe @PGN_COL En Colombia existen miles de leyes para controlar los funcionarios públicos pero a la hora de aplicarlas \"se les olvida que existen\". ¿Que más pruebas quieren? ¿Porque avalan unas elecciones, las del 13 de marzo, donde pado de todo lo que no debía de pasar? Escuchamos  respuestas   \n",
       "3                                                                                                                                                         Petro ahora es el Capitán América o mejor dicho el Capitán Colombia de ganar las elecciones. No soltara el escudo ni para dormir ?? https://t.co/k56Dv7id1J   \n",
       "4                                                                           #OtraPregunta \\r\\n\"Petro promete reanudar relaciones diplomáticas con Maduro si gana elecciones en Colombia\"...\\r\\nEsto no pinta nada bien... y si además gana Lula en Brasil...\\r\\n¿Esto como que va para largo? https://t.co/wpQsl5KoRe   \n",
       "\n",
       "  sentiment emotion  \n",
       "0  negative   anger  \n",
       "1  negative   anger  \n",
       "2  negative   anger  \n",
       "3  negative     joy  \n",
       "4  negative    fear  "
      ]
     },
     "execution_count": 116,
     "metadata": {},
     "output_type": "execute_result"
    }
   ],
   "source": [
    "Sc1_T1_300_tfidf_Ran_df.head()"
   ]
  },
  {
   "cell_type": "code",
   "execution_count": 117,
   "metadata": {},
   "outputs": [],
   "source": [
    "# the randomstate number ensures that split are reproducible\n",
    "X_Sc1_T1_300_train, X_Sc1_T1_300_test, y_Sc1_T1_300_train, y_Sc1_T1_300_test = train_test_split(Sc1_T1_300_tfidf_Ran_df['full_text'], Sc1_T1_300_tfidf_Ran_df['sentiment'], train_size = 300, stratify = Sc1_T1_300_tfidf_Ran_df['sentiment'], random_state = 1)"
   ]
  },
  {
   "cell_type": "code",
   "execution_count": 118,
   "metadata": {},
   "outputs": [
    {
     "data": {
      "text/plain": [
       "(300,)"
      ]
     },
     "execution_count": 118,
     "metadata": {},
     "output_type": "execute_result"
    }
   ],
   "source": [
    "X_Sc1_T1_300_train.shape"
   ]
  },
  {
   "cell_type": "code",
   "execution_count": 119,
   "metadata": {},
   "outputs": [
    {
     "data": {
      "text/plain": [
       "negative    0.716667\n",
       "positive    0.160000\n",
       "neutral     0.123333\n",
       "Name: sentiment, dtype: float64"
      ]
     },
     "execution_count": 119,
     "metadata": {},
     "output_type": "execute_result"
    }
   ],
   "source": [
    "pd.Series(y_Sc1_T1_300_train).value_counts(normalize = True)"
   ]
  },
  {
   "cell_type": "code",
   "execution_count": 120,
   "metadata": {},
   "outputs": [
    {
     "data": {
      "text/plain": [
       "(327,)"
      ]
     },
     "execution_count": 120,
     "metadata": {},
     "output_type": "execute_result"
    }
   ],
   "source": [
    "X_Sc1_T1_300_test.shape"
   ]
  },
  {
   "cell_type": "code",
   "execution_count": 121,
   "metadata": {},
   "outputs": [
    {
     "data": {
      "text/plain": [
       "negative    0.718654\n",
       "positive    0.155963\n",
       "neutral     0.125382\n",
       "Name: sentiment, dtype: float64"
      ]
     },
     "execution_count": 121,
     "metadata": {},
     "output_type": "execute_result"
    }
   ],
   "source": [
    "pd.Series(y_Sc1_T1_300_test).value_counts(normalize = True)"
   ]
  },
  {
   "cell_type": "code",
   "execution_count": 122,
   "metadata": {},
   "outputs": [],
   "source": [
    "X_Sc1_T1_300_tfidf = tfidf.fit_transform(X_Sc1_T1_300_train)"
   ]
  },
  {
   "cell_type": "code",
   "execution_count": 123,
   "metadata": {},
   "outputs": [],
   "source": [
    "# Scenario 1 - Tag correction 0 - Train size 300 - Random Forest Classifier\n",
    "X_Sc1_T1_300_tfidf_Ran_model = RandomForestClassifier()"
   ]
  },
  {
   "cell_type": "code",
   "execution_count": 124,
   "metadata": {},
   "outputs": [
    {
     "data": {
      "text/plain": [
       "RandomForestClassifier()"
      ]
     },
     "execution_count": 124,
     "metadata": {},
     "output_type": "execute_result"
    }
   ],
   "source": [
    "X_Sc1_T1_300_tfidf_Ran_model.fit(X_Sc1_T1_300_tfidf, y_Sc1_T1_300_train)"
   ]
  },
  {
   "cell_type": "code",
   "execution_count": 125,
   "metadata": {},
   "outputs": [],
   "source": [
    "# Scenario 1 - Tag correction 0 - Train size 300 - Random Forest Classifier - TF-IDF\n",
    "y_Sc1_T1_300_train_tfidf_Ran_predict = X_Sc1_T1_300_tfidf_Ran_model.predict(X_Sc1_T1_300_tfidf)\n",
    "y_Sc1_T1_300_test_tfidf_Ran_predict = X_Sc1_T1_300_tfidf_Ran_model.predict(tfidf.transform(X_Sc1_T1_300_test))"
   ]
  },
  {
   "cell_type": "code",
   "execution_count": 126,
   "metadata": {},
   "outputs": [
    {
     "data": {
      "text/plain": [
       "<sklearn.metrics._plot.confusion_matrix.ConfusionMatrixDisplay at 0x3237d408>"
      ]
     },
     "execution_count": 126,
     "metadata": {},
     "output_type": "execute_result"
    },
    {
     "data": {
      "image/png": "[encoded data removed]",
      "text/plain": [
       "<Figure size 432x288 with 2 Axes>"
      ]
     },
     "metadata": {
      "needs_background": "light"
     },
     "output_type": "display_data"
    }
   ],
   "source": [
    "ConfusionMatrixDisplay.from_predictions(y_Sc1_T1_300_train, y_Sc1_T1_300_train_tfidf_Ran_predict)"
   ]
  },
  {
   "cell_type": "code",
   "execution_count": 127,
   "metadata": {},
   "outputs": [
    {
     "data": {
      "text/plain": [
       "<sklearn.metrics._plot.confusion_matrix.ConfusionMatrixDisplay at 0x32520988>"
      ]
     },
     "execution_count": 127,
     "metadata": {},
     "output_type": "execute_result"
    },
    {
     "data": {
      "image/png": "[encoded data removed]",
      "text/plain": [
       "<Figure size 432x288 with 2 Axes>"
      ]
     },
     "metadata": {
      "needs_background": "light"
     },
     "output_type": "display_data"
    }
   ],
   "source": [
    "ConfusionMatrixDisplay.from_predictions(y_Sc1_T1_300_test, y_Sc1_T1_300_test_tfidf_Ran_predict)"
   ]
  },
  {
   "cell_type": "code",
   "execution_count": 128,
   "metadata": {},
   "outputs": [],
   "source": [
    "# Metrics calculation for binary classes\n",
    "# print('Precision:', precision_score(y_Sc1_T1_300_test, y_Sc1_T1_300_test_tfidf_Ran_predict, pos_label = 'positive'))\n",
    "# print('Recall:', recall_score(y_Sc1_T1_300_test, y_Sc1_T1_300_test_tfidf_Ran_predict, pos_label = 'positive'))\n",
    "# print('F1:', f1_score(y_Sc1_T1_300_test, y_Sc1_T1_300_test_tfidf_Ran_predict, pos_label = 'positive'))"
   ]
  },
  {
   "cell_type": "code",
   "execution_count": 129,
   "metadata": {},
   "outputs": [
    {
     "name": "stdout",
     "output_type": "stream",
     "text": [
      "Precision: [0.77666667 0.66666667 0.86666667]\n",
      "Recall: [0.99148936 0.19512195 0.25490196]\n",
      "F1: [0.87102804 0.30188679 0.39393939]\n"
     ]
    }
   ],
   "source": [
    "# Metrics calculation for more than two classes\n",
    "print('Precision:', precision_score(y_Sc1_T1_300_test, y_Sc1_T1_300_test_tfidf_Ran_predict, average = None))\n",
    "print('Recall:', recall_score(y_Sc1_T1_300_test, y_Sc1_T1_300_test_tfidf_Ran_predict, average = None))\n",
    "print('F1:', f1_score(y_Sc1_T1_300_test, y_Sc1_T1_300_test_tfidf_Ran_predict, average = None))"
   ]
  },
  {
   "cell_type": "code",
   "execution_count": 130,
   "metadata": {},
   "outputs": [],
   "source": [
    "# Scenario 1 - Tag correction 0 - Train size 300 - Random Forest Classifier - TF-IDF - Analyzing Errors\n",
    "Sc1_T1_300_error_tfidf_Ran_df = pd.concat(\n",
    "    [ pd.concat([X_Sc1_T1_300_test, y_Sc1_T1_300_test], axis = 1).reset_index(),\n",
    "    pd.Series(y_Sc1_T1_300_test_tfidf_Ran_predict) ]\n",
    ", axis = 1).rename(columns = { 'sentiment': 'actual', 0: 'predicted' })\n",
    "\n",
    "Sc1_T1_300_error_tfidf_Ran_df.drop('index', inplace = True, axis = 1)"
   ]
  },
  {
   "cell_type": "code",
   "execution_count": 131,
   "metadata": {},
   "outputs": [
    {
     "data": {
      "text/plain": [
       "(73, 3)"
      ]
     },
     "execution_count": 131,
     "metadata": {},
     "output_type": "execute_result"
    }
   ],
   "source": [
    "Sc1_T1_300_error_tfidf_Ran_df.loc[Sc1_T1_300_error_tfidf_Ran_df['actual'] != Sc1_T1_300_error_tfidf_Ran_df['predicted']].shape"
   ]
  },
  {
   "cell_type": "code",
   "execution_count": 132,
   "metadata": {},
   "outputs": [],
   "source": [
    "Sc1_T1_300_error_tfidf_Ran_df.loc[Sc1_T1_300_error_tfidf_Ran_df['actual'] != Sc1_T1_300_error_tfidf_Ran_df['predicted']].to_csv('./data/Sc1_T1_300_error_tfidf_Ran_df.txt', sep ='\\t')"
   ]
  },
  {
   "cell_type": "code",
   "execution_count": 133,
   "metadata": {},
   "outputs": [
    {
     "data": {
      "text/html": [
       "<div>\n",
       "<style scoped>\n",
       "    .dataframe tbody tr th:only-of-type {\n",
       "        vertical-align: middle;\n",
       "    }\n",
       "\n",
       "    .dataframe tbody tr th {\n",
       "        vertical-align: top;\n",
       "    }\n",
       "\n",
       "    .dataframe thead th {\n",
       "        text-align: right;\n",
       "    }\n",
       "</style>\n",
       "<table border=\"1\" class=\"dataframe\">\n",
       "  <thead>\n",
       "    <tr style=\"text-align: right;\">\n",
       "      <th></th>\n",
       "      <th>full_text</th>\n",
       "      <th>actual</th>\n",
       "      <th>predicted</th>\n",
       "    </tr>\n",
       "  </thead>\n",
       "  <tbody>\n",
       "    <tr>\n",
       "      <th>3</th>\n",
       "      <td>El candidato a la Presidencia de Colombia Gustavo Petro, anunció este viernes que retomará las relaciones diplomáticas con Venezuela si gana las elecciones y llega a la jefatura del Estado colombiano.</td>\n",
       "      <td>neutral</td>\n",
       "      <td>negative</td>\n",
       "    </tr>\n",
       "    <tr>\n",
       "      <th>8</th>\n",
       "      <td>Petro retomará lazos con Venezuela si llega a Presidencia de Colombia https://t.co/U2HIRmOSsR</td>\n",
       "      <td>neutral</td>\n",
       "      <td>negative</td>\n",
       "    </tr>\n",
       "    <tr>\n",
       "      <th>14</th>\n",
       "      <td>El Tribunal Administrativo de Cundinamarca negó la solicitud de suspensión provisional del Registrador Nacional, Alexander Vega. Sin embargo, decretó unas medidas cautelares para garantizar las elecciones. | A 23 días para la elección presidencial en Colombia, opine. https://t.co/KNA8oitIEa</td>\n",
       "      <td>positive</td>\n",
       "      <td>negative</td>\n",
       "    </tr>\n",
       "    <tr>\n",
       "      <th>21</th>\n",
       "      <td>@lauraro Yo vote por el NO y hoy siento que nos podría pasar lo mismo con las próximas elecciones si no actuamos unidos!!\\r\\nDejemos el odio irracional, aquí se trata es de salvar el presente y futuro de Colombia!\\r\\nQuien más se une??</td>\n",
       "      <td>positive</td>\n",
       "      <td>negative</td>\n",
       "    </tr>\n",
       "    <tr>\n",
       "      <th>25</th>\n",
       "      <td>#COLOMBIA: Si vas a cubrir las elecciones necesitas un plan de comunicación. \\r\\n\\r\\nAlerta rápidamente a los demás si algo te ha sucedido y proporciona toda la información necesaria para poner en marcha una respuesta adecuada.  @ACOSalliance \\r\\n\\r\\nEncuéntralo aquí: https://t.co/b7OZvGdeDc https://t.co/420CLbD7Ur</td>\n",
       "      <td>positive</td>\n",
       "      <td>negative</td>\n",
       "    </tr>\n",
       "  </tbody>\n",
       "</table>\n",
       "</div>"
      ],
      "text/plain": [
       "                                                                                                                                                                                                                                                                                                                       full_text  \\\n",
       "3                                                                                                                       El candidato a la Presidencia de Colombia Gustavo Petro, anunció este viernes que retomará las relaciones diplomáticas con Venezuela si gana las elecciones y llega a la jefatura del Estado colombiano.   \n",
       "8                                                                                                                                                                                                                                  Petro retomará lazos con Venezuela si llega a Presidencia de Colombia https://t.co/U2HIRmOSsR   \n",
       "14                           El Tribunal Administrativo de Cundinamarca negó la solicitud de suspensión provisional del Registrador Nacional, Alexander Vega. Sin embargo, decretó unas medidas cautelares para garantizar las elecciones. | A 23 días para la elección presidencial en Colombia, opine. https://t.co/KNA8oitIEa   \n",
       "21                                                                                   @lauraro Yo vote por el NO y hoy siento que nos podría pasar lo mismo con las próximas elecciones si no actuamos unidos!!\\r\\nDejemos el odio irracional, aquí se trata es de salvar el presente y futuro de Colombia!\\r\\nQuien más se une??   \n",
       "25  #COLOMBIA: Si vas a cubrir las elecciones necesitas un plan de comunicación. \\r\\n\\r\\nAlerta rápidamente a los demás si algo te ha sucedido y proporciona toda la información necesaria para poner en marcha una respuesta adecuada.  @ACOSalliance \\r\\n\\r\\nEncuéntralo aquí: https://t.co/b7OZvGdeDc https://t.co/420CLbD7Ur   \n",
       "\n",
       "      actual predicted  \n",
       "3    neutral  negative  \n",
       "8    neutral  negative  \n",
       "14  positive  negative  \n",
       "21  positive  negative  \n",
       "25  positive  negative  "
      ]
     },
     "execution_count": 133,
     "metadata": {},
     "output_type": "execute_result"
    }
   ],
   "source": [
    "Sc1_T1_300_error_tfidf_Ran_df.loc[Sc1_T1_300_error_tfidf_Ran_df['actual'] != Sc1_T1_300_error_tfidf_Ran_df['predicted']].head()"
   ]
  },
  {
   "cell_type": "markdown",
   "metadata": {
    "tags": []
   },
   "source": [
    "### Scenario 1 - Tag correction 1 - Train size 300 - KNeighbors Classifier"
   ]
  },
  {
   "cell_type": "code",
   "execution_count": 134,
   "metadata": {},
   "outputs": [],
   "source": [
    "Sc1_T1_300_tfidf_Knei_df = pd.read_csv('./data/Sc1_T1_300_tfidf_Knei_df.txt', sep = '\\t')"
   ]
  },
  {
   "cell_type": "code",
   "execution_count": 135,
   "metadata": {},
   "outputs": [
    {
     "data": {
      "text/plain": [
       "negative    0.717703\n",
       "positive    0.157895\n",
       "neutral     0.124402\n",
       "Name: sentiment, dtype: float64"
      ]
     },
     "execution_count": 135,
     "metadata": {},
     "output_type": "execute_result"
    }
   ],
   "source": [
    "Sc1_T1_300_tfidf_Knei_df['sentiment'].value_counts(dropna = False, normalize = True)"
   ]
  },
  {
   "cell_type": "code",
   "execution_count": 136,
   "metadata": {},
   "outputs": [
    {
     "data": {
      "text/html": [
       "<div>\n",
       "<style scoped>\n",
       "    .dataframe tbody tr th:only-of-type {\n",
       "        vertical-align: middle;\n",
       "    }\n",
       "\n",
       "    .dataframe tbody tr th {\n",
       "        vertical-align: top;\n",
       "    }\n",
       "\n",
       "    .dataframe thead th {\n",
       "        text-align: right;\n",
       "    }\n",
       "</style>\n",
       "<table border=\"1\" class=\"dataframe\">\n",
       "  <thead>\n",
       "    <tr style=\"text-align: right;\">\n",
       "      <th></th>\n",
       "      <th>id</th>\n",
       "      <th>full_text</th>\n",
       "      <th>sentiment</th>\n",
       "      <th>emotion</th>\n",
       "    </tr>\n",
       "  </thead>\n",
       "  <tbody>\n",
       "    <tr>\n",
       "      <th>0</th>\n",
       "      <td>1</td>\n",
       "      <td>@IvanDuque Sus socios de las AGC tienen este platanal vuelto mierda, pero no haces nada, usted inservible, ha logrado la peor inflación en Colombia y solo pública maricadas sin sentido, se robó las elecciones para entregar el país, valiente idiota tenemos de presidente.</td>\n",
       "      <td>negative</td>\n",
       "      <td>anger</td>\n",
       "    </tr>\n",
       "    <tr>\n",
       "      <th>1</th>\n",
       "      <td>2</td>\n",
       "      <td>@AlvaroUribeVel Ellos también celebran por que Maduro PetroGustavo Ivan Cepeda Timo Teodora Bobolivar entre muchos más sufren  de insomnio.\\r\\nUribe Velez Alvarito no los deja dormir\\r\\nEl enemigo para las elecciones no es Fico.... Sino el Excelentísimo y más Grande Presidente que ha tenido Colombia</td>\n",
       "      <td>negative</td>\n",
       "      <td>anger</td>\n",
       "    </tr>\n",
       "    <tr>\n",
       "      <th>2</th>\n",
       "      <td>3</td>\n",
       "      <td>@PDleh @cokycafe @PGN_COL En Colombia existen miles de leyes para controlar los funcionarios públicos pero a la hora de aplicarlas \"se les olvida que existen\". ¿Que más pruebas quieren? ¿Porque avalan unas elecciones, las del 13 de marzo, donde pado de todo lo que no debía de pasar? Escuchamos  respuestas</td>\n",
       "      <td>negative</td>\n",
       "      <td>anger</td>\n",
       "    </tr>\n",
       "    <tr>\n",
       "      <th>3</th>\n",
       "      <td>4</td>\n",
       "      <td>Petro ahora es el Capitán América o mejor dicho el Capitán Colombia de ganar las elecciones. No soltara el escudo ni para dormir ?? https://t.co/k56Dv7id1J</td>\n",
       "      <td>negative</td>\n",
       "      <td>joy</td>\n",
       "    </tr>\n",
       "    <tr>\n",
       "      <th>4</th>\n",
       "      <td>5</td>\n",
       "      <td>#OtraPregunta \\r\\n\"Petro promete reanudar relaciones diplomáticas con Maduro si gana elecciones en Colombia\"...\\r\\nEsto no pinta nada bien... y si además gana Lula en Brasil...\\r\\n¿Esto como que va para largo? https://t.co/wpQsl5KoRe</td>\n",
       "      <td>negative</td>\n",
       "      <td>fear</td>\n",
       "    </tr>\n",
       "  </tbody>\n",
       "</table>\n",
       "</div>"
      ],
      "text/plain": [
       "   id  \\\n",
       "0   1   \n",
       "1   2   \n",
       "2   3   \n",
       "3   4   \n",
       "4   5   \n",
       "\n",
       "                                                                                                                                                                                                                                                                                                            full_text  \\\n",
       "0                                      @IvanDuque Sus socios de las AGC tienen este platanal vuelto mierda, pero no haces nada, usted inservible, ha logrado la peor inflación en Colombia y solo pública maricadas sin sentido, se robó las elecciones para entregar el país, valiente idiota tenemos de presidente.   \n",
       "1        @AlvaroUribeVel Ellos también celebran por que Maduro PetroGustavo Ivan Cepeda Timo Teodora Bobolivar entre muchos más sufren  de insomnio.\\r\\nUribe Velez Alvarito no los deja dormir\\r\\nEl enemigo para las elecciones no es Fico.... Sino el Excelentísimo y más Grande Presidente que ha tenido Colombia   \n",
       "2  @PDleh @cokycafe @PGN_COL En Colombia existen miles de leyes para controlar los funcionarios públicos pero a la hora de aplicarlas \"se les olvida que existen\". ¿Que más pruebas quieren? ¿Porque avalan unas elecciones, las del 13 de marzo, donde pado de todo lo que no debía de pasar? Escuchamos  respuestas   \n",
       "3                                                                                                                                                         Petro ahora es el Capitán América o mejor dicho el Capitán Colombia de ganar las elecciones. No soltara el escudo ni para dormir ?? https://t.co/k56Dv7id1J   \n",
       "4                                                                           #OtraPregunta \\r\\n\"Petro promete reanudar relaciones diplomáticas con Maduro si gana elecciones en Colombia\"...\\r\\nEsto no pinta nada bien... y si además gana Lula en Brasil...\\r\\n¿Esto como que va para largo? https://t.co/wpQsl5KoRe   \n",
       "\n",
       "  sentiment emotion  \n",
       "0  negative   anger  \n",
       "1  negative   anger  \n",
       "2  negative   anger  \n",
       "3  negative     joy  \n",
       "4  negative    fear  "
      ]
     },
     "execution_count": 136,
     "metadata": {},
     "output_type": "execute_result"
    }
   ],
   "source": [
    "Sc1_T1_300_tfidf_Knei_df.head()"
   ]
  },
  {
   "cell_type": "code",
   "execution_count": 137,
   "metadata": {},
   "outputs": [],
   "source": [
    "# the randomstate number ensures that split are reproducible\n",
    "X_Sc1_T1_300_train, X_Sc1_T1_300_test, y_Sc1_T1_300_train, y_Sc1_T1_300_test = train_test_split(Sc1_T1_300_tfidf_Knei_df['full_text'], Sc1_T1_300_tfidf_Knei_df['sentiment'], train_size = 300, stratify = Sc1_T1_300_tfidf_Knei_df['sentiment'], random_state = 1)"
   ]
  },
  {
   "cell_type": "code",
   "execution_count": 138,
   "metadata": {},
   "outputs": [
    {
     "data": {
      "text/plain": [
       "(300,)"
      ]
     },
     "execution_count": 138,
     "metadata": {},
     "output_type": "execute_result"
    }
   ],
   "source": [
    "X_Sc1_T1_300_train.shape"
   ]
  },
  {
   "cell_type": "code",
   "execution_count": 139,
   "metadata": {},
   "outputs": [
    {
     "data": {
      "text/plain": [
       "negative    0.716667\n",
       "positive    0.160000\n",
       "neutral     0.123333\n",
       "Name: sentiment, dtype: float64"
      ]
     },
     "execution_count": 139,
     "metadata": {},
     "output_type": "execute_result"
    }
   ],
   "source": [
    "pd.Series(y_Sc1_T1_300_train).value_counts(normalize = True)"
   ]
  },
  {
   "cell_type": "code",
   "execution_count": 140,
   "metadata": {},
   "outputs": [
    {
     "data": {
      "text/plain": [
       "(327,)"
      ]
     },
     "execution_count": 140,
     "metadata": {},
     "output_type": "execute_result"
    }
   ],
   "source": [
    "X_Sc1_T1_300_test.shape"
   ]
  },
  {
   "cell_type": "code",
   "execution_count": 141,
   "metadata": {},
   "outputs": [
    {
     "data": {
      "text/plain": [
       "negative    0.718654\n",
       "positive    0.155963\n",
       "neutral     0.125382\n",
       "Name: sentiment, dtype: float64"
      ]
     },
     "execution_count": 141,
     "metadata": {},
     "output_type": "execute_result"
    }
   ],
   "source": [
    "pd.Series(y_Sc1_T1_300_test).value_counts(normalize = True)"
   ]
  },
  {
   "cell_type": "code",
   "execution_count": 142,
   "metadata": {},
   "outputs": [],
   "source": [
    "X_Sc1_T1_300_tfidf = tfidf.fit_transform(X_Sc1_T1_300_train)"
   ]
  },
  {
   "cell_type": "code",
   "execution_count": 143,
   "metadata": {},
   "outputs": [],
   "source": [
    "# Scenario 1 - Tag correction 1 - Train size 300 - KNeighbors Classifier\n",
    "X_Sc1_T1_300_tfidf_Knei_model = KNeighborsClassifier(n_neighbors=3)"
   ]
  },
  {
   "cell_type": "code",
   "execution_count": 144,
   "metadata": {},
   "outputs": [
    {
     "data": {
      "text/plain": [
       "KNeighborsClassifier(n_neighbors=3)"
      ]
     },
     "execution_count": 144,
     "metadata": {},
     "output_type": "execute_result"
    }
   ],
   "source": [
    "X_Sc1_T1_300_tfidf_Knei_model.fit(X_Sc1_T1_300_tfidf, y_Sc1_T1_300_train)"
   ]
  },
  {
   "cell_type": "code",
   "execution_count": 145,
   "metadata": {},
   "outputs": [],
   "source": [
    "# Scenario 1 - Tag correction 1 - Train size 300 - KNeighbors Classifier - TF-IDF\n",
    "y_Sc1_T1_300_train_tfidf_Knei_predict = X_Sc1_T1_300_tfidf_Knei_model.predict(X_Sc1_T1_300_tfidf)\n",
    "y_Sc1_T1_300_test_tfidf_Knei_predict = X_Sc1_T1_300_tfidf_Knei_model.predict(tfidf.transform(X_Sc1_T1_300_test))"
   ]
  },
  {
   "cell_type": "code",
   "execution_count": 146,
   "metadata": {},
   "outputs": [
    {
     "data": {
      "text/plain": [
       "<sklearn.metrics._plot.confusion_matrix.ConfusionMatrixDisplay at 0x325c3c08>"
      ]
     },
     "execution_count": 146,
     "metadata": {},
     "output_type": "execute_result"
    },
    {
     "data": {
      "image/png": "[encoded data removed]",
      "text/plain": [
       "<Figure size 432x288 with 2 Axes>"
      ]
     },
     "metadata": {
      "needs_background": "light"
     },
     "output_type": "display_data"
    }
   ],
   "source": [
    "ConfusionMatrixDisplay.from_predictions(y_Sc1_T1_300_train, y_Sc1_T1_300_train_tfidf_Knei_predict)"
   ]
  },
  {
   "cell_type": "code",
   "execution_count": 147,
   "metadata": {},
   "outputs": [
    {
     "data": {
      "text/plain": [
       "<sklearn.metrics._plot.confusion_matrix.ConfusionMatrixDisplay at 0x325f99c8>"
      ]
     },
     "execution_count": 147,
     "metadata": {},
     "output_type": "execute_result"
    },
    {
     "data": {
      "image/png": "[encoded data removed]",
      "text/plain": [
       "<Figure size 432x288 with 2 Axes>"
      ]
     },
     "metadata": {
      "needs_background": "light"
     },
     "output_type": "display_data"
    }
   ],
   "source": [
    "ConfusionMatrixDisplay.from_predictions(y_Sc1_T1_300_test, y_Sc1_T1_300_test_tfidf_Knei_predict)"
   ]
  },
  {
   "cell_type": "code",
   "execution_count": 148,
   "metadata": {},
   "outputs": [],
   "source": [
    "# Metrics calculation for binary classes\n",
    "# print('Precision:', precision_score(y_Sc1_T1_300_test, y_Sc1_T1_300_test_tfidf_Knei_predict, pos_label = 'positive'))\n",
    "# print('Recall:', recall_score(y_Sc1_T1_300_test, y_Sc1_T1_300_test_tfidf_Knei_predict, pos_label = 'positive'))\n",
    "# print('F1:', f1_score(y_Sc1_T1_300_test, y_Sc1_T1_300_test_tfidf_Knei_predict, pos_label = 'positive'))"
   ]
  },
  {
   "cell_type": "code",
   "execution_count": 149,
   "metadata": {},
   "outputs": [
    {
     "name": "stdout",
     "output_type": "stream",
     "text": [
      "Precision: [0.77573529 0.35714286 0.44444444]\n",
      "Recall: [0.89787234 0.24390244 0.23529412]\n",
      "F1: [0.83234714 0.28985507 0.30769231]\n"
     ]
    }
   ],
   "source": [
    "# Metrics calculation for more than two classes\n",
    "print('Precision:', precision_score(y_Sc1_T1_300_test, y_Sc1_T1_300_test_tfidf_Knei_predict, average = None))\n",
    "print('Recall:', recall_score(y_Sc1_T1_300_test, y_Sc1_T1_300_test_tfidf_Knei_predict, average = None))\n",
    "print('F1:', f1_score(y_Sc1_T1_300_test, y_Sc1_T1_300_test_tfidf_Knei_predict, average = None))"
   ]
  },
  {
   "cell_type": "code",
   "execution_count": 150,
   "metadata": {},
   "outputs": [],
   "source": [
    "# Scenario 1 - Tag correction 1 - Train size 300 - KNeighbors Classifier - TF-IDF - Analyzing Errors\n",
    "Sc1_T1_300_error_tfidf_Knei_df = pd.concat(\n",
    "    [ pd.concat([X_Sc1_T1_300_test, y_Sc1_T1_300_test], axis = 1).reset_index(),\n",
    "    pd.Series(y_Sc1_T1_300_test_tfidf_Knei_predict) ]\n",
    ", axis = 1).rename(columns = { 'sentiment': 'actual', 0: 'predicted' })\n",
    "\n",
    "Sc1_T1_300_error_tfidf_Knei_df.drop('index', inplace = True, axis = 1)"
   ]
  },
  {
   "cell_type": "code",
   "execution_count": 151,
   "metadata": {},
   "outputs": [
    {
     "data": {
      "text/plain": [
       "(94, 3)"
      ]
     },
     "execution_count": 151,
     "metadata": {},
     "output_type": "execute_result"
    }
   ],
   "source": [
    "Sc1_T1_300_error_tfidf_Knei_df.loc[Sc1_T1_300_error_tfidf_Knei_df['actual'] != Sc1_T1_300_error_tfidf_Knei_df['predicted']].shape"
   ]
  },
  {
   "cell_type": "code",
   "execution_count": 152,
   "metadata": {},
   "outputs": [],
   "source": [
    "Sc1_T1_300_error_tfidf_Knei_df.loc[Sc1_T1_300_error_tfidf_Knei_df['actual'] != Sc1_T1_300_error_tfidf_Knei_df['predicted']].to_csv('./data/Sc1_T1_300_error_tfidf_Knei_df.txt', sep ='\\t')"
   ]
  },
  {
   "cell_type": "code",
   "execution_count": 153,
   "metadata": {},
   "outputs": [
    {
     "data": {
      "text/html": [
       "<div>\n",
       "<style scoped>\n",
       "    .dataframe tbody tr th:only-of-type {\n",
       "        vertical-align: middle;\n",
       "    }\n",
       "\n",
       "    .dataframe tbody tr th {\n",
       "        vertical-align: top;\n",
       "    }\n",
       "\n",
       "    .dataframe thead th {\n",
       "        text-align: right;\n",
       "    }\n",
       "</style>\n",
       "<table border=\"1\" class=\"dataframe\">\n",
       "  <thead>\n",
       "    <tr style=\"text-align: right;\">\n",
       "      <th></th>\n",
       "      <th>full_text</th>\n",
       "      <th>actual</th>\n",
       "      <th>predicted</th>\n",
       "    </tr>\n",
       "  </thead>\n",
       "  <tbody>\n",
       "    <tr>\n",
       "      <th>3</th>\n",
       "      <td>El candidato a la Presidencia de Colombia Gustavo Petro, anunció este viernes que retomará las relaciones diplomáticas con Venezuela si gana las elecciones y llega a la jefatura del Estado colombiano.</td>\n",
       "      <td>neutral</td>\n",
       "      <td>negative</td>\n",
       "    </tr>\n",
       "    <tr>\n",
       "      <th>12</th>\n",
       "      <td>@CNSCColombia @DAFP_COLOMBIA @CRCCol @sgcol @MinTIC_responde @MincienciasCo @INMdeColombia @MinEnergiaCo @ANMColombia @IDEAMColombia @ICACOLOMBIA Estos q controlan procesos de la #CNSC programan pruebas cuando un país está dividido por líderes políticos extremistas en elecciones presidenciales, dónde la fuerzas militares y de  policía no son capaces de mantener el orden público, estas pruebas deben ser después del mierdero</td>\n",
       "      <td>negative</td>\n",
       "      <td>positive</td>\n",
       "    </tr>\n",
       "    <tr>\n",
       "      <th>14</th>\n",
       "      <td>El Tribunal Administrativo de Cundinamarca negó la solicitud de suspensión provisional del Registrador Nacional, Alexander Vega. Sin embargo, decretó unas medidas cautelares para garantizar las elecciones. | A 23 días para la elección presidencial en Colombia, opine. https://t.co/KNA8oitIEa</td>\n",
       "      <td>positive</td>\n",
       "      <td>negative</td>\n",
       "    </tr>\n",
       "    <tr>\n",
       "      <th>16</th>\n",
       "      <td>“Petro ha hecho oferta de indulto a nombre de los narcos. Tiene que aclarar ese negocio”. Incluso afirma que “el Caballo de Troya del narcotráfico en las elecciones en Colombia es Gustavo Petro y su jinete es Iván Cepeda”\\r\\n@AndresPastrana_ https://t.co/ypGm6I2Mxt</td>\n",
       "      <td>negative</td>\n",
       "      <td>neutral</td>\n",
       "    </tr>\n",
       "    <tr>\n",
       "      <th>21</th>\n",
       "      <td>@lauraro Yo vote por el NO y hoy siento que nos podría pasar lo mismo con las próximas elecciones si no actuamos unidos!!\\r\\nDejemos el odio irracional, aquí se trata es de salvar el presente y futuro de Colombia!\\r\\nQuien más se une??</td>\n",
       "      <td>positive</td>\n",
       "      <td>negative</td>\n",
       "    </tr>\n",
       "  </tbody>\n",
       "</table>\n",
       "</div>"
      ],
      "text/plain": [
       "                                                                                                                                                                                                                                                                                                                                                                                                                                     full_text  \\\n",
       "3                                                                                                                                                                                                                                     El candidato a la Presidencia de Colombia Gustavo Petro, anunció este viernes que retomará las relaciones diplomáticas con Venezuela si gana las elecciones y llega a la jefatura del Estado colombiano.   \n",
       "12  @CNSCColombia @DAFP_COLOMBIA @CRCCol @sgcol @MinTIC_responde @MincienciasCo @INMdeColombia @MinEnergiaCo @ANMColombia @IDEAMColombia @ICACOLOMBIA Estos q controlan procesos de la #CNSC programan pruebas cuando un país está dividido por líderes políticos extremistas en elecciones presidenciales, dónde la fuerzas militares y de  policía no son capaces de mantener el orden público, estas pruebas deben ser después del mierdero   \n",
       "14                                                                                                                                         El Tribunal Administrativo de Cundinamarca negó la solicitud de suspensión provisional del Registrador Nacional, Alexander Vega. Sin embargo, decretó unas medidas cautelares para garantizar las elecciones. | A 23 días para la elección presidencial en Colombia, opine. https://t.co/KNA8oitIEa   \n",
       "16                                                                                                                                                                   “Petro ha hecho oferta de indulto a nombre de los narcos. Tiene que aclarar ese negocio”. Incluso afirma que “el Caballo de Troya del narcotráfico en las elecciones en Colombia es Gustavo Petro y su jinete es Iván Cepeda”\\r\\n@AndresPastrana_ https://t.co/ypGm6I2Mxt   \n",
       "21                                                                                                                                                                                                 @lauraro Yo vote por el NO y hoy siento que nos podría pasar lo mismo con las próximas elecciones si no actuamos unidos!!\\r\\nDejemos el odio irracional, aquí se trata es de salvar el presente y futuro de Colombia!\\r\\nQuien más se une??   \n",
       "\n",
       "      actual predicted  \n",
       "3    neutral  negative  \n",
       "12  negative  positive  \n",
       "14  positive  negative  \n",
       "16  negative   neutral  \n",
       "21  positive  negative  "
      ]
     },
     "execution_count": 153,
     "metadata": {},
     "output_type": "execute_result"
    }
   ],
   "source": [
    "Sc1_T1_300_error_tfidf_Knei_df.loc[Sc1_T1_300_error_tfidf_Knei_df['actual'] != Sc1_T1_300_error_tfidf_Knei_df['predicted']].head()"
   ]
  },
  {
   "cell_type": "markdown",
   "metadata": {
    "tags": []
   },
   "source": [
    "## Scenario 2 - Tag correction 0 - Train size 100"
   ]
  },
  {
   "cell_type": "code",
   "execution_count": 154,
   "metadata": {},
   "outputs": [],
   "source": [
    "# the randomstate number ensures that split are reproducible\n",
    "X_Sc2_T0_100_train, X_Sc2_T0_100_test, y_Sc2_T0_100_train, y_Sc2_T0_100_test = train_test_split(removed_neutral_df['full_text'], removed_neutral_df['sentiment'], train_size = 100, stratify = removed_neutral_df['sentiment'], random_state = 1)"
   ]
  },
  {
   "cell_type": "code",
   "execution_count": 155,
   "metadata": {},
   "outputs": [
    {
     "data": {
      "text/plain": [
       "(100,)"
      ]
     },
     "execution_count": 155,
     "metadata": {},
     "output_type": "execute_result"
    }
   ],
   "source": [
    "X_Sc2_T0_100_train.shape"
   ]
  },
  {
   "cell_type": "code",
   "execution_count": 156,
   "metadata": {},
   "outputs": [
    {
     "data": {
      "text/plain": [
       "negative    0.92\n",
       "positive    0.08\n",
       "Name: sentiment, dtype: float64"
      ]
     },
     "execution_count": 156,
     "metadata": {},
     "output_type": "execute_result"
    }
   ],
   "source": [
    "pd.Series(y_Sc2_T0_100_train).value_counts(normalize = True)"
   ]
  },
  {
   "cell_type": "code",
   "execution_count": 157,
   "metadata": {},
   "outputs": [
    {
     "data": {
      "text/plain": [
       "(354,)"
      ]
     },
     "execution_count": 157,
     "metadata": {},
     "output_type": "execute_result"
    }
   ],
   "source": [
    "X_Sc2_T0_100_test.shape"
   ]
  },
  {
   "cell_type": "code",
   "execution_count": 158,
   "metadata": {},
   "outputs": [
    {
     "data": {
      "text/plain": [
       "negative    0.923729\n",
       "positive    0.076271\n",
       "Name: sentiment, dtype: float64"
      ]
     },
     "execution_count": 158,
     "metadata": {},
     "output_type": "execute_result"
    }
   ],
   "source": [
    "pd.Series(y_Sc2_T0_100_test).value_counts(normalize = True)"
   ]
  },
  {
   "cell_type": "code",
   "execution_count": 159,
   "metadata": {},
   "outputs": [],
   "source": [
    "tfidf = TfidfVectorizer(tokenizer = tokenizer, stop_words = stop_words)"
   ]
  },
  {
   "cell_type": "code",
   "execution_count": 160,
   "metadata": {},
   "outputs": [],
   "source": [
    "X_Sc2_T0_100_tfidf = tfidf.fit_transform(X_Sc2_T0_100_train)"
   ]
  },
  {
   "cell_type": "markdown",
   "metadata": {
    "tags": []
   },
   "source": [
    "### Scenario 2 - Tag correction 0 - Train size 100 - Random Forest Classifier"
   ]
  },
  {
   "cell_type": "code",
   "execution_count": 161,
   "metadata": {},
   "outputs": [],
   "source": [
    "# Scenario 2 - Tag correction 0 - Train size 100 - Random Forest Classifier\n",
    "X_Sc2_T0_100_tfidf_Ran_model = RandomForestClassifier()"
   ]
  },
  {
   "cell_type": "code",
   "execution_count": 162,
   "metadata": {},
   "outputs": [
    {
     "data": {
      "text/plain": [
       "RandomForestClassifier()"
      ]
     },
     "execution_count": 162,
     "metadata": {},
     "output_type": "execute_result"
    }
   ],
   "source": [
    "X_Sc2_T0_100_tfidf_Ran_model.fit(X_Sc2_T0_100_tfidf, y_Sc2_T0_100_train)"
   ]
  },
  {
   "cell_type": "code",
   "execution_count": 163,
   "metadata": {},
   "outputs": [],
   "source": [
    "# Scenario 2 - Tag correction 0 - Train size 100 - Random Forest Classifier - tfidf\n",
    "y_Sc2_T0_100_train_tfidf_Ran_predict = X_Sc2_T0_100_tfidf_Ran_model.predict(X_Sc2_T0_100_tfidf)\n",
    "y_Sc2_T0_100_test_tfidf_Ran_predict = X_Sc2_T0_100_tfidf_Ran_model.predict(tfidf.transform(X_Sc2_T0_100_test))"
   ]
  },
  {
   "cell_type": "code",
   "execution_count": 164,
   "metadata": {},
   "outputs": [
    {
     "data": {
      "text/plain": [
       "<sklearn.metrics._plot.confusion_matrix.ConfusionMatrixDisplay at 0x327c9908>"
      ]
     },
     "execution_count": 164,
     "metadata": {},
     "output_type": "execute_result"
    },
    {
     "data": {
      "image/png": "[encoded data removed]",
      "text/plain": [
       "<Figure size 432x288 with 2 Axes>"
      ]
     },
     "metadata": {
      "needs_background": "light"
     },
     "output_type": "display_data"
    }
   ],
   "source": [
    "ConfusionMatrixDisplay.from_predictions(y_Sc2_T0_100_train, y_Sc2_T0_100_train_tfidf_Ran_predict)"
   ]
  },
  {
   "cell_type": "code",
   "execution_count": 165,
   "metadata": {},
   "outputs": [
    {
     "data": {
      "text/plain": [
       "<sklearn.metrics._plot.confusion_matrix.ConfusionMatrixDisplay at 0x328700c8>"
      ]
     },
     "execution_count": 165,
     "metadata": {},
     "output_type": "execute_result"
    },
    {
     "data": {
      "image/png": "[encoded data removed]",
      "text/plain": [
       "<Figure size 432x288 with 2 Axes>"
      ]
     },
     "metadata": {
      "needs_background": "light"
     },
     "output_type": "display_data"
    }
   ],
   "source": [
    "ConfusionMatrixDisplay.from_predictions(y_Sc2_T0_100_test, y_Sc2_T0_100_test_tfidf_Ran_predict)"
   ]
  },
  {
   "cell_type": "code",
   "execution_count": 166,
   "metadata": {},
   "outputs": [
    {
     "name": "stdout",
     "output_type": "stream",
     "text": [
      "Precision: 0.0\n",
      "Recall: 0.0\n",
      "F1: 0.0\n"
     ]
    },
    {
     "name": "stderr",
     "output_type": "stream",
     "text": [
      "c:\\users\\skynet\\appdata\\local\\programs\\python\\python37\\lib\\site-packages\\sklearn\\metrics\\_classification.py:1318: UndefinedMetricWarning: Precision is ill-defined and being set to 0.0 due to no predicted samples. Use `zero_division` parameter to control this behavior.\n",
      "  _warn_prf(average, modifier, msg_start, len(result))\n"
     ]
    }
   ],
   "source": [
    "# Metrics calculation for binary classes\n",
    "print('Precision:', precision_score(y_Sc2_T0_100_test, y_Sc2_T0_100_test_tfidf_Ran_predict, pos_label = 'positive'))\n",
    "print('Recall:', recall_score(y_Sc2_T0_100_test, y_Sc2_T0_100_test_tfidf_Ran_predict, pos_label = 'positive'))\n",
    "print('F1:', f1_score(y_Sc2_T0_100_test, y_Sc2_T0_100_test_tfidf_Ran_predict, pos_label = 'positive'))"
   ]
  },
  {
   "cell_type": "code",
   "execution_count": 167,
   "metadata": {},
   "outputs": [
    {
     "name": "stdout",
     "output_type": "stream",
     "text": [
      "Precision: [0.92372881 0.        ]\n",
      "Recall: [1. 0.]\n",
      "F1: [0.96035242 0.        ]\n"
     ]
    },
    {
     "name": "stderr",
     "output_type": "stream",
     "text": [
      "c:\\users\\skynet\\appdata\\local\\programs\\python\\python37\\lib\\site-packages\\sklearn\\metrics\\_classification.py:1318: UndefinedMetricWarning: Precision is ill-defined and being set to 0.0 in labels with no predicted samples. Use `zero_division` parameter to control this behavior.\n",
      "  _warn_prf(average, modifier, msg_start, len(result))\n"
     ]
    }
   ],
   "source": [
    "# Metrics calculation for more than two classes\n",
    "print('Precision:', precision_score(y_Sc2_T0_100_test, y_Sc2_T0_100_test_tfidf_Ran_predict, average = None))\n",
    "print('Recall:', recall_score(y_Sc2_T0_100_test, y_Sc2_T0_100_test_tfidf_Ran_predict, average = None))\n",
    "print('F1:', f1_score(y_Sc2_T0_100_test, y_Sc2_T0_100_test_tfidf_Ran_predict, average = None))"
   ]
  },
  {
   "cell_type": "code",
   "execution_count": 168,
   "metadata": {},
   "outputs": [],
   "source": [
    "# Scenario 2 - Tag correction 0 - Train size 100 - Random Forest Classifier - tfidf - Analyzing Errors\n",
    "Sc2_T0_100_error_tfidf_Ran_df = pd.concat(\n",
    "    [ pd.concat([X_Sc2_T0_100_test, y_Sc2_T0_100_test], axis = 1).reset_index(),\n",
    "    pd.Series(y_Sc2_T0_100_test_tfidf_Ran_predict) ]\n",
    ", axis = 1).rename(columns = { 'sentiment': 'actual', 0: 'predicted' })\n",
    "\n",
    "Sc2_T0_100_error_tfidf_Ran_df.drop('index', inplace = True, axis = 1)"
   ]
  },
  {
   "cell_type": "code",
   "execution_count": 169,
   "metadata": {},
   "outputs": [
    {
     "data": {
      "text/plain": [
       "(27, 3)"
      ]
     },
     "execution_count": 169,
     "metadata": {},
     "output_type": "execute_result"
    }
   ],
   "source": [
    "Sc2_T0_100_error_tfidf_Ran_df.loc[Sc2_T0_100_error_tfidf_Ran_df['actual'] != Sc2_T0_100_error_tfidf_Ran_df['predicted']].shape"
   ]
  },
  {
   "cell_type": "code",
   "execution_count": 170,
   "metadata": {},
   "outputs": [],
   "source": [
    "Sc2_T0_100_error_tfidf_Ran_df.loc[Sc2_T0_100_error_tfidf_Ran_df['actual'] != Sc2_T0_100_error_tfidf_Ran_df['predicted']].to_csv('./data/Sc2_T0_100_error_tfidf_Ran_df.txt', sep ='\\t')"
   ]
  },
  {
   "cell_type": "code",
   "execution_count": 171,
   "metadata": {},
   "outputs": [
    {
     "data": {
      "text/html": [
       "<div>\n",
       "<style scoped>\n",
       "    .dataframe tbody tr th:only-of-type {\n",
       "        vertical-align: middle;\n",
       "    }\n",
       "\n",
       "    .dataframe tbody tr th {\n",
       "        vertical-align: top;\n",
       "    }\n",
       "\n",
       "    .dataframe thead th {\n",
       "        text-align: right;\n",
       "    }\n",
       "</style>\n",
       "<table border=\"1\" class=\"dataframe\">\n",
       "  <thead>\n",
       "    <tr style=\"text-align: right;\">\n",
       "      <th></th>\n",
       "      <th>full_text</th>\n",
       "      <th>actual</th>\n",
       "      <th>predicted</th>\n",
       "    </tr>\n",
       "  </thead>\n",
       "  <tbody>\n",
       "    <tr>\n",
       "      <th>12</th>\n",
       "      <td>EL órgano de control evaluará los hechos para garantizar la idoneidad de los jurados de votación y lograr unas Elecciones Transparentes.??\\r\\n\\r\\nhttps://t.co/jWAc4byuUL</td>\n",
       "      <td>positive</td>\n",
       "      <td>negative</td>\n",
       "    </tr>\n",
       "    <tr>\n",
       "      <th>23</th>\n",
       "      <td>En el Encuentro conocimos el Informe de Participación Política de las Mujeres en Elecciones 2022.\\r\\n\\r\\nNos complace ver que el @PartidoMIRA sigue siendo un referente de participación política real de la mujer en Colombia ???? @carlos_guevara @Virguez @AnaPaolaAgudelo @aydeelizarazoc https://t.co/5D40b9TSAC</td>\n",
       "      <td>positive</td>\n",
       "      <td>negative</td>\n",
       "    </tr>\n",
       "    <tr>\n",
       "      <th>37</th>\n",
       "      <td>No encontraron otra alternativa que llenar de miedo a Colombia, utilizan sus paramilitares para ganar elecciones. Es ahora o nunca @petrogustavo</td>\n",
       "      <td>positive</td>\n",
       "      <td>negative</td>\n",
       "    </tr>\n",
       "    <tr>\n",
       "      <th>41</th>\n",
       "      <td>Me late que en estas elecciones las mujeres de Colombia somos las que vamos a poner Presidente ?????? #FicoPresidenteEnPrimeraVuelta https://t.co/Kb5EIULNlJ</td>\n",
       "      <td>positive</td>\n",
       "      <td>negative</td>\n",
       "    </tr>\n",
       "    <tr>\n",
       "      <th>80</th>\n",
       "      <td>Hoy amanece colombia secuestrada y sitiada por los amigos de un candidato que lleva las politicas de un expresidente durante los ultimos años y tiene a un pais en jaque!\\r\\nTenemos la posibilidad de salvar a colombia en estas elecciones 2022.\\r\\nTenemos el derecho al cambio y a la paz https://t.co/gf6MHsLrkc</td>\n",
       "      <td>positive</td>\n",
       "      <td>negative</td>\n",
       "    </tr>\n",
       "  </tbody>\n",
       "</table>\n",
       "</div>"
      ],
      "text/plain": [
       "                                                                                                                                                                                                                                                                                                                full_text  \\\n",
       "12                                                                                                                                              EL órgano de control evaluará los hechos para garantizar la idoneidad de los jurados de votación y lograr unas Elecciones Transparentes.??\\r\\n\\r\\nhttps://t.co/jWAc4byuUL   \n",
       "23  En el Encuentro conocimos el Informe de Participación Política de las Mujeres en Elecciones 2022.\\r\\n\\r\\nNos complace ver que el @PartidoMIRA sigue siendo un referente de participación política real de la mujer en Colombia ???? @carlos_guevara @Virguez @AnaPaolaAgudelo @aydeelizarazoc https://t.co/5D40b9TSAC   \n",
       "37                                                                                                                                                                       No encontraron otra alternativa que llenar de miedo a Colombia, utilizan sus paramilitares para ganar elecciones. Es ahora o nunca @petrogustavo   \n",
       "41                                                                                                                                                           Me late que en estas elecciones las mujeres de Colombia somos las que vamos a poner Presidente ?????? #FicoPresidenteEnPrimeraVuelta https://t.co/Kb5EIULNlJ   \n",
       "80  Hoy amanece colombia secuestrada y sitiada por los amigos de un candidato que lleva las politicas de un expresidente durante los ultimos años y tiene a un pais en jaque!\\r\\nTenemos la posibilidad de salvar a colombia en estas elecciones 2022.\\r\\nTenemos el derecho al cambio y a la paz https://t.co/gf6MHsLrkc   \n",
       "\n",
       "      actual predicted  \n",
       "12  positive  negative  \n",
       "23  positive  negative  \n",
       "37  positive  negative  \n",
       "41  positive  negative  \n",
       "80  positive  negative  "
      ]
     },
     "execution_count": 171,
     "metadata": {},
     "output_type": "execute_result"
    }
   ],
   "source": [
    "Sc2_T0_100_error_tfidf_Ran_df.loc[Sc2_T0_100_error_tfidf_Ran_df['actual'] != Sc2_T0_100_error_tfidf_Ran_df['predicted']].head()"
   ]
  },
  {
   "cell_type": "markdown",
   "metadata": {
    "tags": []
   },
   "source": [
    "### Scenario 2 - Tag correction 0 - Train size 100 - KNeighbors Classifier"
   ]
  },
  {
   "cell_type": "code",
   "execution_count": 172,
   "metadata": {},
   "outputs": [],
   "source": [
    "# Scenario 2 - Tag correction 0 - Train size 100 - KNeighbors Classifier\n",
    "X_Sc2_T0_100_tfidf_Knei_model = KNeighborsClassifier(n_neighbors=3)"
   ]
  },
  {
   "cell_type": "code",
   "execution_count": 173,
   "metadata": {},
   "outputs": [
    {
     "data": {
      "text/plain": [
       "KNeighborsClassifier(n_neighbors=3)"
      ]
     },
     "execution_count": 173,
     "metadata": {},
     "output_type": "execute_result"
    }
   ],
   "source": [
    "X_Sc2_T0_100_tfidf_Knei_model.fit(X_Sc2_T0_100_tfidf, y_Sc2_T0_100_train)"
   ]
  },
  {
   "cell_type": "code",
   "execution_count": 174,
   "metadata": {},
   "outputs": [],
   "source": [
    "# Scenario 2 - Tag correction 0 - Train size 100 - KNeighbors Classifier - tfidf\n",
    "y_Sc2_T0_100_train_tfidf_Knei_predict = X_Sc2_T0_100_tfidf_Knei_model.predict(X_Sc2_T0_100_tfidf)\n",
    "y_Sc2_T0_100_test_tfidf_Knei_predict = X_Sc2_T0_100_tfidf_Knei_model.predict(tfidf.transform(X_Sc2_T0_100_test))"
   ]
  },
  {
   "cell_type": "code",
   "execution_count": 175,
   "metadata": {},
   "outputs": [
    {
     "data": {
      "text/plain": [
       "<sklearn.metrics._plot.confusion_matrix.ConfusionMatrixDisplay at 0x32909f08>"
      ]
     },
     "execution_count": 175,
     "metadata": {},
     "output_type": "execute_result"
    },
    {
     "data": {
      "image/png": "[encoded data removed]",
      "text/plain": [
       "<Figure size 432x288 with 2 Axes>"
      ]
     },
     "metadata": {
      "needs_background": "light"
     },
     "output_type": "display_data"
    }
   ],
   "source": [
    "ConfusionMatrixDisplay.from_predictions(y_Sc2_T0_100_train, y_Sc2_T0_100_train_tfidf_Knei_predict)"
   ]
  },
  {
   "cell_type": "code",
   "execution_count": 176,
   "metadata": {},
   "outputs": [
    {
     "data": {
      "text/plain": [
       "<sklearn.metrics._plot.confusion_matrix.ConfusionMatrixDisplay at 0x327b4f88>"
      ]
     },
     "execution_count": 176,
     "metadata": {},
     "output_type": "execute_result"
    },
    {
     "data": {
      "image/png": "[encoded data removed]",
      "text/plain": [
       "<Figure size 432x288 with 2 Axes>"
      ]
     },
     "metadata": {
      "needs_background": "light"
     },
     "output_type": "display_data"
    }
   ],
   "source": [
    "ConfusionMatrixDisplay.from_predictions(y_Sc2_T0_100_test, y_Sc2_T0_100_test_tfidf_Knei_predict)"
   ]
  },
  {
   "cell_type": "code",
   "execution_count": 177,
   "metadata": {},
   "outputs": [
    {
     "name": "stdout",
     "output_type": "stream",
     "text": [
      "Precision: 0.5\n",
      "Recall: 0.037037037037037035\n",
      "F1: 0.06896551724137931\n"
     ]
    }
   ],
   "source": [
    "# Metrics calculation for binary classes\n",
    "print('Precision:', precision_score(y_Sc2_T0_100_test, y_Sc2_T0_100_test_tfidf_Knei_predict, pos_label = 'positive'))\n",
    "print('Recall:', recall_score(y_Sc2_T0_100_test, y_Sc2_T0_100_test_tfidf_Knei_predict, pos_label = 'positive'))\n",
    "print('F1:', f1_score(y_Sc2_T0_100_test, y_Sc2_T0_100_test_tfidf_Knei_predict, pos_label = 'positive'))"
   ]
  },
  {
   "cell_type": "code",
   "execution_count": 178,
   "metadata": {},
   "outputs": [
    {
     "name": "stdout",
     "output_type": "stream",
     "text": [
      "Precision: [0.92613636 0.5       ]\n",
      "Recall: [0.9969419  0.03703704]\n",
      "F1: [0.96023564 0.06896552]\n"
     ]
    }
   ],
   "source": [
    "# Metrics calculation for more than two classes\n",
    "print('Precision:', precision_score(y_Sc2_T0_100_test, y_Sc2_T0_100_test_tfidf_Knei_predict, average = None))\n",
    "print('Recall:', recall_score(y_Sc2_T0_100_test, y_Sc2_T0_100_test_tfidf_Knei_predict, average = None))\n",
    "print('F1:', f1_score(y_Sc2_T0_100_test, y_Sc2_T0_100_test_tfidf_Knei_predict, average = None))"
   ]
  },
  {
   "cell_type": "code",
   "execution_count": 179,
   "metadata": {},
   "outputs": [],
   "source": [
    "# Scenario 2 - Tag correction 0 - Train size 100 - KNeighbors Classifier - tfidf - Analyzing Errors\n",
    "Sc2_T0_100_error_tfidf_Knei_df = pd.concat(\n",
    "    [ pd.concat([X_Sc2_T0_100_test, y_Sc2_T0_100_test], axis = 1).reset_index(),\n",
    "    pd.Series(y_Sc2_T0_100_test_tfidf_Knei_predict) ]\n",
    ", axis = 1).rename(columns = { 'sentiment': 'actual', 0: 'predicted' })\n",
    "\n",
    "Sc2_T0_100_error_tfidf_Knei_df.drop('index', inplace = True, axis = 1)"
   ]
  },
  {
   "cell_type": "code",
   "execution_count": 180,
   "metadata": {},
   "outputs": [
    {
     "data": {
      "text/plain": [
       "(27, 3)"
      ]
     },
     "execution_count": 180,
     "metadata": {},
     "output_type": "execute_result"
    }
   ],
   "source": [
    "Sc2_T0_100_error_tfidf_Knei_df.loc[Sc2_T0_100_error_tfidf_Knei_df['actual'] != Sc2_T0_100_error_tfidf_Knei_df['predicted']].shape"
   ]
  },
  {
   "cell_type": "code",
   "execution_count": 181,
   "metadata": {},
   "outputs": [],
   "source": [
    "Sc2_T0_100_error_tfidf_Knei_df.loc[Sc2_T0_100_error_tfidf_Knei_df['actual'] != Sc2_T0_100_error_tfidf_Knei_df['predicted']].to_csv('./data/Sc2_T0_100_error_tfidf_Knei_df.txt', sep ='\\t')"
   ]
  },
  {
   "cell_type": "code",
   "execution_count": 182,
   "metadata": {},
   "outputs": [
    {
     "data": {
      "text/html": [
       "<div>\n",
       "<style scoped>\n",
       "    .dataframe tbody tr th:only-of-type {\n",
       "        vertical-align: middle;\n",
       "    }\n",
       "\n",
       "    .dataframe tbody tr th {\n",
       "        vertical-align: top;\n",
       "    }\n",
       "\n",
       "    .dataframe thead th {\n",
       "        text-align: right;\n",
       "    }\n",
       "</style>\n",
       "<table border=\"1\" class=\"dataframe\">\n",
       "  <thead>\n",
       "    <tr style=\"text-align: right;\">\n",
       "      <th></th>\n",
       "      <th>full_text</th>\n",
       "      <th>actual</th>\n",
       "      <th>predicted</th>\n",
       "    </tr>\n",
       "  </thead>\n",
       "  <tbody>\n",
       "    <tr>\n",
       "      <th>12</th>\n",
       "      <td>EL órgano de control evaluará los hechos para garantizar la idoneidad de los jurados de votación y lograr unas Elecciones Transparentes.??\\r\\n\\r\\nhttps://t.co/jWAc4byuUL</td>\n",
       "      <td>positive</td>\n",
       "      <td>negative</td>\n",
       "    </tr>\n",
       "    <tr>\n",
       "      <th>23</th>\n",
       "      <td>En el Encuentro conocimos el Informe de Participación Política de las Mujeres en Elecciones 2022.\\r\\n\\r\\nNos complace ver que el @PartidoMIRA sigue siendo un referente de participación política real de la mujer en Colombia ???? @carlos_guevara @Virguez @AnaPaolaAgudelo @aydeelizarazoc https://t.co/5D40b9TSAC</td>\n",
       "      <td>positive</td>\n",
       "      <td>negative</td>\n",
       "    </tr>\n",
       "    <tr>\n",
       "      <th>37</th>\n",
       "      <td>No encontraron otra alternativa que llenar de miedo a Colombia, utilizan sus paramilitares para ganar elecciones. Es ahora o nunca @petrogustavo</td>\n",
       "      <td>positive</td>\n",
       "      <td>negative</td>\n",
       "    </tr>\n",
       "    <tr>\n",
       "      <th>41</th>\n",
       "      <td>Me late que en estas elecciones las mujeres de Colombia somos las que vamos a poner Presidente ?????? #FicoPresidenteEnPrimeraVuelta https://t.co/Kb5EIULNlJ</td>\n",
       "      <td>positive</td>\n",
       "      <td>negative</td>\n",
       "    </tr>\n",
       "    <tr>\n",
       "      <th>80</th>\n",
       "      <td>Hoy amanece colombia secuestrada y sitiada por los amigos de un candidato que lleva las politicas de un expresidente durante los ultimos años y tiene a un pais en jaque!\\r\\nTenemos la posibilidad de salvar a colombia en estas elecciones 2022.\\r\\nTenemos el derecho al cambio y a la paz https://t.co/gf6MHsLrkc</td>\n",
       "      <td>positive</td>\n",
       "      <td>negative</td>\n",
       "    </tr>\n",
       "  </tbody>\n",
       "</table>\n",
       "</div>"
      ],
      "text/plain": [
       "                                                                                                                                                                                                                                                                                                                full_text  \\\n",
       "12                                                                                                                                              EL órgano de control evaluará los hechos para garantizar la idoneidad de los jurados de votación y lograr unas Elecciones Transparentes.??\\r\\n\\r\\nhttps://t.co/jWAc4byuUL   \n",
       "23  En el Encuentro conocimos el Informe de Participación Política de las Mujeres en Elecciones 2022.\\r\\n\\r\\nNos complace ver que el @PartidoMIRA sigue siendo un referente de participación política real de la mujer en Colombia ???? @carlos_guevara @Virguez @AnaPaolaAgudelo @aydeelizarazoc https://t.co/5D40b9TSAC   \n",
       "37                                                                                                                                                                       No encontraron otra alternativa que llenar de miedo a Colombia, utilizan sus paramilitares para ganar elecciones. Es ahora o nunca @petrogustavo   \n",
       "41                                                                                                                                                           Me late que en estas elecciones las mujeres de Colombia somos las que vamos a poner Presidente ?????? #FicoPresidenteEnPrimeraVuelta https://t.co/Kb5EIULNlJ   \n",
       "80  Hoy amanece colombia secuestrada y sitiada por los amigos de un candidato que lleva las politicas de un expresidente durante los ultimos años y tiene a un pais en jaque!\\r\\nTenemos la posibilidad de salvar a colombia en estas elecciones 2022.\\r\\nTenemos el derecho al cambio y a la paz https://t.co/gf6MHsLrkc   \n",
       "\n",
       "      actual predicted  \n",
       "12  positive  negative  \n",
       "23  positive  negative  \n",
       "37  positive  negative  \n",
       "41  positive  negative  \n",
       "80  positive  negative  "
      ]
     },
     "execution_count": 182,
     "metadata": {},
     "output_type": "execute_result"
    }
   ],
   "source": [
    "Sc2_T0_100_error_tfidf_Knei_df.loc[Sc2_T0_100_error_tfidf_Knei_df['actual'] != Sc2_T0_100_error_tfidf_Knei_df['predicted']].head()"
   ]
  },
  {
   "cell_type": "markdown",
   "metadata": {
    "tags": []
   },
   "source": [
    "## Scenario 2 - Tag correction 1 - Train size 100"
   ]
  },
  {
   "cell_type": "markdown",
   "metadata": {
    "tags": []
   },
   "source": [
    "### Scenario 2 - Tag correction 1 - Train size 100 - Random Forest Classifier"
   ]
  },
  {
   "cell_type": "code",
   "execution_count": 183,
   "metadata": {},
   "outputs": [],
   "source": [
    "Sc2_T1_100_tfidf_Ran_df = pd.read_csv('./data/Sc2_T1_100_tfidf_Ran_df.txt', sep = '\\t')"
   ]
  },
  {
   "cell_type": "code",
   "execution_count": 184,
   "metadata": {},
   "outputs": [
    {
     "data": {
      "text/plain": [
       "negative    0.92511\n",
       "positive    0.07489\n",
       "Name: sentiment, dtype: float64"
      ]
     },
     "execution_count": 184,
     "metadata": {},
     "output_type": "execute_result"
    }
   ],
   "source": [
    "Sc2_T1_100_tfidf_Ran_df['sentiment'].value_counts(dropna = False, normalize = True)"
   ]
  },
  {
   "cell_type": "code",
   "execution_count": 185,
   "metadata": {},
   "outputs": [
    {
     "data": {
      "text/html": [
       "<div>\n",
       "<style scoped>\n",
       "    .dataframe tbody tr th:only-of-type {\n",
       "        vertical-align: middle;\n",
       "    }\n",
       "\n",
       "    .dataframe tbody tr th {\n",
       "        vertical-align: top;\n",
       "    }\n",
       "\n",
       "    .dataframe thead th {\n",
       "        text-align: right;\n",
       "    }\n",
       "</style>\n",
       "<table border=\"1\" class=\"dataframe\">\n",
       "  <thead>\n",
       "    <tr style=\"text-align: right;\">\n",
       "      <th></th>\n",
       "      <th>id</th>\n",
       "      <th>full_text</th>\n",
       "      <th>sentiment</th>\n",
       "      <th>emotion</th>\n",
       "    </tr>\n",
       "  </thead>\n",
       "  <tbody>\n",
       "    <tr>\n",
       "      <th>0</th>\n",
       "      <td>1</td>\n",
       "      <td>@IvanDuque Sus socios de las AGC tienen este platanal vuelto mierda, pero no haces nada, usted inservible, ha logrado la peor inflación en Colombia y solo pública maricadas sin sentido, se robó las elecciones para entregar el país, valiente idiota tenemos de presidente.</td>\n",
       "      <td>negative</td>\n",
       "      <td>anger</td>\n",
       "    </tr>\n",
       "    <tr>\n",
       "      <th>1</th>\n",
       "      <td>2</td>\n",
       "      <td>@AlvaroUribeVel Ellos también celebran por que Maduro PetroGustavo Ivan Cepeda Timo Teodora Bobolivar entre muchos más sufren  de insomnio.\\r\\nUribe Velez Alvarito no los deja dormir\\r\\nEl enemigo para las elecciones no es Fico.... Sino el Excelentísimo y más Grande Presidente que ha tenido Colombia</td>\n",
       "      <td>negative</td>\n",
       "      <td>anger</td>\n",
       "    </tr>\n",
       "    <tr>\n",
       "      <th>2</th>\n",
       "      <td>3</td>\n",
       "      <td>@PDleh @cokycafe @PGN_COL En Colombia existen miles de leyes para controlar los funcionarios públicos pero a la hora de aplicarlas \"se les olvida que existen\". ¿Que más pruebas quieren? ¿Porque avalan unas elecciones, las del 13 de marzo, donde pado de todo lo que no debía de pasar? Escuchamos  respuestas</td>\n",
       "      <td>negative</td>\n",
       "      <td>anger</td>\n",
       "    </tr>\n",
       "    <tr>\n",
       "      <th>3</th>\n",
       "      <td>4</td>\n",
       "      <td>Petro ahora es el Capitán América o mejor dicho el Capitán Colombia de ganar las elecciones. No soltara el escudo ni para dormir ?? https://t.co/k56Dv7id1J</td>\n",
       "      <td>negative</td>\n",
       "      <td>joy</td>\n",
       "    </tr>\n",
       "    <tr>\n",
       "      <th>4</th>\n",
       "      <td>5</td>\n",
       "      <td>#OtraPregunta \\r\\n\"Petro promete reanudar relaciones diplomáticas con Maduro si gana elecciones en Colombia\"...\\r\\nEsto no pinta nada bien... y si además gana Lula en Brasil...\\r\\n¿Esto como que va para largo? https://t.co/wpQsl5KoRe</td>\n",
       "      <td>negative</td>\n",
       "      <td>fear</td>\n",
       "    </tr>\n",
       "  </tbody>\n",
       "</table>\n",
       "</div>"
      ],
      "text/plain": [
       "   id  \\\n",
       "0   1   \n",
       "1   2   \n",
       "2   3   \n",
       "3   4   \n",
       "4   5   \n",
       "\n",
       "                                                                                                                                                                                                                                                                                                            full_text  \\\n",
       "0                                      @IvanDuque Sus socios de las AGC tienen este platanal vuelto mierda, pero no haces nada, usted inservible, ha logrado la peor inflación en Colombia y solo pública maricadas sin sentido, se robó las elecciones para entregar el país, valiente idiota tenemos de presidente.   \n",
       "1        @AlvaroUribeVel Ellos también celebran por que Maduro PetroGustavo Ivan Cepeda Timo Teodora Bobolivar entre muchos más sufren  de insomnio.\\r\\nUribe Velez Alvarito no los deja dormir\\r\\nEl enemigo para las elecciones no es Fico.... Sino el Excelentísimo y más Grande Presidente que ha tenido Colombia   \n",
       "2  @PDleh @cokycafe @PGN_COL En Colombia existen miles de leyes para controlar los funcionarios públicos pero a la hora de aplicarlas \"se les olvida que existen\". ¿Que más pruebas quieren? ¿Porque avalan unas elecciones, las del 13 de marzo, donde pado de todo lo que no debía de pasar? Escuchamos  respuestas   \n",
       "3                                                                                                                                                         Petro ahora es el Capitán América o mejor dicho el Capitán Colombia de ganar las elecciones. No soltara el escudo ni para dormir ?? https://t.co/k56Dv7id1J   \n",
       "4                                                                           #OtraPregunta \\r\\n\"Petro promete reanudar relaciones diplomáticas con Maduro si gana elecciones en Colombia\"...\\r\\nEsto no pinta nada bien... y si además gana Lula en Brasil...\\r\\n¿Esto como que va para largo? https://t.co/wpQsl5KoRe   \n",
       "\n",
       "  sentiment emotion  \n",
       "0  negative   anger  \n",
       "1  negative   anger  \n",
       "2  negative   anger  \n",
       "3  negative     joy  \n",
       "4  negative    fear  "
      ]
     },
     "execution_count": 185,
     "metadata": {},
     "output_type": "execute_result"
    }
   ],
   "source": [
    "Sc2_T1_100_tfidf_Ran_df.head()"
   ]
  },
  {
   "cell_type": "code",
   "execution_count": 186,
   "metadata": {},
   "outputs": [],
   "source": [
    "# the randomstate number ensures that split are reproducible\n",
    "X_Sc2_T1_100_train, X_Sc2_T1_100_test, y_Sc2_T1_100_train, y_Sc2_T1_100_test = train_test_split(Sc2_T1_100_tfidf_Ran_df['full_text'], Sc2_T1_100_tfidf_Ran_df['sentiment'], train_size = 100, stratify = Sc2_T1_100_tfidf_Ran_df['sentiment'], random_state = 1)"
   ]
  },
  {
   "cell_type": "code",
   "execution_count": 187,
   "metadata": {},
   "outputs": [
    {
     "data": {
      "text/plain": [
       "(100,)"
      ]
     },
     "execution_count": 187,
     "metadata": {},
     "output_type": "execute_result"
    }
   ],
   "source": [
    "X_Sc2_T1_100_train.shape"
   ]
  },
  {
   "cell_type": "code",
   "execution_count": 188,
   "metadata": {},
   "outputs": [
    {
     "data": {
      "text/plain": [
       "negative    0.93\n",
       "positive    0.07\n",
       "Name: sentiment, dtype: float64"
      ]
     },
     "execution_count": 188,
     "metadata": {},
     "output_type": "execute_result"
    }
   ],
   "source": [
    "pd.Series(y_Sc2_T1_100_train).value_counts(normalize = True)"
   ]
  },
  {
   "cell_type": "code",
   "execution_count": 189,
   "metadata": {},
   "outputs": [
    {
     "data": {
      "text/plain": [
       "(354,)"
      ]
     },
     "execution_count": 189,
     "metadata": {},
     "output_type": "execute_result"
    }
   ],
   "source": [
    "X_Sc2_T1_100_test.shape"
   ]
  },
  {
   "cell_type": "code",
   "execution_count": 190,
   "metadata": {},
   "outputs": [
    {
     "data": {
      "text/plain": [
       "negative    0.923729\n",
       "positive    0.076271\n",
       "Name: sentiment, dtype: float64"
      ]
     },
     "execution_count": 190,
     "metadata": {},
     "output_type": "execute_result"
    }
   ],
   "source": [
    "pd.Series(y_Sc2_T1_100_test).value_counts(normalize = True)"
   ]
  },
  {
   "cell_type": "code",
   "execution_count": 191,
   "metadata": {},
   "outputs": [],
   "source": [
    "X_Sc2_T1_100_tfidf = tfidf.fit_transform(X_Sc2_T1_100_train)"
   ]
  },
  {
   "cell_type": "code",
   "execution_count": 192,
   "metadata": {},
   "outputs": [],
   "source": [
    "# Scenario 2 - Tag correction 0 - Train size 100 - Random Forest Classifier\n",
    "X_Sc2_T1_100_tfidf_Ran_model = RandomForestClassifier()"
   ]
  },
  {
   "cell_type": "code",
   "execution_count": 193,
   "metadata": {},
   "outputs": [
    {
     "data": {
      "text/plain": [
       "RandomForestClassifier()"
      ]
     },
     "execution_count": 193,
     "metadata": {},
     "output_type": "execute_result"
    }
   ],
   "source": [
    "X_Sc2_T1_100_tfidf_Ran_model.fit(X_Sc2_T1_100_tfidf, y_Sc2_T1_100_train)"
   ]
  },
  {
   "cell_type": "code",
   "execution_count": 194,
   "metadata": {},
   "outputs": [],
   "source": [
    "# Scenario 2 - Tag correction 0 - Train size 100 - Random Forest Classifier - TF-IDF\n",
    "y_Sc2_T1_100_train_tfidf_Ran_predict = X_Sc2_T1_100_tfidf_Ran_model.predict(X_Sc2_T1_100_tfidf)\n",
    "y_Sc2_T1_100_test_tfidf_Ran_predict = X_Sc2_T1_100_tfidf_Ran_model.predict(tfidf.transform(X_Sc2_T1_100_test))"
   ]
  },
  {
   "cell_type": "code",
   "execution_count": 195,
   "metadata": {},
   "outputs": [
    {
     "data": {
      "text/plain": [
       "<sklearn.metrics._plot.confusion_matrix.ConfusionMatrixDisplay at 0x32f29208>"
      ]
     },
     "execution_count": 195,
     "metadata": {},
     "output_type": "execute_result"
    },
    {
     "data": {
      "image/png": "[encoded data removed]",
      "text/plain": [
       "<Figure size 432x288 with 2 Axes>"
      ]
     },
     "metadata": {
      "needs_background": "light"
     },
     "output_type": "display_data"
    }
   ],
   "source": [
    "ConfusionMatrixDisplay.from_predictions(y_Sc2_T1_100_train, y_Sc2_T1_100_train_tfidf_Ran_predict)"
   ]
  },
  {
   "cell_type": "code",
   "execution_count": 196,
   "metadata": {},
   "outputs": [
    {
     "data": {
      "text/plain": [
       "<sklearn.metrics._plot.confusion_matrix.ConfusionMatrixDisplay at 0x3308d488>"
      ]
     },
     "execution_count": 196,
     "metadata": {},
     "output_type": "execute_result"
    },
    {
     "data": {
      "image/png": "[encoded data removed]",
      "text/plain": [
       "<Figure size 432x288 with 2 Axes>"
      ]
     },
     "metadata": {
      "needs_background": "light"
     },
     "output_type": "display_data"
    }
   ],
   "source": [
    "ConfusionMatrixDisplay.from_predictions(y_Sc2_T1_100_test, y_Sc2_T1_100_test_tfidf_Ran_predict)"
   ]
  },
  {
   "cell_type": "code",
   "execution_count": 197,
   "metadata": {},
   "outputs": [
    {
     "name": "stdout",
     "output_type": "stream",
     "text": [
      "Precision: 0.0\n",
      "Recall: 0.0\n",
      "F1: 0.0\n"
     ]
    },
    {
     "name": "stderr",
     "output_type": "stream",
     "text": [
      "c:\\users\\skynet\\appdata\\local\\programs\\python\\python37\\lib\\site-packages\\sklearn\\metrics\\_classification.py:1318: UndefinedMetricWarning: Precision is ill-defined and being set to 0.0 due to no predicted samples. Use `zero_division` parameter to control this behavior.\n",
      "  _warn_prf(average, modifier, msg_start, len(result))\n"
     ]
    }
   ],
   "source": [
    "# Metrics calculation for binary classes\n",
    "print('Precision:', precision_score(y_Sc2_T1_100_test, y_Sc2_T1_100_test_tfidf_Ran_predict, pos_label = 'positive'))\n",
    "print('Recall:', recall_score(y_Sc2_T1_100_test, y_Sc2_T1_100_test_tfidf_Ran_predict, pos_label = 'positive'))\n",
    "print('F1:', f1_score(y_Sc2_T1_100_test, y_Sc2_T1_100_test_tfidf_Ran_predict, pos_label = 'positive'))"
   ]
  },
  {
   "cell_type": "code",
   "execution_count": 198,
   "metadata": {},
   "outputs": [
    {
     "name": "stdout",
     "output_type": "stream",
     "text": [
      "Precision: [0.92372881 0.        ]\n",
      "Recall: [1. 0.]\n",
      "F1: [0.96035242 0.        ]\n"
     ]
    },
    {
     "name": "stderr",
     "output_type": "stream",
     "text": [
      "c:\\users\\skynet\\appdata\\local\\programs\\python\\python37\\lib\\site-packages\\sklearn\\metrics\\_classification.py:1318: UndefinedMetricWarning: Precision is ill-defined and being set to 0.0 in labels with no predicted samples. Use `zero_division` parameter to control this behavior.\n",
      "  _warn_prf(average, modifier, msg_start, len(result))\n"
     ]
    }
   ],
   "source": [
    "# Metrics calculation for more than two classes\n",
    "print('Precision:', precision_score(y_Sc2_T1_100_test, y_Sc2_T1_100_test_tfidf_Ran_predict, average = None))\n",
    "print('Recall:', recall_score(y_Sc2_T1_100_test, y_Sc2_T1_100_test_tfidf_Ran_predict, average = None))\n",
    "print('F1:', f1_score(y_Sc2_T1_100_test, y_Sc2_T1_100_test_tfidf_Ran_predict, average = None))"
   ]
  },
  {
   "cell_type": "code",
   "execution_count": 199,
   "metadata": {},
   "outputs": [],
   "source": [
    "# Scenario 2 - Tag correction 0 - Train size 100 - Random Forest Classifier - TF-IDF - Analyzing Errors\n",
    "Sc2_T1_100_error_tfidf_Ran_df = pd.concat(\n",
    "    [ pd.concat([X_Sc2_T1_100_test, y_Sc2_T1_100_test], axis = 1).reset_index(),\n",
    "    pd.Series(y_Sc2_T1_100_test_tfidf_Ran_predict) ]\n",
    ", axis = 1).rename(columns = { 'sentiment': 'actual', 0: 'predicted' })\n",
    "\n",
    "Sc2_T1_100_error_tfidf_Ran_df.drop('index', inplace = True, axis = 1)"
   ]
  },
  {
   "cell_type": "code",
   "execution_count": 200,
   "metadata": {},
   "outputs": [
    {
     "data": {
      "text/plain": [
       "(27, 3)"
      ]
     },
     "execution_count": 200,
     "metadata": {},
     "output_type": "execute_result"
    }
   ],
   "source": [
    "Sc2_T1_100_error_tfidf_Ran_df.loc[Sc2_T1_100_error_tfidf_Ran_df['actual'] != Sc2_T1_100_error_tfidf_Ran_df['predicted']].shape"
   ]
  },
  {
   "cell_type": "code",
   "execution_count": 201,
   "metadata": {},
   "outputs": [],
   "source": [
    "Sc2_T1_100_error_tfidf_Ran_df.loc[Sc2_T1_100_error_tfidf_Ran_df['actual'] != Sc2_T1_100_error_tfidf_Ran_df['predicted']].to_csv('./data/Sc2_T1_100_error_tfidf_Ran_df.txt', sep ='\\t')"
   ]
  },
  {
   "cell_type": "code",
   "execution_count": 202,
   "metadata": {},
   "outputs": [
    {
     "data": {
      "text/html": [
       "<div>\n",
       "<style scoped>\n",
       "    .dataframe tbody tr th:only-of-type {\n",
       "        vertical-align: middle;\n",
       "    }\n",
       "\n",
       "    .dataframe tbody tr th {\n",
       "        vertical-align: top;\n",
       "    }\n",
       "\n",
       "    .dataframe thead th {\n",
       "        text-align: right;\n",
       "    }\n",
       "</style>\n",
       "<table border=\"1\" class=\"dataframe\">\n",
       "  <thead>\n",
       "    <tr style=\"text-align: right;\">\n",
       "      <th></th>\n",
       "      <th>full_text</th>\n",
       "      <th>actual</th>\n",
       "      <th>predicted</th>\n",
       "    </tr>\n",
       "  </thead>\n",
       "  <tbody>\n",
       "    <tr>\n",
       "      <th>12</th>\n",
       "      <td>@montanertwiter Te pido que ores con todo tu corazón por el bien de Colombia, para que no nos caigamos en desgracia en las próximas elecciones. Gracias ????</td>\n",
       "      <td>positive</td>\n",
       "      <td>negative</td>\n",
       "    </tr>\n",
       "    <tr>\n",
       "      <th>23</th>\n",
       "      <td>AMÉRICA LATINA\\r\\nGolpe al uribismo y avance de la izquierda\\r\\na semanas de las elecciones en Colombia - \\r\\nhttps://t.co/DsJ3kKO3b6</td>\n",
       "      <td>positive</td>\n",
       "      <td>negative</td>\n",
       "    </tr>\n",
       "    <tr>\n",
       "      <th>37</th>\n",
       "      <td>No encontraron otra alternativa que llenar de miedo a Colombia, utilizan sus paramilitares para ganar elecciones. Es ahora o nunca @petrogustavo</td>\n",
       "      <td>positive</td>\n",
       "      <td>negative</td>\n",
       "    </tr>\n",
       "    <tr>\n",
       "      <th>41</th>\n",
       "      <td>Mi match electoral no puede ser más cierto ???? @sergio_fajardo  ¡vamos con toda! ?? #MatchElectoral  \\r\\n\\r\\nPara conocer quién sería su match más acorde a sus posturas económicas y sociales para la presidencia: https://t.co/Hb5yhh8elH y mandan fotico a ver que les sale ???? https://t.co/NG4X9fRwCa</td>\n",
       "      <td>positive</td>\n",
       "      <td>negative</td>\n",
       "    </tr>\n",
       "    <tr>\n",
       "      <th>80</th>\n",
       "      <td>@CCSILVA86 @jlreales @Lolita_Celedon @petrogustavo Quien llena, llena antes, durante o despues del festival, eso no es nuevo para la campaña de Petro quien vienes desde las elecciones pasadas llenando plazas en toda Colombia.</td>\n",
       "      <td>positive</td>\n",
       "      <td>negative</td>\n",
       "    </tr>\n",
       "  </tbody>\n",
       "</table>\n",
       "</div>"
      ],
      "text/plain": [
       "                                                                                                                                                                                                                                                                                                       full_text  \\\n",
       "12                                                                                                                                                  @montanertwiter Te pido que ores con todo tu corazón por el bien de Colombia, para que no nos caigamos en desgracia en las próximas elecciones. Gracias ????   \n",
       "23                                                                                                                                                                         AMÉRICA LATINA\\r\\nGolpe al uribismo y avance de la izquierda\\r\\na semanas de las elecciones en Colombia - \\r\\nhttps://t.co/DsJ3kKO3b6   \n",
       "37                                                                                                                                                              No encontraron otra alternativa que llenar de miedo a Colombia, utilizan sus paramilitares para ganar elecciones. Es ahora o nunca @petrogustavo   \n",
       "41  Mi match electoral no puede ser más cierto ???? @sergio_fajardo  ¡vamos con toda! ?? #MatchElectoral  \\r\\n\\r\\nPara conocer quién sería su match más acorde a sus posturas económicas y sociales para la presidencia: https://t.co/Hb5yhh8elH y mandan fotico a ver que les sale ???? https://t.co/NG4X9fRwCa   \n",
       "80                                                                             @CCSILVA86 @jlreales @Lolita_Celedon @petrogustavo Quien llena, llena antes, durante o despues del festival, eso no es nuevo para la campaña de Petro quien vienes desde las elecciones pasadas llenando plazas en toda Colombia.   \n",
       "\n",
       "      actual predicted  \n",
       "12  positive  negative  \n",
       "23  positive  negative  \n",
       "37  positive  negative  \n",
       "41  positive  negative  \n",
       "80  positive  negative  "
      ]
     },
     "execution_count": 202,
     "metadata": {},
     "output_type": "execute_result"
    }
   ],
   "source": [
    "Sc2_T1_100_error_tfidf_Ran_df.loc[Sc2_T1_100_error_tfidf_Ran_df['actual'] != Sc2_T1_100_error_tfidf_Ran_df['predicted']].head()"
   ]
  },
  {
   "cell_type": "markdown",
   "metadata": {
    "tags": []
   },
   "source": [
    "### Scenario 2 - Tag correction 1 - Train size 100 - KNeighbors Classifier"
   ]
  },
  {
   "cell_type": "code",
   "execution_count": 203,
   "metadata": {},
   "outputs": [],
   "source": [
    "Sc2_T1_100_tfidf_Knei_df = pd.read_csv('./data/Sc2_T1_100_tfidf_Knei_df.txt', sep = '\\t')"
   ]
  },
  {
   "cell_type": "code",
   "execution_count": 204,
   "metadata": {},
   "outputs": [
    {
     "data": {
      "text/plain": [
       "negative    0.92511\n",
       "positive    0.07489\n",
       "Name: sentiment, dtype: float64"
      ]
     },
     "execution_count": 204,
     "metadata": {},
     "output_type": "execute_result"
    }
   ],
   "source": [
    "Sc2_T1_100_tfidf_Knei_df['sentiment'].value_counts(dropna = False, normalize = True)"
   ]
  },
  {
   "cell_type": "code",
   "execution_count": 205,
   "metadata": {},
   "outputs": [
    {
     "data": {
      "text/html": [
       "<div>\n",
       "<style scoped>\n",
       "    .dataframe tbody tr th:only-of-type {\n",
       "        vertical-align: middle;\n",
       "    }\n",
       "\n",
       "    .dataframe tbody tr th {\n",
       "        vertical-align: top;\n",
       "    }\n",
       "\n",
       "    .dataframe thead th {\n",
       "        text-align: right;\n",
       "    }\n",
       "</style>\n",
       "<table border=\"1\" class=\"dataframe\">\n",
       "  <thead>\n",
       "    <tr style=\"text-align: right;\">\n",
       "      <th></th>\n",
       "      <th>id</th>\n",
       "      <th>full_text</th>\n",
       "      <th>sentiment</th>\n",
       "      <th>emotion</th>\n",
       "    </tr>\n",
       "  </thead>\n",
       "  <tbody>\n",
       "    <tr>\n",
       "      <th>0</th>\n",
       "      <td>1</td>\n",
       "      <td>@IvanDuque Sus socios de las AGC tienen este platanal vuelto mierda, pero no haces nada, usted inservible, ha logrado la peor inflación en Colombia y solo pública maricadas sin sentido, se robó las elecciones para entregar el país, valiente idiota tenemos de presidente.</td>\n",
       "      <td>negative</td>\n",
       "      <td>anger</td>\n",
       "    </tr>\n",
       "    <tr>\n",
       "      <th>1</th>\n",
       "      <td>2</td>\n",
       "      <td>@AlvaroUribeVel Ellos también celebran por que Maduro PetroGustavo Ivan Cepeda Timo Teodora Bobolivar entre muchos más sufren  de insomnio.\\r\\nUribe Velez Alvarito no los deja dormir\\r\\nEl enemigo para las elecciones no es Fico.... Sino el Excelentísimo y más Grande Presidente que ha tenido Colombia</td>\n",
       "      <td>negative</td>\n",
       "      <td>anger</td>\n",
       "    </tr>\n",
       "    <tr>\n",
       "      <th>2</th>\n",
       "      <td>3</td>\n",
       "      <td>@PDleh @cokycafe @PGN_COL En Colombia existen miles de leyes para controlar los funcionarios públicos pero a la hora de aplicarlas \"se les olvida que existen\". ¿Que más pruebas quieren? ¿Porque avalan unas elecciones, las del 13 de marzo, donde pado de todo lo que no debía de pasar? Escuchamos  respuestas</td>\n",
       "      <td>negative</td>\n",
       "      <td>anger</td>\n",
       "    </tr>\n",
       "    <tr>\n",
       "      <th>3</th>\n",
       "      <td>4</td>\n",
       "      <td>Petro ahora es el Capitán América o mejor dicho el Capitán Colombia de ganar las elecciones. No soltara el escudo ni para dormir ?? https://t.co/k56Dv7id1J</td>\n",
       "      <td>negative</td>\n",
       "      <td>joy</td>\n",
       "    </tr>\n",
       "    <tr>\n",
       "      <th>4</th>\n",
       "      <td>5</td>\n",
       "      <td>#OtraPregunta \\r\\n\"Petro promete reanudar relaciones diplomáticas con Maduro si gana elecciones en Colombia\"...\\r\\nEsto no pinta nada bien... y si además gana Lula en Brasil...\\r\\n¿Esto como que va para largo? https://t.co/wpQsl5KoRe</td>\n",
       "      <td>negative</td>\n",
       "      <td>fear</td>\n",
       "    </tr>\n",
       "  </tbody>\n",
       "</table>\n",
       "</div>"
      ],
      "text/plain": [
       "   id  \\\n",
       "0   1   \n",
       "1   2   \n",
       "2   3   \n",
       "3   4   \n",
       "4   5   \n",
       "\n",
       "                                                                                                                                                                                                                                                                                                            full_text  \\\n",
       "0                                      @IvanDuque Sus socios de las AGC tienen este platanal vuelto mierda, pero no haces nada, usted inservible, ha logrado la peor inflación en Colombia y solo pública maricadas sin sentido, se robó las elecciones para entregar el país, valiente idiota tenemos de presidente.   \n",
       "1        @AlvaroUribeVel Ellos también celebran por que Maduro PetroGustavo Ivan Cepeda Timo Teodora Bobolivar entre muchos más sufren  de insomnio.\\r\\nUribe Velez Alvarito no los deja dormir\\r\\nEl enemigo para las elecciones no es Fico.... Sino el Excelentísimo y más Grande Presidente que ha tenido Colombia   \n",
       "2  @PDleh @cokycafe @PGN_COL En Colombia existen miles de leyes para controlar los funcionarios públicos pero a la hora de aplicarlas \"se les olvida que existen\". ¿Que más pruebas quieren? ¿Porque avalan unas elecciones, las del 13 de marzo, donde pado de todo lo que no debía de pasar? Escuchamos  respuestas   \n",
       "3                                                                                                                                                         Petro ahora es el Capitán América o mejor dicho el Capitán Colombia de ganar las elecciones. No soltara el escudo ni para dormir ?? https://t.co/k56Dv7id1J   \n",
       "4                                                                           #OtraPregunta \\r\\n\"Petro promete reanudar relaciones diplomáticas con Maduro si gana elecciones en Colombia\"...\\r\\nEsto no pinta nada bien... y si además gana Lula en Brasil...\\r\\n¿Esto como que va para largo? https://t.co/wpQsl5KoRe   \n",
       "\n",
       "  sentiment emotion  \n",
       "0  negative   anger  \n",
       "1  negative   anger  \n",
       "2  negative   anger  \n",
       "3  negative     joy  \n",
       "4  negative    fear  "
      ]
     },
     "execution_count": 205,
     "metadata": {},
     "output_type": "execute_result"
    }
   ],
   "source": [
    "Sc2_T1_100_tfidf_Knei_df.head()"
   ]
  },
  {
   "cell_type": "code",
   "execution_count": 206,
   "metadata": {},
   "outputs": [],
   "source": [
    "# the randomstate number ensures that split are reproducible\n",
    "X_Sc2_T1_100_train, X_Sc2_T1_100_test, y_Sc2_T1_100_train, y_Sc2_T1_100_test = train_test_split(Sc2_T1_100_tfidf_Knei_df['full_text'], Sc2_T1_100_tfidf_Knei_df['sentiment'], train_size = 100, stratify = Sc2_T1_100_tfidf_Knei_df['sentiment'], random_state = 1)"
   ]
  },
  {
   "cell_type": "code",
   "execution_count": 207,
   "metadata": {},
   "outputs": [
    {
     "data": {
      "text/plain": [
       "(100,)"
      ]
     },
     "execution_count": 207,
     "metadata": {},
     "output_type": "execute_result"
    }
   ],
   "source": [
    "X_Sc2_T1_100_train.shape"
   ]
  },
  {
   "cell_type": "code",
   "execution_count": 208,
   "metadata": {},
   "outputs": [
    {
     "data": {
      "text/plain": [
       "negative    0.93\n",
       "positive    0.07\n",
       "Name: sentiment, dtype: float64"
      ]
     },
     "execution_count": 208,
     "metadata": {},
     "output_type": "execute_result"
    }
   ],
   "source": [
    "pd.Series(y_Sc2_T1_100_train).value_counts(normalize = True)"
   ]
  },
  {
   "cell_type": "code",
   "execution_count": 209,
   "metadata": {},
   "outputs": [
    {
     "data": {
      "text/plain": [
       "(354,)"
      ]
     },
     "execution_count": 209,
     "metadata": {},
     "output_type": "execute_result"
    }
   ],
   "source": [
    "X_Sc2_T1_100_test.shape"
   ]
  },
  {
   "cell_type": "code",
   "execution_count": 210,
   "metadata": {},
   "outputs": [
    {
     "data": {
      "text/plain": [
       "negative    0.923729\n",
       "positive    0.076271\n",
       "Name: sentiment, dtype: float64"
      ]
     },
     "execution_count": 210,
     "metadata": {},
     "output_type": "execute_result"
    }
   ],
   "source": [
    "pd.Series(y_Sc2_T1_100_test).value_counts(normalize = True)"
   ]
  },
  {
   "cell_type": "code",
   "execution_count": 211,
   "metadata": {},
   "outputs": [],
   "source": [
    "X_Sc2_T1_100_tfidf = tfidf.fit_transform(X_Sc2_T1_100_train)"
   ]
  },
  {
   "cell_type": "code",
   "execution_count": 212,
   "metadata": {},
   "outputs": [],
   "source": [
    "# Scenario 2 - Tag correction 1 - Train size 100 - KNeighbors Classifier\n",
    "X_Sc2_T1_100_tfidf_Knei_model = KNeighborsClassifier(n_neighbors=3)"
   ]
  },
  {
   "cell_type": "code",
   "execution_count": 213,
   "metadata": {},
   "outputs": [
    {
     "data": {
      "text/plain": [
       "KNeighborsClassifier(n_neighbors=3)"
      ]
     },
     "execution_count": 213,
     "metadata": {},
     "output_type": "execute_result"
    }
   ],
   "source": [
    "X_Sc2_T1_100_tfidf_Knei_model.fit(X_Sc2_T1_100_tfidf, y_Sc2_T1_100_train)"
   ]
  },
  {
   "cell_type": "code",
   "execution_count": 214,
   "metadata": {},
   "outputs": [],
   "source": [
    "# Scenario 2 - Tag correction 1 - Train size 100 - KNeighbors Classifier - TF-IDF\n",
    "y_Sc2_T1_100_train_tfidf_Knei_predict = X_Sc2_T1_100_tfidf_Knei_model.predict(X_Sc2_T1_100_tfidf)\n",
    "y_Sc2_T1_100_test_tfidf_Knei_predict = X_Sc2_T1_100_tfidf_Knei_model.predict(tfidf.transform(X_Sc2_T1_100_test))"
   ]
  },
  {
   "cell_type": "code",
   "execution_count": 215,
   "metadata": {},
   "outputs": [
    {
     "data": {
      "text/plain": [
       "<sklearn.metrics._plot.confusion_matrix.ConfusionMatrixDisplay at 0x3312c588>"
      ]
     },
     "execution_count": 215,
     "metadata": {},
     "output_type": "execute_result"
    },
    {
     "data": {
      "image/png": "[encoded data removed]",
      "text/plain": [
       "<Figure size 432x288 with 2 Axes>"
      ]
     },
     "metadata": {
      "needs_background": "light"
     },
     "output_type": "display_data"
    }
   ],
   "source": [
    "ConfusionMatrixDisplay.from_predictions(y_Sc2_T1_100_train, y_Sc2_T1_100_train_tfidf_Knei_predict)"
   ]
  },
  {
   "cell_type": "code",
   "execution_count": 216,
   "metadata": {},
   "outputs": [
    {
     "data": {
      "text/plain": [
       "<sklearn.metrics._plot.confusion_matrix.ConfusionMatrixDisplay at 0x331f28c8>"
      ]
     },
     "execution_count": 216,
     "metadata": {},
     "output_type": "execute_result"
    },
    {
     "data": {
      "image/png": "[encoded data removed]",
      "text/plain": [
       "<Figure size 432x288 with 2 Axes>"
      ]
     },
     "metadata": {
      "needs_background": "light"
     },
     "output_type": "display_data"
    }
   ],
   "source": [
    "ConfusionMatrixDisplay.from_predictions(y_Sc2_T1_100_test, y_Sc2_T1_100_test_tfidf_Knei_predict)"
   ]
  },
  {
   "cell_type": "code",
   "execution_count": 217,
   "metadata": {},
   "outputs": [
    {
     "name": "stdout",
     "output_type": "stream",
     "text": [
      "Precision: 0.0\n",
      "Recall: 0.0\n",
      "F1: 0.0\n"
     ]
    }
   ],
   "source": [
    "# Metrics calculation for binary classes\n",
    "print('Precision:', precision_score(y_Sc2_T1_100_test, y_Sc2_T1_100_test_tfidf_Knei_predict, pos_label = 'positive'))\n",
    "print('Recall:', recall_score(y_Sc2_T1_100_test, y_Sc2_T1_100_test_tfidf_Knei_predict, pos_label = 'positive'))\n",
    "print('F1:', f1_score(y_Sc2_T1_100_test, y_Sc2_T1_100_test_tfidf_Knei_predict, pos_label = 'positive'))"
   ]
  },
  {
   "cell_type": "code",
   "execution_count": 218,
   "metadata": {},
   "outputs": [
    {
     "name": "stdout",
     "output_type": "stream",
     "text": [
      "Precision: [0.92307692 0.        ]\n",
      "Recall: [0.99082569 0.        ]\n",
      "F1: [0.95575221 0.        ]\n"
     ]
    }
   ],
   "source": [
    "# Metrics calculation for more than two classes\n",
    "print('Precision:', precision_score(y_Sc2_T1_100_test, y_Sc2_T1_100_test_tfidf_Knei_predict, average = None))\n",
    "print('Recall:', recall_score(y_Sc2_T1_100_test, y_Sc2_T1_100_test_tfidf_Knei_predict, average = None))\n",
    "print('F1:', f1_score(y_Sc2_T1_100_test, y_Sc2_T1_100_test_tfidf_Knei_predict, average = None))"
   ]
  },
  {
   "cell_type": "code",
   "execution_count": 219,
   "metadata": {},
   "outputs": [],
   "source": [
    "# Scenario 2 - Tag correction 1 - Train size 100 - KNeighbors Classifier - TF-IDF - Analyzing Errors\n",
    "Sc2_T1_100_error_tfidf_Knei_df = pd.concat(\n",
    "    [ pd.concat([X_Sc2_T1_100_test, y_Sc2_T1_100_test], axis = 1).reset_index(),\n",
    "    pd.Series(y_Sc2_T1_100_test_tfidf_Knei_predict) ]\n",
    ", axis = 1).rename(columns = { 'sentiment': 'actual', 0: 'predicted' })\n",
    "\n",
    "Sc2_T1_100_error_tfidf_Knei_df.drop('index', inplace = True, axis = 1)"
   ]
  },
  {
   "cell_type": "code",
   "execution_count": 220,
   "metadata": {},
   "outputs": [
    {
     "data": {
      "text/plain": [
       "(30, 3)"
      ]
     },
     "execution_count": 220,
     "metadata": {},
     "output_type": "execute_result"
    }
   ],
   "source": [
    "Sc2_T1_100_error_tfidf_Knei_df.loc[Sc2_T1_100_error_tfidf_Knei_df['actual'] != Sc2_T1_100_error_tfidf_Knei_df['predicted']].shape"
   ]
  },
  {
   "cell_type": "code",
   "execution_count": 221,
   "metadata": {},
   "outputs": [],
   "source": [
    "Sc2_T1_100_error_tfidf_Knei_df.loc[Sc2_T1_100_error_tfidf_Knei_df['actual'] != Sc2_T1_100_error_tfidf_Knei_df['predicted']].to_csv('./data/Sc2_T1_100_error_tfidf_Knei_df.txt', sep ='\\t')"
   ]
  },
  {
   "cell_type": "code",
   "execution_count": 222,
   "metadata": {},
   "outputs": [
    {
     "data": {
      "text/html": [
       "<div>\n",
       "<style scoped>\n",
       "    .dataframe tbody tr th:only-of-type {\n",
       "        vertical-align: middle;\n",
       "    }\n",
       "\n",
       "    .dataframe tbody tr th {\n",
       "        vertical-align: top;\n",
       "    }\n",
       "\n",
       "    .dataframe thead th {\n",
       "        text-align: right;\n",
       "    }\n",
       "</style>\n",
       "<table border=\"1\" class=\"dataframe\">\n",
       "  <thead>\n",
       "    <tr style=\"text-align: right;\">\n",
       "      <th></th>\n",
       "      <th>full_text</th>\n",
       "      <th>actual</th>\n",
       "      <th>predicted</th>\n",
       "    </tr>\n",
       "  </thead>\n",
       "  <tbody>\n",
       "    <tr>\n",
       "      <th>12</th>\n",
       "      <td>@montanertwiter Te pido que ores con todo tu corazón por el bien de Colombia, para que no nos caigamos en desgracia en las próximas elecciones. Gracias ????</td>\n",
       "      <td>positive</td>\n",
       "      <td>negative</td>\n",
       "    </tr>\n",
       "    <tr>\n",
       "      <th>23</th>\n",
       "      <td>AMÉRICA LATINA\\r\\nGolpe al uribismo y avance de la izquierda\\r\\na semanas de las elecciones en Colombia - \\r\\nhttps://t.co/DsJ3kKO3b6</td>\n",
       "      <td>positive</td>\n",
       "      <td>negative</td>\n",
       "    </tr>\n",
       "    <tr>\n",
       "      <th>37</th>\n",
       "      <td>No encontraron otra alternativa que llenar de miedo a Colombia, utilizan sus paramilitares para ganar elecciones. Es ahora o nunca @petrogustavo</td>\n",
       "      <td>positive</td>\n",
       "      <td>negative</td>\n",
       "    </tr>\n",
       "    <tr>\n",
       "      <th>41</th>\n",
       "      <td>Mi match electoral no puede ser más cierto ???? @sergio_fajardo  ¡vamos con toda! ?? #MatchElectoral  \\r\\n\\r\\nPara conocer quién sería su match más acorde a sus posturas económicas y sociales para la presidencia: https://t.co/Hb5yhh8elH y mandan fotico a ver que les sale ???? https://t.co/NG4X9fRwCa</td>\n",
       "      <td>positive</td>\n",
       "      <td>negative</td>\n",
       "    </tr>\n",
       "    <tr>\n",
       "      <th>68</th>\n",
       "      <td>@NTN24 se siente el sesgo de parte del CNE,por parte de ese magistrado además dice que está investigando pero están es ganando tiempo a que pasen las elecciones no están pensando para nada en Colombia.</td>\n",
       "      <td>negative</td>\n",
       "      <td>positive</td>\n",
       "    </tr>\n",
       "  </tbody>\n",
       "</table>\n",
       "</div>"
      ],
      "text/plain": [
       "                                                                                                                                                                                                                                                                                                       full_text  \\\n",
       "12                                                                                                                                                  @montanertwiter Te pido que ores con todo tu corazón por el bien de Colombia, para que no nos caigamos en desgracia en las próximas elecciones. Gracias ????   \n",
       "23                                                                                                                                                                         AMÉRICA LATINA\\r\\nGolpe al uribismo y avance de la izquierda\\r\\na semanas de las elecciones en Colombia - \\r\\nhttps://t.co/DsJ3kKO3b6   \n",
       "37                                                                                                                                                              No encontraron otra alternativa que llenar de miedo a Colombia, utilizan sus paramilitares para ganar elecciones. Es ahora o nunca @petrogustavo   \n",
       "41  Mi match electoral no puede ser más cierto ???? @sergio_fajardo  ¡vamos con toda! ?? #MatchElectoral  \\r\\n\\r\\nPara conocer quién sería su match más acorde a sus posturas económicas y sociales para la presidencia: https://t.co/Hb5yhh8elH y mandan fotico a ver que les sale ???? https://t.co/NG4X9fRwCa   \n",
       "68                                                                                                     @NTN24 se siente el sesgo de parte del CNE,por parte de ese magistrado además dice que está investigando pero están es ganando tiempo a que pasen las elecciones no están pensando para nada en Colombia.   \n",
       "\n",
       "      actual predicted  \n",
       "12  positive  negative  \n",
       "23  positive  negative  \n",
       "37  positive  negative  \n",
       "41  positive  negative  \n",
       "68  negative  positive  "
      ]
     },
     "execution_count": 222,
     "metadata": {},
     "output_type": "execute_result"
    }
   ],
   "source": [
    "Sc2_T1_100_error_tfidf_Knei_df.loc[Sc2_T1_100_error_tfidf_Knei_df['actual'] != Sc2_T1_100_error_tfidf_Knei_df['predicted']].head()"
   ]
  },
  {
   "cell_type": "markdown",
   "metadata": {
    "tags": []
   },
   "source": [
    "## Scenario 2 - Tag correction 0 - Train size 300"
   ]
  },
  {
   "cell_type": "code",
   "execution_count": 223,
   "metadata": {},
   "outputs": [],
   "source": [
    "# the randomstate number ensures that split are reproducible\n",
    "X_Sc2_T0_300_train, X_Sc2_T0_300_test, y_Sc2_T0_300_train, y_Sc2_T0_300_test = train_test_split(removed_neutral_df['full_text'], removed_neutral_df['sentiment'], train_size = 300, stratify = removed_neutral_df['sentiment'], random_state = 1)"
   ]
  },
  {
   "cell_type": "code",
   "execution_count": 224,
   "metadata": {},
   "outputs": [
    {
     "data": {
      "text/plain": [
       "(300,)"
      ]
     },
     "execution_count": 224,
     "metadata": {},
     "output_type": "execute_result"
    }
   ],
   "source": [
    "X_Sc2_T0_300_train.shape"
   ]
  },
  {
   "cell_type": "code",
   "execution_count": 225,
   "metadata": {},
   "outputs": [
    {
     "data": {
      "text/plain": [
       "negative    0.923333\n",
       "positive    0.076667\n",
       "Name: sentiment, dtype: float64"
      ]
     },
     "execution_count": 225,
     "metadata": {},
     "output_type": "execute_result"
    }
   ],
   "source": [
    "pd.Series(y_Sc2_T0_300_train).value_counts(normalize = True)"
   ]
  },
  {
   "cell_type": "code",
   "execution_count": 226,
   "metadata": {},
   "outputs": [
    {
     "data": {
      "text/plain": [
       "(154,)"
      ]
     },
     "execution_count": 226,
     "metadata": {},
     "output_type": "execute_result"
    }
   ],
   "source": [
    "X_Sc2_T0_300_test.shape"
   ]
  },
  {
   "cell_type": "code",
   "execution_count": 227,
   "metadata": {},
   "outputs": [
    {
     "data": {
      "text/plain": [
       "negative    0.922078\n",
       "positive    0.077922\n",
       "Name: sentiment, dtype: float64"
      ]
     },
     "execution_count": 227,
     "metadata": {},
     "output_type": "execute_result"
    }
   ],
   "source": [
    "pd.Series(y_Sc2_T0_300_test).value_counts(normalize = True)"
   ]
  },
  {
   "cell_type": "code",
   "execution_count": 228,
   "metadata": {},
   "outputs": [],
   "source": [
    "tfidf = TfidfVectorizer(tokenizer = tokenizer, stop_words = stop_words)"
   ]
  },
  {
   "cell_type": "code",
   "execution_count": 229,
   "metadata": {},
   "outputs": [],
   "source": [
    "X_Sc2_T0_300_tfidf = tfidf.fit_transform(X_Sc2_T0_300_train)"
   ]
  },
  {
   "cell_type": "markdown",
   "metadata": {
    "tags": []
   },
   "source": [
    "### Scenario 2 - Tag correction 0 - Train size 300 - Random Forest Classifier"
   ]
  },
  {
   "cell_type": "code",
   "execution_count": 230,
   "metadata": {},
   "outputs": [],
   "source": [
    "# Scenario 2 - Tag correction 0 - Train size 300 - Random Forest Classifier\n",
    "X_Sc2_T0_300_tfidf_Ran_model = RandomForestClassifier()"
   ]
  },
  {
   "cell_type": "code",
   "execution_count": 231,
   "metadata": {},
   "outputs": [
    {
     "data": {
      "text/plain": [
       "RandomForestClassifier()"
      ]
     },
     "execution_count": 231,
     "metadata": {},
     "output_type": "execute_result"
    }
   ],
   "source": [
    "X_Sc2_T0_300_tfidf_Ran_model.fit(X_Sc2_T0_300_tfidf, y_Sc2_T0_300_train)"
   ]
  },
  {
   "cell_type": "code",
   "execution_count": 232,
   "metadata": {},
   "outputs": [],
   "source": [
    "# Scenario 2 - Tag correction 0 - Train size 300 - Random Forest Classifier - tfidf\n",
    "y_Sc2_T0_300_train_tfidf_Ran_predict = X_Sc2_T0_300_tfidf_Ran_model.predict(X_Sc2_T0_300_tfidf)\n",
    "y_Sc2_T0_300_test_tfidf_Ran_predict = X_Sc2_T0_300_tfidf_Ran_model.predict(tfidf.transform(X_Sc2_T0_300_test))"
   ]
  },
  {
   "cell_type": "code",
   "execution_count": 233,
   "metadata": {},
   "outputs": [
    {
     "data": {
      "text/plain": [
       "<sklearn.metrics._plot.confusion_matrix.ConfusionMatrixDisplay at 0x332a9708>"
      ]
     },
     "execution_count": 233,
     "metadata": {},
     "output_type": "execute_result"
    },
    {
     "data": {
      "image/png": "[encoded data removed]",
      "text/plain": [
       "<Figure size 432x288 with 2 Axes>"
      ]
     },
     "metadata": {
      "needs_background": "light"
     },
     "output_type": "display_data"
    }
   ],
   "source": [
    "ConfusionMatrixDisplay.from_predictions(y_Sc2_T0_300_train, y_Sc2_T0_300_train_tfidf_Ran_predict)"
   ]
  },
  {
   "cell_type": "code",
   "execution_count": 234,
   "metadata": {},
   "outputs": [
    {
     "data": {
      "text/plain": [
       "<sklearn.metrics._plot.confusion_matrix.ConfusionMatrixDisplay at 0x3321b908>"
      ]
     },
     "execution_count": 234,
     "metadata": {},
     "output_type": "execute_result"
    },
    {
     "data": {
      "image/png": "[encoded data removed]",
      "text/plain": [
       "<Figure size 432x288 with 2 Axes>"
      ]
     },
     "metadata": {
      "needs_background": "light"
     },
     "output_type": "display_data"
    }
   ],
   "source": [
    "ConfusionMatrixDisplay.from_predictions(y_Sc2_T0_300_test, y_Sc2_T0_300_test_tfidf_Ran_predict)"
   ]
  },
  {
   "cell_type": "code",
   "execution_count": 235,
   "metadata": {},
   "outputs": [
    {
     "name": "stdout",
     "output_type": "stream",
     "text": [
      "Precision: 1.0\n",
      "Recall: 0.08333333333333333\n",
      "F1: 0.15384615384615385\n"
     ]
    }
   ],
   "source": [
    "# Metrics calculation for binary classes\n",
    "print('Precision:', precision_score(y_Sc2_T0_300_test, y_Sc2_T0_300_test_tfidf_Ran_predict, pos_label = 'positive'))\n",
    "print('Recall:', recall_score(y_Sc2_T0_300_test, y_Sc2_T0_300_test_tfidf_Ran_predict, pos_label = 'positive'))\n",
    "print('F1:', f1_score(y_Sc2_T0_300_test, y_Sc2_T0_300_test_tfidf_Ran_predict, pos_label = 'positive'))"
   ]
  },
  {
   "cell_type": "code",
   "execution_count": 236,
   "metadata": {},
   "outputs": [
    {
     "name": "stdout",
     "output_type": "stream",
     "text": [
      "Precision: [0.92810458 1.        ]\n",
      "Recall: [1.         0.08333333]\n",
      "F1: [0.96271186 0.15384615]\n"
     ]
    }
   ],
   "source": [
    "# Metrics calculation for more than two classes\n",
    "print('Precision:', precision_score(y_Sc2_T0_300_test, y_Sc2_T0_300_test_tfidf_Ran_predict, average = None))\n",
    "print('Recall:', recall_score(y_Sc2_T0_300_test, y_Sc2_T0_300_test_tfidf_Ran_predict, average = None))\n",
    "print('F1:', f1_score(y_Sc2_T0_300_test, y_Sc2_T0_300_test_tfidf_Ran_predict, average = None))"
   ]
  },
  {
   "cell_type": "code",
   "execution_count": 237,
   "metadata": {},
   "outputs": [],
   "source": [
    "# Scenario 2 - Tag correction 0 - Train size 300 - Random Forest Classifier - tfidf - Analyzing Errors\n",
    "Sc2_T0_300_error_tfidf_Ran_df = pd.concat(\n",
    "    [ pd.concat([X_Sc2_T0_300_test, y_Sc2_T0_300_test], axis = 1).reset_index(),\n",
    "    pd.Series(y_Sc2_T0_300_test_tfidf_Ran_predict) ]\n",
    ", axis = 1).rename(columns = { 'sentiment': 'actual', 0: 'predicted' })\n",
    "\n",
    "Sc2_T0_300_error_tfidf_Ran_df.drop('index', inplace = True, axis = 1)"
   ]
  },
  {
   "cell_type": "code",
   "execution_count": 238,
   "metadata": {},
   "outputs": [
    {
     "data": {
      "text/plain": [
       "(11, 3)"
      ]
     },
     "execution_count": 238,
     "metadata": {},
     "output_type": "execute_result"
    }
   ],
   "source": [
    "Sc2_T0_300_error_tfidf_Ran_df.loc[Sc2_T0_300_error_tfidf_Ran_df['actual'] != Sc2_T0_300_error_tfidf_Ran_df['predicted']].shape"
   ]
  },
  {
   "cell_type": "code",
   "execution_count": 239,
   "metadata": {},
   "outputs": [],
   "source": [
    "Sc2_T0_300_error_tfidf_Ran_df.loc[Sc2_T0_300_error_tfidf_Ran_df['actual'] != Sc2_T0_300_error_tfidf_Ran_df['predicted']].to_csv('./data/Sc2_T0_300_error_tfidf_Ran_df.txt', sep ='\\t')"
   ]
  },
  {
   "cell_type": "code",
   "execution_count": 240,
   "metadata": {},
   "outputs": [
    {
     "data": {
      "text/html": [
       "<div>\n",
       "<style scoped>\n",
       "    .dataframe tbody tr th:only-of-type {\n",
       "        vertical-align: middle;\n",
       "    }\n",
       "\n",
       "    .dataframe tbody tr th {\n",
       "        vertical-align: top;\n",
       "    }\n",
       "\n",
       "    .dataframe thead th {\n",
       "        text-align: right;\n",
       "    }\n",
       "</style>\n",
       "<table border=\"1\" class=\"dataframe\">\n",
       "  <thead>\n",
       "    <tr style=\"text-align: right;\">\n",
       "      <th></th>\n",
       "      <th>full_text</th>\n",
       "      <th>actual</th>\n",
       "      <th>predicted</th>\n",
       "    </tr>\n",
       "  </thead>\n",
       "  <tbody>\n",
       "    <tr>\n",
       "      <th>0</th>\n",
       "      <td>No encontraron otra alternativa que llenar de miedo a Colombia, utilizan sus paramilitares para ganar elecciones. Es ahora o nunca @petrogustavo</td>\n",
       "      <td>positive</td>\n",
       "      <td>negative</td>\n",
       "    </tr>\n",
       "    <tr>\n",
       "      <th>2</th>\n",
       "      <td>@CARLOSFMEJIA @infopresidencia @PGN_COL @FiscaliaCol @CNE_COLOMBIA Así es.\\r\\nEs lo correcto.\\r\\nHacer bien las elecciones.\\r\\nEsa es democracia.</td>\n",
       "      <td>positive</td>\n",
       "      <td>negative</td>\n",
       "    </tr>\n",
       "    <tr>\n",
       "      <th>9</th>\n",
       "      <td>Un abrazo fuerte @CamiloRomero en próximas elecciones espero que mi voto sea por Usted, desde el cielo  tu madre iluminará ese camino, y el de Colombia hoy.?? https://t.co/IiVUDKZpb0</td>\n",
       "      <td>positive</td>\n",
       "      <td>negative</td>\n",
       "    </tr>\n",
       "    <tr>\n",
       "      <th>14</th>\n",
       "      <td>Además, los gráficos y mapas electorales demuestran la importancia electoral que tiene el centro del país, ante la densidad poblacional y la tradición de salir a votar. https://t.co/tVxPTMLkC2</td>\n",
       "      <td>positive</td>\n",
       "      <td>negative</td>\n",
       "    </tr>\n",
       "    <tr>\n",
       "      <th>104</th>\n",
       "      <td>Juntos lograremos un país de orden y oportunidades para todos????\\r\\n\\r\\n #FicoPresidente #MeIdentiFICO #Propuestas #Agro #PlanDeGobierno #Elecciones #Politica #Salud #Libertad #Democracia #Colombia</td>\n",
       "      <td>positive</td>\n",
       "      <td>negative</td>\n",
       "    </tr>\n",
       "  </tbody>\n",
       "</table>\n",
       "</div>"
      ],
      "text/plain": [
       "                                                                                                                                                                                                  full_text  \\\n",
       "0                                                          No encontraron otra alternativa que llenar de miedo a Colombia, utilizan sus paramilitares para ganar elecciones. Es ahora o nunca @petrogustavo   \n",
       "2                                                         @CARLOSFMEJIA @infopresidencia @PGN_COL @FiscaliaCol @CNE_COLOMBIA Así es.\\r\\nEs lo correcto.\\r\\nHacer bien las elecciones.\\r\\nEsa es democracia.   \n",
       "9                    Un abrazo fuerte @CamiloRomero en próximas elecciones espero que mi voto sea por Usted, desde el cielo  tu madre iluminará ese camino, y el de Colombia hoy.?? https://t.co/IiVUDKZpb0   \n",
       "14         Además, los gráficos y mapas electorales demuestran la importancia electoral que tiene el centro del país, ante la densidad poblacional y la tradición de salir a votar. https://t.co/tVxPTMLkC2   \n",
       "104  Juntos lograremos un país de orden y oportunidades para todos????\\r\\n\\r\\n #FicoPresidente #MeIdentiFICO #Propuestas #Agro #PlanDeGobierno #Elecciones #Politica #Salud #Libertad #Democracia #Colombia   \n",
       "\n",
       "       actual predicted  \n",
       "0    positive  negative  \n",
       "2    positive  negative  \n",
       "9    positive  negative  \n",
       "14   positive  negative  \n",
       "104  positive  negative  "
      ]
     },
     "execution_count": 240,
     "metadata": {},
     "output_type": "execute_result"
    }
   ],
   "source": [
    "Sc2_T0_300_error_tfidf_Ran_df.loc[Sc2_T0_300_error_tfidf_Ran_df['actual'] != Sc2_T0_300_error_tfidf_Ran_df['predicted']].head()"
   ]
  },
  {
   "cell_type": "markdown",
   "metadata": {
    "tags": []
   },
   "source": [
    "### Scenario 2 - Tag correction 0 - Train size 300 - KNeighbors Classifier"
   ]
  },
  {
   "cell_type": "code",
   "execution_count": 241,
   "metadata": {},
   "outputs": [],
   "source": [
    "# Scenario 2 - Tag correction 0 - Train size 300 - KNeighbors Classifier\n",
    "X_Sc2_T0_300_tfidf_Knei_model = KNeighborsClassifier(n_neighbors=3)"
   ]
  },
  {
   "cell_type": "code",
   "execution_count": 242,
   "metadata": {},
   "outputs": [
    {
     "data": {
      "text/plain": [
       "KNeighborsClassifier(n_neighbors=3)"
      ]
     },
     "execution_count": 242,
     "metadata": {},
     "output_type": "execute_result"
    }
   ],
   "source": [
    "X_Sc2_T0_300_tfidf_Knei_model.fit(X_Sc2_T0_300_tfidf, y_Sc2_T0_300_train)"
   ]
  },
  {
   "cell_type": "code",
   "execution_count": 243,
   "metadata": {},
   "outputs": [],
   "source": [
    "# Scenario 2 - Tag correction 0 - Train size 300 - KNeighbors Classifier - tfidf\n",
    "y_Sc2_T0_300_train_tfidf_Knei_predict = X_Sc2_T0_300_tfidf_Knei_model.predict(X_Sc2_T0_300_tfidf)\n",
    "y_Sc2_T0_300_test_tfidf_Knei_predict = X_Sc2_T0_300_tfidf_Knei_model.predict(tfidf.transform(X_Sc2_T0_300_test))"
   ]
  },
  {
   "cell_type": "code",
   "execution_count": 244,
   "metadata": {},
   "outputs": [
    {
     "data": {
      "text/plain": [
       "<sklearn.metrics._plot.confusion_matrix.ConfusionMatrixDisplay at 0x3348f088>"
      ]
     },
     "execution_count": 244,
     "metadata": {},
     "output_type": "execute_result"
    },
    {
     "data": {
      "image/png": "[encoded data removed]",
      "text/plain": [
       "<Figure size 432x288 with 2 Axes>"
      ]
     },
     "metadata": {
      "needs_background": "light"
     },
     "output_type": "display_data"
    }
   ],
   "source": [
    "ConfusionMatrixDisplay.from_predictions(y_Sc2_T0_300_train, y_Sc2_T0_300_train_tfidf_Knei_predict)"
   ]
  },
  {
   "cell_type": "code",
   "execution_count": 245,
   "metadata": {},
   "outputs": [
    {
     "data": {
      "text/plain": [
       "<sklearn.metrics._plot.confusion_matrix.ConfusionMatrixDisplay at 0x33563348>"
      ]
     },
     "execution_count": 245,
     "metadata": {},
     "output_type": "execute_result"
    },
    {
     "data": {
      "image/png": "[encoded data removed]",
      "text/plain": [
       "<Figure size 432x288 with 2 Axes>"
      ]
     },
     "metadata": {
      "needs_background": "light"
     },
     "output_type": "display_data"
    }
   ],
   "source": [
    "ConfusionMatrixDisplay.from_predictions(y_Sc2_T0_300_test, y_Sc2_T0_300_test_tfidf_Knei_predict)"
   ]
  },
  {
   "cell_type": "code",
   "execution_count": 246,
   "metadata": {},
   "outputs": [
    {
     "name": "stdout",
     "output_type": "stream",
     "text": [
      "Precision: 0.5\n",
      "Recall: 0.08333333333333333\n",
      "F1: 0.14285714285714285\n"
     ]
    }
   ],
   "source": [
    "# Metrics calculation for binary classes\n",
    "print('Precision:', precision_score(y_Sc2_T0_300_test, y_Sc2_T0_300_test_tfidf_Knei_predict, pos_label = 'positive'))\n",
    "print('Recall:', recall_score(y_Sc2_T0_300_test, y_Sc2_T0_300_test_tfidf_Knei_predict, pos_label = 'positive'))\n",
    "print('F1:', f1_score(y_Sc2_T0_300_test, y_Sc2_T0_300_test_tfidf_Knei_predict, pos_label = 'positive'))"
   ]
  },
  {
   "cell_type": "code",
   "execution_count": 247,
   "metadata": {},
   "outputs": [
    {
     "name": "stdout",
     "output_type": "stream",
     "text": [
      "Precision: [0.92763158 0.5       ]\n",
      "Recall: [0.99295775 0.08333333]\n",
      "F1: [0.95918367 0.14285714]\n"
     ]
    }
   ],
   "source": [
    "# Metrics calculation for more than two classes\n",
    "print('Precision:', precision_score(y_Sc2_T0_300_test, y_Sc2_T0_300_test_tfidf_Knei_predict, average = None))\n",
    "print('Recall:', recall_score(y_Sc2_T0_300_test, y_Sc2_T0_300_test_tfidf_Knei_predict, average = None))\n",
    "print('F1:', f1_score(y_Sc2_T0_300_test, y_Sc2_T0_300_test_tfidf_Knei_predict, average = None))"
   ]
  },
  {
   "cell_type": "code",
   "execution_count": 248,
   "metadata": {},
   "outputs": [],
   "source": [
    "# Scenario 2 - Tag correction 0 - Train size 300 - KNeighbors Classifier - tfidf - Analyzing Errors\n",
    "Sc2_T0_300_error_tfidf_Knei_df = pd.concat(\n",
    "    [ pd.concat([X_Sc2_T0_300_test, y_Sc2_T0_300_test], axis = 1).reset_index(),\n",
    "    pd.Series(y_Sc2_T0_300_test_tfidf_Knei_predict) ]\n",
    ", axis = 1).rename(columns = { 'sentiment': 'actual', 0: 'predicted' })\n",
    "\n",
    "Sc2_T0_300_error_tfidf_Knei_df.drop('index', inplace = True, axis = 1)"
   ]
  },
  {
   "cell_type": "code",
   "execution_count": 249,
   "metadata": {},
   "outputs": [
    {
     "data": {
      "text/plain": [
       "(12, 3)"
      ]
     },
     "execution_count": 249,
     "metadata": {},
     "output_type": "execute_result"
    }
   ],
   "source": [
    "Sc2_T0_300_error_tfidf_Knei_df.loc[Sc2_T0_300_error_tfidf_Knei_df['actual'] != Sc2_T0_300_error_tfidf_Knei_df['predicted']].shape"
   ]
  },
  {
   "cell_type": "code",
   "execution_count": 250,
   "metadata": {},
   "outputs": [],
   "source": [
    "Sc2_T0_300_error_tfidf_Knei_df.loc[Sc2_T0_300_error_tfidf_Knei_df['actual'] != Sc2_T0_300_error_tfidf_Knei_df['predicted']].to_csv('./data/Sc2_T0_300_error_tfidf_Knei_df.txt', sep ='\\t')"
   ]
  },
  {
   "cell_type": "code",
   "execution_count": 251,
   "metadata": {},
   "outputs": [
    {
     "data": {
      "text/html": [
       "<div>\n",
       "<style scoped>\n",
       "    .dataframe tbody tr th:only-of-type {\n",
       "        vertical-align: middle;\n",
       "    }\n",
       "\n",
       "    .dataframe tbody tr th {\n",
       "        vertical-align: top;\n",
       "    }\n",
       "\n",
       "    .dataframe thead th {\n",
       "        text-align: right;\n",
       "    }\n",
       "</style>\n",
       "<table border=\"1\" class=\"dataframe\">\n",
       "  <thead>\n",
       "    <tr style=\"text-align: right;\">\n",
       "      <th></th>\n",
       "      <th>full_text</th>\n",
       "      <th>actual</th>\n",
       "      <th>predicted</th>\n",
       "    </tr>\n",
       "  </thead>\n",
       "  <tbody>\n",
       "    <tr>\n",
       "      <th>0</th>\n",
       "      <td>No encontraron otra alternativa que llenar de miedo a Colombia, utilizan sus paramilitares para ganar elecciones. Es ahora o nunca @petrogustavo</td>\n",
       "      <td>positive</td>\n",
       "      <td>negative</td>\n",
       "    </tr>\n",
       "    <tr>\n",
       "      <th>2</th>\n",
       "      <td>@CARLOSFMEJIA @infopresidencia @PGN_COL @FiscaliaCol @CNE_COLOMBIA Así es.\\r\\nEs lo correcto.\\r\\nHacer bien las elecciones.\\r\\nEsa es democracia.</td>\n",
       "      <td>positive</td>\n",
       "      <td>negative</td>\n",
       "    </tr>\n",
       "    <tr>\n",
       "      <th>9</th>\n",
       "      <td>Un abrazo fuerte @CamiloRomero en próximas elecciones espero que mi voto sea por Usted, desde el cielo  tu madre iluminará ese camino, y el de Colombia hoy.?? https://t.co/IiVUDKZpb0</td>\n",
       "      <td>positive</td>\n",
       "      <td>negative</td>\n",
       "    </tr>\n",
       "    <tr>\n",
       "      <th>14</th>\n",
       "      <td>Además, los gráficos y mapas electorales demuestran la importancia electoral que tiene el centro del país, ante la densidad poblacional y la tradición de salir a votar. https://t.co/tVxPTMLkC2</td>\n",
       "      <td>positive</td>\n",
       "      <td>negative</td>\n",
       "    </tr>\n",
       "    <tr>\n",
       "      <th>63</th>\n",
       "      <td>Viví de cerca el CAMBIO de Venezuela.\\r\\n\\r\\nFue el pais más rico de América Latina, hoy su economía está destruida.\\r\\n\\r\\nA punta de decretos acaban connlas empresas  y la que sobrevive la expropian.\\r\\n\\r\\nColombia es anticomunista y lo demostraremos en las próximas elecciones.</td>\n",
       "      <td>negative</td>\n",
       "      <td>positive</td>\n",
       "    </tr>\n",
       "  </tbody>\n",
       "</table>\n",
       "</div>"
      ],
      "text/plain": [
       "                                                                                                                                                                                                                                                                                    full_text  \\\n",
       "0                                                                                                                                            No encontraron otra alternativa que llenar de miedo a Colombia, utilizan sus paramilitares para ganar elecciones. Es ahora o nunca @petrogustavo   \n",
       "2                                                                                                                                           @CARLOSFMEJIA @infopresidencia @PGN_COL @FiscaliaCol @CNE_COLOMBIA Así es.\\r\\nEs lo correcto.\\r\\nHacer bien las elecciones.\\r\\nEsa es democracia.   \n",
       "9                                                                                                      Un abrazo fuerte @CamiloRomero en próximas elecciones espero que mi voto sea por Usted, desde el cielo  tu madre iluminará ese camino, y el de Colombia hoy.?? https://t.co/IiVUDKZpb0   \n",
       "14                                                                                           Además, los gráficos y mapas electorales demuestran la importancia electoral que tiene el centro del país, ante la densidad poblacional y la tradición de salir a votar. https://t.co/tVxPTMLkC2   \n",
       "63  Viví de cerca el CAMBIO de Venezuela.\\r\\n\\r\\nFue el pais más rico de América Latina, hoy su economía está destruida.\\r\\n\\r\\nA punta de decretos acaban connlas empresas  y la que sobrevive la expropian.\\r\\n\\r\\nColombia es anticomunista y lo demostraremos en las próximas elecciones.   \n",
       "\n",
       "      actual predicted  \n",
       "0   positive  negative  \n",
       "2   positive  negative  \n",
       "9   positive  negative  \n",
       "14  positive  negative  \n",
       "63  negative  positive  "
      ]
     },
     "execution_count": 251,
     "metadata": {},
     "output_type": "execute_result"
    }
   ],
   "source": [
    "Sc2_T0_300_error_tfidf_Knei_df.loc[Sc2_T0_300_error_tfidf_Knei_df['actual'] != Sc2_T0_300_error_tfidf_Knei_df['predicted']].head()"
   ]
  },
  {
   "cell_type": "markdown",
   "metadata": {
    "tags": []
   },
   "source": [
    "## Scenario 2 - Tag correction 1 - Train size 300"
   ]
  },
  {
   "cell_type": "markdown",
   "metadata": {
    "tags": []
   },
   "source": [
    "### Scenario 2 - Tag correction 1 - Train size 300 - Random Forest Classifier"
   ]
  },
  {
   "cell_type": "code",
   "execution_count": 252,
   "metadata": {},
   "outputs": [],
   "source": [
    "Sc2_T1_300_tfidf_Ran_df = pd.read_csv('./data/Sc2_T1_300_tfidf_Ran_df.txt', sep = '\\t')"
   ]
  },
  {
   "cell_type": "code",
   "execution_count": 253,
   "metadata": {},
   "outputs": [
    {
     "data": {
      "text/plain": [
       "negative    0.92511\n",
       "positive    0.07489\n",
       "Name: sentiment, dtype: float64"
      ]
     },
     "execution_count": 253,
     "metadata": {},
     "output_type": "execute_result"
    }
   ],
   "source": [
    "Sc2_T1_300_tfidf_Ran_df['sentiment'].value_counts(dropna = False, normalize = True)"
   ]
  },
  {
   "cell_type": "code",
   "execution_count": 254,
   "metadata": {},
   "outputs": [
    {
     "data": {
      "text/html": [
       "<div>\n",
       "<style scoped>\n",
       "    .dataframe tbody tr th:only-of-type {\n",
       "        vertical-align: middle;\n",
       "    }\n",
       "\n",
       "    .dataframe tbody tr th {\n",
       "        vertical-align: top;\n",
       "    }\n",
       "\n",
       "    .dataframe thead th {\n",
       "        text-align: right;\n",
       "    }\n",
       "</style>\n",
       "<table border=\"1\" class=\"dataframe\">\n",
       "  <thead>\n",
       "    <tr style=\"text-align: right;\">\n",
       "      <th></th>\n",
       "      <th>id</th>\n",
       "      <th>full_text</th>\n",
       "      <th>sentiment</th>\n",
       "      <th>emotion</th>\n",
       "    </tr>\n",
       "  </thead>\n",
       "  <tbody>\n",
       "    <tr>\n",
       "      <th>0</th>\n",
       "      <td>1</td>\n",
       "      <td>@IvanDuque Sus socios de las AGC tienen este platanal vuelto mierda, pero no haces nada, usted inservible, ha logrado la peor inflación en Colombia y solo pública maricadas sin sentido, se robó las elecciones para entregar el país, valiente idiota tenemos de presidente.</td>\n",
       "      <td>negative</td>\n",
       "      <td>anger</td>\n",
       "    </tr>\n",
       "    <tr>\n",
       "      <th>1</th>\n",
       "      <td>2</td>\n",
       "      <td>@AlvaroUribeVel Ellos también celebran por que Maduro PetroGustavo Ivan Cepeda Timo Teodora Bobolivar entre muchos más sufren  de insomnio.\\r\\nUribe Velez Alvarito no los deja dormir\\r\\nEl enemigo para las elecciones no es Fico.... Sino el Excelentísimo y más Grande Presidente que ha tenido Colombia</td>\n",
       "      <td>negative</td>\n",
       "      <td>anger</td>\n",
       "    </tr>\n",
       "    <tr>\n",
       "      <th>2</th>\n",
       "      <td>3</td>\n",
       "      <td>@PDleh @cokycafe @PGN_COL En Colombia existen miles de leyes para controlar los funcionarios públicos pero a la hora de aplicarlas \"se les olvida que existen\". ¿Que más pruebas quieren? ¿Porque avalan unas elecciones, las del 13 de marzo, donde pado de todo lo que no debía de pasar? Escuchamos  respuestas</td>\n",
       "      <td>negative</td>\n",
       "      <td>anger</td>\n",
       "    </tr>\n",
       "    <tr>\n",
       "      <th>3</th>\n",
       "      <td>4</td>\n",
       "      <td>Petro ahora es el Capitán América o mejor dicho el Capitán Colombia de ganar las elecciones. No soltara el escudo ni para dormir ?? https://t.co/k56Dv7id1J</td>\n",
       "      <td>negative</td>\n",
       "      <td>joy</td>\n",
       "    </tr>\n",
       "    <tr>\n",
       "      <th>4</th>\n",
       "      <td>5</td>\n",
       "      <td>#OtraPregunta \\r\\n\"Petro promete reanudar relaciones diplomáticas con Maduro si gana elecciones en Colombia\"...\\r\\nEsto no pinta nada bien... y si además gana Lula en Brasil...\\r\\n¿Esto como que va para largo? https://t.co/wpQsl5KoRe</td>\n",
       "      <td>negative</td>\n",
       "      <td>fear</td>\n",
       "    </tr>\n",
       "  </tbody>\n",
       "</table>\n",
       "</div>"
      ],
      "text/plain": [
       "   id  \\\n",
       "0   1   \n",
       "1   2   \n",
       "2   3   \n",
       "3   4   \n",
       "4   5   \n",
       "\n",
       "                                                                                                                                                                                                                                                                                                            full_text  \\\n",
       "0                                      @IvanDuque Sus socios de las AGC tienen este platanal vuelto mierda, pero no haces nada, usted inservible, ha logrado la peor inflación en Colombia y solo pública maricadas sin sentido, se robó las elecciones para entregar el país, valiente idiota tenemos de presidente.   \n",
       "1        @AlvaroUribeVel Ellos también celebran por que Maduro PetroGustavo Ivan Cepeda Timo Teodora Bobolivar entre muchos más sufren  de insomnio.\\r\\nUribe Velez Alvarito no los deja dormir\\r\\nEl enemigo para las elecciones no es Fico.... Sino el Excelentísimo y más Grande Presidente que ha tenido Colombia   \n",
       "2  @PDleh @cokycafe @PGN_COL En Colombia existen miles de leyes para controlar los funcionarios públicos pero a la hora de aplicarlas \"se les olvida que existen\". ¿Que más pruebas quieren? ¿Porque avalan unas elecciones, las del 13 de marzo, donde pado de todo lo que no debía de pasar? Escuchamos  respuestas   \n",
       "3                                                                                                                                                         Petro ahora es el Capitán América o mejor dicho el Capitán Colombia de ganar las elecciones. No soltara el escudo ni para dormir ?? https://t.co/k56Dv7id1J   \n",
       "4                                                                           #OtraPregunta \\r\\n\"Petro promete reanudar relaciones diplomáticas con Maduro si gana elecciones en Colombia\"...\\r\\nEsto no pinta nada bien... y si además gana Lula en Brasil...\\r\\n¿Esto como que va para largo? https://t.co/wpQsl5KoRe   \n",
       "\n",
       "  sentiment emotion  \n",
       "0  negative   anger  \n",
       "1  negative   anger  \n",
       "2  negative   anger  \n",
       "3  negative     joy  \n",
       "4  negative    fear  "
      ]
     },
     "execution_count": 254,
     "metadata": {},
     "output_type": "execute_result"
    }
   ],
   "source": [
    "Sc2_T1_300_tfidf_Ran_df.head()"
   ]
  },
  {
   "cell_type": "code",
   "execution_count": 255,
   "metadata": {},
   "outputs": [],
   "source": [
    "# the randomstate number ensures that split are reproducible\n",
    "X_Sc2_T1_300_train, X_Sc2_T1_300_test, y_Sc2_T1_300_train, y_Sc2_T1_300_test = train_test_split(Sc2_T1_300_tfidf_Ran_df['full_text'], Sc2_T1_300_tfidf_Ran_df['sentiment'], train_size = 300, stratify = Sc2_T1_300_tfidf_Ran_df['sentiment'], random_state = 1)"
   ]
  },
  {
   "cell_type": "code",
   "execution_count": 256,
   "metadata": {},
   "outputs": [
    {
     "data": {
      "text/plain": [
       "(300,)"
      ]
     },
     "execution_count": 256,
     "metadata": {},
     "output_type": "execute_result"
    }
   ],
   "source": [
    "X_Sc2_T1_300_train.shape"
   ]
  },
  {
   "cell_type": "code",
   "execution_count": 257,
   "metadata": {},
   "outputs": [
    {
     "data": {
      "text/plain": [
       "negative    0.926667\n",
       "positive    0.073333\n",
       "Name: sentiment, dtype: float64"
      ]
     },
     "execution_count": 257,
     "metadata": {},
     "output_type": "execute_result"
    }
   ],
   "source": [
    "pd.Series(y_Sc2_T1_300_train).value_counts(normalize = True)"
   ]
  },
  {
   "cell_type": "code",
   "execution_count": 258,
   "metadata": {},
   "outputs": [
    {
     "data": {
      "text/plain": [
       "(154,)"
      ]
     },
     "execution_count": 258,
     "metadata": {},
     "output_type": "execute_result"
    }
   ],
   "source": [
    "X_Sc2_T1_300_test.shape"
   ]
  },
  {
   "cell_type": "code",
   "execution_count": 259,
   "metadata": {},
   "outputs": [
    {
     "data": {
      "text/plain": [
       "negative    0.922078\n",
       "positive    0.077922\n",
       "Name: sentiment, dtype: float64"
      ]
     },
     "execution_count": 259,
     "metadata": {},
     "output_type": "execute_result"
    }
   ],
   "source": [
    "pd.Series(y_Sc2_T1_300_test).value_counts(normalize = True)"
   ]
  },
  {
   "cell_type": "code",
   "execution_count": 260,
   "metadata": {},
   "outputs": [],
   "source": [
    "X_Sc2_T1_300_tfidf = tfidf.fit_transform(X_Sc2_T1_300_train)"
   ]
  },
  {
   "cell_type": "code",
   "execution_count": 261,
   "metadata": {},
   "outputs": [],
   "source": [
    "# Scenario 2 - Tag correction 0 - Train size 300 - Random Forest Classifier\n",
    "X_Sc2_T1_300_tfidf_Ran_model = RandomForestClassifier()"
   ]
  },
  {
   "cell_type": "code",
   "execution_count": 262,
   "metadata": {},
   "outputs": [
    {
     "data": {
      "text/plain": [
       "RandomForestClassifier()"
      ]
     },
     "execution_count": 262,
     "metadata": {},
     "output_type": "execute_result"
    }
   ],
   "source": [
    "X_Sc2_T1_300_tfidf_Ran_model.fit(X_Sc2_T1_300_tfidf, y_Sc2_T1_300_train)"
   ]
  },
  {
   "cell_type": "code",
   "execution_count": 263,
   "metadata": {},
   "outputs": [],
   "source": [
    "# Scenario 2 - Tag correction 0 - Train size 300 - Random Forest Classifier - TF-IDF\n",
    "y_Sc2_T1_300_train_tfidf_Ran_predict = X_Sc2_T1_300_tfidf_Ran_model.predict(X_Sc2_T1_300_tfidf)\n",
    "y_Sc2_T1_300_test_tfidf_Ran_predict = X_Sc2_T1_300_tfidf_Ran_model.predict(tfidf.transform(X_Sc2_T1_300_test))"
   ]
  },
  {
   "cell_type": "code",
   "execution_count": 264,
   "metadata": {},
   "outputs": [
    {
     "data": {
      "text/plain": [
       "<sklearn.metrics._plot.confusion_matrix.ConfusionMatrixDisplay at 0x331660c8>"
      ]
     },
     "execution_count": 264,
     "metadata": {},
     "output_type": "execute_result"
    },
    {
     "data": {
      "image/png": "[encoded data removed]",
      "text/plain": [
       "<Figure size 432x288 with 2 Axes>"
      ]
     },
     "metadata": {
      "needs_background": "light"
     },
     "output_type": "display_data"
    }
   ],
   "source": [
    "ConfusionMatrixDisplay.from_predictions(y_Sc2_T1_300_train, y_Sc2_T1_300_train_tfidf_Ran_predict)"
   ]
  },
  {
   "cell_type": "code",
   "execution_count": 265,
   "metadata": {},
   "outputs": [
    {
     "data": {
      "text/plain": [
       "<sklearn.metrics._plot.confusion_matrix.ConfusionMatrixDisplay at 0x336d6c88>"
      ]
     },
     "execution_count": 265,
     "metadata": {},
     "output_type": "execute_result"
    },
    {
     "data": {
      "image/png": "[encoded data removed]",
      "text/plain": [
       "<Figure size 432x288 with 2 Axes>"
      ]
     },
     "metadata": {
      "needs_background": "light"
     },
     "output_type": "display_data"
    }
   ],
   "source": [
    "ConfusionMatrixDisplay.from_predictions(y_Sc2_T1_300_test, y_Sc2_T1_300_test_tfidf_Ran_predict)"
   ]
  },
  {
   "cell_type": "code",
   "execution_count": 266,
   "metadata": {},
   "outputs": [
    {
     "name": "stdout",
     "output_type": "stream",
     "text": [
      "Precision: 1.0\n",
      "Recall: 0.08333333333333333\n",
      "F1: 0.15384615384615385\n"
     ]
    }
   ],
   "source": [
    "# Metrics calculation for binary classes\n",
    "print('Precision:', precision_score(y_Sc2_T1_300_test, y_Sc2_T1_300_test_tfidf_Ran_predict, pos_label = 'positive'))\n",
    "print('Recall:', recall_score(y_Sc2_T1_300_test, y_Sc2_T1_300_test_tfidf_Ran_predict, pos_label = 'positive'))\n",
    "print('F1:', f1_score(y_Sc2_T1_300_test, y_Sc2_T1_300_test_tfidf_Ran_predict, pos_label = 'positive'))"
   ]
  },
  {
   "cell_type": "code",
   "execution_count": 267,
   "metadata": {},
   "outputs": [
    {
     "name": "stdout",
     "output_type": "stream",
     "text": [
      "Precision: [0.92810458 1.        ]\n",
      "Recall: [1.         0.08333333]\n",
      "F1: [0.96271186 0.15384615]\n"
     ]
    }
   ],
   "source": [
    "# Metrics calculation for more than two classes\n",
    "print('Precision:', precision_score(y_Sc2_T1_300_test, y_Sc2_T1_300_test_tfidf_Ran_predict, average = None))\n",
    "print('Recall:', recall_score(y_Sc2_T1_300_test, y_Sc2_T1_300_test_tfidf_Ran_predict, average = None))\n",
    "print('F1:', f1_score(y_Sc2_T1_300_test, y_Sc2_T1_300_test_tfidf_Ran_predict, average = None))"
   ]
  },
  {
   "cell_type": "code",
   "execution_count": 268,
   "metadata": {},
   "outputs": [],
   "source": [
    "# Scenario 2 - Tag correction 0 - Train size 300 - Random Forest Classifier - TF-IDF - Analyzing Errors\n",
    "Sc2_T1_300_error_tfidf_Ran_df = pd.concat(\n",
    "    [ pd.concat([X_Sc2_T1_300_test, y_Sc2_T1_300_test], axis = 1).reset_index(),\n",
    "    pd.Series(y_Sc2_T1_300_test_tfidf_Ran_predict) ]\n",
    ", axis = 1).rename(columns = { 'sentiment': 'actual', 0: 'predicted' })\n",
    "\n",
    "Sc2_T1_300_error_tfidf_Ran_df.drop('index', inplace = True, axis = 1)"
   ]
  },
  {
   "cell_type": "code",
   "execution_count": 269,
   "metadata": {},
   "outputs": [
    {
     "data": {
      "text/plain": [
       "(11, 3)"
      ]
     },
     "execution_count": 269,
     "metadata": {},
     "output_type": "execute_result"
    }
   ],
   "source": [
    "Sc2_T1_300_error_tfidf_Ran_df.loc[Sc2_T1_300_error_tfidf_Ran_df['actual'] != Sc2_T1_300_error_tfidf_Ran_df['predicted']].shape"
   ]
  },
  {
   "cell_type": "code",
   "execution_count": 270,
   "metadata": {},
   "outputs": [],
   "source": [
    "Sc2_T1_300_error_tfidf_Ran_df.loc[Sc2_T1_300_error_tfidf_Ran_df['actual'] != Sc2_T1_300_error_tfidf_Ran_df['predicted']].to_csv('./data/Sc2_T1_300_error_tfidf_Ran_df.txt', sep ='\\t')"
   ]
  },
  {
   "cell_type": "code",
   "execution_count": 271,
   "metadata": {},
   "outputs": [
    {
     "data": {
      "text/html": [
       "<div>\n",
       "<style scoped>\n",
       "    .dataframe tbody tr th:only-of-type {\n",
       "        vertical-align: middle;\n",
       "    }\n",
       "\n",
       "    .dataframe tbody tr th {\n",
       "        vertical-align: top;\n",
       "    }\n",
       "\n",
       "    .dataframe thead th {\n",
       "        text-align: right;\n",
       "    }\n",
       "</style>\n",
       "<table border=\"1\" class=\"dataframe\">\n",
       "  <thead>\n",
       "    <tr style=\"text-align: right;\">\n",
       "      <th></th>\n",
       "      <th>full_text</th>\n",
       "      <th>actual</th>\n",
       "      <th>predicted</th>\n",
       "    </tr>\n",
       "  </thead>\n",
       "  <tbody>\n",
       "    <tr>\n",
       "      <th>0</th>\n",
       "      <td>No encontraron otra alternativa que llenar de miedo a Colombia, utilizan sus paramilitares para ganar elecciones. Es ahora o nunca @petrogustavo</td>\n",
       "      <td>positive</td>\n",
       "      <td>negative</td>\n",
       "    </tr>\n",
       "    <tr>\n",
       "      <th>2</th>\n",
       "      <td>Y ustedes ¿Ya encontraron su #MatchPresidencial??Lo pueden hacer acá: https://t.co/0E1tZKypTK\\r\\n\\r\\n¡Nos gustaría saber quién es su candidato ideal! \\r\\nLos leemos en los comentarios ?? https://t.co/H11SB9EsBV</td>\n",
       "      <td>positive</td>\n",
       "      <td>negative</td>\n",
       "    </tr>\n",
       "    <tr>\n",
       "      <th>9</th>\n",
       "      <td>Un abrazo fuerte @CamiloRomero en próximas elecciones espero que mi voto sea por Usted, desde el cielo  tu madre iluminará ese camino, y el de Colombia hoy.?? https://t.co/IiVUDKZpb0</td>\n",
       "      <td>positive</td>\n",
       "      <td>negative</td>\n",
       "    </tr>\n",
       "    <tr>\n",
       "      <th>14</th>\n",
       "      <td>Además, los gráficos y mapas electorales demuestran la importancia electoral que tiene el centro del país, ante la densidad poblacional y la tradición de salir a votar. https://t.co/tVxPTMLkC2</td>\n",
       "      <td>positive</td>\n",
       "      <td>negative</td>\n",
       "    </tr>\n",
       "    <tr>\n",
       "      <th>104</th>\n",
       "      <td>Juntos lograremos un país de orden y oportunidades para todos????\\r\\n\\r\\n #FicoPresidente #MeIdentiFICO #Propuestas #Agro #PlanDeGobierno #Elecciones #Politica #Salud #Libertad #Democracia #Colombia</td>\n",
       "      <td>positive</td>\n",
       "      <td>negative</td>\n",
       "    </tr>\n",
       "  </tbody>\n",
       "</table>\n",
       "</div>"
      ],
      "text/plain": [
       "                                                                                                                                                                                                              full_text  \\\n",
       "0                                                                      No encontraron otra alternativa que llenar de miedo a Colombia, utilizan sus paramilitares para ganar elecciones. Es ahora o nunca @petrogustavo   \n",
       "2    Y ustedes ¿Ya encontraron su #MatchPresidencial??Lo pueden hacer acá: https://t.co/0E1tZKypTK\\r\\n\\r\\n¡Nos gustaría saber quién es su candidato ideal! \\r\\nLos leemos en los comentarios ?? https://t.co/H11SB9EsBV   \n",
       "9                                Un abrazo fuerte @CamiloRomero en próximas elecciones espero que mi voto sea por Usted, desde el cielo  tu madre iluminará ese camino, y el de Colombia hoy.?? https://t.co/IiVUDKZpb0   \n",
       "14                     Además, los gráficos y mapas electorales demuestran la importancia electoral que tiene el centro del país, ante la densidad poblacional y la tradición de salir a votar. https://t.co/tVxPTMLkC2   \n",
       "104              Juntos lograremos un país de orden y oportunidades para todos????\\r\\n\\r\\n #FicoPresidente #MeIdentiFICO #Propuestas #Agro #PlanDeGobierno #Elecciones #Politica #Salud #Libertad #Democracia #Colombia   \n",
       "\n",
       "       actual predicted  \n",
       "0    positive  negative  \n",
       "2    positive  negative  \n",
       "9    positive  negative  \n",
       "14   positive  negative  \n",
       "104  positive  negative  "
      ]
     },
     "execution_count": 271,
     "metadata": {},
     "output_type": "execute_result"
    }
   ],
   "source": [
    "Sc2_T1_300_error_tfidf_Ran_df.loc[Sc2_T1_300_error_tfidf_Ran_df['actual'] != Sc2_T1_300_error_tfidf_Ran_df['predicted']].head()"
   ]
  },
  {
   "cell_type": "markdown",
   "metadata": {
    "tags": []
   },
   "source": [
    "### Scenario 2 - Tag correction 1 - Train size 300 - KNeighbors Classifier"
   ]
  },
  {
   "cell_type": "code",
   "execution_count": 272,
   "metadata": {},
   "outputs": [],
   "source": [
    "Sc2_T1_300_tfidf_Knei_df = pd.read_csv('./data/Sc2_T1_300_tfidf_Knei_df.txt', sep = '\\t')"
   ]
  },
  {
   "cell_type": "code",
   "execution_count": 273,
   "metadata": {},
   "outputs": [
    {
     "data": {
      "text/plain": [
       "negative    0.92511\n",
       "positive    0.07489\n",
       "Name: sentiment, dtype: float64"
      ]
     },
     "execution_count": 273,
     "metadata": {},
     "output_type": "execute_result"
    }
   ],
   "source": [
    "Sc2_T1_300_tfidf_Knei_df['sentiment'].value_counts(dropna = False, normalize = True)"
   ]
  },
  {
   "cell_type": "code",
   "execution_count": 274,
   "metadata": {},
   "outputs": [
    {
     "data": {
      "text/html": [
       "<div>\n",
       "<style scoped>\n",
       "    .dataframe tbody tr th:only-of-type {\n",
       "        vertical-align: middle;\n",
       "    }\n",
       "\n",
       "    .dataframe tbody tr th {\n",
       "        vertical-align: top;\n",
       "    }\n",
       "\n",
       "    .dataframe thead th {\n",
       "        text-align: right;\n",
       "    }\n",
       "</style>\n",
       "<table border=\"1\" class=\"dataframe\">\n",
       "  <thead>\n",
       "    <tr style=\"text-align: right;\">\n",
       "      <th></th>\n",
       "      <th>id</th>\n",
       "      <th>full_text</th>\n",
       "      <th>sentiment</th>\n",
       "      <th>emotion</th>\n",
       "    </tr>\n",
       "  </thead>\n",
       "  <tbody>\n",
       "    <tr>\n",
       "      <th>0</th>\n",
       "      <td>1</td>\n",
       "      <td>@IvanDuque Sus socios de las AGC tienen este platanal vuelto mierda, pero no haces nada, usted inservible, ha logrado la peor inflación en Colombia y solo pública maricadas sin sentido, se robó las elecciones para entregar el país, valiente idiota tenemos de presidente.</td>\n",
       "      <td>negative</td>\n",
       "      <td>anger</td>\n",
       "    </tr>\n",
       "    <tr>\n",
       "      <th>1</th>\n",
       "      <td>2</td>\n",
       "      <td>@AlvaroUribeVel Ellos también celebran por que Maduro PetroGustavo Ivan Cepeda Timo Teodora Bobolivar entre muchos más sufren  de insomnio.\\r\\nUribe Velez Alvarito no los deja dormir\\r\\nEl enemigo para las elecciones no es Fico.... Sino el Excelentísimo y más Grande Presidente que ha tenido Colombia</td>\n",
       "      <td>negative</td>\n",
       "      <td>anger</td>\n",
       "    </tr>\n",
       "    <tr>\n",
       "      <th>2</th>\n",
       "      <td>3</td>\n",
       "      <td>@PDleh @cokycafe @PGN_COL En Colombia existen miles de leyes para controlar los funcionarios públicos pero a la hora de aplicarlas \"se les olvida que existen\". ¿Que más pruebas quieren? ¿Porque avalan unas elecciones, las del 13 de marzo, donde pado de todo lo que no debía de pasar? Escuchamos  respuestas</td>\n",
       "      <td>negative</td>\n",
       "      <td>anger</td>\n",
       "    </tr>\n",
       "    <tr>\n",
       "      <th>3</th>\n",
       "      <td>4</td>\n",
       "      <td>Petro ahora es el Capitán América o mejor dicho el Capitán Colombia de ganar las elecciones. No soltara el escudo ni para dormir ?? https://t.co/k56Dv7id1J</td>\n",
       "      <td>negative</td>\n",
       "      <td>joy</td>\n",
       "    </tr>\n",
       "    <tr>\n",
       "      <th>4</th>\n",
       "      <td>5</td>\n",
       "      <td>#OtraPregunta \\r\\n\"Petro promete reanudar relaciones diplomáticas con Maduro si gana elecciones en Colombia\"...\\r\\nEsto no pinta nada bien... y si además gana Lula en Brasil...\\r\\n¿Esto como que va para largo? https://t.co/wpQsl5KoRe</td>\n",
       "      <td>negative</td>\n",
       "      <td>fear</td>\n",
       "    </tr>\n",
       "  </tbody>\n",
       "</table>\n",
       "</div>"
      ],
      "text/plain": [
       "   id  \\\n",
       "0   1   \n",
       "1   2   \n",
       "2   3   \n",
       "3   4   \n",
       "4   5   \n",
       "\n",
       "                                                                                                                                                                                                                                                                                                            full_text  \\\n",
       "0                                      @IvanDuque Sus socios de las AGC tienen este platanal vuelto mierda, pero no haces nada, usted inservible, ha logrado la peor inflación en Colombia y solo pública maricadas sin sentido, se robó las elecciones para entregar el país, valiente idiota tenemos de presidente.   \n",
       "1        @AlvaroUribeVel Ellos también celebran por que Maduro PetroGustavo Ivan Cepeda Timo Teodora Bobolivar entre muchos más sufren  de insomnio.\\r\\nUribe Velez Alvarito no los deja dormir\\r\\nEl enemigo para las elecciones no es Fico.... Sino el Excelentísimo y más Grande Presidente que ha tenido Colombia   \n",
       "2  @PDleh @cokycafe @PGN_COL En Colombia existen miles de leyes para controlar los funcionarios públicos pero a la hora de aplicarlas \"se les olvida que existen\". ¿Que más pruebas quieren? ¿Porque avalan unas elecciones, las del 13 de marzo, donde pado de todo lo que no debía de pasar? Escuchamos  respuestas   \n",
       "3                                                                                                                                                         Petro ahora es el Capitán América o mejor dicho el Capitán Colombia de ganar las elecciones. No soltara el escudo ni para dormir ?? https://t.co/k56Dv7id1J   \n",
       "4                                                                           #OtraPregunta \\r\\n\"Petro promete reanudar relaciones diplomáticas con Maduro si gana elecciones en Colombia\"...\\r\\nEsto no pinta nada bien... y si además gana Lula en Brasil...\\r\\n¿Esto como que va para largo? https://t.co/wpQsl5KoRe   \n",
       "\n",
       "  sentiment emotion  \n",
       "0  negative   anger  \n",
       "1  negative   anger  \n",
       "2  negative   anger  \n",
       "3  negative     joy  \n",
       "4  negative    fear  "
      ]
     },
     "execution_count": 274,
     "metadata": {},
     "output_type": "execute_result"
    }
   ],
   "source": [
    "Sc2_T1_300_tfidf_Knei_df.head()"
   ]
  },
  {
   "cell_type": "code",
   "execution_count": 275,
   "metadata": {},
   "outputs": [],
   "source": [
    "# the randomstate number ensures that split are reproducible\n",
    "X_Sc2_T1_300_train, X_Sc2_T1_300_test, y_Sc2_T1_300_train, y_Sc2_T1_300_test = train_test_split(Sc2_T1_300_tfidf_Knei_df['full_text'], Sc2_T1_300_tfidf_Knei_df['sentiment'], train_size = 300, stratify = Sc2_T1_300_tfidf_Knei_df['sentiment'], random_state = 1)"
   ]
  },
  {
   "cell_type": "code",
   "execution_count": 276,
   "metadata": {},
   "outputs": [
    {
     "data": {
      "text/plain": [
       "(300,)"
      ]
     },
     "execution_count": 276,
     "metadata": {},
     "output_type": "execute_result"
    }
   ],
   "source": [
    "X_Sc2_T1_300_train.shape"
   ]
  },
  {
   "cell_type": "code",
   "execution_count": 277,
   "metadata": {},
   "outputs": [
    {
     "data": {
      "text/plain": [
       "negative    0.926667\n",
       "positive    0.073333\n",
       "Name: sentiment, dtype: float64"
      ]
     },
     "execution_count": 277,
     "metadata": {},
     "output_type": "execute_result"
    }
   ],
   "source": [
    "pd.Series(y_Sc2_T1_300_train).value_counts(normalize = True)"
   ]
  },
  {
   "cell_type": "code",
   "execution_count": 278,
   "metadata": {},
   "outputs": [
    {
     "data": {
      "text/plain": [
       "(154,)"
      ]
     },
     "execution_count": 278,
     "metadata": {},
     "output_type": "execute_result"
    }
   ],
   "source": [
    "X_Sc2_T1_300_test.shape"
   ]
  },
  {
   "cell_type": "code",
   "execution_count": 279,
   "metadata": {},
   "outputs": [
    {
     "data": {
      "text/plain": [
       "negative    0.922078\n",
       "positive    0.077922\n",
       "Name: sentiment, dtype: float64"
      ]
     },
     "execution_count": 279,
     "metadata": {},
     "output_type": "execute_result"
    }
   ],
   "source": [
    "pd.Series(y_Sc2_T1_300_test).value_counts(normalize = True)"
   ]
  },
  {
   "cell_type": "code",
   "execution_count": 280,
   "metadata": {},
   "outputs": [],
   "source": [
    "X_Sc2_T1_300_tfidf = tfidf.fit_transform(X_Sc2_T1_300_train)"
   ]
  },
  {
   "cell_type": "code",
   "execution_count": 281,
   "metadata": {},
   "outputs": [],
   "source": [
    "# Scenario 2 - Tag correction 1 - Train size 300 - KNeighbors Classifier\n",
    "X_Sc2_T1_300_tfidf_Knei_model = KNeighborsClassifier(n_neighbors=3)"
   ]
  },
  {
   "cell_type": "code",
   "execution_count": 282,
   "metadata": {},
   "outputs": [
    {
     "data": {
      "text/plain": [
       "KNeighborsClassifier(n_neighbors=3)"
      ]
     },
     "execution_count": 282,
     "metadata": {},
     "output_type": "execute_result"
    }
   ],
   "source": [
    "X_Sc2_T1_300_tfidf_Knei_model.fit(X_Sc2_T1_300_tfidf, y_Sc2_T1_300_train)"
   ]
  },
  {
   "cell_type": "code",
   "execution_count": 283,
   "metadata": {},
   "outputs": [],
   "source": [
    "# Scenario 2 - Tag correction 1 - Train size 300 - KNeighbors Classifier - TF-IDF\n",
    "y_Sc2_T1_300_train_tfidf_Knei_predict = X_Sc2_T1_300_tfidf_Knei_model.predict(X_Sc2_T1_300_tfidf)\n",
    "y_Sc2_T1_300_test_tfidf_Knei_predict = X_Sc2_T1_300_tfidf_Knei_model.predict(tfidf.transform(X_Sc2_T1_300_test))"
   ]
  },
  {
   "cell_type": "code",
   "execution_count": 284,
   "metadata": {},
   "outputs": [
    {
     "data": {
      "text/plain": [
       "<sklearn.metrics._plot.confusion_matrix.ConfusionMatrixDisplay at 0x3383b988>"
      ]
     },
     "execution_count": 284,
     "metadata": {},
     "output_type": "execute_result"
    },
    {
     "data": {
      "image/png": "[encoded data removed]",
      "text/plain": [
       "<Figure size 432x288 with 2 Axes>"
      ]
     },
     "metadata": {
      "needs_background": "light"
     },
     "output_type": "display_data"
    }
   ],
   "source": [
    "ConfusionMatrixDisplay.from_predictions(y_Sc2_T1_300_train, y_Sc2_T1_300_train_tfidf_Knei_predict)"
   ]
  },
  {
   "cell_type": "code",
   "execution_count": 285,
   "metadata": {},
   "outputs": [
    {
     "data": {
      "text/plain": [
       "<sklearn.metrics._plot.confusion_matrix.ConfusionMatrixDisplay at 0x3393bcc8>"
      ]
     },
     "execution_count": 285,
     "metadata": {},
     "output_type": "execute_result"
    },
    {
     "data": {
      "image/png": "[encoded data removed]",
      "text/plain": [
       "<Figure size 432x288 with 2 Axes>"
      ]
     },
     "metadata": {
      "needs_background": "light"
     },
     "output_type": "display_data"
    }
   ],
   "source": [
    "ConfusionMatrixDisplay.from_predictions(y_Sc2_T1_300_test, y_Sc2_T1_300_test_tfidf_Knei_predict)"
   ]
  },
  {
   "cell_type": "code",
   "execution_count": 286,
   "metadata": {},
   "outputs": [
    {
     "name": "stdout",
     "output_type": "stream",
     "text": [
      "Precision: 0.0\n",
      "Recall: 0.0\n",
      "F1: 0.0\n"
     ]
    }
   ],
   "source": [
    "# Metrics calculation for binary classes\n",
    "print('Precision:', precision_score(y_Sc2_T1_300_test, y_Sc2_T1_300_test_tfidf_Knei_predict, pos_label = 'positive'))\n",
    "print('Recall:', recall_score(y_Sc2_T1_300_test, y_Sc2_T1_300_test_tfidf_Knei_predict, pos_label = 'positive'))\n",
    "print('F1:', f1_score(y_Sc2_T1_300_test, y_Sc2_T1_300_test_tfidf_Knei_predict, pos_label = 'positive'))"
   ]
  },
  {
   "cell_type": "code",
   "execution_count": 287,
   "metadata": {},
   "outputs": [
    {
     "name": "stdout",
     "output_type": "stream",
     "text": [
      "Precision: [0.92156863 0.        ]\n",
      "Recall: [0.99295775 0.        ]\n",
      "F1: [0.9559322 0.       ]\n"
     ]
    }
   ],
   "source": [
    "# Metrics calculation for more than two classes\n",
    "print('Precision:', precision_score(y_Sc2_T1_300_test, y_Sc2_T1_300_test_tfidf_Knei_predict, average = None))\n",
    "print('Recall:', recall_score(y_Sc2_T1_300_test, y_Sc2_T1_300_test_tfidf_Knei_predict, average = None))\n",
    "print('F1:', f1_score(y_Sc2_T1_300_test, y_Sc2_T1_300_test_tfidf_Knei_predict, average = None))"
   ]
  },
  {
   "cell_type": "code",
   "execution_count": 288,
   "metadata": {},
   "outputs": [],
   "source": [
    "# Scenario 2 - Tag correction 1 - Train size 300 - KNeighbors Classifier - TF-IDF - Analyzing Errors\n",
    "Sc2_T1_300_error_tfidf_Knei_df = pd.concat(\n",
    "    [ pd.concat([X_Sc2_T1_300_test, y_Sc2_T1_300_test], axis = 1).reset_index(),\n",
    "    pd.Series(y_Sc2_T1_300_test_tfidf_Knei_predict) ]\n",
    ", axis = 1).rename(columns = { 'sentiment': 'actual', 0: 'predicted' })\n",
    "\n",
    "Sc2_T1_300_error_tfidf_Knei_df.drop('index', inplace = True, axis = 1)"
   ]
  },
  {
   "cell_type": "code",
   "execution_count": 289,
   "metadata": {},
   "outputs": [
    {
     "data": {
      "text/plain": [
       "(13, 3)"
      ]
     },
     "execution_count": 289,
     "metadata": {},
     "output_type": "execute_result"
    }
   ],
   "source": [
    "Sc2_T1_300_error_tfidf_Knei_df.loc[Sc2_T1_300_error_tfidf_Knei_df['actual'] != Sc2_T1_300_error_tfidf_Knei_df['predicted']].shape"
   ]
  },
  {
   "cell_type": "code",
   "execution_count": 290,
   "metadata": {},
   "outputs": [],
   "source": [
    "Sc2_T1_300_error_tfidf_Knei_df.loc[Sc2_T1_300_error_tfidf_Knei_df['actual'] != Sc2_T1_300_error_tfidf_Knei_df['predicted']].to_csv('./data/Sc2_T1_300_error_tfidf_Knei_df.txt', sep ='\\t')"
   ]
  },
  {
   "cell_type": "code",
   "execution_count": 291,
   "metadata": {},
   "outputs": [
    {
     "data": {
      "text/html": [
       "<div>\n",
       "<style scoped>\n",
       "    .dataframe tbody tr th:only-of-type {\n",
       "        vertical-align: middle;\n",
       "    }\n",
       "\n",
       "    .dataframe tbody tr th {\n",
       "        vertical-align: top;\n",
       "    }\n",
       "\n",
       "    .dataframe thead th {\n",
       "        text-align: right;\n",
       "    }\n",
       "</style>\n",
       "<table border=\"1\" class=\"dataframe\">\n",
       "  <thead>\n",
       "    <tr style=\"text-align: right;\">\n",
       "      <th></th>\n",
       "      <th>full_text</th>\n",
       "      <th>actual</th>\n",
       "      <th>predicted</th>\n",
       "    </tr>\n",
       "  </thead>\n",
       "  <tbody>\n",
       "    <tr>\n",
       "      <th>0</th>\n",
       "      <td>No encontraron otra alternativa que llenar de miedo a Colombia, utilizan sus paramilitares para ganar elecciones. Es ahora o nunca @petrogustavo</td>\n",
       "      <td>positive</td>\n",
       "      <td>negative</td>\n",
       "    </tr>\n",
       "    <tr>\n",
       "      <th>2</th>\n",
       "      <td>Y ustedes ¿Ya encontraron su #MatchPresidencial??Lo pueden hacer acá: https://t.co/0E1tZKypTK\\r\\n\\r\\n¡Nos gustaría saber quién es su candidato ideal! \\r\\nLos leemos en los comentarios ?? https://t.co/H11SB9EsBV</td>\n",
       "      <td>positive</td>\n",
       "      <td>negative</td>\n",
       "    </tr>\n",
       "    <tr>\n",
       "      <th>9</th>\n",
       "      <td>Un abrazo fuerte @CamiloRomero en próximas elecciones espero que mi voto sea por Usted, desde el cielo  tu madre iluminará ese camino, y el de Colombia hoy.?? https://t.co/IiVUDKZpb0</td>\n",
       "      <td>positive</td>\n",
       "      <td>negative</td>\n",
       "    </tr>\n",
       "    <tr>\n",
       "      <th>14</th>\n",
       "      <td>Además, los gráficos y mapas electorales demuestran la importancia electoral que tiene el centro del país, ante la densidad poblacional y la tradición de salir a votar. https://t.co/tVxPTMLkC2</td>\n",
       "      <td>positive</td>\n",
       "      <td>negative</td>\n",
       "    </tr>\n",
       "    <tr>\n",
       "      <th>26</th>\n",
       "      <td>@CNSCColombia @DAFP_COLOMBIA @CRCCol @sgcol @MinTIC_responde @MincienciasCo @INMdeColombia @MinEnergiaCo @ANMColombia @IDEAMColombia @ICACOLOMBIA Estos q controlan procesos de la #CNSC programan pruebas cuando un país está dividido por líderes políticos extremistas en elecciones presidenciales, dónde la fuerzas militares y de  policía no son capaces de mantener el orden público, estas pruebas deben ser después del mierdero</td>\n",
       "      <td>negative</td>\n",
       "      <td>positive</td>\n",
       "    </tr>\n",
       "  </tbody>\n",
       "</table>\n",
       "</div>"
      ],
      "text/plain": [
       "                                                                                                                                                                                                                                                                                                                                                                                                                                     full_text  \\\n",
       "0                                                                                                                                                                                                                                                                                             No encontraron otra alternativa que llenar de miedo a Colombia, utilizan sus paramilitares para ganar elecciones. Es ahora o nunca @petrogustavo   \n",
       "2                                                                                                                                                                                                                           Y ustedes ¿Ya encontraron su #MatchPresidencial??Lo pueden hacer acá: https://t.co/0E1tZKypTK\\r\\n\\r\\n¡Nos gustaría saber quién es su candidato ideal! \\r\\nLos leemos en los comentarios ?? https://t.co/H11SB9EsBV   \n",
       "9                                                                                                                                                                                                                                                       Un abrazo fuerte @CamiloRomero en próximas elecciones espero que mi voto sea por Usted, desde el cielo  tu madre iluminará ese camino, y el de Colombia hoy.?? https://t.co/IiVUDKZpb0   \n",
       "14                                                                                                                                                                                                                                            Además, los gráficos y mapas electorales demuestran la importancia electoral que tiene el centro del país, ante la densidad poblacional y la tradición de salir a votar. https://t.co/tVxPTMLkC2   \n",
       "26  @CNSCColombia @DAFP_COLOMBIA @CRCCol @sgcol @MinTIC_responde @MincienciasCo @INMdeColombia @MinEnergiaCo @ANMColombia @IDEAMColombia @ICACOLOMBIA Estos q controlan procesos de la #CNSC programan pruebas cuando un país está dividido por líderes políticos extremistas en elecciones presidenciales, dónde la fuerzas militares y de  policía no son capaces de mantener el orden público, estas pruebas deben ser después del mierdero   \n",
       "\n",
       "      actual predicted  \n",
       "0   positive  negative  \n",
       "2   positive  negative  \n",
       "9   positive  negative  \n",
       "14  positive  negative  \n",
       "26  negative  positive  "
      ]
     },
     "execution_count": 291,
     "metadata": {},
     "output_type": "execute_result"
    }
   ],
   "source": [
    "Sc2_T1_300_error_tfidf_Knei_df.loc[Sc2_T1_300_error_tfidf_Knei_df['actual'] != Sc2_T1_300_error_tfidf_Knei_df['predicted']].head()"
   ]
  },
  {
   "cell_type": "markdown",
   "metadata": {
    "tags": []
   },
   "source": [
    "## Scenario 3 - Tag correction 0 - Train size 100"
   ]
  },
  {
   "cell_type": "code",
   "execution_count": 292,
   "metadata": {},
   "outputs": [],
   "source": [
    "# the randomstate number ensures that split are reproducible\n",
    "X_Sc3_T0_100_train, X_Sc3_T0_100_test, y_Sc3_T0_100_train, y_Sc3_T0_100_test = train_test_split(neutral_positive_df['full_text'], neutral_positive_df['sentiment'], train_size = 100, stratify = neutral_positive_df['sentiment'], random_state = 1)"
   ]
  },
  {
   "cell_type": "code",
   "execution_count": 293,
   "metadata": {},
   "outputs": [
    {
     "data": {
      "text/plain": [
       "(100,)"
      ]
     },
     "execution_count": 293,
     "metadata": {},
     "output_type": "execute_result"
    }
   ],
   "source": [
    "X_Sc3_T0_100_train.shape"
   ]
  },
  {
   "cell_type": "code",
   "execution_count": 294,
   "metadata": {},
   "outputs": [
    {
     "data": {
      "text/plain": [
       "negative    0.67\n",
       "positive    0.33\n",
       "Name: sentiment, dtype: float64"
      ]
     },
     "execution_count": 294,
     "metadata": {},
     "output_type": "execute_result"
    }
   ],
   "source": [
    "pd.Series(y_Sc3_T0_100_train).value_counts(normalize = True)"
   ]
  },
  {
   "cell_type": "code",
   "execution_count": 295,
   "metadata": {},
   "outputs": [
    {
     "data": {
      "text/plain": [
       "(527,)"
      ]
     },
     "execution_count": 295,
     "metadata": {},
     "output_type": "execute_result"
    }
   ],
   "source": [
    "X_Sc3_T0_100_test.shape"
   ]
  },
  {
   "cell_type": "code",
   "execution_count": 296,
   "metadata": {},
   "outputs": [
    {
     "data": {
      "text/plain": [
       "negative    0.667932\n",
       "positive    0.332068\n",
       "Name: sentiment, dtype: float64"
      ]
     },
     "execution_count": 296,
     "metadata": {},
     "output_type": "execute_result"
    }
   ],
   "source": [
    "pd.Series(y_Sc3_T0_100_test).value_counts(normalize = True)"
   ]
  },
  {
   "cell_type": "code",
   "execution_count": 297,
   "metadata": {},
   "outputs": [],
   "source": [
    "tfidf = TfidfVectorizer(tokenizer = tokenizer, stop_words = stop_words)"
   ]
  },
  {
   "cell_type": "code",
   "execution_count": 298,
   "metadata": {},
   "outputs": [],
   "source": [
    "X_Sc3_T0_100_tfidf = tfidf.fit_transform(X_Sc3_T0_100_train)"
   ]
  },
  {
   "cell_type": "markdown",
   "metadata": {
    "tags": []
   },
   "source": [
    "### Scenario 3 - Tag correction 0 - Train size 100 - Random Forest Classifier"
   ]
  },
  {
   "cell_type": "code",
   "execution_count": 299,
   "metadata": {},
   "outputs": [],
   "source": [
    "# Scenario 3 - Tag correction 0 - Train size 100 - Random Forest Classifier\n",
    "X_Sc3_T0_100_tfidf_Ran_model = RandomForestClassifier()"
   ]
  },
  {
   "cell_type": "code",
   "execution_count": 300,
   "metadata": {},
   "outputs": [
    {
     "data": {
      "text/plain": [
       "RandomForestClassifier()"
      ]
     },
     "execution_count": 300,
     "metadata": {},
     "output_type": "execute_result"
    }
   ],
   "source": [
    "X_Sc3_T0_100_tfidf_Ran_model.fit(X_Sc3_T0_100_tfidf, y_Sc3_T0_100_train)"
   ]
  },
  {
   "cell_type": "code",
   "execution_count": 301,
   "metadata": {},
   "outputs": [],
   "source": [
    "# Scenario 3 - Tag correction 0 - Train size 100 - Random Forest Classifier - tfidf\n",
    "y_Sc3_T0_100_train_tfidf_Ran_predict = X_Sc3_T0_100_tfidf_Ran_model.predict(X_Sc3_T0_100_tfidf)\n",
    "y_Sc3_T0_100_test_tfidf_Ran_predict = X_Sc3_T0_100_tfidf_Ran_model.predict(tfidf.transform(X_Sc3_T0_100_test))"
   ]
  },
  {
   "cell_type": "code",
   "execution_count": 302,
   "metadata": {},
   "outputs": [
    {
     "data": {
      "text/plain": [
       "<sklearn.metrics._plot.confusion_matrix.ConfusionMatrixDisplay at 0x3332f408>"
      ]
     },
     "execution_count": 302,
     "metadata": {},
     "output_type": "execute_result"
    },
    {
     "data": {
      "image/png": "[encoded data removed]",
      "text/plain": [
       "<Figure size 432x288 with 2 Axes>"
      ]
     },
     "metadata": {
      "needs_background": "light"
     },
     "output_type": "display_data"
    }
   ],
   "source": [
    "ConfusionMatrixDisplay.from_predictions(y_Sc3_T0_100_train, y_Sc3_T0_100_train_tfidf_Ran_predict)"
   ]
  },
  {
   "cell_type": "code",
   "execution_count": 303,
   "metadata": {},
   "outputs": [
    {
     "data": {
      "text/plain": [
       "<sklearn.metrics._plot.confusion_matrix.ConfusionMatrixDisplay at 0x33a8b848>"
      ]
     },
     "execution_count": 303,
     "metadata": {},
     "output_type": "execute_result"
    },
    {
     "data": {
      "image/png": "[encoded data removed]",
      "text/plain": [
       "<Figure size 432x288 with 2 Axes>"
      ]
     },
     "metadata": {
      "needs_background": "light"
     },
     "output_type": "display_data"
    }
   ],
   "source": [
    "ConfusionMatrixDisplay.from_predictions(y_Sc3_T0_100_test, y_Sc3_T0_100_test_tfidf_Ran_predict)"
   ]
  },
  {
   "cell_type": "code",
   "execution_count": 304,
   "metadata": {},
   "outputs": [
    {
     "name": "stdout",
     "output_type": "stream",
     "text": [
      "Precision: 0.5365853658536586\n",
      "Recall: 0.12571428571428572\n",
      "F1: 0.20370370370370375\n"
     ]
    }
   ],
   "source": [
    "# Metrics calculation for binary classes\n",
    "print('Precision:', precision_score(y_Sc3_T0_100_test, y_Sc3_T0_100_test_tfidf_Ran_predict, pos_label = 'positive'))\n",
    "print('Recall:', recall_score(y_Sc3_T0_100_test, y_Sc3_T0_100_test_tfidf_Ran_predict, pos_label = 'positive'))\n",
    "print('F1:', f1_score(y_Sc3_T0_100_test, y_Sc3_T0_100_test_tfidf_Ran_predict, pos_label = 'positive'))"
   ]
  },
  {
   "cell_type": "code",
   "execution_count": 305,
   "metadata": {},
   "outputs": [
    {
     "name": "stdout",
     "output_type": "stream",
     "text": [
      "Precision: [0.68518519 0.53658537]\n",
      "Recall: [0.94602273 0.12571429]\n",
      "F1: [0.7947494 0.2037037]\n"
     ]
    }
   ],
   "source": [
    "# Metrics calculation for more than two classes\n",
    "print('Precision:', precision_score(y_Sc3_T0_100_test, y_Sc3_T0_100_test_tfidf_Ran_predict, average = None))\n",
    "print('Recall:', recall_score(y_Sc3_T0_100_test, y_Sc3_T0_100_test_tfidf_Ran_predict, average = None))\n",
    "print('F1:', f1_score(y_Sc3_T0_100_test, y_Sc3_T0_100_test_tfidf_Ran_predict, average = None))"
   ]
  },
  {
   "cell_type": "code",
   "execution_count": 306,
   "metadata": {},
   "outputs": [],
   "source": [
    "# Scenario 3 - Tag correction 0 - Train size 100 - Random Forest Classifier - tfidf - Analyzing Errors\n",
    "Sc3_T0_100_error_tfidf_Ran_df = pd.concat(\n",
    "    [ pd.concat([X_Sc3_T0_100_test, y_Sc3_T0_100_test], axis = 1).reset_index(),\n",
    "    pd.Series(y_Sc3_T0_100_test_tfidf_Ran_predict) ]\n",
    ", axis = 1).rename(columns = { 'sentiment': 'actual', 0: 'predicted' })\n",
    "\n",
    "Sc3_T0_100_error_tfidf_Ran_df.drop('index', inplace = True, axis = 1)"
   ]
  },
  {
   "cell_type": "code",
   "execution_count": 307,
   "metadata": {},
   "outputs": [
    {
     "data": {
      "text/plain": [
       "(172, 3)"
      ]
     },
     "execution_count": 307,
     "metadata": {},
     "output_type": "execute_result"
    }
   ],
   "source": [
    "Sc3_T0_100_error_tfidf_Ran_df.loc[Sc3_T0_100_error_tfidf_Ran_df['actual'] != Sc3_T0_100_error_tfidf_Ran_df['predicted']].shape"
   ]
  },
  {
   "cell_type": "code",
   "execution_count": 308,
   "metadata": {},
   "outputs": [],
   "source": [
    "Sc3_T0_100_error_tfidf_Ran_df.loc[Sc3_T0_100_error_tfidf_Ran_df['actual'] != Sc3_T0_100_error_tfidf_Ran_df['predicted']].to_csv('./data/Sc3_T0_100_error_tfidf_Ran_df.txt', sep ='\\t')"
   ]
  },
  {
   "cell_type": "code",
   "execution_count": 309,
   "metadata": {},
   "outputs": [
    {
     "data": {
      "text/html": [
       "<div>\n",
       "<style scoped>\n",
       "    .dataframe tbody tr th:only-of-type {\n",
       "        vertical-align: middle;\n",
       "    }\n",
       "\n",
       "    .dataframe tbody tr th {\n",
       "        vertical-align: top;\n",
       "    }\n",
       "\n",
       "    .dataframe thead th {\n",
       "        text-align: right;\n",
       "    }\n",
       "</style>\n",
       "<table border=\"1\" class=\"dataframe\">\n",
       "  <thead>\n",
       "    <tr style=\"text-align: right;\">\n",
       "      <th></th>\n",
       "      <th>full_text</th>\n",
       "      <th>actual</th>\n",
       "      <th>predicted</th>\n",
       "    </tr>\n",
       "  </thead>\n",
       "  <tbody>\n",
       "    <tr>\n",
       "      <th>0</th>\n",
       "      <td>@lcvelez Las elecciones deberían estar suspendidas hasta tanto no nos den garantías con un nuevo registrador. Colombia y aparece Nicaragua o Venezuela forzados a aceptar elecciones chambonas para beneficiar a @petrogustavo</td>\n",
       "      <td>negative</td>\n",
       "      <td>positive</td>\n",
       "    </tr>\n",
       "    <tr>\n",
       "      <th>2</th>\n",
       "      <td>#COLOMBIA: Si vas a cubrir las elecciones necesitas un plan de comunicación. \\r\\n\\r\\nAlerta rápidamente a los demás si algo te ha sucedido y proporciona toda la información necesaria para poner en marcha una respuesta adecuada.  @ACOSalliance \\r\\n\\r\\nEncuéntralo aquí: https://t.co/b7OZvGdeDc https://t.co/420CLbD7Ur</td>\n",
       "      <td>positive</td>\n",
       "      <td>negative</td>\n",
       "    </tr>\n",
       "    <tr>\n",
       "      <th>3</th>\n",
       "      <td>#Política #Colombia | Uno de los vehículos portaba en su parabrisas un distintivo que lo identificaba como parte de la Alcaldía de Medellín.\\r\\nhttps://t.co/LDYchqsr08</td>\n",
       "      <td>positive</td>\n",
       "      <td>negative</td>\n",
       "    </tr>\n",
       "    <tr>\n",
       "      <th>10</th>\n",
       "      <td>¿Qué es la Ley de Garantías y por qué la Corte Constitucional tumbó su reforma?\\r\\nhttps://t.co/ONIELKP4wg https://t.co/0KuEhWcVlz</td>\n",
       "      <td>positive</td>\n",
       "      <td>negative</td>\n",
       "    </tr>\n",
       "    <tr>\n",
       "      <th>14</th>\n",
       "      <td>Luis Pérez se caracteriza por tener un estilo de ropa colorida y a la medida. En este capítulo de #ElHilo le contamos qué comunica con las prendas que usa el candidato.\\r\\nhttps://t.co/BQkQzsF1Mu\\r\\n\\r\\n#Elecciones2022 #ColombiaDecide https://t.co/qSKzzQgQn2</td>\n",
       "      <td>positive</td>\n",
       "      <td>negative</td>\n",
       "    </tr>\n",
       "  </tbody>\n",
       "</table>\n",
       "</div>"
      ],
      "text/plain": [
       "                                                                                                                                                                                                                                                                                                                       full_text  \\\n",
       "0                                                                                                 @lcvelez Las elecciones deberían estar suspendidas hasta tanto no nos den garantías con un nuevo registrador. Colombia y aparece Nicaragua o Venezuela forzados a aceptar elecciones chambonas para beneficiar a @petrogustavo   \n",
       "2   #COLOMBIA: Si vas a cubrir las elecciones necesitas un plan de comunicación. \\r\\n\\r\\nAlerta rápidamente a los demás si algo te ha sucedido y proporciona toda la información necesaria para poner en marcha una respuesta adecuada.  @ACOSalliance \\r\\n\\r\\nEncuéntralo aquí: https://t.co/b7OZvGdeDc https://t.co/420CLbD7Ur   \n",
       "3                                                                                                                                                        #Política #Colombia | Uno de los vehículos portaba en su parabrisas un distintivo que lo identificaba como parte de la Alcaldía de Medellín.\\r\\nhttps://t.co/LDYchqsr08   \n",
       "10                                                                                                                                                                                            ¿Qué es la Ley de Garantías y por qué la Corte Constitucional tumbó su reforma?\\r\\nhttps://t.co/ONIELKP4wg https://t.co/0KuEhWcVlz   \n",
       "14                                                            Luis Pérez se caracteriza por tener un estilo de ropa colorida y a la medida. En este capítulo de #ElHilo le contamos qué comunica con las prendas que usa el candidato.\\r\\nhttps://t.co/BQkQzsF1Mu\\r\\n\\r\\n#Elecciones2022 #ColombiaDecide https://t.co/qSKzzQgQn2   \n",
       "\n",
       "      actual predicted  \n",
       "0   negative  positive  \n",
       "2   positive  negative  \n",
       "3   positive  negative  \n",
       "10  positive  negative  \n",
       "14  positive  negative  "
      ]
     },
     "execution_count": 309,
     "metadata": {},
     "output_type": "execute_result"
    }
   ],
   "source": [
    "Sc3_T0_100_error_tfidf_Ran_df.loc[Sc3_T0_100_error_tfidf_Ran_df['actual'] != Sc3_T0_100_error_tfidf_Ran_df['predicted']].head()"
   ]
  },
  {
   "cell_type": "markdown",
   "metadata": {
    "tags": []
   },
   "source": [
    "### Scenario 3 - Tag correction 0 - Train size 100 - KNeighbors Classifier"
   ]
  },
  {
   "cell_type": "code",
   "execution_count": 310,
   "metadata": {},
   "outputs": [],
   "source": [
    "# Scenario 3 - Tag correction 0 - Train size 100 - KNeighbors Classifier\n",
    "X_Sc3_T0_100_tfidf_Knei_model = KNeighborsClassifier(n_neighbors=3)"
   ]
  },
  {
   "cell_type": "code",
   "execution_count": 311,
   "metadata": {},
   "outputs": [
    {
     "data": {
      "text/plain": [
       "KNeighborsClassifier(n_neighbors=3)"
      ]
     },
     "execution_count": 311,
     "metadata": {},
     "output_type": "execute_result"
    }
   ],
   "source": [
    "X_Sc3_T0_100_tfidf_Knei_model.fit(X_Sc3_T0_100_tfidf, y_Sc3_T0_100_train)"
   ]
  },
  {
   "cell_type": "code",
   "execution_count": 312,
   "metadata": {},
   "outputs": [],
   "source": [
    "# Scenario 3 - Tag correction 0 - Train size 100 - KNeighbors Classifier - tfidf\n",
    "y_Sc3_T0_100_train_tfidf_Knei_predict = X_Sc3_T0_100_tfidf_Knei_model.predict(X_Sc3_T0_100_tfidf)\n",
    "y_Sc3_T0_100_test_tfidf_Knei_predict = X_Sc3_T0_100_tfidf_Knei_model.predict(tfidf.transform(X_Sc3_T0_100_test))"
   ]
  },
  {
   "cell_type": "code",
   "execution_count": 313,
   "metadata": {},
   "outputs": [
    {
     "data": {
      "text/plain": [
       "<sklearn.metrics._plot.confusion_matrix.ConfusionMatrixDisplay at 0x33b2e408>"
      ]
     },
     "execution_count": 313,
     "metadata": {},
     "output_type": "execute_result"
    },
    {
     "data": {
      "image/png": "[encoded data removed]",
      "text/plain": [
       "<Figure size 432x288 with 2 Axes>"
      ]
     },
     "metadata": {
      "needs_background": "light"
     },
     "output_type": "display_data"
    }
   ],
   "source": [
    "ConfusionMatrixDisplay.from_predictions(y_Sc3_T0_100_train, y_Sc3_T0_100_train_tfidf_Knei_predict)"
   ]
  },
  {
   "cell_type": "code",
   "execution_count": 314,
   "metadata": {},
   "outputs": [
    {
     "data": {
      "text/plain": [
       "<sklearn.metrics._plot.confusion_matrix.ConfusionMatrixDisplay at 0x33bd5548>"
      ]
     },
     "execution_count": 314,
     "metadata": {},
     "output_type": "execute_result"
    },
    {
     "data": {
      "image/png": "[encoded data removed]",
      "text/plain": [
       "<Figure size 432x288 with 2 Axes>"
      ]
     },
     "metadata": {
      "needs_background": "light"
     },
     "output_type": "display_data"
    }
   ],
   "source": [
    "ConfusionMatrixDisplay.from_predictions(y_Sc3_T0_100_test, y_Sc3_T0_100_test_tfidf_Knei_predict)"
   ]
  },
  {
   "cell_type": "code",
   "execution_count": 315,
   "metadata": {},
   "outputs": [
    {
     "name": "stdout",
     "output_type": "stream",
     "text": [
      "Precision: 0.4838709677419355\n",
      "Recall: 0.5142857142857142\n",
      "F1: 0.4986149584487534\n"
     ]
    }
   ],
   "source": [
    "# Metrics calculation for binary classes\n",
    "print('Precision:', precision_score(y_Sc3_T0_100_test, y_Sc3_T0_100_test_tfidf_Knei_predict, pos_label = 'positive'))\n",
    "print('Recall:', recall_score(y_Sc3_T0_100_test, y_Sc3_T0_100_test_tfidf_Knei_predict, pos_label = 'positive'))\n",
    "print('F1:', f1_score(y_Sc3_T0_100_test, y_Sc3_T0_100_test_tfidf_Knei_predict, pos_label = 'positive'))"
   ]
  },
  {
   "cell_type": "code",
   "execution_count": 316,
   "metadata": {},
   "outputs": [
    {
     "name": "stdout",
     "output_type": "stream",
     "text": [
      "Precision: [0.75073314 0.48387097]\n",
      "Recall: [0.72727273 0.51428571]\n",
      "F1: [0.73881674 0.49861496]\n"
     ]
    }
   ],
   "source": [
    "# Metrics calculation for more than two classes\n",
    "print('Precision:', precision_score(y_Sc3_T0_100_test, y_Sc3_T0_100_test_tfidf_Knei_predict, average = None))\n",
    "print('Recall:', recall_score(y_Sc3_T0_100_test, y_Sc3_T0_100_test_tfidf_Knei_predict, average = None))\n",
    "print('F1:', f1_score(y_Sc3_T0_100_test, y_Sc3_T0_100_test_tfidf_Knei_predict, average = None))"
   ]
  },
  {
   "cell_type": "code",
   "execution_count": 317,
   "metadata": {},
   "outputs": [],
   "source": [
    "# Scenario 3 - Tag correction 0 - Train size 100 - KNeighbors Classifier - tfidf - Analyzing Errors\n",
    "Sc3_T0_100_error_tfidf_Knei_df = pd.concat(\n",
    "    [ pd.concat([X_Sc3_T0_100_test, y_Sc3_T0_100_test], axis = 1).reset_index(),\n",
    "    pd.Series(y_Sc3_T0_100_test_tfidf_Knei_predict) ]\n",
    ", axis = 1).rename(columns = { 'sentiment': 'actual', 0: 'predicted' })\n",
    "\n",
    "Sc3_T0_100_error_tfidf_Knei_df.drop('index', inplace = True, axis = 1)"
   ]
  },
  {
   "cell_type": "code",
   "execution_count": 318,
   "metadata": {},
   "outputs": [
    {
     "data": {
      "text/plain": [
       "(181, 3)"
      ]
     },
     "execution_count": 318,
     "metadata": {},
     "output_type": "execute_result"
    }
   ],
   "source": [
    "Sc3_T0_100_error_tfidf_Knei_df.loc[Sc3_T0_100_error_tfidf_Knei_df['actual'] != Sc3_T0_100_error_tfidf_Knei_df['predicted']].shape"
   ]
  },
  {
   "cell_type": "code",
   "execution_count": 319,
   "metadata": {},
   "outputs": [],
   "source": [
    "Sc3_T0_100_error_tfidf_Knei_df.loc[Sc3_T0_100_error_tfidf_Knei_df['actual'] != Sc3_T0_100_error_tfidf_Knei_df['predicted']].to_csv('./data/Sc3_T0_100_error_tfidf_Knei_df.txt', sep ='\\t')"
   ]
  },
  {
   "cell_type": "code",
   "execution_count": 320,
   "metadata": {},
   "outputs": [
    {
     "data": {
      "text/html": [
       "<div>\n",
       "<style scoped>\n",
       "    .dataframe tbody tr th:only-of-type {\n",
       "        vertical-align: middle;\n",
       "    }\n",
       "\n",
       "    .dataframe tbody tr th {\n",
       "        vertical-align: top;\n",
       "    }\n",
       "\n",
       "    .dataframe thead th {\n",
       "        text-align: right;\n",
       "    }\n",
       "</style>\n",
       "<table border=\"1\" class=\"dataframe\">\n",
       "  <thead>\n",
       "    <tr style=\"text-align: right;\">\n",
       "      <th></th>\n",
       "      <th>full_text</th>\n",
       "      <th>actual</th>\n",
       "      <th>predicted</th>\n",
       "    </tr>\n",
       "  </thead>\n",
       "  <tbody>\n",
       "    <tr>\n",
       "      <th>0</th>\n",
       "      <td>@lcvelez Las elecciones deberían estar suspendidas hasta tanto no nos den garantías con un nuevo registrador. Colombia y aparece Nicaragua o Venezuela forzados a aceptar elecciones chambonas para beneficiar a @petrogustavo</td>\n",
       "      <td>negative</td>\n",
       "      <td>positive</td>\n",
       "    </tr>\n",
       "    <tr>\n",
       "      <th>2</th>\n",
       "      <td>#COLOMBIA: Si vas a cubrir las elecciones necesitas un plan de comunicación. \\r\\n\\r\\nAlerta rápidamente a los demás si algo te ha sucedido y proporciona toda la información necesaria para poner en marcha una respuesta adecuada.  @ACOSalliance \\r\\n\\r\\nEncuéntralo aquí: https://t.co/b7OZvGdeDc https://t.co/420CLbD7Ur</td>\n",
       "      <td>positive</td>\n",
       "      <td>negative</td>\n",
       "    </tr>\n",
       "    <tr>\n",
       "      <th>5</th>\n",
       "      <td>@RevistaSemana El tema es que quién lo dice, es el mayor delincuente de la historia de Colombia, ¿Cómo le van a robar elecciones al líder de la corrupción en Colombia?</td>\n",
       "      <td>negative</td>\n",
       "      <td>positive</td>\n",
       "    </tr>\n",
       "    <tr>\n",
       "      <th>10</th>\n",
       "      <td>¿Qué es la Ley de Garantías y por qué la Corte Constitucional tumbó su reforma?\\r\\nhttps://t.co/ONIELKP4wg https://t.co/0KuEhWcVlz</td>\n",
       "      <td>positive</td>\n",
       "      <td>negative</td>\n",
       "    </tr>\n",
       "    <tr>\n",
       "      <th>11</th>\n",
       "      <td>Se han robado las elecciones del congreso !! @PGN_COL @CGR_Colombia @DELAESPRIELLAE  @FiscaliaCol y no va a pasar nada ???</td>\n",
       "      <td>negative</td>\n",
       "      <td>positive</td>\n",
       "    </tr>\n",
       "  </tbody>\n",
       "</table>\n",
       "</div>"
      ],
      "text/plain": [
       "                                                                                                                                                                                                                                                                                                                       full_text  \\\n",
       "0                                                                                                 @lcvelez Las elecciones deberían estar suspendidas hasta tanto no nos den garantías con un nuevo registrador. Colombia y aparece Nicaragua o Venezuela forzados a aceptar elecciones chambonas para beneficiar a @petrogustavo   \n",
       "2   #COLOMBIA: Si vas a cubrir las elecciones necesitas un plan de comunicación. \\r\\n\\r\\nAlerta rápidamente a los demás si algo te ha sucedido y proporciona toda la información necesaria para poner en marcha una respuesta adecuada.  @ACOSalliance \\r\\n\\r\\nEncuéntralo aquí: https://t.co/b7OZvGdeDc https://t.co/420CLbD7Ur   \n",
       "5                                                                                                                                                        @RevistaSemana El tema es que quién lo dice, es el mayor delincuente de la historia de Colombia, ¿Cómo le van a robar elecciones al líder de la corrupción en Colombia?   \n",
       "10                                                                                                                                                                                            ¿Qué es la Ley de Garantías y por qué la Corte Constitucional tumbó su reforma?\\r\\nhttps://t.co/ONIELKP4wg https://t.co/0KuEhWcVlz   \n",
       "11                                                                                                                                                                                                    Se han robado las elecciones del congreso !! @PGN_COL @CGR_Colombia @DELAESPRIELLAE  @FiscaliaCol y no va a pasar nada ???   \n",
       "\n",
       "      actual predicted  \n",
       "0   negative  positive  \n",
       "2   positive  negative  \n",
       "5   negative  positive  \n",
       "10  positive  negative  \n",
       "11  negative  positive  "
      ]
     },
     "execution_count": 320,
     "metadata": {},
     "output_type": "execute_result"
    }
   ],
   "source": [
    "Sc3_T0_100_error_tfidf_Knei_df.loc[Sc3_T0_100_error_tfidf_Knei_df['actual'] != Sc3_T0_100_error_tfidf_Knei_df['predicted']].head()"
   ]
  },
  {
   "cell_type": "markdown",
   "metadata": {
    "tags": []
   },
   "source": [
    "## Scenario 3 - Tag correction 1 - Train size 100"
   ]
  },
  {
   "cell_type": "markdown",
   "metadata": {
    "tags": []
   },
   "source": [
    "### Scenario 3 - Tag correction 1 - Train size 100 - Random Forest Classifier"
   ]
  },
  {
   "cell_type": "code",
   "execution_count": 321,
   "metadata": {},
   "outputs": [],
   "source": [
    "Sc3_T1_100_tfidf_Ran_df = pd.read_csv('./data/Sc3_T1_100_tfidf_Ran_df.txt', sep = '\\t')"
   ]
  },
  {
   "cell_type": "code",
   "execution_count": 322,
   "metadata": {},
   "outputs": [
    {
     "data": {
      "text/plain": [
       "negative    0.681021\n",
       "positive    0.318979\n",
       "Name: sentiment, dtype: float64"
      ]
     },
     "execution_count": 322,
     "metadata": {},
     "output_type": "execute_result"
    }
   ],
   "source": [
    "Sc3_T1_100_tfidf_Ran_df['sentiment'].value_counts(dropna = False, normalize = True)"
   ]
  },
  {
   "cell_type": "code",
   "execution_count": 323,
   "metadata": {},
   "outputs": [
    {
     "data": {
      "text/html": [
       "<div>\n",
       "<style scoped>\n",
       "    .dataframe tbody tr th:only-of-type {\n",
       "        vertical-align: middle;\n",
       "    }\n",
       "\n",
       "    .dataframe tbody tr th {\n",
       "        vertical-align: top;\n",
       "    }\n",
       "\n",
       "    .dataframe thead th {\n",
       "        text-align: right;\n",
       "    }\n",
       "</style>\n",
       "<table border=\"1\" class=\"dataframe\">\n",
       "  <thead>\n",
       "    <tr style=\"text-align: right;\">\n",
       "      <th></th>\n",
       "      <th>id</th>\n",
       "      <th>full_text</th>\n",
       "      <th>sentiment</th>\n",
       "      <th>emotion</th>\n",
       "    </tr>\n",
       "  </thead>\n",
       "  <tbody>\n",
       "    <tr>\n",
       "      <th>0</th>\n",
       "      <td>1</td>\n",
       "      <td>@IvanDuque Sus socios de las AGC tienen este platanal vuelto mierda, pero no haces nada, usted inservible, ha logrado la peor inflación en Colombia y solo pública maricadas sin sentido, se robó las elecciones para entregar el país, valiente idiota tenemos de presidente.</td>\n",
       "      <td>negative</td>\n",
       "      <td>anger</td>\n",
       "    </tr>\n",
       "    <tr>\n",
       "      <th>1</th>\n",
       "      <td>2</td>\n",
       "      <td>@AlvaroUribeVel Ellos también celebran por que Maduro PetroGustavo Ivan Cepeda Timo Teodora Bobolivar entre muchos más sufren  de insomnio.\\r\\nUribe Velez Alvarito no los deja dormir\\r\\nEl enemigo para las elecciones no es Fico.... Sino el Excelentísimo y más Grande Presidente que ha tenido Colombia</td>\n",
       "      <td>negative</td>\n",
       "      <td>anger</td>\n",
       "    </tr>\n",
       "    <tr>\n",
       "      <th>2</th>\n",
       "      <td>3</td>\n",
       "      <td>@PDleh @cokycafe @PGN_COL En Colombia existen miles de leyes para controlar los funcionarios públicos pero a la hora de aplicarlas \"se les olvida que existen\". ¿Que más pruebas quieren? ¿Porque avalan unas elecciones, las del 13 de marzo, donde pado de todo lo que no debía de pasar? Escuchamos  respuestas</td>\n",
       "      <td>negative</td>\n",
       "      <td>anger</td>\n",
       "    </tr>\n",
       "    <tr>\n",
       "      <th>3</th>\n",
       "      <td>4</td>\n",
       "      <td>Petro ahora es el Capitán América o mejor dicho el Capitán Colombia de ganar las elecciones. No soltara el escudo ni para dormir ?? https://t.co/k56Dv7id1J</td>\n",
       "      <td>negative</td>\n",
       "      <td>joy</td>\n",
       "    </tr>\n",
       "    <tr>\n",
       "      <th>4</th>\n",
       "      <td>5</td>\n",
       "      <td>#OtraPregunta \\r\\n\"Petro promete reanudar relaciones diplomáticas con Maduro si gana elecciones en Colombia\"...\\r\\nEsto no pinta nada bien... y si además gana Lula en Brasil...\\r\\n¿Esto como que va para largo? https://t.co/wpQsl5KoRe</td>\n",
       "      <td>negative</td>\n",
       "      <td>fear</td>\n",
       "    </tr>\n",
       "  </tbody>\n",
       "</table>\n",
       "</div>"
      ],
      "text/plain": [
       "   id  \\\n",
       "0   1   \n",
       "1   2   \n",
       "2   3   \n",
       "3   4   \n",
       "4   5   \n",
       "\n",
       "                                                                                                                                                                                                                                                                                                            full_text  \\\n",
       "0                                      @IvanDuque Sus socios de las AGC tienen este platanal vuelto mierda, pero no haces nada, usted inservible, ha logrado la peor inflación en Colombia y solo pública maricadas sin sentido, se robó las elecciones para entregar el país, valiente idiota tenemos de presidente.   \n",
       "1        @AlvaroUribeVel Ellos también celebran por que Maduro PetroGustavo Ivan Cepeda Timo Teodora Bobolivar entre muchos más sufren  de insomnio.\\r\\nUribe Velez Alvarito no los deja dormir\\r\\nEl enemigo para las elecciones no es Fico.... Sino el Excelentísimo y más Grande Presidente que ha tenido Colombia   \n",
       "2  @PDleh @cokycafe @PGN_COL En Colombia existen miles de leyes para controlar los funcionarios públicos pero a la hora de aplicarlas \"se les olvida que existen\". ¿Que más pruebas quieren? ¿Porque avalan unas elecciones, las del 13 de marzo, donde pado de todo lo que no debía de pasar? Escuchamos  respuestas   \n",
       "3                                                                                                                                                         Petro ahora es el Capitán América o mejor dicho el Capitán Colombia de ganar las elecciones. No soltara el escudo ni para dormir ?? https://t.co/k56Dv7id1J   \n",
       "4                                                                           #OtraPregunta \\r\\n\"Petro promete reanudar relaciones diplomáticas con Maduro si gana elecciones en Colombia\"...\\r\\nEsto no pinta nada bien... y si además gana Lula en Brasil...\\r\\n¿Esto como que va para largo? https://t.co/wpQsl5KoRe   \n",
       "\n",
       "  sentiment emotion  \n",
       "0  negative   anger  \n",
       "1  negative   anger  \n",
       "2  negative   anger  \n",
       "3  negative     joy  \n",
       "4  negative    fear  "
      ]
     },
     "execution_count": 323,
     "metadata": {},
     "output_type": "execute_result"
    }
   ],
   "source": [
    "Sc3_T1_100_tfidf_Ran_df.head()"
   ]
  },
  {
   "cell_type": "code",
   "execution_count": 324,
   "metadata": {},
   "outputs": [],
   "source": [
    "# the randomstate number ensures that split are reproducible\n",
    "X_Sc3_T1_100_train, X_Sc3_T1_100_test, y_Sc3_T1_100_train, y_Sc3_T1_100_test = train_test_split(Sc3_T1_100_tfidf_Ran_df['full_text'], Sc3_T1_100_tfidf_Ran_df['sentiment'], train_size = 100, stratify = Sc3_T1_100_tfidf_Ran_df['sentiment'], random_state = 1)"
   ]
  },
  {
   "cell_type": "code",
   "execution_count": 325,
   "metadata": {},
   "outputs": [
    {
     "data": {
      "text/plain": [
       "(100,)"
      ]
     },
     "execution_count": 325,
     "metadata": {},
     "output_type": "execute_result"
    }
   ],
   "source": [
    "X_Sc3_T1_100_train.shape"
   ]
  },
  {
   "cell_type": "code",
   "execution_count": 326,
   "metadata": {},
   "outputs": [
    {
     "data": {
      "text/plain": [
       "negative    0.68\n",
       "positive    0.32\n",
       "Name: sentiment, dtype: float64"
      ]
     },
     "execution_count": 326,
     "metadata": {},
     "output_type": "execute_result"
    }
   ],
   "source": [
    "pd.Series(y_Sc3_T1_100_train).value_counts(normalize = True)"
   ]
  },
  {
   "cell_type": "code",
   "execution_count": 327,
   "metadata": {},
   "outputs": [
    {
     "data": {
      "text/plain": [
       "(527,)"
      ]
     },
     "execution_count": 327,
     "metadata": {},
     "output_type": "execute_result"
    }
   ],
   "source": [
    "X_Sc3_T1_100_test.shape"
   ]
  },
  {
   "cell_type": "code",
   "execution_count": 328,
   "metadata": {},
   "outputs": [
    {
     "data": {
      "text/plain": [
       "negative    0.681214\n",
       "positive    0.318786\n",
       "Name: sentiment, dtype: float64"
      ]
     },
     "execution_count": 328,
     "metadata": {},
     "output_type": "execute_result"
    }
   ],
   "source": [
    "pd.Series(y_Sc3_T1_100_test).value_counts(normalize = True)"
   ]
  },
  {
   "cell_type": "code",
   "execution_count": 329,
   "metadata": {},
   "outputs": [],
   "source": [
    "X_Sc3_T1_100_tfidf = tfidf.fit_transform(X_Sc3_T1_100_train)"
   ]
  },
  {
   "cell_type": "code",
   "execution_count": 330,
   "metadata": {},
   "outputs": [],
   "source": [
    "# Scenario 3 - Tag correction 0 - Train size 100 - Random Forest Classifier\n",
    "X_Sc3_T1_100_tfidf_Ran_model = RandomForestClassifier()"
   ]
  },
  {
   "cell_type": "code",
   "execution_count": 331,
   "metadata": {},
   "outputs": [
    {
     "data": {
      "text/plain": [
       "RandomForestClassifier()"
      ]
     },
     "execution_count": 331,
     "metadata": {},
     "output_type": "execute_result"
    }
   ],
   "source": [
    "X_Sc3_T1_100_tfidf_Ran_model.fit(X_Sc3_T1_100_tfidf, y_Sc3_T1_100_train)"
   ]
  },
  {
   "cell_type": "code",
   "execution_count": 332,
   "metadata": {},
   "outputs": [],
   "source": [
    "# Scenario 3 - Tag correction 0 - Train size 100 - Random Forest Classifier - TF-IDF\n",
    "y_Sc3_T1_100_train_tfidf_Ran_predict = X_Sc3_T1_100_tfidf_Ran_model.predict(X_Sc3_T1_100_tfidf)\n",
    "y_Sc3_T1_100_test_tfidf_Ran_predict = X_Sc3_T1_100_tfidf_Ran_model.predict(tfidf.transform(X_Sc3_T1_100_test))"
   ]
  },
  {
   "cell_type": "code",
   "execution_count": 333,
   "metadata": {},
   "outputs": [
    {
     "data": {
      "text/plain": [
       "<sklearn.metrics._plot.confusion_matrix.ConfusionMatrixDisplay at 0x33d6cd88>"
      ]
     },
     "execution_count": 333,
     "metadata": {},
     "output_type": "execute_result"
    },
    {
     "data": {
      "image/png": "[encoded data removed]",
      "text/plain": [
       "<Figure size 432x288 with 2 Axes>"
      ]
     },
     "metadata": {
      "needs_background": "light"
     },
     "output_type": "display_data"
    }
   ],
   "source": [
    "ConfusionMatrixDisplay.from_predictions(y_Sc3_T1_100_train, y_Sc3_T1_100_train_tfidf_Ran_predict)"
   ]
  },
  {
   "cell_type": "code",
   "execution_count": 334,
   "metadata": {},
   "outputs": [
    {
     "data": {
      "text/plain": [
       "<sklearn.metrics._plot.confusion_matrix.ConfusionMatrixDisplay at 0x33b45ec8>"
      ]
     },
     "execution_count": 334,
     "metadata": {},
     "output_type": "execute_result"
    },
    {
     "data": {
      "image/png": "[encoded data removed]",
      "text/plain": [
       "<Figure size 432x288 with 2 Axes>"
      ]
     },
     "metadata": {
      "needs_background": "light"
     },
     "output_type": "display_data"
    }
   ],
   "source": [
    "ConfusionMatrixDisplay.from_predictions(y_Sc3_T1_100_test, y_Sc3_T1_100_test_tfidf_Ran_predict)"
   ]
  },
  {
   "cell_type": "code",
   "execution_count": 335,
   "metadata": {},
   "outputs": [
    {
     "name": "stdout",
     "output_type": "stream",
     "text": [
      "Precision: 0.7692307692307693\n",
      "Recall: 0.23809523809523808\n",
      "F1: 0.36363636363636365\n"
     ]
    }
   ],
   "source": [
    "# Metrics calculation for binary classes\n",
    "print('Precision:', precision_score(y_Sc3_T1_100_test, y_Sc3_T1_100_test_tfidf_Ran_predict, pos_label = 'positive'))\n",
    "print('Recall:', recall_score(y_Sc3_T1_100_test, y_Sc3_T1_100_test_tfidf_Ran_predict, pos_label = 'positive'))\n",
    "print('F1:', f1_score(y_Sc3_T1_100_test, y_Sc3_T1_100_test_tfidf_Ran_predict, pos_label = 'positive'))"
   ]
  },
  {
   "cell_type": "code",
   "execution_count": 336,
   "metadata": {},
   "outputs": [
    {
     "name": "stdout",
     "output_type": "stream",
     "text": [
      "Precision: [0.73052632 0.76923077]\n",
      "Recall: [0.96657382 0.23809524]\n",
      "F1: [0.83213429 0.36363636]\n"
     ]
    }
   ],
   "source": [
    "# Metrics calculation for more than two classes\n",
    "print('Precision:', precision_score(y_Sc3_T1_100_test, y_Sc3_T1_100_test_tfidf_Ran_predict, average = None))\n",
    "print('Recall:', recall_score(y_Sc3_T1_100_test, y_Sc3_T1_100_test_tfidf_Ran_predict, average = None))\n",
    "print('F1:', f1_score(y_Sc3_T1_100_test, y_Sc3_T1_100_test_tfidf_Ran_predict, average = None))"
   ]
  },
  {
   "cell_type": "code",
   "execution_count": 337,
   "metadata": {},
   "outputs": [],
   "source": [
    "# Scenario 3 - Tag correction 0 - Train size 100 - Random Forest Classifier - TF-IDF - Analyzing Errors\n",
    "Sc3_T1_100_error_tfidf_Ran_df = pd.concat(\n",
    "    [ pd.concat([X_Sc3_T1_100_test, y_Sc3_T1_100_test], axis = 1).reset_index(),\n",
    "    pd.Series(y_Sc3_T1_100_test_tfidf_Ran_predict) ]\n",
    ", axis = 1).rename(columns = { 'sentiment': 'actual', 0: 'predicted' })\n",
    "\n",
    "Sc3_T1_100_error_tfidf_Ran_df.drop('index', inplace = True, axis = 1)"
   ]
  },
  {
   "cell_type": "code",
   "execution_count": 338,
   "metadata": {},
   "outputs": [
    {
     "data": {
      "text/plain": [
       "(140, 3)"
      ]
     },
     "execution_count": 338,
     "metadata": {},
     "output_type": "execute_result"
    }
   ],
   "source": [
    "Sc3_T1_100_error_tfidf_Ran_df.loc[Sc3_T1_100_error_tfidf_Ran_df['actual'] != Sc3_T1_100_error_tfidf_Ran_df['predicted']].shape"
   ]
  },
  {
   "cell_type": "code",
   "execution_count": 339,
   "metadata": {},
   "outputs": [],
   "source": [
    "Sc3_T1_100_error_tfidf_Ran_df.loc[Sc3_T1_100_error_tfidf_Ran_df['actual'] != Sc3_T1_100_error_tfidf_Ran_df['predicted']].to_csv('./data/Sc3_T1_100_error_tfidf_Ran_df.txt', sep ='\\t')"
   ]
  },
  {
   "cell_type": "code",
   "execution_count": 340,
   "metadata": {},
   "outputs": [
    {
     "data": {
      "text/html": [
       "<div>\n",
       "<style scoped>\n",
       "    .dataframe tbody tr th:only-of-type {\n",
       "        vertical-align: middle;\n",
       "    }\n",
       "\n",
       "    .dataframe tbody tr th {\n",
       "        vertical-align: top;\n",
       "    }\n",
       "\n",
       "    .dataframe thead th {\n",
       "        text-align: right;\n",
       "    }\n",
       "</style>\n",
       "<table border=\"1\" class=\"dataframe\">\n",
       "  <thead>\n",
       "    <tr style=\"text-align: right;\">\n",
       "      <th></th>\n",
       "      <th>full_text</th>\n",
       "      <th>actual</th>\n",
       "      <th>predicted</th>\n",
       "    </tr>\n",
       "  </thead>\n",
       "  <tbody>\n",
       "    <tr>\n",
       "      <th>5</th>\n",
       "      <td>https://t.co/KXwMVRujE7 recomendado, votemos a conciencia. Este app que saco @elespectador le ayuda a ver como sus posiciones se alinean con su candidato. 1/3 #eleccionescolombia2022 #elecciones #colombia</td>\n",
       "      <td>positive</td>\n",
       "      <td>negative</td>\n",
       "    </tr>\n",
       "    <tr>\n",
       "      <th>9</th>\n",
       "      <td>¿Cómo lucían los demás tarjetones? ??¿Cree usted que se evidencia el cambio de un bipartidismo a un sistema de caudillos? https://t.co/7jcyCwQuni</td>\n",
       "      <td>negative</td>\n",
       "      <td>positive</td>\n",
       "    </tr>\n",
       "    <tr>\n",
       "      <th>10</th>\n",
       "      <td>¡Viva Petro!\\r\\nColombia | Petro anuncia que si gana restablecerá las relaciones diplomáticas y consulares con Venezuela @InfoNodal https://t.co/VjYoQsWoY1</td>\n",
       "      <td>positive</td>\n",
       "      <td>negative</td>\n",
       "    </tr>\n",
       "    <tr>\n",
       "      <th>16</th>\n",
       "      <td>Eso sabe   ;)\\r\\nAdelante #PetroPresidente2022 \\r\\nhttps://t.co/xscQ26b62m https://t.co/NIJNT0Sms7</td>\n",
       "      <td>positive</td>\n",
       "      <td>negative</td>\n",
       "    </tr>\n",
       "    <tr>\n",
       "      <th>20</th>\n",
       "      <td>@CARLOSFMEJIA @infopresidencia @FiscaliaCol @PGN_COL @CNE_COLOMBIA Deberían hacer traslados de los REGISTRADORES  REGIONALES LOCALES . Evitar que se queden en los mismos sitios de las elecciones para congreso y consulta.</td>\n",
       "      <td>positive</td>\n",
       "      <td>negative</td>\n",
       "    </tr>\n",
       "  </tbody>\n",
       "</table>\n",
       "</div>"
      ],
      "text/plain": [
       "                                                                                                                                                                                                                       full_text  \\\n",
       "5                   https://t.co/KXwMVRujE7 recomendado, votemos a conciencia. Este app que saco @elespectador le ayuda a ver como sus posiciones se alinean con su candidato. 1/3 #eleccionescolombia2022 #elecciones #colombia   \n",
       "9                                                                              ¿Cómo lucían los demás tarjetones? ??¿Cree usted que se evidencia el cambio de un bipartidismo a un sistema de caudillos? https://t.co/7jcyCwQuni   \n",
       "10                                                                   ¡Viva Petro!\\r\\nColombia | Petro anuncia que si gana restablecerá las relaciones diplomáticas y consulares con Venezuela @InfoNodal https://t.co/VjYoQsWoY1   \n",
       "16                                                                                                                            Eso sabe   ;)\\r\\nAdelante #PetroPresidente2022 \\r\\nhttps://t.co/xscQ26b62m https://t.co/NIJNT0Sms7   \n",
       "20  @CARLOSFMEJIA @infopresidencia @FiscaliaCol @PGN_COL @CNE_COLOMBIA Deberían hacer traslados de los REGISTRADORES  REGIONALES LOCALES . Evitar que se queden en los mismos sitios de las elecciones para congreso y consulta.   \n",
       "\n",
       "      actual predicted  \n",
       "5   positive  negative  \n",
       "9   negative  positive  \n",
       "10  positive  negative  \n",
       "16  positive  negative  \n",
       "20  positive  negative  "
      ]
     },
     "execution_count": 340,
     "metadata": {},
     "output_type": "execute_result"
    }
   ],
   "source": [
    "Sc3_T1_100_error_tfidf_Ran_df.loc[Sc3_T1_100_error_tfidf_Ran_df['actual'] != Sc3_T1_100_error_tfidf_Ran_df['predicted']].head()"
   ]
  },
  {
   "cell_type": "markdown",
   "metadata": {
    "tags": []
   },
   "source": [
    "### Scenario 3 - Tag correction 1 - Train size 100 - KNeighbors Classifier"
   ]
  },
  {
   "cell_type": "code",
   "execution_count": 341,
   "metadata": {},
   "outputs": [],
   "source": [
    "Sc3_T1_100_tfidf_Knei_df = pd.read_csv('./data/Sc3_T1_100_tfidf_Knei_df.txt', sep = '\\t')"
   ]
  },
  {
   "cell_type": "code",
   "execution_count": 342,
   "metadata": {},
   "outputs": [
    {
     "data": {
      "text/plain": [
       "negative    0.681021\n",
       "positive    0.318979\n",
       "Name: sentiment, dtype: float64"
      ]
     },
     "execution_count": 342,
     "metadata": {},
     "output_type": "execute_result"
    }
   ],
   "source": [
    "Sc3_T1_100_tfidf_Knei_df['sentiment'].value_counts(dropna = False, normalize = True)"
   ]
  },
  {
   "cell_type": "code",
   "execution_count": 343,
   "metadata": {},
   "outputs": [
    {
     "data": {
      "text/html": [
       "<div>\n",
       "<style scoped>\n",
       "    .dataframe tbody tr th:only-of-type {\n",
       "        vertical-align: middle;\n",
       "    }\n",
       "\n",
       "    .dataframe tbody tr th {\n",
       "        vertical-align: top;\n",
       "    }\n",
       "\n",
       "    .dataframe thead th {\n",
       "        text-align: right;\n",
       "    }\n",
       "</style>\n",
       "<table border=\"1\" class=\"dataframe\">\n",
       "  <thead>\n",
       "    <tr style=\"text-align: right;\">\n",
       "      <th></th>\n",
       "      <th>id</th>\n",
       "      <th>full_text</th>\n",
       "      <th>sentiment</th>\n",
       "      <th>emotion</th>\n",
       "    </tr>\n",
       "  </thead>\n",
       "  <tbody>\n",
       "    <tr>\n",
       "      <th>0</th>\n",
       "      <td>1</td>\n",
       "      <td>@IvanDuque Sus socios de las AGC tienen este platanal vuelto mierda, pero no haces nada, usted inservible, ha logrado la peor inflación en Colombia y solo pública maricadas sin sentido, se robó las elecciones para entregar el país, valiente idiota tenemos de presidente.</td>\n",
       "      <td>negative</td>\n",
       "      <td>anger</td>\n",
       "    </tr>\n",
       "    <tr>\n",
       "      <th>1</th>\n",
       "      <td>2</td>\n",
       "      <td>@AlvaroUribeVel Ellos también celebran por que Maduro PetroGustavo Ivan Cepeda Timo Teodora Bobolivar entre muchos más sufren  de insomnio.\\r\\nUribe Velez Alvarito no los deja dormir\\r\\nEl enemigo para las elecciones no es Fico.... Sino el Excelentísimo y más Grande Presidente que ha tenido Colombia</td>\n",
       "      <td>negative</td>\n",
       "      <td>anger</td>\n",
       "    </tr>\n",
       "    <tr>\n",
       "      <th>2</th>\n",
       "      <td>3</td>\n",
       "      <td>@PDleh @cokycafe @PGN_COL En Colombia existen miles de leyes para controlar los funcionarios públicos pero a la hora de aplicarlas \"se les olvida que existen\". ¿Que más pruebas quieren? ¿Porque avalan unas elecciones, las del 13 de marzo, donde pado de todo lo que no debía de pasar? Escuchamos  respuestas</td>\n",
       "      <td>negative</td>\n",
       "      <td>anger</td>\n",
       "    </tr>\n",
       "    <tr>\n",
       "      <th>3</th>\n",
       "      <td>4</td>\n",
       "      <td>Petro ahora es el Capitán América o mejor dicho el Capitán Colombia de ganar las elecciones. No soltara el escudo ni para dormir ?? https://t.co/k56Dv7id1J</td>\n",
       "      <td>negative</td>\n",
       "      <td>joy</td>\n",
       "    </tr>\n",
       "    <tr>\n",
       "      <th>4</th>\n",
       "      <td>5</td>\n",
       "      <td>#OtraPregunta \\r\\n\"Petro promete reanudar relaciones diplomáticas con Maduro si gana elecciones en Colombia\"...\\r\\nEsto no pinta nada bien... y si además gana Lula en Brasil...\\r\\n¿Esto como que va para largo? https://t.co/wpQsl5KoRe</td>\n",
       "      <td>negative</td>\n",
       "      <td>fear</td>\n",
       "    </tr>\n",
       "  </tbody>\n",
       "</table>\n",
       "</div>"
      ],
      "text/plain": [
       "   id  \\\n",
       "0   1   \n",
       "1   2   \n",
       "2   3   \n",
       "3   4   \n",
       "4   5   \n",
       "\n",
       "                                                                                                                                                                                                                                                                                                            full_text  \\\n",
       "0                                      @IvanDuque Sus socios de las AGC tienen este platanal vuelto mierda, pero no haces nada, usted inservible, ha logrado la peor inflación en Colombia y solo pública maricadas sin sentido, se robó las elecciones para entregar el país, valiente idiota tenemos de presidente.   \n",
       "1        @AlvaroUribeVel Ellos también celebran por que Maduro PetroGustavo Ivan Cepeda Timo Teodora Bobolivar entre muchos más sufren  de insomnio.\\r\\nUribe Velez Alvarito no los deja dormir\\r\\nEl enemigo para las elecciones no es Fico.... Sino el Excelentísimo y más Grande Presidente que ha tenido Colombia   \n",
       "2  @PDleh @cokycafe @PGN_COL En Colombia existen miles de leyes para controlar los funcionarios públicos pero a la hora de aplicarlas \"se les olvida que existen\". ¿Que más pruebas quieren? ¿Porque avalan unas elecciones, las del 13 de marzo, donde pado de todo lo que no debía de pasar? Escuchamos  respuestas   \n",
       "3                                                                                                                                                         Petro ahora es el Capitán América o mejor dicho el Capitán Colombia de ganar las elecciones. No soltara el escudo ni para dormir ?? https://t.co/k56Dv7id1J   \n",
       "4                                                                           #OtraPregunta \\r\\n\"Petro promete reanudar relaciones diplomáticas con Maduro si gana elecciones en Colombia\"...\\r\\nEsto no pinta nada bien... y si además gana Lula en Brasil...\\r\\n¿Esto como que va para largo? https://t.co/wpQsl5KoRe   \n",
       "\n",
       "  sentiment emotion  \n",
       "0  negative   anger  \n",
       "1  negative   anger  \n",
       "2  negative   anger  \n",
       "3  negative     joy  \n",
       "4  negative    fear  "
      ]
     },
     "execution_count": 343,
     "metadata": {},
     "output_type": "execute_result"
    }
   ],
   "source": [
    "Sc3_T1_100_tfidf_Knei_df.head()"
   ]
  },
  {
   "cell_type": "code",
   "execution_count": 344,
   "metadata": {},
   "outputs": [],
   "source": [
    "# the randomstate number ensures that split are reproducible\n",
    "X_Sc3_T1_100_train, X_Sc3_T1_100_test, y_Sc3_T1_100_train, y_Sc3_T1_100_test = train_test_split(Sc3_T1_100_tfidf_Knei_df['full_text'], Sc3_T1_100_tfidf_Knei_df['sentiment'], train_size = 100, stratify = Sc3_T1_100_tfidf_Knei_df['sentiment'], random_state = 1)"
   ]
  },
  {
   "cell_type": "code",
   "execution_count": 345,
   "metadata": {},
   "outputs": [
    {
     "data": {
      "text/plain": [
       "(100,)"
      ]
     },
     "execution_count": 345,
     "metadata": {},
     "output_type": "execute_result"
    }
   ],
   "source": [
    "X_Sc3_T1_100_train.shape"
   ]
  },
  {
   "cell_type": "code",
   "execution_count": 346,
   "metadata": {},
   "outputs": [
    {
     "data": {
      "text/plain": [
       "negative    0.68\n",
       "positive    0.32\n",
       "Name: sentiment, dtype: float64"
      ]
     },
     "execution_count": 346,
     "metadata": {},
     "output_type": "execute_result"
    }
   ],
   "source": [
    "pd.Series(y_Sc3_T1_100_train).value_counts(normalize = True)"
   ]
  },
  {
   "cell_type": "code",
   "execution_count": 347,
   "metadata": {},
   "outputs": [
    {
     "data": {
      "text/plain": [
       "(527,)"
      ]
     },
     "execution_count": 347,
     "metadata": {},
     "output_type": "execute_result"
    }
   ],
   "source": [
    "X_Sc3_T1_100_test.shape"
   ]
  },
  {
   "cell_type": "code",
   "execution_count": 348,
   "metadata": {},
   "outputs": [
    {
     "data": {
      "text/plain": [
       "negative    0.681214\n",
       "positive    0.318786\n",
       "Name: sentiment, dtype: float64"
      ]
     },
     "execution_count": 348,
     "metadata": {},
     "output_type": "execute_result"
    }
   ],
   "source": [
    "pd.Series(y_Sc3_T1_100_test).value_counts(normalize = True)"
   ]
  },
  {
   "cell_type": "code",
   "execution_count": 349,
   "metadata": {},
   "outputs": [],
   "source": [
    "X_Sc3_T1_100_tfidf = tfidf.fit_transform(X_Sc3_T1_100_train)"
   ]
  },
  {
   "cell_type": "code",
   "execution_count": 350,
   "metadata": {},
   "outputs": [],
   "source": [
    "# Scenario 3 - Tag correction 1 - Train size 100 - KNeighbors Classifier\n",
    "X_Sc3_T1_100_tfidf_Knei_model = KNeighborsClassifier(n_neighbors=3)"
   ]
  },
  {
   "cell_type": "code",
   "execution_count": 351,
   "metadata": {},
   "outputs": [
    {
     "data": {
      "text/plain": [
       "KNeighborsClassifier(n_neighbors=3)"
      ]
     },
     "execution_count": 351,
     "metadata": {},
     "output_type": "execute_result"
    }
   ],
   "source": [
    "X_Sc3_T1_100_tfidf_Knei_model.fit(X_Sc3_T1_100_tfidf, y_Sc3_T1_100_train)"
   ]
  },
  {
   "cell_type": "code",
   "execution_count": 352,
   "metadata": {},
   "outputs": [],
   "source": [
    "# Scenario 3 - Tag correction 1 - Train size 100 - KNeighbors Classifier - TF-IDF\n",
    "y_Sc3_T1_100_train_tfidf_Knei_predict = X_Sc3_T1_100_tfidf_Knei_model.predict(X_Sc3_T1_100_tfidf)\n",
    "y_Sc3_T1_100_test_tfidf_Knei_predict = X_Sc3_T1_100_tfidf_Knei_model.predict(tfidf.transform(X_Sc3_T1_100_test))"
   ]
  },
  {
   "cell_type": "code",
   "execution_count": 353,
   "metadata": {},
   "outputs": [
    {
     "data": {
      "text/plain": [
       "<sklearn.metrics._plot.confusion_matrix.ConfusionMatrixDisplay at 0x32406888>"
      ]
     },
     "execution_count": 353,
     "metadata": {},
     "output_type": "execute_result"
    },
    {
     "data": {
      "image/png": "[encoded data removed]",
      "text/plain": [
       "<Figure size 432x288 with 2 Axes>"
      ]
     },
     "metadata": {
      "needs_background": "light"
     },
     "output_type": "display_data"
    }
   ],
   "source": [
    "ConfusionMatrixDisplay.from_predictions(y_Sc3_T1_100_train, y_Sc3_T1_100_train_tfidf_Knei_predict)"
   ]
  },
  {
   "cell_type": "code",
   "execution_count": 354,
   "metadata": {},
   "outputs": [
    {
     "data": {
      "text/plain": [
       "<sklearn.metrics._plot.confusion_matrix.ConfusionMatrixDisplay at 0x33d56088>"
      ]
     },
     "execution_count": 354,
     "metadata": {},
     "output_type": "execute_result"
    },
    {
     "data": {
      "image/png": "[encoded data removed]",
      "text/plain": [
       "<Figure size 432x288 with 2 Axes>"
      ]
     },
     "metadata": {
      "needs_background": "light"
     },
     "output_type": "display_data"
    }
   ],
   "source": [
    "ConfusionMatrixDisplay.from_predictions(y_Sc3_T1_100_test, y_Sc3_T1_100_test_tfidf_Knei_predict)"
   ]
  },
  {
   "cell_type": "code",
   "execution_count": 355,
   "metadata": {},
   "outputs": [
    {
     "name": "stdout",
     "output_type": "stream",
     "text": [
      "Precision: 0.5092592592592593\n",
      "Recall: 0.3273809523809524\n",
      "F1: 0.39855072463768115\n"
     ]
    }
   ],
   "source": [
    "# Metrics calculation for binary classes\n",
    "print('Precision:', precision_score(y_Sc3_T1_100_test, y_Sc3_T1_100_test_tfidf_Knei_predict, pos_label = 'positive'))\n",
    "print('Recall:', recall_score(y_Sc3_T1_100_test, y_Sc3_T1_100_test_tfidf_Knei_predict, pos_label = 'positive'))\n",
    "print('F1:', f1_score(y_Sc3_T1_100_test, y_Sc3_T1_100_test_tfidf_Knei_predict, pos_label = 'positive'))"
   ]
  },
  {
   "cell_type": "code",
   "execution_count": 356,
   "metadata": {},
   "outputs": [
    {
     "name": "stdout",
     "output_type": "stream",
     "text": [
      "Precision: [0.73031026 0.50925926]\n",
      "Recall: [0.85236769 0.32738095]\n",
      "F1: [0.78663239 0.39855072]\n"
     ]
    }
   ],
   "source": [
    "# Metrics calculation for more than two classes\n",
    "print('Precision:', precision_score(y_Sc3_T1_100_test, y_Sc3_T1_100_test_tfidf_Knei_predict, average = None))\n",
    "print('Recall:', recall_score(y_Sc3_T1_100_test, y_Sc3_T1_100_test_tfidf_Knei_predict, average = None))\n",
    "print('F1:', f1_score(y_Sc3_T1_100_test, y_Sc3_T1_100_test_tfidf_Knei_predict, average = None))"
   ]
  },
  {
   "cell_type": "code",
   "execution_count": 357,
   "metadata": {},
   "outputs": [],
   "source": [
    "# Scenario 3 - Tag correction 1 - Train size 100 - KNeighbors Classifier - TF-IDF - Analyzing Errors\n",
    "Sc3_T1_100_error_tfidf_Knei_df = pd.concat(\n",
    "    [ pd.concat([X_Sc3_T1_100_test, y_Sc3_T1_100_test], axis = 1).reset_index(),\n",
    "    pd.Series(y_Sc3_T1_100_test_tfidf_Knei_predict) ]\n",
    ", axis = 1).rename(columns = { 'sentiment': 'actual', 0: 'predicted' })\n",
    "\n",
    "Sc3_T1_100_error_tfidf_Knei_df.drop('index', inplace = True, axis = 1)"
   ]
  },
  {
   "cell_type": "code",
   "execution_count": 358,
   "metadata": {},
   "outputs": [
    {
     "data": {
      "text/plain": [
       "(166, 3)"
      ]
     },
     "execution_count": 358,
     "metadata": {},
     "output_type": "execute_result"
    }
   ],
   "source": [
    "Sc3_T1_100_error_tfidf_Knei_df.loc[Sc3_T1_100_error_tfidf_Knei_df['actual'] != Sc3_T1_100_error_tfidf_Knei_df['predicted']].shape"
   ]
  },
  {
   "cell_type": "code",
   "execution_count": 359,
   "metadata": {},
   "outputs": [],
   "source": [
    "Sc3_T1_100_error_tfidf_Knei_df.loc[Sc3_T1_100_error_tfidf_Knei_df['actual'] != Sc3_T1_100_error_tfidf_Knei_df['predicted']].to_csv('./data/Sc3_T1_100_error_tfidf_Knei_df.txt', sep ='\\t')"
   ]
  },
  {
   "cell_type": "code",
   "execution_count": 360,
   "metadata": {},
   "outputs": [
    {
     "data": {
      "text/html": [
       "<div>\n",
       "<style scoped>\n",
       "    .dataframe tbody tr th:only-of-type {\n",
       "        vertical-align: middle;\n",
       "    }\n",
       "\n",
       "    .dataframe tbody tr th {\n",
       "        vertical-align: top;\n",
       "    }\n",
       "\n",
       "    .dataframe thead th {\n",
       "        text-align: right;\n",
       "    }\n",
       "</style>\n",
       "<table border=\"1\" class=\"dataframe\">\n",
       "  <thead>\n",
       "    <tr style=\"text-align: right;\">\n",
       "      <th></th>\n",
       "      <th>full_text</th>\n",
       "      <th>actual</th>\n",
       "      <th>predicted</th>\n",
       "    </tr>\n",
       "  </thead>\n",
       "  <tbody>\n",
       "    <tr>\n",
       "      <th>1</th>\n",
       "      <td>@ozuismysenpai Pillá https://t.co/fnZFeKA3fz</td>\n",
       "      <td>positive</td>\n",
       "      <td>negative</td>\n",
       "    </tr>\n",
       "    <tr>\n",
       "      <th>8</th>\n",
       "      <td>Alertan que miles de jurados de votación están inhabilitados para estar en las elecciones a Presidente. La idoneidad de esos delincuentes no existe, toca inhabilitarlos y anular las mesas donde estuvieron y que se evidenció el fraude. ?@PGN_COL?  https://t.co/UcAISdFd05</td>\n",
       "      <td>negative</td>\n",
       "      <td>positive</td>\n",
       "    </tr>\n",
       "    <tr>\n",
       "      <th>10</th>\n",
       "      <td>¡Viva Petro!\\r\\nColombia | Petro anuncia que si gana restablecerá las relaciones diplomáticas y consulares con Venezuela @InfoNodal https://t.co/VjYoQsWoY1</td>\n",
       "      <td>positive</td>\n",
       "      <td>negative</td>\n",
       "    </tr>\n",
       "    <tr>\n",
       "      <th>13</th>\n",
       "      <td>@HELIODOPTERO @cataboc El propósito es que halla elecciones en una Colombia aterrorizada. No podemos caer nuevamente en la trampa, votemos bien. No podemos permitir que el innombrable siga gobernando. Nuestro país necesita un cambio urgente.</td>\n",
       "      <td>negative</td>\n",
       "      <td>positive</td>\n",
       "    </tr>\n",
       "    <tr>\n",
       "      <th>16</th>\n",
       "      <td>Eso sabe   ;)\\r\\nAdelante #PetroPresidente2022 \\r\\nhttps://t.co/xscQ26b62m https://t.co/NIJNT0Sms7</td>\n",
       "      <td>positive</td>\n",
       "      <td>negative</td>\n",
       "    </tr>\n",
       "  </tbody>\n",
       "</table>\n",
       "</div>"
      ],
      "text/plain": [
       "                                                                                                                                                                                                                                                                         full_text  \\\n",
       "1                                                                                                                                                                                                                                     @ozuismysenpai Pillá https://t.co/fnZFeKA3fz   \n",
       "8   Alertan que miles de jurados de votación están inhabilitados para estar en las elecciones a Presidente. La idoneidad de esos delincuentes no existe, toca inhabilitarlos y anular las mesas donde estuvieron y que se evidenció el fraude. ?@PGN_COL?  https://t.co/UcAISdFd05   \n",
       "10                                                                                                                     ¡Viva Petro!\\r\\nColombia | Petro anuncia que si gana restablecerá las relaciones diplomáticas y consulares con Venezuela @InfoNodal https://t.co/VjYoQsWoY1   \n",
       "13                               @HELIODOPTERO @cataboc El propósito es que halla elecciones en una Colombia aterrorizada. No podemos caer nuevamente en la trampa, votemos bien. No podemos permitir que el innombrable siga gobernando. Nuestro país necesita un cambio urgente.   \n",
       "16                                                                                                                                                                              Eso sabe   ;)\\r\\nAdelante #PetroPresidente2022 \\r\\nhttps://t.co/xscQ26b62m https://t.co/NIJNT0Sms7   \n",
       "\n",
       "      actual predicted  \n",
       "1   positive  negative  \n",
       "8   negative  positive  \n",
       "10  positive  negative  \n",
       "13  negative  positive  \n",
       "16  positive  negative  "
      ]
     },
     "execution_count": 360,
     "metadata": {},
     "output_type": "execute_result"
    }
   ],
   "source": [
    "Sc3_T1_100_error_tfidf_Knei_df.loc[Sc3_T1_100_error_tfidf_Knei_df['actual'] != Sc3_T1_100_error_tfidf_Knei_df['predicted']].head()"
   ]
  },
  {
   "cell_type": "markdown",
   "metadata": {
    "tags": []
   },
   "source": [
    "## Scenario 3 - Tag correction 0 - Train size 300"
   ]
  },
  {
   "cell_type": "code",
   "execution_count": 361,
   "metadata": {},
   "outputs": [],
   "source": [
    "# the randomstate number ensures that split are reproducible\n",
    "X_Sc3_T0_300_train, X_Sc3_T0_300_test, y_Sc3_T0_300_train, y_Sc3_T0_300_test = train_test_split(neutral_positive_df['full_text'], neutral_positive_df['sentiment'], train_size = 300, stratify = neutral_positive_df['sentiment'], random_state = 1)"
   ]
  },
  {
   "cell_type": "code",
   "execution_count": 362,
   "metadata": {},
   "outputs": [
    {
     "data": {
      "text/plain": [
       "(300,)"
      ]
     },
     "execution_count": 362,
     "metadata": {},
     "output_type": "execute_result"
    }
   ],
   "source": [
    "X_Sc3_T0_300_train.shape"
   ]
  },
  {
   "cell_type": "code",
   "execution_count": 363,
   "metadata": {},
   "outputs": [
    {
     "data": {
      "text/plain": [
       "negative    0.666667\n",
       "positive    0.333333\n",
       "Name: sentiment, dtype: float64"
      ]
     },
     "execution_count": 363,
     "metadata": {},
     "output_type": "execute_result"
    }
   ],
   "source": [
    "pd.Series(y_Sc3_T0_300_train).value_counts(normalize = True)"
   ]
  },
  {
   "cell_type": "code",
   "execution_count": 364,
   "metadata": {},
   "outputs": [
    {
     "data": {
      "text/plain": [
       "(327,)"
      ]
     },
     "execution_count": 364,
     "metadata": {},
     "output_type": "execute_result"
    }
   ],
   "source": [
    "X_Sc3_T0_300_test.shape"
   ]
  },
  {
   "cell_type": "code",
   "execution_count": 365,
   "metadata": {},
   "outputs": [
    {
     "data": {
      "text/plain": [
       "negative    0.669725\n",
       "positive    0.330275\n",
       "Name: sentiment, dtype: float64"
      ]
     },
     "execution_count": 365,
     "metadata": {},
     "output_type": "execute_result"
    }
   ],
   "source": [
    "pd.Series(y_Sc3_T0_300_test).value_counts(normalize = True)"
   ]
  },
  {
   "cell_type": "code",
   "execution_count": 366,
   "metadata": {},
   "outputs": [],
   "source": [
    "tfidf = TfidfVectorizer(tokenizer = tokenizer, stop_words = stop_words)"
   ]
  },
  {
   "cell_type": "code",
   "execution_count": 367,
   "metadata": {},
   "outputs": [],
   "source": [
    "X_Sc3_T0_300_tfidf = tfidf.fit_transform(X_Sc3_T0_300_train)"
   ]
  },
  {
   "cell_type": "markdown",
   "metadata": {
    "tags": []
   },
   "source": [
    "### Scenario 3 - Tag correction 0 - Train size 300 - Random Forest Classifier"
   ]
  },
  {
   "cell_type": "code",
   "execution_count": 368,
   "metadata": {},
   "outputs": [],
   "source": [
    "# Scenario 3 - Tag correction 0 - Train size 300 - Random Forest Classifier\n",
    "X_Sc3_T0_300_tfidf_Ran_model = RandomForestClassifier()"
   ]
  },
  {
   "cell_type": "code",
   "execution_count": 369,
   "metadata": {},
   "outputs": [
    {
     "data": {
      "text/plain": [
       "RandomForestClassifier()"
      ]
     },
     "execution_count": 369,
     "metadata": {},
     "output_type": "execute_result"
    }
   ],
   "source": [
    "X_Sc3_T0_300_tfidf_Ran_model.fit(X_Sc3_T0_300_tfidf, y_Sc3_T0_300_train)"
   ]
  },
  {
   "cell_type": "code",
   "execution_count": 370,
   "metadata": {},
   "outputs": [],
   "source": [
    "# Scenario 3 - Tag correction 0 - Train size 300 - Random Forest Classifier - tfidf\n",
    "y_Sc3_T0_300_train_tfidf_Ran_predict = X_Sc3_T0_300_tfidf_Ran_model.predict(X_Sc3_T0_300_tfidf)\n",
    "y_Sc3_T0_300_test_tfidf_Ran_predict = X_Sc3_T0_300_tfidf_Ran_model.predict(tfidf.transform(X_Sc3_T0_300_test))"
   ]
  },
  {
   "cell_type": "code",
   "execution_count": 371,
   "metadata": {},
   "outputs": [
    {
     "data": {
      "text/plain": [
       "<sklearn.metrics._plot.confusion_matrix.ConfusionMatrixDisplay at 0x35052888>"
      ]
     },
     "execution_count": 371,
     "metadata": {},
     "output_type": "execute_result"
    },
    {
     "data": {
      "image/png": "[encoded data removed]",
      "text/plain": [
       "<Figure size 432x288 with 2 Axes>"
      ]
     },
     "metadata": {
      "needs_background": "light"
     },
     "output_type": "display_data"
    }
   ],
   "source": [
    "ConfusionMatrixDisplay.from_predictions(y_Sc3_T0_300_train, y_Sc3_T0_300_train_tfidf_Ran_predict)"
   ]
  },
  {
   "cell_type": "code",
   "execution_count": 372,
   "metadata": {},
   "outputs": [
    {
     "data": {
      "text/plain": [
       "<sklearn.metrics._plot.confusion_matrix.ConfusionMatrixDisplay at 0x350fc6c8>"
      ]
     },
     "execution_count": 372,
     "metadata": {},
     "output_type": "execute_result"
    },
    {
     "data": {
      "image/png": "[encoded data removed]",
      "text/plain": [
       "<Figure size 432x288 with 2 Axes>"
      ]
     },
     "metadata": {
      "needs_background": "light"
     },
     "output_type": "display_data"
    }
   ],
   "source": [
    "ConfusionMatrixDisplay.from_predictions(y_Sc3_T0_300_test, y_Sc3_T0_300_test_tfidf_Ran_predict)"
   ]
  },
  {
   "cell_type": "code",
   "execution_count": 373,
   "metadata": {},
   "outputs": [
    {
     "name": "stdout",
     "output_type": "stream",
     "text": [
      "Precision: 0.7142857142857143\n",
      "Recall: 0.4166666666666667\n",
      "F1: 0.5263157894736842\n"
     ]
    }
   ],
   "source": [
    "# Metrics calculation for binary classes\n",
    "print('Precision:', precision_score(y_Sc3_T0_300_test, y_Sc3_T0_300_test_tfidf_Ran_predict, pos_label = 'positive'))\n",
    "print('Recall:', recall_score(y_Sc3_T0_300_test, y_Sc3_T0_300_test_tfidf_Ran_predict, pos_label = 'positive'))\n",
    "print('F1:', f1_score(y_Sc3_T0_300_test, y_Sc3_T0_300_test_tfidf_Ran_predict, pos_label = 'positive'))"
   ]
  },
  {
   "cell_type": "code",
   "execution_count": 374,
   "metadata": {},
   "outputs": [
    {
     "name": "stdout",
     "output_type": "stream",
     "text": [
      "Precision: [0.76136364 0.71428571]\n",
      "Recall: [0.91780822 0.41666667]\n",
      "F1: [0.83229814 0.52631579]\n"
     ]
    }
   ],
   "source": [
    "# Metrics calculation for more than two classes\n",
    "print('Precision:', precision_score(y_Sc3_T0_300_test, y_Sc3_T0_300_test_tfidf_Ran_predict, average = None))\n",
    "print('Recall:', recall_score(y_Sc3_T0_300_test, y_Sc3_T0_300_test_tfidf_Ran_predict, average = None))\n",
    "print('F1:', f1_score(y_Sc3_T0_300_test, y_Sc3_T0_300_test_tfidf_Ran_predict, average = None))"
   ]
  },
  {
   "cell_type": "code",
   "execution_count": 375,
   "metadata": {},
   "outputs": [],
   "source": [
    "# Scenario 3 - Tag correction 0 - Train size 300 - Random Forest Classifier - tfidf - Analyzing Errors\n",
    "Sc3_T0_300_error_tfidf_Ran_df = pd.concat(\n",
    "    [ pd.concat([X_Sc3_T0_300_test, y_Sc3_T0_300_test], axis = 1).reset_index(),\n",
    "    pd.Series(y_Sc3_T0_300_test_tfidf_Ran_predict) ]\n",
    ", axis = 1).rename(columns = { 'sentiment': 'actual', 0: 'predicted' })\n",
    "\n",
    "Sc3_T0_300_error_tfidf_Ran_df.drop('index', inplace = True, axis = 1)"
   ]
  },
  {
   "cell_type": "code",
   "execution_count": 376,
   "metadata": {},
   "outputs": [
    {
     "data": {
      "text/plain": [
       "(81, 3)"
      ]
     },
     "execution_count": 376,
     "metadata": {},
     "output_type": "execute_result"
    }
   ],
   "source": [
    "Sc3_T0_300_error_tfidf_Ran_df.loc[Sc3_T0_300_error_tfidf_Ran_df['actual'] != Sc3_T0_300_error_tfidf_Ran_df['predicted']].shape"
   ]
  },
  {
   "cell_type": "code",
   "execution_count": 377,
   "metadata": {},
   "outputs": [],
   "source": [
    "Sc3_T0_300_error_tfidf_Ran_df.loc[Sc3_T0_300_error_tfidf_Ran_df['actual'] != Sc3_T0_300_error_tfidf_Ran_df['predicted']].to_csv('./data/Sc3_T0_300_error_tfidf_Ran_df.txt', sep ='\\t')"
   ]
  },
  {
   "cell_type": "code",
   "execution_count": 378,
   "metadata": {},
   "outputs": [
    {
     "data": {
      "text/html": [
       "<div>\n",
       "<style scoped>\n",
       "    .dataframe tbody tr th:only-of-type {\n",
       "        vertical-align: middle;\n",
       "    }\n",
       "\n",
       "    .dataframe tbody tr th {\n",
       "        vertical-align: top;\n",
       "    }\n",
       "\n",
       "    .dataframe thead th {\n",
       "        text-align: right;\n",
       "    }\n",
       "</style>\n",
       "<table border=\"1\" class=\"dataframe\">\n",
       "  <thead>\n",
       "    <tr style=\"text-align: right;\">\n",
       "      <th></th>\n",
       "      <th>full_text</th>\n",
       "      <th>actual</th>\n",
       "      <th>predicted</th>\n",
       "    </tr>\n",
       "  </thead>\n",
       "  <tbody>\n",
       "    <tr>\n",
       "      <th>2</th>\n",
       "      <td>@ozuismysenpai Pillá https://t.co/fnZFeKA3fz</td>\n",
       "      <td>positive</td>\n",
       "      <td>negative</td>\n",
       "    </tr>\n",
       "    <tr>\n",
       "      <th>4</th>\n",
       "      <td>¿Por qué cree usted que debe ser suspendido Alexander Vega, Registrador Nacional del Estado Civil a 23 días de las elecciones presidenciales en Colombia? Responde el abogado constitucionalista ?? @Germancalderon1 en diálogo con @JeffersonNTN24 Directora @CGurisattiNTN24 ?? https://t.co/HpbMJ16s1T</td>\n",
       "      <td>positive</td>\n",
       "      <td>negative</td>\n",
       "    </tr>\n",
       "    <tr>\n",
       "      <th>8</th>\n",
       "      <td>Con esta ley, que se intentó modificar varias veces en anteriores contiendas, la intención principal era asegurar que las campañas electorales se llevaran a cabo en condiciones igualitarias y transparentes.\\r\\n\\r\\n#Elecciones2022 #ColombiaDecide \\r\\nhttps://t.co/qRNy77hLm6</td>\n",
       "      <td>positive</td>\n",
       "      <td>negative</td>\n",
       "    </tr>\n",
       "    <tr>\n",
       "      <th>10</th>\n",
       "      <td>#6May | El izquierdista Gustavo Petro, uno de los favoritos para las elecciones presidenciales de Colombia que se celebrarán a finales de mes, dijo que de resultar ganador, reanudará las relaciones con Venezuela, rotas desde el 23 de febrero de 2019. https://t.co/kwuU5ZjHa2</td>\n",
       "      <td>negative</td>\n",
       "      <td>positive</td>\n",
       "    </tr>\n",
       "    <tr>\n",
       "      <th>14</th>\n",
       "      <td>LAS FARC se van de frente con #GustavoPetro. \\r\\nY decían que Juan Manuel Santos no había negociado el país con las FARC. Ahí están, a punto de quedarse con él. Tan linda que es Colombia pero si no la defendemos en estas elecciones la perderemos para siempre. https://t.co/ijkgDmdxiD</td>\n",
       "      <td>positive</td>\n",
       "      <td>negative</td>\n",
       "    </tr>\n",
       "  </tbody>\n",
       "</table>\n",
       "</div>"
      ],
      "text/plain": [
       "                                                                                                                                                                                                                                                                                                    full_text  \\\n",
       "2                                                                                                                                                                                                                                                                @ozuismysenpai Pillá https://t.co/fnZFeKA3fz   \n",
       "4   ¿Por qué cree usted que debe ser suspendido Alexander Vega, Registrador Nacional del Estado Civil a 23 días de las elecciones presidenciales en Colombia? Responde el abogado constitucionalista ?? @Germancalderon1 en diálogo con @JeffersonNTN24 Directora @CGurisattiNTN24 ?? https://t.co/HpbMJ16s1T   \n",
       "8                           Con esta ley, que se intentó modificar varias veces en anteriores contiendas, la intención principal era asegurar que las campañas electorales se llevaran a cabo en condiciones igualitarias y transparentes.\\r\\n\\r\\n#Elecciones2022 #ColombiaDecide \\r\\nhttps://t.co/qRNy77hLm6   \n",
       "10                         #6May | El izquierdista Gustavo Petro, uno de los favoritos para las elecciones presidenciales de Colombia que se celebrarán a finales de mes, dijo que de resultar ganador, reanudará las relaciones con Venezuela, rotas desde el 23 de febrero de 2019. https://t.co/kwuU5ZjHa2   \n",
       "14                LAS FARC se van de frente con #GustavoPetro. \\r\\nY decían que Juan Manuel Santos no había negociado el país con las FARC. Ahí están, a punto de quedarse con él. Tan linda que es Colombia pero si no la defendemos en estas elecciones la perderemos para siempre. https://t.co/ijkgDmdxiD   \n",
       "\n",
       "      actual predicted  \n",
       "2   positive  negative  \n",
       "4   positive  negative  \n",
       "8   positive  negative  \n",
       "10  negative  positive  \n",
       "14  positive  negative  "
      ]
     },
     "execution_count": 378,
     "metadata": {},
     "output_type": "execute_result"
    }
   ],
   "source": [
    "Sc3_T0_300_error_tfidf_Ran_df.loc[Sc3_T0_300_error_tfidf_Ran_df['actual'] != Sc3_T0_300_error_tfidf_Ran_df['predicted']].head()"
   ]
  },
  {
   "cell_type": "markdown",
   "metadata": {
    "tags": []
   },
   "source": [
    "### Scenario 3 - Tag correction 0 - Train size 300 - KNeighbors Classifier"
   ]
  },
  {
   "cell_type": "code",
   "execution_count": 379,
   "metadata": {},
   "outputs": [],
   "source": [
    "# Scenario 3 - Tag correction 0 - Train size 300 - KNeighbors Classifier\n",
    "X_Sc3_T0_300_tfidf_Knei_model = KNeighborsClassifier(n_neighbors=3)"
   ]
  },
  {
   "cell_type": "code",
   "execution_count": 380,
   "metadata": {},
   "outputs": [
    {
     "data": {
      "text/plain": [
       "KNeighborsClassifier(n_neighbors=3)"
      ]
     },
     "execution_count": 380,
     "metadata": {},
     "output_type": "execute_result"
    }
   ],
   "source": [
    "X_Sc3_T0_300_tfidf_Knei_model.fit(X_Sc3_T0_300_tfidf, y_Sc3_T0_300_train)"
   ]
  },
  {
   "cell_type": "code",
   "execution_count": 381,
   "metadata": {},
   "outputs": [],
   "source": [
    "# Scenario 3 - Tag correction 0 - Train size 300 - KNeighbors Classifier - tfidf\n",
    "y_Sc3_T0_300_train_tfidf_Knei_predict = X_Sc3_T0_300_tfidf_Knei_model.predict(X_Sc3_T0_300_tfidf)\n",
    "y_Sc3_T0_300_test_tfidf_Knei_predict = X_Sc3_T0_300_tfidf_Knei_model.predict(tfidf.transform(X_Sc3_T0_300_test))"
   ]
  },
  {
   "cell_type": "code",
   "execution_count": 382,
   "metadata": {},
   "outputs": [
    {
     "data": {
      "text/plain": [
       "<sklearn.metrics._plot.confusion_matrix.ConfusionMatrixDisplay at 0x35181c08>"
      ]
     },
     "execution_count": 382,
     "metadata": {},
     "output_type": "execute_result"
    },
    {
     "data": {
      "image/png": "[encoded data removed]",
      "text/plain": [
       "<Figure size 432x288 with 2 Axes>"
      ]
     },
     "metadata": {
      "needs_background": "light"
     },
     "output_type": "display_data"
    }
   ],
   "source": [
    "ConfusionMatrixDisplay.from_predictions(y_Sc3_T0_300_train, y_Sc3_T0_300_train_tfidf_Knei_predict)"
   ]
  },
  {
   "cell_type": "code",
   "execution_count": 383,
   "metadata": {},
   "outputs": [
    {
     "data": {
      "text/plain": [
       "<sklearn.metrics._plot.confusion_matrix.ConfusionMatrixDisplay at 0x35222608>"
      ]
     },
     "execution_count": 383,
     "metadata": {},
     "output_type": "execute_result"
    },
    {
     "data": {
      "image/png": "[encoded data removed]",
      "text/plain": [
       "<Figure size 432x288 with 2 Axes>"
      ]
     },
     "metadata": {
      "needs_background": "light"
     },
     "output_type": "display_data"
    }
   ],
   "source": [
    "ConfusionMatrixDisplay.from_predictions(y_Sc3_T0_300_test, y_Sc3_T0_300_test_tfidf_Knei_predict)"
   ]
  },
  {
   "cell_type": "code",
   "execution_count": 384,
   "metadata": {},
   "outputs": [
    {
     "name": "stdout",
     "output_type": "stream",
     "text": [
      "Precision: 0.5517241379310345\n",
      "Recall: 0.5925925925925926\n",
      "F1: 0.5714285714285714\n"
     ]
    }
   ],
   "source": [
    "# Metrics calculation for binary classes\n",
    "print('Precision:', precision_score(y_Sc3_T0_300_test, y_Sc3_T0_300_test_tfidf_Knei_predict, pos_label = 'positive'))\n",
    "print('Recall:', recall_score(y_Sc3_T0_300_test, y_Sc3_T0_300_test_tfidf_Knei_predict, pos_label = 'positive'))\n",
    "print('F1:', f1_score(y_Sc3_T0_300_test, y_Sc3_T0_300_test_tfidf_Knei_predict, pos_label = 'positive'))"
   ]
  },
  {
   "cell_type": "code",
   "execution_count": 385,
   "metadata": {},
   "outputs": [
    {
     "name": "stdout",
     "output_type": "stream",
     "text": [
      "Precision: [0.79146919 0.55172414]\n",
      "Recall: [0.76255708 0.59259259]\n",
      "F1: [0.77674419 0.57142857]\n"
     ]
    }
   ],
   "source": [
    "# Metrics calculation for more than two classes\n",
    "print('Precision:', precision_score(y_Sc3_T0_300_test, y_Sc3_T0_300_test_tfidf_Knei_predict, average = None))\n",
    "print('Recall:', recall_score(y_Sc3_T0_300_test, y_Sc3_T0_300_test_tfidf_Knei_predict, average = None))\n",
    "print('F1:', f1_score(y_Sc3_T0_300_test, y_Sc3_T0_300_test_tfidf_Knei_predict, average = None))"
   ]
  },
  {
   "cell_type": "code",
   "execution_count": 386,
   "metadata": {},
   "outputs": [],
   "source": [
    "# Scenario 3 - Tag correction 0 - Train size 300 - KNeighbors Classifier - tfidf - Analyzing Errors\n",
    "Sc3_T0_300_error_tfidf_Knei_df = pd.concat(\n",
    "    [ pd.concat([X_Sc3_T0_300_test, y_Sc3_T0_300_test], axis = 1).reset_index(),\n",
    "    pd.Series(y_Sc3_T0_300_test_tfidf_Knei_predict) ]\n",
    ", axis = 1).rename(columns = { 'sentiment': 'actual', 0: 'predicted' })\n",
    "\n",
    "Sc3_T0_300_error_tfidf_Knei_df.drop('index', inplace = True, axis = 1)"
   ]
  },
  {
   "cell_type": "code",
   "execution_count": 387,
   "metadata": {},
   "outputs": [
    {
     "data": {
      "text/plain": [
       "(96, 3)"
      ]
     },
     "execution_count": 387,
     "metadata": {},
     "output_type": "execute_result"
    }
   ],
   "source": [
    "Sc3_T0_300_error_tfidf_Knei_df.loc[Sc3_T0_300_error_tfidf_Knei_df['actual'] != Sc3_T0_300_error_tfidf_Knei_df['predicted']].shape"
   ]
  },
  {
   "cell_type": "code",
   "execution_count": 388,
   "metadata": {},
   "outputs": [],
   "source": [
    "Sc3_T0_300_error_tfidf_Knei_df.loc[Sc3_T0_300_error_tfidf_Knei_df['actual'] != Sc3_T0_300_error_tfidf_Knei_df['predicted']].to_csv('./data/Sc3_T0_300_error_tfidf_Knei_df.txt', sep ='\\t')"
   ]
  },
  {
   "cell_type": "code",
   "execution_count": 389,
   "metadata": {},
   "outputs": [
    {
     "data": {
      "text/html": [
       "<div>\n",
       "<style scoped>\n",
       "    .dataframe tbody tr th:only-of-type {\n",
       "        vertical-align: middle;\n",
       "    }\n",
       "\n",
       "    .dataframe tbody tr th {\n",
       "        vertical-align: top;\n",
       "    }\n",
       "\n",
       "    .dataframe thead th {\n",
       "        text-align: right;\n",
       "    }\n",
       "</style>\n",
       "<table border=\"1\" class=\"dataframe\">\n",
       "  <thead>\n",
       "    <tr style=\"text-align: right;\">\n",
       "      <th></th>\n",
       "      <th>full_text</th>\n",
       "      <th>actual</th>\n",
       "      <th>predicted</th>\n",
       "    </tr>\n",
       "  </thead>\n",
       "  <tbody>\n",
       "    <tr>\n",
       "      <th>2</th>\n",
       "      <td>@ozuismysenpai Pillá https://t.co/fnZFeKA3fz</td>\n",
       "      <td>positive</td>\n",
       "      <td>negative</td>\n",
       "    </tr>\n",
       "    <tr>\n",
       "      <th>3</th>\n",
       "      <td>@MariaFdaCabal Fuera \"Indra\" de Colombia ???? ha participado en el desarrollo de elecciones en  Noruega, Francia, Eslovenia, Portugal, Italia, Estados Unidos, Argentina,Bolivia Angola,Argentina, Colombia entre otros, ofreciendo todo tipo de servicios electorales pero a favor de la izquierda ??</td>\n",
       "      <td>negative</td>\n",
       "      <td>positive</td>\n",
       "    </tr>\n",
       "    <tr>\n",
       "      <th>6</th>\n",
       "      <td>@NHolhuin @alezandrazam72 Modelo de Tutela que busca dar \"Tranquilidad\" Para las Elecciones Presidenciales del #29Mayo 2022 en #Colombia \\r\\nhttps://t.co/DRb5uWlUa3</td>\n",
       "      <td>positive</td>\n",
       "      <td>negative</td>\n",
       "    </tr>\n",
       "    <tr>\n",
       "      <th>7</th>\n",
       "      <td>A caso en Colombia hay Procuraduría? O si existe está sin cabeza? Las elecciones al Congreso fueron un fraude, hay que anularlas y repetirlas; hay que cerrar el CNE y sacar a todos en la Registraduría, la mayoría para una CARCEL https://t.co/wSfZAJfJcX</td>\n",
       "      <td>negative</td>\n",
       "      <td>positive</td>\n",
       "    </tr>\n",
       "    <tr>\n",
       "      <th>8</th>\n",
       "      <td>Con esta ley, que se intentó modificar varias veces en anteriores contiendas, la intención principal era asegurar que las campañas electorales se llevaran a cabo en condiciones igualitarias y transparentes.\\r\\n\\r\\n#Elecciones2022 #ColombiaDecide \\r\\nhttps://t.co/qRNy77hLm6</td>\n",
       "      <td>positive</td>\n",
       "      <td>negative</td>\n",
       "    </tr>\n",
       "  </tbody>\n",
       "</table>\n",
       "</div>"
      ],
      "text/plain": [
       "                                                                                                                                                                                                                                                                                                full_text  \\\n",
       "2                                                                                                                                                                                                                                                            @ozuismysenpai Pillá https://t.co/fnZFeKA3fz   \n",
       "3  @MariaFdaCabal Fuera \"Indra\" de Colombia ???? ha participado en el desarrollo de elecciones en  Noruega, Francia, Eslovenia, Portugal, Italia, Estados Unidos, Argentina,Bolivia Angola,Argentina, Colombia entre otros, ofreciendo todo tipo de servicios electorales pero a favor de la izquierda ??   \n",
       "6                                                                                                                                    @NHolhuin @alezandrazam72 Modelo de Tutela que busca dar \"Tranquilidad\" Para las Elecciones Presidenciales del #29Mayo 2022 en #Colombia \\r\\nhttps://t.co/DRb5uWlUa3   \n",
       "7                                            A caso en Colombia hay Procuraduría? O si existe está sin cabeza? Las elecciones al Congreso fueron un fraude, hay que anularlas y repetirlas; hay que cerrar el CNE y sacar a todos en la Registraduría, la mayoría para una CARCEL https://t.co/wSfZAJfJcX   \n",
       "8                       Con esta ley, que se intentó modificar varias veces en anteriores contiendas, la intención principal era asegurar que las campañas electorales se llevaran a cabo en condiciones igualitarias y transparentes.\\r\\n\\r\\n#Elecciones2022 #ColombiaDecide \\r\\nhttps://t.co/qRNy77hLm6   \n",
       "\n",
       "     actual predicted  \n",
       "2  positive  negative  \n",
       "3  negative  positive  \n",
       "6  positive  negative  \n",
       "7  negative  positive  \n",
       "8  positive  negative  "
      ]
     },
     "execution_count": 389,
     "metadata": {},
     "output_type": "execute_result"
    }
   ],
   "source": [
    "Sc3_T0_300_error_tfidf_Knei_df.loc[Sc3_T0_300_error_tfidf_Knei_df['actual'] != Sc3_T0_300_error_tfidf_Knei_df['predicted']].head()"
   ]
  },
  {
   "cell_type": "markdown",
   "metadata": {
    "tags": []
   },
   "source": [
    "## Scenario 3 - Tag correction 1 - Train size 300"
   ]
  },
  {
   "cell_type": "markdown",
   "metadata": {
    "tags": []
   },
   "source": [
    "### Scenario 3 - Tag correction 1 - Train size 300 - Random Forest Classifier"
   ]
  },
  {
   "cell_type": "code",
   "execution_count": 390,
   "metadata": {},
   "outputs": [],
   "source": [
    "Sc3_T1_300_tfidf_Ran_df = pd.read_csv('./data/Sc3_T1_300_tfidf_Ran_df.txt', sep = '\\t')"
   ]
  },
  {
   "cell_type": "code",
   "execution_count": 391,
   "metadata": {},
   "outputs": [
    {
     "data": {
      "text/plain": [
       "negative    0.681021\n",
       "positive    0.318979\n",
       "Name: sentiment, dtype: float64"
      ]
     },
     "execution_count": 391,
     "metadata": {},
     "output_type": "execute_result"
    }
   ],
   "source": [
    "Sc3_T1_300_tfidf_Ran_df['sentiment'].value_counts(dropna = False, normalize = True)"
   ]
  },
  {
   "cell_type": "code",
   "execution_count": 392,
   "metadata": {},
   "outputs": [
    {
     "data": {
      "text/html": [
       "<div>\n",
       "<style scoped>\n",
       "    .dataframe tbody tr th:only-of-type {\n",
       "        vertical-align: middle;\n",
       "    }\n",
       "\n",
       "    .dataframe tbody tr th {\n",
       "        vertical-align: top;\n",
       "    }\n",
       "\n",
       "    .dataframe thead th {\n",
       "        text-align: right;\n",
       "    }\n",
       "</style>\n",
       "<table border=\"1\" class=\"dataframe\">\n",
       "  <thead>\n",
       "    <tr style=\"text-align: right;\">\n",
       "      <th></th>\n",
       "      <th>id</th>\n",
       "      <th>full_text</th>\n",
       "      <th>sentiment</th>\n",
       "      <th>emotion</th>\n",
       "    </tr>\n",
       "  </thead>\n",
       "  <tbody>\n",
       "    <tr>\n",
       "      <th>0</th>\n",
       "      <td>1</td>\n",
       "      <td>@IvanDuque Sus socios de las AGC tienen este platanal vuelto mierda, pero no haces nada, usted inservible, ha logrado la peor inflación en Colombia y solo pública maricadas sin sentido, se robó las elecciones para entregar el país, valiente idiota tenemos de presidente.</td>\n",
       "      <td>negative</td>\n",
       "      <td>anger</td>\n",
       "    </tr>\n",
       "    <tr>\n",
       "      <th>1</th>\n",
       "      <td>2</td>\n",
       "      <td>@AlvaroUribeVel Ellos también celebran por que Maduro PetroGustavo Ivan Cepeda Timo Teodora Bobolivar entre muchos más sufren  de insomnio.\\r\\nUribe Velez Alvarito no los deja dormir\\r\\nEl enemigo para las elecciones no es Fico.... Sino el Excelentísimo y más Grande Presidente que ha tenido Colombia</td>\n",
       "      <td>negative</td>\n",
       "      <td>anger</td>\n",
       "    </tr>\n",
       "    <tr>\n",
       "      <th>2</th>\n",
       "      <td>3</td>\n",
       "      <td>@PDleh @cokycafe @PGN_COL En Colombia existen miles de leyes para controlar los funcionarios públicos pero a la hora de aplicarlas \"se les olvida que existen\". ¿Que más pruebas quieren? ¿Porque avalan unas elecciones, las del 13 de marzo, donde pado de todo lo que no debía de pasar? Escuchamos  respuestas</td>\n",
       "      <td>negative</td>\n",
       "      <td>anger</td>\n",
       "    </tr>\n",
       "    <tr>\n",
       "      <th>3</th>\n",
       "      <td>4</td>\n",
       "      <td>Petro ahora es el Capitán América o mejor dicho el Capitán Colombia de ganar las elecciones. No soltara el escudo ni para dormir ?? https://t.co/k56Dv7id1J</td>\n",
       "      <td>negative</td>\n",
       "      <td>joy</td>\n",
       "    </tr>\n",
       "    <tr>\n",
       "      <th>4</th>\n",
       "      <td>5</td>\n",
       "      <td>#OtraPregunta \\r\\n\"Petro promete reanudar relaciones diplomáticas con Maduro si gana elecciones en Colombia\"...\\r\\nEsto no pinta nada bien... y si además gana Lula en Brasil...\\r\\n¿Esto como que va para largo? https://t.co/wpQsl5KoRe</td>\n",
       "      <td>negative</td>\n",
       "      <td>fear</td>\n",
       "    </tr>\n",
       "  </tbody>\n",
       "</table>\n",
       "</div>"
      ],
      "text/plain": [
       "   id  \\\n",
       "0   1   \n",
       "1   2   \n",
       "2   3   \n",
       "3   4   \n",
       "4   5   \n",
       "\n",
       "                                                                                                                                                                                                                                                                                                            full_text  \\\n",
       "0                                      @IvanDuque Sus socios de las AGC tienen este platanal vuelto mierda, pero no haces nada, usted inservible, ha logrado la peor inflación en Colombia y solo pública maricadas sin sentido, se robó las elecciones para entregar el país, valiente idiota tenemos de presidente.   \n",
       "1        @AlvaroUribeVel Ellos también celebran por que Maduro PetroGustavo Ivan Cepeda Timo Teodora Bobolivar entre muchos más sufren  de insomnio.\\r\\nUribe Velez Alvarito no los deja dormir\\r\\nEl enemigo para las elecciones no es Fico.... Sino el Excelentísimo y más Grande Presidente que ha tenido Colombia   \n",
       "2  @PDleh @cokycafe @PGN_COL En Colombia existen miles de leyes para controlar los funcionarios públicos pero a la hora de aplicarlas \"se les olvida que existen\". ¿Que más pruebas quieren? ¿Porque avalan unas elecciones, las del 13 de marzo, donde pado de todo lo que no debía de pasar? Escuchamos  respuestas   \n",
       "3                                                                                                                                                         Petro ahora es el Capitán América o mejor dicho el Capitán Colombia de ganar las elecciones. No soltara el escudo ni para dormir ?? https://t.co/k56Dv7id1J   \n",
       "4                                                                           #OtraPregunta \\r\\n\"Petro promete reanudar relaciones diplomáticas con Maduro si gana elecciones en Colombia\"...\\r\\nEsto no pinta nada bien... y si además gana Lula en Brasil...\\r\\n¿Esto como que va para largo? https://t.co/wpQsl5KoRe   \n",
       "\n",
       "  sentiment emotion  \n",
       "0  negative   anger  \n",
       "1  negative   anger  \n",
       "2  negative   anger  \n",
       "3  negative     joy  \n",
       "4  negative    fear  "
      ]
     },
     "execution_count": 392,
     "metadata": {},
     "output_type": "execute_result"
    }
   ],
   "source": [
    "Sc3_T1_300_tfidf_Ran_df.head()"
   ]
  },
  {
   "cell_type": "code",
   "execution_count": 393,
   "metadata": {},
   "outputs": [],
   "source": [
    "# the randomstate number ensures that split are reproducible\n",
    "X_Sc3_T1_300_train, X_Sc3_T1_300_test, y_Sc3_T1_300_train, y_Sc3_T1_300_test = train_test_split(Sc3_T1_300_tfidf_Ran_df['full_text'], Sc3_T1_300_tfidf_Ran_df['sentiment'], train_size = 300, stratify = Sc3_T1_300_tfidf_Ran_df['sentiment'], random_state = 1)"
   ]
  },
  {
   "cell_type": "code",
   "execution_count": 394,
   "metadata": {},
   "outputs": [
    {
     "data": {
      "text/plain": [
       "(300,)"
      ]
     },
     "execution_count": 394,
     "metadata": {},
     "output_type": "execute_result"
    }
   ],
   "source": [
    "X_Sc3_T1_300_train.shape"
   ]
  },
  {
   "cell_type": "code",
   "execution_count": 395,
   "metadata": {},
   "outputs": [
    {
     "data": {
      "text/plain": [
       "negative    0.68\n",
       "positive    0.32\n",
       "Name: sentiment, dtype: float64"
      ]
     },
     "execution_count": 395,
     "metadata": {},
     "output_type": "execute_result"
    }
   ],
   "source": [
    "pd.Series(y_Sc3_T1_300_train).value_counts(normalize = True)"
   ]
  },
  {
   "cell_type": "code",
   "execution_count": 396,
   "metadata": {},
   "outputs": [
    {
     "data": {
      "text/plain": [
       "(327,)"
      ]
     },
     "execution_count": 396,
     "metadata": {},
     "output_type": "execute_result"
    }
   ],
   "source": [
    "X_Sc3_T1_300_test.shape"
   ]
  },
  {
   "cell_type": "code",
   "execution_count": 397,
   "metadata": {},
   "outputs": [
    {
     "data": {
      "text/plain": [
       "negative    0.681957\n",
       "positive    0.318043\n",
       "Name: sentiment, dtype: float64"
      ]
     },
     "execution_count": 397,
     "metadata": {},
     "output_type": "execute_result"
    }
   ],
   "source": [
    "pd.Series(y_Sc3_T1_300_test).value_counts(normalize = True)"
   ]
  },
  {
   "cell_type": "code",
   "execution_count": 398,
   "metadata": {},
   "outputs": [],
   "source": [
    "X_Sc3_T1_300_tfidf = tfidf.fit_transform(X_Sc3_T1_300_train)"
   ]
  },
  {
   "cell_type": "code",
   "execution_count": 399,
   "metadata": {},
   "outputs": [],
   "source": [
    "# Scenario 3 - Tag correction 0 - Train size 300 - Random Forest Classifier\n",
    "X_Sc3_T1_300_tfidf_Ran_model = RandomForestClassifier()"
   ]
  },
  {
   "cell_type": "code",
   "execution_count": 400,
   "metadata": {},
   "outputs": [
    {
     "data": {
      "text/plain": [
       "RandomForestClassifier()"
      ]
     },
     "execution_count": 400,
     "metadata": {},
     "output_type": "execute_result"
    }
   ],
   "source": [
    "X_Sc3_T1_300_tfidf_Ran_model.fit(X_Sc3_T1_300_tfidf, y_Sc3_T1_300_train)"
   ]
  },
  {
   "cell_type": "code",
   "execution_count": 401,
   "metadata": {},
   "outputs": [],
   "source": [
    "# Scenario 3 - Tag correction 0 - Train size 300 - Random Forest Classifier - TF-IDF\n",
    "y_Sc3_T1_300_train_tfidf_Ran_predict = X_Sc3_T1_300_tfidf_Ran_model.predict(X_Sc3_T1_300_tfidf)\n",
    "y_Sc3_T1_300_test_tfidf_Ran_predict = X_Sc3_T1_300_tfidf_Ran_model.predict(tfidf.transform(X_Sc3_T1_300_test))"
   ]
  },
  {
   "cell_type": "code",
   "execution_count": 402,
   "metadata": {},
   "outputs": [
    {
     "data": {
      "text/plain": [
       "<sklearn.metrics._plot.confusion_matrix.ConfusionMatrixDisplay at 0x30c721c8>"
      ]
     },
     "execution_count": 402,
     "metadata": {},
     "output_type": "execute_result"
    },
    {
     "data": {
      "image/png": "[encoded data removed]",
      "text/plain": [
       "<Figure size 432x288 with 2 Axes>"
      ]
     },
     "metadata": {
      "needs_background": "light"
     },
     "output_type": "display_data"
    }
   ],
   "source": [
    "ConfusionMatrixDisplay.from_predictions(y_Sc3_T1_300_train, y_Sc3_T1_300_train_tfidf_Ran_predict)"
   ]
  },
  {
   "cell_type": "code",
   "execution_count": 403,
   "metadata": {},
   "outputs": [
    {
     "data": {
      "text/plain": [
       "<sklearn.metrics._plot.confusion_matrix.ConfusionMatrixDisplay at 0x35395e48>"
      ]
     },
     "execution_count": 403,
     "metadata": {},
     "output_type": "execute_result"
    },
    {
     "data": {
      "image/png": "[encoded data removed]",
      "text/plain": [
       "<Figure size 432x288 with 2 Axes>"
      ]
     },
     "metadata": {
      "needs_background": "light"
     },
     "output_type": "display_data"
    }
   ],
   "source": [
    "ConfusionMatrixDisplay.from_predictions(y_Sc3_T1_300_test, y_Sc3_T1_300_test_tfidf_Ran_predict)"
   ]
  },
  {
   "cell_type": "code",
   "execution_count": 404,
   "metadata": {},
   "outputs": [
    {
     "name": "stdout",
     "output_type": "stream",
     "text": [
      "Precision: 0.6865671641791045\n",
      "Recall: 0.4423076923076923\n",
      "F1: 0.5380116959064327\n"
     ]
    }
   ],
   "source": [
    "# Metrics calculation for binary classes\n",
    "print('Precision:', precision_score(y_Sc3_T1_300_test, y_Sc3_T1_300_test_tfidf_Ran_predict, pos_label = 'positive'))\n",
    "print('Recall:', recall_score(y_Sc3_T1_300_test, y_Sc3_T1_300_test_tfidf_Ran_predict, pos_label = 'positive'))\n",
    "print('F1:', f1_score(y_Sc3_T1_300_test, y_Sc3_T1_300_test_tfidf_Ran_predict, pos_label = 'positive'))"
   ]
  },
  {
   "cell_type": "code",
   "execution_count": 405,
   "metadata": {},
   "outputs": [
    {
     "name": "stdout",
     "output_type": "stream",
     "text": [
      "Precision: [0.77692308 0.68656716]\n",
      "Recall: [0.9058296  0.44230769]\n",
      "F1: [0.83643892 0.5380117 ]\n"
     ]
    }
   ],
   "source": [
    "# Metrics calculation for more than two classes\n",
    "print('Precision:', precision_score(y_Sc3_T1_300_test, y_Sc3_T1_300_test_tfidf_Ran_predict, average = None))\n",
    "print('Recall:', recall_score(y_Sc3_T1_300_test, y_Sc3_T1_300_test_tfidf_Ran_predict, average = None))\n",
    "print('F1:', f1_score(y_Sc3_T1_300_test, y_Sc3_T1_300_test_tfidf_Ran_predict, average = None))"
   ]
  },
  {
   "cell_type": "code",
   "execution_count": 406,
   "metadata": {},
   "outputs": [],
   "source": [
    "# Scenario 3 - Tag correction 0 - Train size 300 - Random Forest Classifier - TF-IDF - Analyzing Errors\n",
    "Sc3_T1_300_error_tfidf_Ran_df = pd.concat(\n",
    "    [ pd.concat([X_Sc3_T1_300_test, y_Sc3_T1_300_test], axis = 1).reset_index(),\n",
    "    pd.Series(y_Sc3_T1_300_test_tfidf_Ran_predict) ]\n",
    ", axis = 1).rename(columns = { 'sentiment': 'actual', 0: 'predicted' })\n",
    "\n",
    "Sc3_T1_300_error_tfidf_Ran_df.drop('index', inplace = True, axis = 1)"
   ]
  },
  {
   "cell_type": "code",
   "execution_count": 407,
   "metadata": {},
   "outputs": [
    {
     "data": {
      "text/plain": [
       "(79, 3)"
      ]
     },
     "execution_count": 407,
     "metadata": {},
     "output_type": "execute_result"
    }
   ],
   "source": [
    "Sc3_T1_300_error_tfidf_Ran_df.loc[Sc3_T1_300_error_tfidf_Ran_df['actual'] != Sc3_T1_300_error_tfidf_Ran_df['predicted']].shape"
   ]
  },
  {
   "cell_type": "code",
   "execution_count": 408,
   "metadata": {},
   "outputs": [],
   "source": [
    "Sc3_T1_300_error_tfidf_Ran_df.loc[Sc3_T1_300_error_tfidf_Ran_df['actual'] != Sc3_T1_300_error_tfidf_Ran_df['predicted']].to_csv('./data/Sc3_T1_300_error_tfidf_Ran_df.txt', sep ='\\t')"
   ]
  },
  {
   "cell_type": "code",
   "execution_count": 409,
   "metadata": {},
   "outputs": [
    {
     "data": {
      "text/html": [
       "<div>\n",
       "<style scoped>\n",
       "    .dataframe tbody tr th:only-of-type {\n",
       "        vertical-align: middle;\n",
       "    }\n",
       "\n",
       "    .dataframe tbody tr th {\n",
       "        vertical-align: top;\n",
       "    }\n",
       "\n",
       "    .dataframe thead th {\n",
       "        text-align: right;\n",
       "    }\n",
       "</style>\n",
       "<table border=\"1\" class=\"dataframe\">\n",
       "  <thead>\n",
       "    <tr style=\"text-align: right;\">\n",
       "      <th></th>\n",
       "      <th>full_text</th>\n",
       "      <th>actual</th>\n",
       "      <th>predicted</th>\n",
       "    </tr>\n",
       "  </thead>\n",
       "  <tbody>\n",
       "    <tr>\n",
       "      <th>0</th>\n",
       "      <td>Marbelle amenaza con irse de Colombia si Petro gana las elecciones ??????\\r\\n\\r\\nLa caleña tiene decidido abandonar el país si el candidato del Pacto Histórico gana su lugar en la Casa de Nariño por los próximos cuatro años. #tuvozpereira https://t.co/GHdCZ9AJZA</td>\n",
       "      <td>positive</td>\n",
       "      <td>negative</td>\n",
       "    </tr>\n",
       "    <tr>\n",
       "      <th>6</th>\n",
       "      <td>@Nata_Salud @Sandrag69 @AndresMejiaV ¡Hola Natalia! Te invitamos a descubrir tu #MatchPresidencial aquí: https://t.co/0E1tZKypTK</td>\n",
       "      <td>positive</td>\n",
       "      <td>negative</td>\n",
       "    </tr>\n",
       "    <tr>\n",
       "      <th>8</th>\n",
       "      <td>El Tribunal Administrativo de Cundinamarca negó la solicitud de suspensión provisional del Registrador Nacional, Alexander Vega. Sin embargo, decretó unas medidas cautelares para garantizar las elecciones. | A 23 días para la elección presidencial en Colombia, opine. https://t.co/KNA8oitIEa</td>\n",
       "      <td>positive</td>\n",
       "      <td>negative</td>\n",
       "    </tr>\n",
       "    <tr>\n",
       "      <th>9</th>\n",
       "      <td>El comunista @petrogustavo se quitó la careta este viernes y dijo que si gana las elecciones del #29Mayo en #Colombia reconocerá y trabajará diplomáticamente con el dictador @NicolasMaduro\\r\\n\\r\\n#Colombianos, no permitan que llegue el #Comunismo en su país.\\r\\n\\r\\nVoten por @FicoGutierrez https://t.co/IDWS9UoyaG</td>\n",
       "      <td>positive</td>\n",
       "      <td>negative</td>\n",
       "    </tr>\n",
       "    <tr>\n",
       "      <th>10</th>\n",
       "      <td>Gastón Garriga: cómo multiplicar algunas ideas de CFK/Colombia avanza hacia elecciones con Petro amenazado/Interacción con oyentes.</td>\n",
       "      <td>positive</td>\n",
       "      <td>negative</td>\n",
       "    </tr>\n",
       "  </tbody>\n",
       "</table>\n",
       "</div>"
      ],
      "text/plain": [
       "                                                                                                                                                                                                                                                                                                                     full_text  \\\n",
       "0                                                       Marbelle amenaza con irse de Colombia si Petro gana las elecciones ??????\\r\\n\\r\\nLa caleña tiene decidido abandonar el país si el candidato del Pacto Histórico gana su lugar en la Casa de Nariño por los próximos cuatro años. #tuvozpereira https://t.co/GHdCZ9AJZA   \n",
       "6                                                                                                                                                                                             @Nata_Salud @Sandrag69 @AndresMejiaV ¡Hola Natalia! Te invitamos a descubrir tu #MatchPresidencial aquí: https://t.co/0E1tZKypTK   \n",
       "8                          El Tribunal Administrativo de Cundinamarca negó la solicitud de suspensión provisional del Registrador Nacional, Alexander Vega. Sin embargo, decretó unas medidas cautelares para garantizar las elecciones. | A 23 días para la elección presidencial en Colombia, opine. https://t.co/KNA8oitIEa   \n",
       "9   El comunista @petrogustavo se quitó la careta este viernes y dijo que si gana las elecciones del #29Mayo en #Colombia reconocerá y trabajará diplomáticamente con el dictador @NicolasMaduro\\r\\n\\r\\n#Colombianos, no permitan que llegue el #Comunismo en su país.\\r\\n\\r\\nVoten por @FicoGutierrez https://t.co/IDWS9UoyaG   \n",
       "10                                                                                                                                                                                         Gastón Garriga: cómo multiplicar algunas ideas de CFK/Colombia avanza hacia elecciones con Petro amenazado/Interacción con oyentes.   \n",
       "\n",
       "      actual predicted  \n",
       "0   positive  negative  \n",
       "6   positive  negative  \n",
       "8   positive  negative  \n",
       "9   positive  negative  \n",
       "10  positive  negative  "
      ]
     },
     "execution_count": 409,
     "metadata": {},
     "output_type": "execute_result"
    }
   ],
   "source": [
    "Sc3_T1_300_error_tfidf_Ran_df.loc[Sc3_T1_300_error_tfidf_Ran_df['actual'] != Sc3_T1_300_error_tfidf_Ran_df['predicted']].head()"
   ]
  },
  {
   "cell_type": "markdown",
   "metadata": {
    "tags": []
   },
   "source": [
    "### Scenario 3 - Tag correction 1 - Train size 300 - KNeighbors Classifier"
   ]
  },
  {
   "cell_type": "code",
   "execution_count": 410,
   "metadata": {},
   "outputs": [],
   "source": [
    "Sc3_T1_300_tfidf_Knei_df = pd.read_csv('./data/Sc3_T1_300_tfidf_Knei_df.txt', sep = '\\t')"
   ]
  },
  {
   "cell_type": "code",
   "execution_count": 411,
   "metadata": {},
   "outputs": [
    {
     "data": {
      "text/plain": [
       "negative    0.681021\n",
       "positive    0.318979\n",
       "Name: sentiment, dtype: float64"
      ]
     },
     "execution_count": 411,
     "metadata": {},
     "output_type": "execute_result"
    }
   ],
   "source": [
    "Sc3_T1_300_tfidf_Knei_df['sentiment'].value_counts(dropna = False, normalize = True)"
   ]
  },
  {
   "cell_type": "code",
   "execution_count": 412,
   "metadata": {},
   "outputs": [
    {
     "data": {
      "text/html": [
       "<div>\n",
       "<style scoped>\n",
       "    .dataframe tbody tr th:only-of-type {\n",
       "        vertical-align: middle;\n",
       "    }\n",
       "\n",
       "    .dataframe tbody tr th {\n",
       "        vertical-align: top;\n",
       "    }\n",
       "\n",
       "    .dataframe thead th {\n",
       "        text-align: right;\n",
       "    }\n",
       "</style>\n",
       "<table border=\"1\" class=\"dataframe\">\n",
       "  <thead>\n",
       "    <tr style=\"text-align: right;\">\n",
       "      <th></th>\n",
       "      <th>id</th>\n",
       "      <th>full_text</th>\n",
       "      <th>sentiment</th>\n",
       "      <th>emotion</th>\n",
       "    </tr>\n",
       "  </thead>\n",
       "  <tbody>\n",
       "    <tr>\n",
       "      <th>0</th>\n",
       "      <td>1</td>\n",
       "      <td>@IvanDuque Sus socios de las AGC tienen este platanal vuelto mierda, pero no haces nada, usted inservible, ha logrado la peor inflación en Colombia y solo pública maricadas sin sentido, se robó las elecciones para entregar el país, valiente idiota tenemos de presidente.</td>\n",
       "      <td>negative</td>\n",
       "      <td>anger</td>\n",
       "    </tr>\n",
       "    <tr>\n",
       "      <th>1</th>\n",
       "      <td>2</td>\n",
       "      <td>@AlvaroUribeVel Ellos también celebran por que Maduro PetroGustavo Ivan Cepeda Timo Teodora Bobolivar entre muchos más sufren  de insomnio.\\r\\nUribe Velez Alvarito no los deja dormir\\r\\nEl enemigo para las elecciones no es Fico.... Sino el Excelentísimo y más Grande Presidente que ha tenido Colombia</td>\n",
       "      <td>negative</td>\n",
       "      <td>anger</td>\n",
       "    </tr>\n",
       "    <tr>\n",
       "      <th>2</th>\n",
       "      <td>3</td>\n",
       "      <td>@PDleh @cokycafe @PGN_COL En Colombia existen miles de leyes para controlar los funcionarios públicos pero a la hora de aplicarlas \"se les olvida que existen\". ¿Que más pruebas quieren? ¿Porque avalan unas elecciones, las del 13 de marzo, donde pado de todo lo que no debía de pasar? Escuchamos  respuestas</td>\n",
       "      <td>negative</td>\n",
       "      <td>anger</td>\n",
       "    </tr>\n",
       "    <tr>\n",
       "      <th>3</th>\n",
       "      <td>4</td>\n",
       "      <td>Petro ahora es el Capitán América o mejor dicho el Capitán Colombia de ganar las elecciones. No soltara el escudo ni para dormir ?? https://t.co/k56Dv7id1J</td>\n",
       "      <td>negative</td>\n",
       "      <td>joy</td>\n",
       "    </tr>\n",
       "    <tr>\n",
       "      <th>4</th>\n",
       "      <td>5</td>\n",
       "      <td>#OtraPregunta \\r\\n\"Petro promete reanudar relaciones diplomáticas con Maduro si gana elecciones en Colombia\"...\\r\\nEsto no pinta nada bien... y si además gana Lula en Brasil...\\r\\n¿Esto como que va para largo? https://t.co/wpQsl5KoRe</td>\n",
       "      <td>negative</td>\n",
       "      <td>fear</td>\n",
       "    </tr>\n",
       "  </tbody>\n",
       "</table>\n",
       "</div>"
      ],
      "text/plain": [
       "   id  \\\n",
       "0   1   \n",
       "1   2   \n",
       "2   3   \n",
       "3   4   \n",
       "4   5   \n",
       "\n",
       "                                                                                                                                                                                                                                                                                                            full_text  \\\n",
       "0                                      @IvanDuque Sus socios de las AGC tienen este platanal vuelto mierda, pero no haces nada, usted inservible, ha logrado la peor inflación en Colombia y solo pública maricadas sin sentido, se robó las elecciones para entregar el país, valiente idiota tenemos de presidente.   \n",
       "1        @AlvaroUribeVel Ellos también celebran por que Maduro PetroGustavo Ivan Cepeda Timo Teodora Bobolivar entre muchos más sufren  de insomnio.\\r\\nUribe Velez Alvarito no los deja dormir\\r\\nEl enemigo para las elecciones no es Fico.... Sino el Excelentísimo y más Grande Presidente que ha tenido Colombia   \n",
       "2  @PDleh @cokycafe @PGN_COL En Colombia existen miles de leyes para controlar los funcionarios públicos pero a la hora de aplicarlas \"se les olvida que existen\". ¿Que más pruebas quieren? ¿Porque avalan unas elecciones, las del 13 de marzo, donde pado de todo lo que no debía de pasar? Escuchamos  respuestas   \n",
       "3                                                                                                                                                         Petro ahora es el Capitán América o mejor dicho el Capitán Colombia de ganar las elecciones. No soltara el escudo ni para dormir ?? https://t.co/k56Dv7id1J   \n",
       "4                                                                           #OtraPregunta \\r\\n\"Petro promete reanudar relaciones diplomáticas con Maduro si gana elecciones en Colombia\"...\\r\\nEsto no pinta nada bien... y si además gana Lula en Brasil...\\r\\n¿Esto como que va para largo? https://t.co/wpQsl5KoRe   \n",
       "\n",
       "  sentiment emotion  \n",
       "0  negative   anger  \n",
       "1  negative   anger  \n",
       "2  negative   anger  \n",
       "3  negative     joy  \n",
       "4  negative    fear  "
      ]
     },
     "execution_count": 412,
     "metadata": {},
     "output_type": "execute_result"
    }
   ],
   "source": [
    "Sc3_T1_300_tfidf_Knei_df.head()"
   ]
  },
  {
   "cell_type": "code",
   "execution_count": 413,
   "metadata": {},
   "outputs": [],
   "source": [
    "# the randomstate number ensures that split are reproducible\n",
    "X_Sc3_T1_300_train, X_Sc3_T1_300_test, y_Sc3_T1_300_train, y_Sc3_T1_300_test = train_test_split(Sc3_T1_300_tfidf_Knei_df['full_text'], Sc3_T1_300_tfidf_Knei_df['sentiment'], train_size = 300, stratify = Sc3_T1_300_tfidf_Knei_df['sentiment'], random_state = 1)"
   ]
  },
  {
   "cell_type": "code",
   "execution_count": 414,
   "metadata": {},
   "outputs": [
    {
     "data": {
      "text/plain": [
       "(300,)"
      ]
     },
     "execution_count": 414,
     "metadata": {},
     "output_type": "execute_result"
    }
   ],
   "source": [
    "X_Sc3_T1_300_train.shape"
   ]
  },
  {
   "cell_type": "code",
   "execution_count": 415,
   "metadata": {},
   "outputs": [
    {
     "data": {
      "text/plain": [
       "negative    0.68\n",
       "positive    0.32\n",
       "Name: sentiment, dtype: float64"
      ]
     },
     "execution_count": 415,
     "metadata": {},
     "output_type": "execute_result"
    }
   ],
   "source": [
    "pd.Series(y_Sc3_T1_300_train).value_counts(normalize = True)"
   ]
  },
  {
   "cell_type": "code",
   "execution_count": 416,
   "metadata": {},
   "outputs": [
    {
     "data": {
      "text/plain": [
       "(327,)"
      ]
     },
     "execution_count": 416,
     "metadata": {},
     "output_type": "execute_result"
    }
   ],
   "source": [
    "X_Sc3_T1_300_test.shape"
   ]
  },
  {
   "cell_type": "code",
   "execution_count": 417,
   "metadata": {},
   "outputs": [
    {
     "data": {
      "text/plain": [
       "negative    0.681957\n",
       "positive    0.318043\n",
       "Name: sentiment, dtype: float64"
      ]
     },
     "execution_count": 417,
     "metadata": {},
     "output_type": "execute_result"
    }
   ],
   "source": [
    "pd.Series(y_Sc3_T1_300_test).value_counts(normalize = True)"
   ]
  },
  {
   "cell_type": "code",
   "execution_count": 418,
   "metadata": {},
   "outputs": [],
   "source": [
    "X_Sc3_T1_300_tfidf = tfidf.fit_transform(X_Sc3_T1_300_train)"
   ]
  },
  {
   "cell_type": "code",
   "execution_count": 419,
   "metadata": {},
   "outputs": [],
   "source": [
    "# Scenario 3 - Tag correction 1 - Train size 300 - KNeighbors Classifier\n",
    "X_Sc3_T1_300_tfidf_Knei_model = KNeighborsClassifier(n_neighbors=3)"
   ]
  },
  {
   "cell_type": "code",
   "execution_count": 420,
   "metadata": {},
   "outputs": [
    {
     "data": {
      "text/plain": [
       "KNeighborsClassifier(n_neighbors=3)"
      ]
     },
     "execution_count": 420,
     "metadata": {},
     "output_type": "execute_result"
    }
   ],
   "source": [
    "X_Sc3_T1_300_tfidf_Knei_model.fit(X_Sc3_T1_300_tfidf, y_Sc3_T1_300_train)"
   ]
  },
  {
   "cell_type": "code",
   "execution_count": 421,
   "metadata": {},
   "outputs": [],
   "source": [
    "# Scenario 3 - Tag correction 1 - Train size 300 - KNeighbors Classifier - TF-IDF\n",
    "y_Sc3_T1_300_train_tfidf_Knei_predict = X_Sc3_T1_300_tfidf_Knei_model.predict(X_Sc3_T1_300_tfidf)\n",
    "y_Sc3_T1_300_test_tfidf_Knei_predict = X_Sc3_T1_300_tfidf_Knei_model.predict(tfidf.transform(X_Sc3_T1_300_test))"
   ]
  },
  {
   "cell_type": "code",
   "execution_count": 422,
   "metadata": {},
   "outputs": [
    {
     "data": {
      "text/plain": [
       "<sklearn.metrics._plot.confusion_matrix.ConfusionMatrixDisplay at 0x35379388>"
      ]
     },
     "execution_count": 422,
     "metadata": {},
     "output_type": "execute_result"
    },
    {
     "data": {
      "image/png": "[encoded data removed]",
      "text/plain": [
       "<Figure size 432x288 with 2 Axes>"
      ]
     },
     "metadata": {
      "needs_background": "light"
     },
     "output_type": "display_data"
    }
   ],
   "source": [
    "ConfusionMatrixDisplay.from_predictions(y_Sc3_T1_300_train, y_Sc3_T1_300_train_tfidf_Knei_predict)"
   ]
  },
  {
   "cell_type": "code",
   "execution_count": 423,
   "metadata": {},
   "outputs": [
    {
     "data": {
      "text/plain": [
       "<sklearn.metrics._plot.confusion_matrix.ConfusionMatrixDisplay at 0x355ee5c8>"
      ]
     },
     "execution_count": 423,
     "metadata": {},
     "output_type": "execute_result"
    },
    {
     "data": {
      "image/png": "[encoded data removed]",
      "text/plain": [
       "<Figure size 432x288 with 2 Axes>"
      ]
     },
     "metadata": {
      "needs_background": "light"
     },
     "output_type": "display_data"
    }
   ],
   "source": [
    "ConfusionMatrixDisplay.from_predictions(y_Sc3_T1_300_test, y_Sc3_T1_300_test_tfidf_Knei_predict)"
   ]
  },
  {
   "cell_type": "code",
   "execution_count": 424,
   "metadata": {},
   "outputs": [
    {
     "name": "stdout",
     "output_type": "stream",
     "text": [
      "Precision: 0.5604395604395604\n",
      "Recall: 0.49038461538461536\n",
      "F1: 0.523076923076923\n"
     ]
    }
   ],
   "source": [
    "# Metrics calculation for binary classes\n",
    "print('Precision:', precision_score(y_Sc3_T1_300_test, y_Sc3_T1_300_test_tfidf_Knei_predict, pos_label = 'positive'))\n",
    "print('Recall:', recall_score(y_Sc3_T1_300_test, y_Sc3_T1_300_test_tfidf_Knei_predict, pos_label = 'positive'))\n",
    "print('F1:', f1_score(y_Sc3_T1_300_test, y_Sc3_T1_300_test_tfidf_Knei_predict, pos_label = 'positive'))"
   ]
  },
  {
   "cell_type": "code",
   "execution_count": 425,
   "metadata": {},
   "outputs": [
    {
     "name": "stdout",
     "output_type": "stream",
     "text": [
      "Precision: [0.77542373 0.56043956]\n",
      "Recall: [0.8206278  0.49038462]\n",
      "F1: [0.79738562 0.52307692]\n"
     ]
    }
   ],
   "source": [
    "# Metrics calculation for more than two classes\n",
    "print('Precision:', precision_score(y_Sc3_T1_300_test, y_Sc3_T1_300_test_tfidf_Knei_predict, average = None))\n",
    "print('Recall:', recall_score(y_Sc3_T1_300_test, y_Sc3_T1_300_test_tfidf_Knei_predict, average = None))\n",
    "print('F1:', f1_score(y_Sc3_T1_300_test, y_Sc3_T1_300_test_tfidf_Knei_predict, average = None))"
   ]
  },
  {
   "cell_type": "code",
   "execution_count": 426,
   "metadata": {},
   "outputs": [],
   "source": [
    "# Scenario 3 - Tag correction 1 - Train size 300 - KNeighbors Classifier - TF-IDF - Analyzing Errors\n",
    "Sc3_T1_300_error_tfidf_Knei_df = pd.concat(\n",
    "    [ pd.concat([X_Sc3_T1_300_test, y_Sc3_T1_300_test], axis = 1).reset_index(),\n",
    "    pd.Series(y_Sc3_T1_300_test_tfidf_Knei_predict) ]\n",
    ", axis = 1).rename(columns = { 'sentiment': 'actual', 0: 'predicted' })\n",
    "\n",
    "Sc3_T1_300_error_tfidf_Knei_df.drop('index', inplace = True, axis = 1)"
   ]
  },
  {
   "cell_type": "code",
   "execution_count": 427,
   "metadata": {},
   "outputs": [
    {
     "data": {
      "text/plain": [
       "(93, 3)"
      ]
     },
     "execution_count": 427,
     "metadata": {},
     "output_type": "execute_result"
    }
   ],
   "source": [
    "Sc3_T1_300_error_tfidf_Knei_df.loc[Sc3_T1_300_error_tfidf_Knei_df['actual'] != Sc3_T1_300_error_tfidf_Knei_df['predicted']].shape"
   ]
  },
  {
   "cell_type": "code",
   "execution_count": 428,
   "metadata": {},
   "outputs": [],
   "source": [
    "Sc3_T1_300_error_tfidf_Knei_df.loc[Sc3_T1_300_error_tfidf_Knei_df['actual'] != Sc3_T1_300_error_tfidf_Knei_df['predicted']].to_csv('./data/Sc3_T1_300_error_tfidf_Knei_df.txt', sep ='\\t')"
   ]
  },
  {
   "cell_type": "code",
   "execution_count": 429,
   "metadata": {},
   "outputs": [
    {
     "data": {
      "text/html": [
       "<div>\n",
       "<style scoped>\n",
       "    .dataframe tbody tr th:only-of-type {\n",
       "        vertical-align: middle;\n",
       "    }\n",
       "\n",
       "    .dataframe tbody tr th {\n",
       "        vertical-align: top;\n",
       "    }\n",
       "\n",
       "    .dataframe thead th {\n",
       "        text-align: right;\n",
       "    }\n",
       "</style>\n",
       "<table border=\"1\" class=\"dataframe\">\n",
       "  <thead>\n",
       "    <tr style=\"text-align: right;\">\n",
       "      <th></th>\n",
       "      <th>full_text</th>\n",
       "      <th>actual</th>\n",
       "      <th>predicted</th>\n",
       "    </tr>\n",
       "  </thead>\n",
       "  <tbody>\n",
       "    <tr>\n",
       "      <th>0</th>\n",
       "      <td>Marbelle amenaza con irse de Colombia si Petro gana las elecciones ??????\\r\\n\\r\\nLa caleña tiene decidido abandonar el país si el candidato del Pacto Histórico gana su lugar en la Casa de Nariño por los próximos cuatro años. #tuvozpereira https://t.co/GHdCZ9AJZA</td>\n",
       "      <td>positive</td>\n",
       "      <td>negative</td>\n",
       "    </tr>\n",
       "    <tr>\n",
       "      <th>9</th>\n",
       "      <td>El comunista @petrogustavo se quitó la careta este viernes y dijo que si gana las elecciones del #29Mayo en #Colombia reconocerá y trabajará diplomáticamente con el dictador @NicolasMaduro\\r\\n\\r\\n#Colombianos, no permitan que llegue el #Comunismo en su país.\\r\\n\\r\\nVoten por @FicoGutierrez https://t.co/IDWS9UoyaG</td>\n",
       "      <td>positive</td>\n",
       "      <td>negative</td>\n",
       "    </tr>\n",
       "    <tr>\n",
       "      <th>10</th>\n",
       "      <td>Gastón Garriga: cómo multiplicar algunas ideas de CFK/Colombia avanza hacia elecciones con Petro amenazado/Interacción con oyentes.</td>\n",
       "      <td>positive</td>\n",
       "      <td>negative</td>\n",
       "    </tr>\n",
       "    <tr>\n",
       "      <th>11</th>\n",
       "      <td>Colombia depende de renuncia/destitución de Alexander Vega de @Registraduria, y de auditoría imparcial que contrate @CNE_COLOMBIA (que lo dudo), fraude ocurrido en pasadas elecciones es de registrarlo en historia de Colombia, estas 2 instituciones dejan mucho que pensar.</td>\n",
       "      <td>negative</td>\n",
       "      <td>positive</td>\n",
       "    </tr>\n",
       "    <tr>\n",
       "      <th>13</th>\n",
       "      <td>El candidato presidencial @ingrodolfohdez dice que buscará llegar al poder “sin comprar votos con plata robada del pueblo colombiano”. ¿#ASonDeQué quiere ser presidente? \\r\\n\\r\\nhttps://t.co/9kDluOHG00\\r\\n\\r\\n#Elecciones2022 #ColombiaDecide https://t.co/HembUIeVXb</td>\n",
       "      <td>negative</td>\n",
       "      <td>positive</td>\n",
       "    </tr>\n",
       "  </tbody>\n",
       "</table>\n",
       "</div>"
      ],
      "text/plain": [
       "                                                                                                                                                                                                                                                                                                                     full_text  \\\n",
       "0                                                       Marbelle amenaza con irse de Colombia si Petro gana las elecciones ??????\\r\\n\\r\\nLa caleña tiene decidido abandonar el país si el candidato del Pacto Histórico gana su lugar en la Casa de Nariño por los próximos cuatro años. #tuvozpereira https://t.co/GHdCZ9AJZA   \n",
       "9   El comunista @petrogustavo se quitó la careta este viernes y dijo que si gana las elecciones del #29Mayo en #Colombia reconocerá y trabajará diplomáticamente con el dictador @NicolasMaduro\\r\\n\\r\\n#Colombianos, no permitan que llegue el #Comunismo en su país.\\r\\n\\r\\nVoten por @FicoGutierrez https://t.co/IDWS9UoyaG   \n",
       "10                                                                                                                                                                                         Gastón Garriga: cómo multiplicar algunas ideas de CFK/Colombia avanza hacia elecciones con Petro amenazado/Interacción con oyentes.   \n",
       "11                                             Colombia depende de renuncia/destitución de Alexander Vega de @Registraduria, y de auditoría imparcial que contrate @CNE_COLOMBIA (que lo dudo), fraude ocurrido en pasadas elecciones es de registrarlo en historia de Colombia, estas 2 instituciones dejan mucho que pensar.   \n",
       "13                                                    El candidato presidencial @ingrodolfohdez dice que buscará llegar al poder “sin comprar votos con plata robada del pueblo colombiano”. ¿#ASonDeQué quiere ser presidente? \\r\\n\\r\\nhttps://t.co/9kDluOHG00\\r\\n\\r\\n#Elecciones2022 #ColombiaDecide https://t.co/HembUIeVXb   \n",
       "\n",
       "      actual predicted  \n",
       "0   positive  negative  \n",
       "9   positive  negative  \n",
       "10  positive  negative  \n",
       "11  negative  positive  \n",
       "13  negative  positive  "
      ]
     },
     "execution_count": 429,
     "metadata": {},
     "output_type": "execute_result"
    }
   ],
   "source": [
    "Sc3_T1_300_error_tfidf_Knei_df.loc[Sc3_T1_300_error_tfidf_Knei_df['actual'] != Sc3_T1_300_error_tfidf_Knei_df['predicted']].head()"
   ]
  }
 ],
 "metadata": {
  "kernelspec": {
   "display_name": "Python 3 (ipykernel)",
   "language": "python",
   "name": "python3"
  },
  "language_info": {
   "codemirror_mode": {
    "name": "ipython",
    "version": 3
   },
   "file_extension": ".py",
   "mimetype": "text/x-python",
   "name": "python",
   "nbconvert_exporter": "python",
   "pygments_lexer": "ipython3",
   "version": "3.7.4"
  }
 },
 "nbformat": 4,
 "nbformat_minor": 4
}
